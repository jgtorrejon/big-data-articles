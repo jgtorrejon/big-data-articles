{
 "cells": [
  {
   "cell_type": "code",
   "execution_count": 1,
   "id": "30e3b876",
   "metadata": {},
   "outputs": [],
   "source": [
    "import torch\n",
    "import time"
   ]
  },
  {
   "cell_type": "code",
   "execution_count": null,
   "id": "2970fd91",
   "metadata": {},
   "outputs": [],
   "source": [
    "print(f\"Versión de PyTorch instalada: {torch.__version__}\")\n",
    "if torch.backends.mps.is_available():\n",
    "    print(\"Análisis: ¡Éxito! La versión de PyTorch tiene soporte para MPS (Apple Silicon).\")\n",
    "else:\n",
    "    print(\"Análisis: MPS no está disponible. Verifique la compatibilidad con Apple Silicon.\")\n",
    "\n",
    "print(f\"MPS disponible: {torch.backends.mps.is_available()}\")\n",
    "print(f\"MPS construido: {torch.backends.mps.is_built()}\")"
   ]
  },
  {
   "cell_type": "code",
   "execution_count": null,
   "id": "29a15d36",
   "metadata": {},
   "outputs": [],
   "source": [
    "print(\"--- Prueba de Rendimiento de PyTorch: CPU vs. GPU (MPS) ---\")\n",
    "\n",
    "# --- PASO 1: Verificación Fundamental ---\n",
    "if not torch.backends.mps.is_available():\n",
    "    print(\"\\n❌ ERROR: PyTorch reporta que MPS no está disponible.\")\n",
    "    print(\"   Asegúrate de tener un Mac con chip Apple Silicon.\")\n",
    "    # Si no hay MPS, no tiene sentido continuar. Detengo el script.\n",
    "    exit()\n",
    "\n",
    "print(\"\\n✅ Verificación inicial exitosa: PyTorch detecta dispositivo MPS.\")\n",
    "print(f\"   Dispositivo detectado: Apple Silicon GPU (MPS)\")\n",
    "\n",
    "# --- PASO 2: Preparación para la Prueba de Rendimiento ---\n",
    "tamano_matriz = 5000\n",
    "print(f\"\\nSe realizarán multiplicaciones de matrices de tamaño: {tamano_matriz}x{tamano_matriz}\")\n",
    "\n",
    "# Creo dos matrices aleatorias grandes en la CPU.\n",
    "matriz_a_cpu = torch.randn(tamano_matriz, tamano_matriz)\n",
    "matriz_b_cpu = torch.randn(tamano_matriz, tamano_matriz)\n",
    "\n",
    "# --- PASO 3: Prueba de Velocidad en la CPU ---\n",
    "print(\"\\n[Iniciando prueba en la CPU...]\")\n",
    "tiempo_inicio_cpu = time.time()\n",
    "\n",
    "# Realizo la multiplicación de matrices en la CPU.\n",
    "for _ in range(10):\n",
    "    resultado_cpu = torch.matmul(matriz_a_cpu, matriz_b_cpu)\n",
    "\n",
    "# Registro el tiempo justo después de terminar.\n",
    "tiempo_fin_cpu = time.time()\n",
    "duracion_cpu = tiempo_fin_cpu - tiempo_inicio_cpu\n",
    "print(f\"  -> Tiempo de ejecución en CPU: {duracion_cpu:.4f} segundos.\")\n",
    "\n",
    "\n",
    "# --- PASO 4: Prueba de Velocidad en la GPU (MPS) ---\n",
    "print(\"\\n[Iniciando prueba en la GPU MPS...]\")\n",
    "\n",
    "matriz_a_gpu = matriz_a_cpu.to(\"mps\")\n",
    "matriz_b_gpu = matriz_b_cpu.to(\"mps\")\n",
    "\n",
    "# Registro el tiempo de inicio.\n",
    "tiempo_inicio_gpu = time.time()\n",
    "\n",
    "# Realizo exactamente la misma multiplicación, pero ahora con los tensores que están en la GPU.\n",
    "for _ in range(10):\n",
    "    resultado_gpu = torch.matmul(matriz_a_gpu, matriz_b_gpu)\n",
    "\n",
    "# MPS no requiere synchronize como CUDA\n",
    "tiempo_fin_gpu = time.time()\n",
    "duracion_gpu = tiempo_fin_gpu - tiempo_inicio_gpu\n",
    "print(f\"  -> Tiempo de ejecución en GPU MPS: {duracion_gpu:.4f} segundos.\")\n",
    "\n",
    "\n",
    "# --- PASO 5: Conclusión ---\n",
    "print(\"\\n--- Resultados Finales ---\")\n",
    "print(f\"Tiempo en CPU: {duracion_cpu:.4f} segundos.\")\n",
    "print(f\"Tiempo en GPU MPS: {duracion_gpu:.4f} segundos.\")\n",
    "print(\"=\"*30)\n",
    "if duracion_gpu < duracion_cpu:\n",
    "    factor_velocidad = duracion_cpu / duracion_gpu\n",
    "    print(f\"✅ ¡Éxito! La GPU MPS fue aproximadamente {factor_velocidad:.1f} veces más rápida que la CPU.\")\n",
    "else:\n",
    "    print(\"⚠️  Atención: La GPU MPS no fue más rápida. Esto puede ocurrir con matrices muy pequeñas\")\n",
    "    print(\"   o con ciertos tipos de operaciones. Intenta aumentar el 'tamano_matriz'.\")"
   ]
  },
  {
   "cell_type": "code",
   "execution_count": null,
   "id": "f4343409",
   "metadata": {},
   "outputs": [],
   "source": []
  }
 ],
 "metadata": {
  "kernelspec": {
   "display_name": "hugging-face",
   "language": "python",
   "name": "python3"
  },
  "language_info": {
   "codemirror_mode": {
    "name": "ipython",
    "version": 3
   },
   "file_extension": ".py",
   "mimetype": "text/x-python",
   "name": "python",
   "nbconvert_exporter": "python",
   "pygments_lexer": "ipython3",
   "version": "3.11.13"
  }
 },
 "nbformat": 4,
 "nbformat_minor": 5
}
