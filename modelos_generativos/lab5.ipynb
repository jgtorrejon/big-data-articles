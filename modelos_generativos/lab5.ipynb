{
 "cells": [
  {
   "cell_type": "markdown",
   "id": "4e5a3a01",
   "metadata": {},
   "source": [
    "Mestrante: Darlyn Bravo Peña\n",
    "# Teorema de Bayes"
   ]
  },
  {
   "cell_type": "markdown",
   "id": "d8d27b96",
   "metadata": {},
   "source": [
    "## Explicación"
   ]
  },
  {
   "cell_type": "code",
   "execution_count": 1,
   "id": "15b63ede",
   "metadata": {},
   "outputs": [
    {
     "name": "stdout",
     "output_type": "stream",
     "text": [
      "0.234375\n"
     ]
    }
   ],
   "source": [
    "# para encontra a la indicada, necesitamos tener 50 citas previas\n",
    "# P(H) Probabilidad a Priori\n",
    "prob_indicada_apriori = 1/50\n",
    "\n",
    "# P(E|H) probabilidad dada una evidencia, dado un interés compartido (les gusta informática). Entonces de cada 4 citas 3 de ellas son informáticas\n",
    "prob_interes_compartido = 3/4\n",
    "\n",
    "# P(E|-H) Probabilidad dado que la hipotésis es falsa.\n",
    "prob_interes_compartido_no_indicada = 0.05\n",
    "\n",
    "\n",
    "prob_no_indicada = 1 - prob_indicada_apriori\n",
    "\n",
    "\n",
    "numerador = (prob_interes_compartido * prob_indicada_apriori)\n",
    "\n",
    "denominador = (prob_interes_compartido * prob_indicada_apriori) + (prob_interes_compartido_no_indicada * prob_no_indicada)\n",
    "\n",
    "prob_indicada_posteriori = numerador / denominador\n",
    "\n",
    "print(prob_indicada_posteriori)"
   ]
  },
  {
   "cell_type": "markdown",
   "id": "9e667f23",
   "metadata": {},
   "source": [
    "## Ejercicio 1\n",
    "Una empresa de alta tecnología fabrica microchips en tres líneas de producción distintas: Máquina A, Máquina B y Máquina C. Cada máquina tiene una tasa de producción y una tasa de defectos diferentes debido a su antigüedad y calibración. El departamento de control de calidad necesita determinar el origen más probable de los chips defectuosos para optimizar el mantenimiento.\n",
    "Información Clave (Datos del Problema)\n",
    "Distribución de la Producción:\n",
    "\n",
    "* La Máquina A fabrica el 30% del total de los microchips.\n",
    "* La Máquina B fabrica el 50% del total.\n",
    "* La Máquina C fabrica el 20% restante.\n",
    "\n",
    "Tasas de Defectos Conocidas:\n",
    "\n",
    "* La tasa de defectos de la Máquina A es del 5% (0.05).\n",
    "* La tasa de defectos de la Máquina B es del 2% (0.02).\n",
    "* La tasa de defectos de la Máquina C es del 1% (0.01).\n",
    "\n",
    "Un inspector selecciona un microchip al azar de la producción total y, tras analizarlo, encuentra que es defectuoso. Con esta nueva información, ¿cuál es la probabilidad de que este microchip haya sido fabricado por la Máquina A?"
   ]
  },
  {
   "cell_type": "code",
   "execution_count": 2,
   "id": "f1e813ea",
   "metadata": {},
   "outputs": [
    {
     "name": "stdout",
     "output_type": "stream",
     "text": [
      "P(H_A|E) = 0.5556\n"
     ]
    }
   ],
   "source": [
    "# Probabilidades a priori (producción)\n",
    "p_A, p_B, p_C = 0.30, 0.50, 0.20\n",
    "\n",
    "# Probabilidades condicionales (tasas de defectos)\n",
    "p_def_A, p_def_B, p_def_C = 0.05, 0.02, 0.01\n",
    "\n",
    "# Evidencia total: P(E)\n",
    "p_def = (p_def_A * p_A) + (p_def_B * p_B) + (p_def_C * p_C)\n",
    "\n",
    "# Posterior: P(H_A|E)\n",
    "p_A_given_def = (p_def_A * p_A) / p_def\n",
    "\n",
    "print(\"P(H_A|E) =\", round(p_A_given_def, 4))  # 0.5556\n"
   ]
  },
  {
   "cell_type": "markdown",
   "id": "7db7e689",
   "metadata": {},
   "source": [
    "## Máxima Verosimilitud (MLE)\n",
    "\n",
    "Es el método mas común para estimar los parámetros de un model. Su filosofía es frecuentista y eminentemente, dado los datos que hemos observado, debemos elegir los parámetros del modelo que hacen que la observación de estos datos sea lo más probable posible.\n",
    "El obejtivo es encontrar el conjunto de parámetros que maximiza esta función.\n",
    "\n",
    "Estimar el CTR (tasa por click) de un anuncio de una pagina web"
   ]
  },
  {
   "cell_type": "code",
   "execution_count": 3,
   "id": "0fb95149",
   "metadata": {},
   "outputs": [
    {
     "name": "stdout",
     "output_type": "stream",
     "text": [
      "0.0025\n"
     ]
    }
   ],
   "source": [
    "impresiones = 1000000\n",
    "click = 2500\n",
    "theta_mle = click / impresiones\n",
    "print(theta_mle)"
   ]
  },
  {
   "cell_type": "markdown",
   "id": "528c66c5",
   "metadata": {},
   "source": [
    "## MAP"
   ]
  },
  {
   "cell_type": "code",
   "execution_count": 5,
   "id": "3856db42",
   "metadata": {},
   "outputs": [
    {
     "name": "stdout",
     "output_type": "stream",
     "text": [
      "La estimación de recuperación (MLE) 100.00\n",
      "La estimación de recuperación (MAP) 94.44\n"
     ]
    }
   ],
   "source": [
    "pacientes_totales = 10\n",
    "pacientes_recuperados = 10\n",
    "\n",
    "theta_map = pacientes_recuperados / pacientes_totales\n",
    "\n",
    "# Usando MLE\n",
    "print(f\"La estimación de recuperación (MLE) {theta_map * 100:.2f}\")\n",
    "# 100%\n",
    "# Usando MAP\n",
    "a_prior = 8   # tasa de exito\n",
    "b_prior = 2   # tasa de fracaso\n",
    "\n",
    "a_posteriori = pacientes_recuperados + a_prior\n",
    "b_posteriori = pacientes_totales - pacientes_recuperados + b_prior\n",
    "\n",
    "theta_map = (a_posteriori-1)/(a_posteriori + b_posteriori - 2)\n",
    "print(f\"La estimación de recuperación (MAP) {theta_map * 100:.2f}\")\n"
   ]
  },
  {
   "cell_type": "markdown",
   "id": "237e95a0",
   "metadata": {},
   "source": [
    "## Ejercicio 2\n",
    "Buscar un ejemplo local sobre MLE\n",
    "\n",
    "queremos estimar cuántos goles mete Blooming por partido en el Tahuichi.\n",
    "Datos observados en 6 partidos:\n",
    "\n",
    "1,0,2,1,3,1"
   ]
  },
  {
   "cell_type": "code",
   "execution_count": 6,
   "id": "a3fe0b21",
   "metadata": {},
   "outputs": [
    {
     "name": "stdout",
     "output_type": "stream",
     "text": [
      "MLE de λ (tasa de goles promedio por partido): 1.33\n"
     ]
    }
   ],
   "source": [
    "# ======================\n",
    "# 1. Datos observados\n",
    "# ======================\n",
    "goles = [1, 0, 2, 1, 3, 1]\n",
    "# ======================\n",
    "# 2. Calcular la media manualmente (MLE para Poisson)\n",
    "# ======================\n",
    "suma_goles = sum(goles)\n",
    "n = len(goles)\n",
    "lambda_mle = suma_goles / n\n",
    "print(\"MLE de λ (tasa de goles promedio por partido):\", round(lambda_mle, 2))\n"
   ]
  },
  {
   "cell_type": "markdown",
   "id": "f7a346af",
   "metadata": {},
   "source": [
    "## Ejercicio 3\n",
    "Buscar un ejemplo local sobre MAP\n",
    "\n",
    "Imagina que queremos estimar la probabilidad de que Doña Rosa venda una salteña a cada cliente que se le acerca\n",
    "\n",
    "Datos (observados en un día):\n",
    "\n",
    "8 clientes compraron salteñas → éxitos\n",
    "\n",
    "2 clientes no compraron → fracasos\n",
    "\n",
    "Entonces:\n",
    "n=10 (clientes totales)\n",
    "x=8 (éxitos)\n",
    "\n",
    "\n",
    "Antes de observar los datos, creemos que Doña Rosa es muy buena vendiendo:\n",
    "a_priori= 8\n",
    "b_priori=2 (fracasos previos imaginarios)\n",
    "\n",
    "Esto significa que nuestra creencia previa era:\n",
    "θ∼Beta(8,2)"
   ]
  },
  {
   "cell_type": "code",
   "execution_count": 7,
   "id": "3f3b24e3",
   "metadata": {},
   "outputs": [
    {
     "name": "stdout",
     "output_type": "stream",
     "text": [
      "Estimación MAP de probabilidad de venta: 0.8333 (83.33%)\n"
     ]
    }
   ],
   "source": [
    "# ======================\n",
    "# Datos observados\n",
    "# ======================\n",
    "clientes_totales = 10\n",
    "clientes_que_compraron = 8\n",
    "\n",
    "# ======================\n",
    "# Priori Beta(a, b)\n",
    "# ======================\n",
    "a_prior = 8   # éxitos previos imaginarios\n",
    "b_prior = 2   # fracasos previos imaginarios\n",
    "\n",
    "# ======================\n",
    "# Posterior Beta(a, b)\n",
    "# ======================\n",
    "a_posterior = clientes_que_compraron + a_prior\n",
    "b_posterior = (clientes_totales - clientes_que_compraron) + b_prior\n",
    "\n",
    "# ======================\n",
    "# Estimación MAP (moda de la Beta)\n",
    "# ======================\n",
    "theta_map = (a_posterior - 1) / (a_posterior + b_posterior - 2)\n",
    "\n",
    "print(f\"Estimación MAP de probabilidad de venta: {theta_map:.4f} ({theta_map*100:.2f}%)\")"
   ]
  }
 ],
 "metadata": {
  "kernelspec": {
   "display_name": "mlops4",
   "language": "python",
   "name": "python3"
  },
  "language_info": {
   "codemirror_mode": {
    "name": "ipython",
    "version": 3
   },
   "file_extension": ".py",
   "mimetype": "text/x-python",
   "name": "python",
   "nbconvert_exporter": "python",
   "pygments_lexer": "ipython3",
   "version": "3.9.23"
  }
 },
 "nbformat": 4,
 "nbformat_minor": 5
}
