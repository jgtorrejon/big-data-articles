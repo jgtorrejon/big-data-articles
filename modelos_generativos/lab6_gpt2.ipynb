{
 "cells": [
  {
   "cell_type": "markdown",
   "id": "9b9edc03",
   "metadata": {},
   "source": [
    "## Huggin Face\n",
    "Repositorio de Modelos"
   ]
  },
  {
   "cell_type": "markdown",
   "id": "99293d81",
   "metadata": {},
   "source": [
    "## Importar libreria"
   ]
  },
  {
   "cell_type": "code",
   "execution_count": 3,
   "id": "684eee72",
   "metadata": {},
   "outputs": [],
   "source": [
    "from transformers import AutoTokenizer, AutoModel, pipeline"
   ]
  },
  {
   "cell_type": "code",
   "execution_count": 6,
   "id": "d657c20e",
   "metadata": {},
   "outputs": [
    {
     "name": "stdout",
     "output_type": "stream",
     "text": [
      "Descargando modelo ...\n",
      "Modelo cargado\n"
     ]
    }
   ],
   "source": [
    "modelo = 'gpt2-large'\n",
    "\n",
    "# Descargar modelo\n",
    "AutoTokenizer.from_pretrained(modelo)\n",
    "\n",
    "print(\"Descargando modelo ...\")\n",
    "\n",
    "# Cargar el modelo\n",
    "AutoModel.from_pretrained(modelo)\n",
    "print(\"Modelo cargado\")\n",
    "\n"
   ]
  },
  {
   "cell_type": "code",
   "execution_count": 8,
   "id": "d232c238",
   "metadata": {},
   "outputs": [
    {
     "name": "stderr",
     "output_type": "stream",
     "text": [
      "Device set to use mps:0\n",
      "Truncation was not explicitly activated but `max_length` is provided a specific value, please use `truncation=True` to explicitly truncate examples to max length. Defaulting to 'longest_first' truncation strategy. If you encode pairs of sequences (GLUE-style) with the tokenizer you can select this strategy more precisely by providing a specific strategy to `truncation`.\n",
      "Setting `pad_token_id` to `eos_token_id`:50256 for open-end generation.\n",
      "Both `max_new_tokens` (=256) and `max_length`(=50) seem to have been set. `max_new_tokens` will take precedence. Please refer to the documentation for more information. (https://huggingface.co/docs/transformers/main/en/main_classes/text_generation)\n"
     ]
    },
    {
     "name": "stdout",
     "output_type": "stream",
     "text": [
      "Modelo Cargado a RAM\n",
      "Quien es Elon Musk ?\n",
      "\n",
      "Elon Musk - Tesla, Space X, PayPal and SpaceX\n",
      "\n",
      "Elon Musk is the CEO of SolarCity, a leading U.S. residential solar installer. He has also developed a number of commercial electric vehicles. He is also founder of Tesla Motors, the largest manufacturer of electric vehicles in the world.\n",
      "\n",
      "Who is Elon Musk?\n",
      "\n",
      "Elon Musk is a billionaire. He is the Chairman of Space Exploration Technologies Corp. (SpaceX). He is also a board member of PayPal, which he founded. He is also a founding member of PayPal, which is the world's largest online payment processor, with over $60 billion in annual revenue. He is also a member of the board of the Air Force Research Laboratory.\n",
      "\n",
      "What does Elon Musk do?\n",
      "\n",
      "Elon Musk is a well-known inventor and entrepreneur who has been making headlines since the beginning of his career. He is also a successful entrepreneur and businessman. He has been making headlines since the beginning of his career. In fact, he was the first person to achieve the world's highest rated undergraduate GPA at the University of Pennsylvania. The University of Pennsylvania has a reputation as one of the best universities in the world.\n",
      "\n",
      "What is SpaceX?\n",
      "\n",
      "SpaceX is\n",
      "Quien es Elon Musk ? You know that he's the founder of Tesla Motors, the world's most popular electric car manufacturer. If you know him, you know he also happens to be the CEO of SpaceX, the private space exploration company.\n",
      "\n",
      "It was just a few days ago that Musk visited the US to discuss the future of space exploration.\n",
      "\n",
      "The company he headed until 2012, SpaceX, is hoping to become the next big thing in space exploration.\n",
      "\n",
      "Musk's company has been trying to get into the space industry since it was founded in 2002.\n",
      "\n",
      "He joined the company's board in 2010, and he's been appointed as Chairman, Chief Executive Officer, and SVP of the company.\n",
      "\n",
      "The company is currently developing the Falcon Heavy rocket, which is the heaviest rocket ever made.\n",
      "\n",
      "The first stage of the rocket will be used to launch the Mars lander, and the second stage will be used to send cargo to Mars.\n",
      "\n",
      "Musk is also considering taking his company public, and he says it's in the works.\n",
      "\n",
      "Musk told Business Insider \"We are currently in discussions with institutional investors, and we are working on that. It would be very exciting if we would go public, but the problem is that we don't have\n",
      "Quien es Elon Musk ?\n",
      "\n",
      "Elon Musk is a billionaire and cofounder of Tesla, SpaceX, and SolarCity. He is a prominent figure in the field of hyperloop transportation.\n",
      "\n",
      "Elon Musk was born in South Africa. He was educated at the University of Pretoria and the Massachusetts Institute of Technology, where he was a Rhodes Scholar. He was a member of the first class of the Harvard Engineering Fund. He later graduated from Harvard Business School.\n",
      "\n",
      "Elon's father, Fred, was a major investor in the South African National Bank.\n",
      "\n",
      "Elon is best known for his pioneering work at SpaceX. In 2005, he founded SpaceX, a private spaceflight company.\n",
      "\n",
      "Elon's company, SpaceX, has been successful in achieving various milestones. First, they achieved a first successful cargo resupply mission to the International Space Station. Then, Elon Musk took on the challenge of developing an advanced hyperloop system to transport people between the United States and the entire world in as little as an hour.\n",
      "\n",
      "Elon Musk's SpaceX now has over 100 employees and has launched two commercial flights and two satellite missions.\n",
      "\n",
      "Elon Musk has created many companies and is famous for his entrepreneurial spirit. He has also created a lot of companies that have contributed to\n"
     ]
    }
   ],
   "source": [
    "# Cargando el modelo en RAM\n",
    "generador = pipeline('text-generation', model=modelo)\n",
    "\n",
    "print(\"Modelo Cargado a RAM\")\n",
    "\n",
    "\n",
    "prompt = \"Quien es Elon Musk ?\"\n",
    "\n",
    "resultado = generador(prompt, max_length=50, num_return_sequences=3)\n",
    "\n",
    "for r in resultado:\n",
    "    print(r[\"generated_text\"])"
   ]
  },
  {
   "cell_type": "code",
   "execution_count": null,
   "id": "1c9079f0",
   "metadata": {},
   "outputs": [],
   "source": []
  }
 ],
 "metadata": {
  "kernelspec": {
   "display_name": "mlops4",
   "language": "python",
   "name": "python3"
  },
  "language_info": {
   "codemirror_mode": {
    "name": "ipython",
    "version": 3
   },
   "file_extension": ".py",
   "mimetype": "text/x-python",
   "name": "python",
   "nbconvert_exporter": "python",
   "pygments_lexer": "ipython3",
   "version": "3.9.23"
  }
 },
 "nbformat": 4,
 "nbformat_minor": 5
}
