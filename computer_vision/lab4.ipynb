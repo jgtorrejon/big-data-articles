{
 "cells": [
  {
   "cell_type": "code",
   "execution_count": 1,
   "id": "4abfb134-747c-492a-a612-7d236cccc968",
   "metadata": {},
   "outputs": [],
   "source": [
    "import cv2\n",
    "import numpy as np\n",
    "import math"
   ]
  },
  {
   "cell_type": "code",
   "execution_count": 2,
   "id": "54e69f6d-0391-42e8-9079-268919622457",
   "metadata": {},
   "outputs": [
    {
     "name": "stderr",
     "output_type": "stream",
     "text": [
      "2025-09-19 14:38:43.202 python[8213:30513] WARNING: AVCaptureDeviceTypeExternal is deprecated for Continuity Cameras. Please use AVCaptureDeviceTypeContinuityCamera and add NSCameraUseContinuityCameraDeviceType to your Info.plist.\n"
     ]
    },
    {
     "name": "stdout",
     "output_type": "stream",
     "text": [
      "No se puede recibir el frame (stream end?). Saliendo ...\n"
     ]
    }
   ],
   "source": [
    "# Selecciono la camara por defecto (0).\n",
    "cap = cv2.VideoCapture(0)\n",
    "if not cap.isOpened():\n",
    "    print(\"No se puede abrir la cámara\")\n",
    "    exit()\n",
    "# Bucle principal\n",
    "while True:\n",
    "    # Capturo frame a frame\n",
    "    ret, frame = cap.read()\n",
    "    if not ret:\n",
    "        print(\"No se puede recibir el frame (stream end?). Saliendo ...\")\n",
    "        break\n",
    "\n",
    "    frame = cv2.flip(frame, 1)\n",
    "    gray = cv2.cvtColor(frame, cv2.COLOR_BGR2GRAY)\n",
    "    edges = cv2.Canny(gray, 50, 50)\n",
    "    cv2.imshow('Espejo', frame)\n",
    "    cv2.imshow('Borders', edges)\n",
    "\n",
    "    # Presiono 'q' para salir del bucle.\n",
    "    if cv2.waitKey(1) & 0xFF == ord('q'):\n",
    "        print(\"Tecle 'q' para salir.\")\n",
    "        break\n",
    "\n",
    "cap.release()\n",
    "cv2.destroyAllWindows()"
   ]
  }
 ],
 "metadata": {
  "kernelspec": {
   "display_name": "mlops4",
   "language": "python",
   "name": "mlops4"
  },
  "language_info": {
   "codemirror_mode": {
    "name": "ipython",
    "version": 3
   },
   "file_extension": ".py",
   "mimetype": "text/x-python",
   "name": "python",
   "nbconvert_exporter": "python",
   "pygments_lexer": "ipython3",
   "version": "3.9.23"
  }
 },
 "nbformat": 4,
 "nbformat_minor": 5
}
