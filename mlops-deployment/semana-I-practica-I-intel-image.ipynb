{
 "cells": [
  {
   "cell_type": "code",
   "execution_count": 5,
   "id": "681f6edc-5215-4f8c-9059-cf9f958f9bc1",
   "metadata": {},
   "outputs": [
    {
     "name": "stdout",
     "output_type": "stream",
     "text": [
      "Total images to test 3000\n",
      "Total images to train 14034\n"
     ]
    }
   ],
   "source": [
    "import glob\n",
    "\n",
    "test_images = glob.glob(\"datasets/intel_images/seg_test/seg_test/*/*.*\")\n",
    "train_images = glob.glob(\"datasets/intel_images/seg_train/seg_train/*/*.*\")\n",
    "\n",
    "print('Total images to test', len(test_images))\n",
    "print('Total images to train', len(train_images))"
   ]
  },
  {
   "cell_type": "code",
   "execution_count": 6,
   "id": "959b77e2-5d56-4770-8c6f-79eef5972ec8",
   "metadata": {},
   "outputs": [
    {
     "name": "stdout",
     "output_type": "stream",
     "text": [
      "total categories 17034\n"
     ]
    }
   ],
   "source": [
    "test_categories = [image_path.split('/')[3] for image_path in test_images]\n",
    "train_categories = [image_path.split('/')[3] for image_path in train_images]\n",
    "all_categories = test_categories + train_categories\n",
    "all_images = test_images + train_images\n",
    "print('total categories', len(all_categories))"
   ]
  },
  {
   "cell_type": "code",
   "execution_count": 7,
   "id": "d16f90c4-06bd-4a3e-81c4-540e107d808a",
   "metadata": {},
   "outputs": [
    {
     "data": {
      "text/plain": [
       "17034"
      ]
     },
     "execution_count": 7,
     "metadata": {},
     "output_type": "execute_result"
    }
   ],
   "source": [
    "from sklearn.preprocessing import LabelEncoder\n",
    "encoder = LabelEncoder()\n",
    "encoder.fit(all_categories)\n",
    "y = encoder.transform(all_categories)\n",
    "len(y)"
   ]
  },
  {
   "cell_type": "code",
   "execution_count": 8,
   "id": "b1b3ab8a-098d-42e4-9de5-8962b5dbaf94",
   "metadata": {},
   "outputs": [
    {
     "data": {
      "text/plain": [
       "array([0, 1])"
      ]
     },
     "execution_count": 8,
     "metadata": {},
     "output_type": "execute_result"
    }
   ],
   "source": [
    "import numpy as np\n",
    "np.unique(y)"
   ]
  },
  {
   "cell_type": "code",
   "execution_count": 9,
   "id": "6b67838f-b767-4255-afca-ea86ae4a8588",
   "metadata": {},
   "outputs": [
    {
     "name": "stdout",
     "output_type": "stream",
     "text": [
      "(17034, 7500)\n"
     ]
    }
   ],
   "source": [
    "import cv2\n",
    "import matplotlib.pyplot as plt\n",
    "\n",
    "image_list = []\n",
    "for idx, image_path in enumerate(all_images):\n",
    "  image = cv2.imread(image_path)\n",
    "  image = cv2.cvtColor(image, cv2.COLOR_BGR2RGB)\n",
    "  image = cv2.resize(image, (50,50))\n",
    "  image = image.flatten()\n",
    "  image_list.append(image)\n",
    "\n",
    "X = np.array(image_list)\n",
    "print(X.shape)\n"
   ]
  },
  {
   "cell_type": "code",
   "execution_count": 10,
   "id": "602873ef-81c7-4b85-bae7-be8e144f6019",
   "metadata": {},
   "outputs": [
    {
     "name": "stdout",
     "output_type": "stream",
     "text": [
      "0.8209568535368359\n"
     ]
    }
   ],
   "source": [
    "from sklearn.model_selection import train_test_split\n",
    "from sklearn.ensemble import RandomForestClassifier\n",
    "from sklearn.metrics import accuracy_score\n",
    "\n",
    "X_train, X_test, y_train, y_test = train_test_split(X, y, test_size=0.2, stratify=y, random_state=2)\n",
    "\n",
    "rf = RandomForestClassifier(n_estimators=100, random_state=2)\n",
    "rf.fit(X_train, y_train)\n",
    "\n",
    "y_predicted = rf.predict(X_test)\n",
    "print(accuracy_score(y_test, y_predicted))\n"
   ]
  },
  {
   "cell_type": "markdown",
   "id": "a595a8ca-2087-4957-b071-ab34ae7cd0ec",
   "metadata": {},
   "source": [
    "## Applying PCA to reduce features"
   ]
  },
  {
   "cell_type": "code",
   "execution_count": 58,
   "id": "89a82095-04c3-45bf-ae9a-0bb6334dc8a9",
   "metadata": {},
   "outputs": [
    {
     "name": "stdout",
     "output_type": "stream",
     "text": [
      "(13627, 30)\n"
     ]
    }
   ],
   "source": [
    "from sklearn.decomposition import PCA\n",
    "pca = PCA(n_components=30)\n",
    "pca.fit(X)\n",
    "X_pca = pca.transform(X)\n",
    "\n",
    "X_train_pca, X_test_pca, y_train_pca, y_test_pca = train_test_split(X_pca, y, test_size=0.2, stratify=y, random_state=2)\n",
    "rf = RandomForestClassifier(n_estimators=100, random_state=2)\n",
    "rf.fit(X_train_pca, y_train_pca)\n",
    "print(X_train_pca.shape)"
   ]
  },
  {
   "cell_type": "code",
   "execution_count": 59,
   "id": "b5c27ef5-6e58-487f-8f18-07de316d59bb",
   "metadata": {},
   "outputs": [
    {
     "name": "stdout",
     "output_type": "stream",
     "text": [
      "0.8235984737305547\n"
     ]
    }
   ],
   "source": [
    "y_predicted_pca = rf.predict(X_test_pca)\n",
    "print(accuracy_score(y_test_pca, y_predicted_pca))"
   ]
  },
  {
   "cell_type": "markdown",
   "id": "005bb902-6917-44fe-9ae2-21efa007def0",
   "metadata": {},
   "source": [
    "## Exporting Models"
   ]
  },
  {
   "cell_type": "code",
   "execution_count": 66,
   "id": "bb17e1ac-8f80-4e95-9b30-c2902a56ac1b",
   "metadata": {},
   "outputs": [],
   "source": [
    "import pickle\n",
    "\n",
    "pca_path = \"outputs/pca_intel.pkl\"\n",
    "pickle.dump(pca, open(pca_path, 'wb'))\n",
    "\n",
    "rf_path = \"outputs/random_forest_intel.pkl\"\n",
    "pickle.dump(rf, open(rf_path, 'wb'))\n",
    "\n",
    "rf_encoder = \"outputs/enconder_intel.pkl\"\n",
    "pickle.dump(encoder, open(rf_encoder, 'wb'))"
   ]
  }
 ],
 "metadata": {
  "kernelspec": {
   "display_name": "Python (mlopsv2-env)",
   "language": "python",
   "name": "mlops-v2-env"
  },
  "language_info": {
   "codemirror_mode": {
    "name": "ipython",
    "version": 3
   },
   "file_extension": ".py",
   "mimetype": "text/x-python",
   "name": "python",
   "nbconvert_exporter": "python",
   "pygments_lexer": "ipython3",
   "version": "3.12.2"
  }
 },
 "nbformat": 4,
 "nbformat_minor": 5
}
