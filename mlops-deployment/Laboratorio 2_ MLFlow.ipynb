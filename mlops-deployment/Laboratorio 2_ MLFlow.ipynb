{
 "cells": [
  {
   "cell_type": "markdown",
   "id": "6505a7ad",
   "metadata": {
    "id": "6505a7ad"
   },
   "source": [
    "# **Laboratorio 2:** MLFlow\n",
    "\n",
    "MLFLow es una plataforma de código abierto para administrar el ciclo de vida de ML, incluida la experimentación, la reproducibilidad, la implementación y un registro de modelo central. Actualmente, MLFLow ofrece cuatro componentes:\n"
   ]
  },
  {
   "cell_type": "markdown",
   "id": "5745f450",
   "metadata": {
    "id": "5745f450"
   },
   "source": [
    "<img src=\"https://images.datacamp.com/image/upload/v1666023613/M_Lflow_Components_64d5714287.png\" width=\"70%\">\n",
    "\n",
    "<img src=\"https://www.databricks.com/sites/default/files/2020/04/databricks-adds-access-control-to-mlflow-model-registry_01.jpg\" width=\"70%\">\n",
    "\n",
    "\n",
    "Ref. https://www.datacamp.com/tutorial/mlflow-streamline-machine-learning-workflow"
   ]
  },
  {
   "cell_type": "markdown",
   "id": "6f44a8b9",
   "metadata": {
    "id": "6f44a8b9"
   },
   "source": [
    "## 1. Crear un entorno Conda"
   ]
  },
  {
   "cell_type": "markdown",
   "id": "90eb0ce0",
   "metadata": {
    "id": "90eb0ce0"
   },
   "source": [
    "Ejecutar los siguientes comandos en la terminal. Se sugiere asegurarse de que conda esté instalado:\n",
    "\n",
    "1. `conda create -n mlops python=3.9 ipykernel`\n",
    "creará un env conda llamado mlops e instalará la versión 3.9 de python y un ipykernel dentro de este entorno\n",
    "\n",
    "2. Activar el ambiente\n",
    "`conda activate mlops`\n",
    "\n",
    "3. Agregar el entorno recién creado al notebook como kernel\n",
    "`python -m ipykernel install --user --name=mlops`\n",
    "\n",
    "4. Instalar los notebooks de jupyter dentro del entorno\n",
    "`pip install notebook`\n",
    "\n",
    "5. Instalar todas las dependencias requeridas para ejecutar el presente notebook\n",
    "\n",
    "* `pip install pandas`\n",
    "* `pip install numpy`\n",
    "* `pip install scikit-learn`\n",
    "* `pip install imblearn`\n",
    "* `pip install matplotlib`\n",
    "* `pip install mlflow`\n",
    "\n",
    "Finalmente, abrir este notebook usando el siguiente comando: (desde el prompt de anaconda dentro del entorno de conda)\n",
    "\n",
    "`jupyter notebook`\n"
   ]
  },
  {
   "cell_type": "markdown",
   "id": "5cf5a6b9",
   "metadata": {
    "id": "5cf5a6b9"
   },
   "source": [
    "Se sugiere asegurarse que versión de Python esta usado, desde el notebook actual."
   ]
  },
  {
   "cell_type": "code",
   "execution_count": 1,
   "id": "9fd81db9",
   "metadata": {
    "id": "9fd81db9",
    "outputId": "5b470fbf-0c17-43f5-a540-141590dc6c44"
   },
   "outputs": [
    {
     "name": "stdout",
     "output_type": "stream",
     "text": [
      "/opt/anaconda3/envs/mlops3/bin/python\n"
     ]
    }
   ],
   "source": [
    "import sys\n",
    "print(sys.executable)"
   ]
  },
  {
   "cell_type": "code",
   "execution_count": 2,
   "id": "3caf80a9",
   "metadata": {
    "id": "3caf80a9",
    "outputId": "ce7488b4-0b44-431e-dcbf-62af06996610"
   },
   "outputs": [
    {
     "name": "stdout",
     "output_type": "stream",
     "text": [
      "Python 3.9.23\n"
     ]
    }
   ],
   "source": [
    "!python --version"
   ]
  },
  {
   "cell_type": "markdown",
   "id": "ae5ff2b8",
   "metadata": {
    "id": "ae5ff2b8"
   },
   "source": [
    "## 2. Machine Learning\n",
    "\n",
    "En la siguiente sección se crearan funciones para todos los pasos involucrados en el ciclo de vida completo de entrenamiento del modelo."
   ]
  },
  {
   "cell_type": "code",
   "execution_count": 3,
   "id": "2f0efd11",
   "metadata": {
    "id": "2f0efd11"
   },
   "outputs": [],
   "source": [
    "# Importar librerías\n",
    "import pandas as pd\n",
    "import numpy as np\n",
    "import matplotlib.pyplot as plt\n",
    "\n",
    "from imblearn.over_sampling import SMOTE\n",
    "\n",
    "from sklearn.model_selection import train_test_split\n",
    "from sklearn.ensemble import RandomForestClassifier\n",
    "from sklearn.metrics import accuracy_score, precision_score, recall_score,log_loss, confusion_matrix, roc_curve, ConfusionMatrixDisplay, RocCurveDisplay\n",
    "from sklearn.model_selection import RandomizedSearchCV\n",
    "\n",
    "import mlflow"
   ]
  },
  {
   "cell_type": "code",
   "execution_count": 4,
   "id": "ed9e53b1",
   "metadata": {
    "id": "ed9e53b1"
   },
   "outputs": [],
   "source": [
    "def load_data(path):\n",
    "    data = pd.read_csv(path)\n",
    "    return data"
   ]
  },
  {
   "cell_type": "markdown",
   "id": "2ff0de34",
   "metadata": {
    "id": "2ff0de34"
   },
   "source": [
    "Descargar el dataset desde la siguiente dirección:\n",
    "https://drive.google.com/file/d/19N0zrbRLKowXbXndALDGC1jaMCYiTFrn/view?usp=sharing\n",
    "y ubicarlo al lado del presente notebook."
   ]
  },
  {
   "cell_type": "code",
   "execution_count": 5,
   "id": "5611082a",
   "metadata": {
    "id": "5611082a",
    "outputId": "2b523a7a-e7c3-4df0-d3b2-4b2aa2e0cdf7"
   },
   "outputs": [
    {
     "data": {
      "text/html": [
       "<div>\n",
       "<style scoped>\n",
       "    .dataframe tbody tr th:only-of-type {\n",
       "        vertical-align: middle;\n",
       "    }\n",
       "\n",
       "    .dataframe tbody tr th {\n",
       "        vertical-align: top;\n",
       "    }\n",
       "\n",
       "    .dataframe thead th {\n",
       "        text-align: right;\n",
       "    }\n",
       "</style>\n",
       "<table border=\"1\" class=\"dataframe\">\n",
       "  <thead>\n",
       "    <tr style=\"text-align: right;\">\n",
       "      <th></th>\n",
       "      <th>age</th>\n",
       "      <th>job</th>\n",
       "      <th>marital</th>\n",
       "      <th>education</th>\n",
       "      <th>default</th>\n",
       "      <th>housing</th>\n",
       "      <th>loan</th>\n",
       "      <th>contact</th>\n",
       "      <th>month</th>\n",
       "      <th>day_of_week</th>\n",
       "      <th>...</th>\n",
       "      <th>campaign</th>\n",
       "      <th>pdays</th>\n",
       "      <th>previous</th>\n",
       "      <th>poutcome</th>\n",
       "      <th>emp_var_rate</th>\n",
       "      <th>cons_price_idx</th>\n",
       "      <th>cons_conf_idx</th>\n",
       "      <th>euribor3m</th>\n",
       "      <th>nr_employed</th>\n",
       "      <th>y</th>\n",
       "    </tr>\n",
       "  </thead>\n",
       "  <tbody>\n",
       "    <tr>\n",
       "      <th>0</th>\n",
       "      <td>44</td>\n",
       "      <td>blue-collar</td>\n",
       "      <td>married</td>\n",
       "      <td>basic.4y</td>\n",
       "      <td>unknown</td>\n",
       "      <td>yes</td>\n",
       "      <td>no</td>\n",
       "      <td>cellular</td>\n",
       "      <td>aug</td>\n",
       "      <td>thu</td>\n",
       "      <td>...</td>\n",
       "      <td>1</td>\n",
       "      <td>999</td>\n",
       "      <td>0</td>\n",
       "      <td>nonexistent</td>\n",
       "      <td>1.4</td>\n",
       "      <td>93.444</td>\n",
       "      <td>-36.1</td>\n",
       "      <td>4.963</td>\n",
       "      <td>5228.1</td>\n",
       "      <td>0</td>\n",
       "    </tr>\n",
       "    <tr>\n",
       "      <th>1</th>\n",
       "      <td>53</td>\n",
       "      <td>technician</td>\n",
       "      <td>married</td>\n",
       "      <td>unknown</td>\n",
       "      <td>no</td>\n",
       "      <td>no</td>\n",
       "      <td>no</td>\n",
       "      <td>cellular</td>\n",
       "      <td>nov</td>\n",
       "      <td>fri</td>\n",
       "      <td>...</td>\n",
       "      <td>1</td>\n",
       "      <td>999</td>\n",
       "      <td>0</td>\n",
       "      <td>nonexistent</td>\n",
       "      <td>-0.1</td>\n",
       "      <td>93.200</td>\n",
       "      <td>-42.0</td>\n",
       "      <td>4.021</td>\n",
       "      <td>5195.8</td>\n",
       "      <td>0</td>\n",
       "    </tr>\n",
       "    <tr>\n",
       "      <th>2</th>\n",
       "      <td>28</td>\n",
       "      <td>management</td>\n",
       "      <td>single</td>\n",
       "      <td>university.degree</td>\n",
       "      <td>no</td>\n",
       "      <td>yes</td>\n",
       "      <td>no</td>\n",
       "      <td>cellular</td>\n",
       "      <td>jun</td>\n",
       "      <td>thu</td>\n",
       "      <td>...</td>\n",
       "      <td>3</td>\n",
       "      <td>6</td>\n",
       "      <td>2</td>\n",
       "      <td>success</td>\n",
       "      <td>-1.7</td>\n",
       "      <td>94.055</td>\n",
       "      <td>-39.8</td>\n",
       "      <td>0.729</td>\n",
       "      <td>4991.6</td>\n",
       "      <td>1</td>\n",
       "    </tr>\n",
       "    <tr>\n",
       "      <th>3</th>\n",
       "      <td>39</td>\n",
       "      <td>services</td>\n",
       "      <td>married</td>\n",
       "      <td>high.school</td>\n",
       "      <td>no</td>\n",
       "      <td>no</td>\n",
       "      <td>no</td>\n",
       "      <td>cellular</td>\n",
       "      <td>apr</td>\n",
       "      <td>fri</td>\n",
       "      <td>...</td>\n",
       "      <td>2</td>\n",
       "      <td>999</td>\n",
       "      <td>0</td>\n",
       "      <td>nonexistent</td>\n",
       "      <td>-1.8</td>\n",
       "      <td>93.075</td>\n",
       "      <td>-47.1</td>\n",
       "      <td>1.405</td>\n",
       "      <td>5099.1</td>\n",
       "      <td>0</td>\n",
       "    </tr>\n",
       "    <tr>\n",
       "      <th>4</th>\n",
       "      <td>55</td>\n",
       "      <td>retired</td>\n",
       "      <td>married</td>\n",
       "      <td>basic.4y</td>\n",
       "      <td>no</td>\n",
       "      <td>yes</td>\n",
       "      <td>no</td>\n",
       "      <td>cellular</td>\n",
       "      <td>aug</td>\n",
       "      <td>fri</td>\n",
       "      <td>...</td>\n",
       "      <td>1</td>\n",
       "      <td>3</td>\n",
       "      <td>1</td>\n",
       "      <td>success</td>\n",
       "      <td>-2.9</td>\n",
       "      <td>92.201</td>\n",
       "      <td>-31.4</td>\n",
       "      <td>0.869</td>\n",
       "      <td>5076.2</td>\n",
       "      <td>1</td>\n",
       "    </tr>\n",
       "  </tbody>\n",
       "</table>\n",
       "<p>5 rows × 21 columns</p>\n",
       "</div>"
      ],
      "text/plain": [
       "   age          job  marital          education  default housing loan  \\\n",
       "0   44  blue-collar  married           basic.4y  unknown     yes   no   \n",
       "1   53   technician  married            unknown       no      no   no   \n",
       "2   28   management   single  university.degree       no     yes   no   \n",
       "3   39     services  married        high.school       no      no   no   \n",
       "4   55      retired  married           basic.4y       no     yes   no   \n",
       "\n",
       "    contact month day_of_week  ...  campaign  pdays  previous     poutcome  \\\n",
       "0  cellular   aug         thu  ...         1    999         0  nonexistent   \n",
       "1  cellular   nov         fri  ...         1    999         0  nonexistent   \n",
       "2  cellular   jun         thu  ...         3      6         2      success   \n",
       "3  cellular   apr         fri  ...         2    999         0  nonexistent   \n",
       "4  cellular   aug         fri  ...         1      3         1      success   \n",
       "\n",
       "  emp_var_rate  cons_price_idx  cons_conf_idx  euribor3m  nr_employed  y  \n",
       "0          1.4          93.444          -36.1      4.963       5228.1  0  \n",
       "1         -0.1          93.200          -42.0      4.021       5195.8  0  \n",
       "2         -1.7          94.055          -39.8      0.729       4991.6  1  \n",
       "3         -1.8          93.075          -47.1      1.405       5099.1  0  \n",
       "4         -2.9          92.201          -31.4      0.869       5076.2  1  \n",
       "\n",
       "[5 rows x 21 columns]"
      ]
     },
     "execution_count": 5,
     "metadata": {},
     "output_type": "execute_result"
    }
   ],
   "source": [
    "data = load_data('datasets/banking/banking.csv')\n",
    "data.head()"
   ]
  },
  {
   "cell_type": "code",
   "execution_count": 6,
   "id": "4fffaae9",
   "metadata": {
    "id": "4fffaae9",
    "outputId": "7ffe002e-7c13-46c1-90a9-b97fca406ff2"
   },
   "outputs": [
    {
     "name": "stdout",
     "output_type": "stream",
     "text": [
      "Número total de registros: 41188\n",
      "Conteo de suscripciones confirmadas: 4640\n",
      "Conteo de no suscripciones: 36548\n"
     ]
    }
   ],
   "source": [
    "print(\"Número total de registros:\", len(data))\n",
    "print(\"Conteo de suscripciones confirmadas:\", len(data.loc[data['y']==1]))\n",
    "print(\"Conteo de no suscripciones:\", len(data.loc[data['y']==0]))"
   ]
  },
  {
   "cell_type": "code",
   "execution_count": 7,
   "id": "3eb6095a",
   "metadata": {
    "id": "3eb6095a"
   },
   "outputs": [],
   "source": [
    "def data_cleaning(data):\n",
    "    print(\"Valores nan en los datos:\", data.isna().sum())\n",
    "    data = data.dropna()\n",
    "    print(\"Valores nan después de eliminar filas con datos vacios\", data.isna().sum())\n",
    "\n",
    "    return data\n",
    "\n",
    "def preprocessing(data):\n",
    "\n",
    "    data['education'] = np.where(data['education'] =='basic.9y', 'Basic', data['education'])\n",
    "    data['education'] = np.where(data['education'] =='basic.6y', 'Basic', data['education'])\n",
    "    data['education'] = np.where(data['education'] =='basic.4y', 'Basic', data['education'])\n",
    "\n",
    "    cat_vars=['job','marital','education','default','housing','loan','contact','month','day_of_week','poutcome']\n",
    "\n",
    "    for var in cat_vars:\n",
    "\n",
    "        cat_list = 'var'+'_'+var\n",
    "        cat_list = pd.get_dummies(data[var], prefix=var)\n",
    "        data1 = data.join(cat_list)\n",
    "        data = data1\n",
    "\n",
    "    cat_vars = ['job','marital','education','default','housing','loan','contact','month','day_of_week','poutcome']\n",
    "    data_vars = data.columns.values.tolist()\n",
    "    to_keep = [i for i in data_vars if i not in cat_vars]\n",
    "\n",
    "    final_data = data[to_keep]\n",
    "\n",
    "\n",
    "    final_data.columns = final_data.columns.str.replace('.','_')\n",
    "    final_data.columns = final_data.columns.str.replace(' ','_')\n",
    "\n",
    "    return final_data\n",
    "\n",
    "def data_train_test_split(final_data):\n",
    "    X = final_data.loc[:, final_data.columns != 'y']\n",
    "    y = final_data.loc[:, final_data.columns == 'y']\n",
    "\n",
    "    X_train, X_test, y_train, y_test = train_test_split(X, y, test_size=0.3, stratify = y, random_state=47)\n",
    "    return X_train, X_test, y_train, y_test\n",
    "\n",
    "def over_sampling_target_class(X_train, y_train):\n",
    "    # Over-sampling usando SMOTE\n",
    "    os = SMOTE(random_state=0)\n",
    "\n",
    "    columns = X_train.columns\n",
    "    os_data_X,os_data_y=os.fit_resample(X_train, y_train)\n",
    "\n",
    "    os_data_X = pd.DataFrame(data=os_data_X,columns=columns )\n",
    "    os_data_y= pd.DataFrame(data=os_data_y,columns=['y'])\n",
    "\n",
    "    # Verificar las nuevas cantidades de datos\n",
    "    print(\"Nuevo número de instancias: \",len(os_data_X))\n",
    "    print(\"Nuevo número de instancias sin suscripción:\",len(os_data_y[os_data_y['y']==0]))\n",
    "    print(\"Nuevo número de suscripciones\",len(os_data_y[os_data_y['y']==1]))\n",
    "    print(\"La nueva proporción de clientes sin suscripción:\",len(os_data_y[os_data_y['y']==0])/len(os_data_X))\n",
    "    print(\"La nueva proporción de clientes con suscripción:\",len(os_data_y[os_data_y['y']==1])/len(os_data_X))\n",
    "\n",
    "    X_train = os_data_X\n",
    "    y_train = os_data_y['y']\n",
    "\n",
    "    return X_train, y_train\n",
    "\n",
    "def training_basic_classifier(X_train,y_train):\n",
    "    model = RandomForestClassifier(n_estimators=101)\n",
    "    model.fit(X_train, y_train)\n",
    "    return model\n",
    "\n",
    "def predict_on_test_data(model,X_test):\n",
    "    y_pred = model.predict(X_test)\n",
    "    return y_pred\n",
    "\n",
    "def predict_prob_on_test_data(model,X_test):\n",
    "    y_pred = model.predict_proba(X_test)\n",
    "    return y_pred\n",
    "\n",
    "def get_metrics(y_true, y_pred, y_pred_prob):\n",
    "    acc = accuracy_score(y_true, y_pred)\n",
    "    prec = precision_score(y_true, y_pred)\n",
    "    recall = recall_score(y_true, y_pred)\n",
    "    entropy = log_loss(y_true, y_pred_prob)\n",
    "    return {'accuracy': round(acc, 2), 'precision': round(prec, 2), 'recall': round(recall, 2), 'entropy': round(entropy, 2)}\n",
    "\n",
    "def create_roc_auc_plot(y_test, y_pred):\n",
    "    RocCurveDisplay.from_predictions(y_test, y_pred)\n",
    "    plt.savefig('roc_auc_curve.png')\n",
    "\n",
    "def create_confusion_matrix_plot(y_test, y_pred, labels):\n",
    "    ConfusionMatrixDisplay.from_predictions(y_test, y_pred, labels=labels)\n",
    "    plt.savefig('confusion_matrix.png')"
   ]
  },
  {
   "cell_type": "markdown",
   "id": "0ed47644",
   "metadata": {
    "id": "0ed47644"
   },
   "source": [
    "Ajuste de Hiperparametros"
   ]
  },
  {
   "cell_type": "code",
   "execution_count": 8,
   "id": "481e1cb7",
   "metadata": {
    "id": "481e1cb7"
   },
   "outputs": [],
   "source": [
    "def hyper_parameter_tuning(X_train, y_train):\n",
    "    # Definir los rangos de los parámetros con el fin de pasarle la tarea de optimización a RandomizedSearchCV\n",
    "    n_estimators = [5,21,51,101] # Número de árboles en el bosque aleatorio\n",
    "    max_depth = [int(x) for x in np.linspace(10, 120, num = 12)] # Número máximo de niveles permitidos en cada árbol de decisión\n",
    "    min_samples_split = [2, 6, 10] # Número mínimo de muestra para dividir un nodo\n",
    "    min_samples_leaf = [1, 3, 4] # Número mínimo de muestra que se puede almacenar en un nodo hoja\n",
    "    bootstrap = [True, False] # Método utilizado para muestrear puntos de datos\n",
    "\n",
    "    random_grid = {'n_estimators': n_estimators,\n",
    "                    'max_depth': max_depth,\n",
    "                    'min_samples_split': min_samples_split,\n",
    "                    'min_samples_leaf': min_samples_leaf,\n",
    "                    'bootstrap': bootstrap}\n",
    "\n",
    "    classifier = RandomForestClassifier()\n",
    "    model_tuning = RandomizedSearchCV(estimator = classifier, param_distributions = random_grid,\n",
    "                   n_iter = 100, cv = 5, verbose=2, random_state=35, n_jobs = -1)\n",
    "    model_tuning.fit(X_train, y_train)\n",
    "\n",
    "    print ('Random grid: ', random_grid, '\\n')\n",
    "\n",
    "    # Imprimir los mejores parametros\n",
    "    print ('Best Parameters: ', model_tuning.best_params_, ' \\n')\n",
    "\n",
    "    best_params = model_tuning.best_params_\n",
    "\n",
    "    n_estimators = best_params['n_estimators']\n",
    "    min_samples_split = best_params['min_samples_split']\n",
    "    min_samples_leaf = best_params['min_samples_leaf']\n",
    "    max_depth = best_params['max_depth']\n",
    "    bootstrap = best_params['bootstrap']\n",
    "\n",
    "    model_tuned = RandomForestClassifier(n_estimators = n_estimators, min_samples_split = min_samples_split,\n",
    "                                         min_samples_leaf= min_samples_leaf,\n",
    "                                         max_depth= max_depth, bootstrap=bootstrap)\n",
    "    model_tuned.fit( X_train, y_train)\n",
    "    return model_tuned,best_params"
   ]
  },
  {
   "cell_type": "markdown",
   "id": "edc10bc3",
   "metadata": {
    "id": "edc10bc3"
   },
   "source": [
    "Implementar ML para la clasificación de clientes con probabilidad de suscribirse al servicio ofrecido por el banco, tomando en cuenta sus características y las características de clientes anteriores desde el dataset `banking.csv`."
   ]
  },
  {
   "cell_type": "code",
   "execution_count": 9,
   "id": "8acce9f7",
   "metadata": {
    "id": "8acce9f7",
    "outputId": "0e2858f4-3dd6-4f6a-ee69-08b6f42aa59c",
    "scrolled": true
   },
   "outputs": [
    {
     "name": "stdout",
     "output_type": "stream",
     "text": [
      "Valores nan en los datos: age               0\n",
      "job               0\n",
      "marital           0\n",
      "education         0\n",
      "default           0\n",
      "housing           0\n",
      "loan              0\n",
      "contact           0\n",
      "month             0\n",
      "day_of_week       0\n",
      "duration          0\n",
      "campaign          0\n",
      "pdays             0\n",
      "previous          0\n",
      "poutcome          0\n",
      "emp_var_rate      0\n",
      "cons_price_idx    0\n",
      "cons_conf_idx     0\n",
      "euribor3m         0\n",
      "nr_employed       0\n",
      "y                 0\n",
      "dtype: int64\n",
      "Valores nan después de eliminar filas con datos vacios age               0\n",
      "job               0\n",
      "marital           0\n",
      "education         0\n",
      "default           0\n",
      "housing           0\n",
      "loan              0\n",
      "contact           0\n",
      "month             0\n",
      "day_of_week       0\n",
      "duration          0\n",
      "campaign          0\n",
      "pdays             0\n",
      "previous          0\n",
      "poutcome          0\n",
      "emp_var_rate      0\n",
      "cons_price_idx    0\n",
      "cons_conf_idx     0\n",
      "euribor3m         0\n",
      "nr_employed       0\n",
      "y                 0\n",
      "dtype: int64\n",
      "Nuevo número de instancias:  51166\n",
      "Nuevo número de instancias sin suscripción: 25583\n",
      "Nuevo número de suscripciones 25583\n",
      "La nueva proporción de clientes sin suscripción: 0.5\n",
      "La nueva proporción de clientes con suscripción: 0.5\n"
     ]
    },
    {
     "name": "stderr",
     "output_type": "stream",
     "text": [
      "/opt/anaconda3/envs/mlops3/lib/python3.9/site-packages/sklearn/base.py:474: FutureWarning: `BaseEstimator._validate_data` is deprecated in 1.6 and will be removed in 1.7. Use `sklearn.utils.validation.validate_data` instead. This function becomes public and is part of the scikit-learn developer API.\n",
      "  warnings.warn(\n"
     ]
    }
   ],
   "source": [
    "# Preprocesamiento y entrenamiento\n",
    "def preprocess_train(dataset):\n",
    "    data = load_data(dataset)\n",
    "    cleaned_data = data_cleaning(data)\n",
    "    final_data = preprocessing(cleaned_data)\n",
    "    X_train, X_test, y_train, y_test = data_train_test_split(final_data)\n",
    "    X_train, y_train = over_sampling_target_class(X_train, y_train)\n",
    "    model = training_basic_classifier(X_train,y_train)\n",
    "\n",
    "    return model, X_train, X_test, y_train, y_test\n",
    "\n",
    "model, X_train, X_test, y_train, y_test = preprocess_train('datasets/banking/banking.csv')"
   ]
  },
  {
   "cell_type": "code",
   "execution_count": 10,
   "id": "e8e4a40b",
   "metadata": {
    "id": "e8e4a40b",
    "outputId": "680d5029-211b-46d4-8c54-24a44b1d3278"
   },
   "outputs": [
    {
     "name": "stdout",
     "output_type": "stream",
     "text": [
      "Predicciones con el subconjunto de evaluación:\n",
      "[0 0 0 ... 0 0 0]\n",
      "Dist. de probabilidades de predicción con el subconjunto de evaluación:\n",
      "[[0.97029703 0.02970297]\n",
      " [0.99009901 0.00990099]\n",
      " [0.96039604 0.03960396]\n",
      " ...\n",
      " [1.         0.        ]\n",
      " [0.66336634 0.33663366]\n",
      " [0.99009901 0.00990099]]\n",
      "Métricas del modelo:\n"
     ]
    },
    {
     "data": {
      "image/png": "[encoded data removed]",
      "text/plain": [
       "<Figure size 640x480 with 1 Axes>"
      ]
     },
     "metadata": {},
     "output_type": "display_data"
    },
    {
     "data": {
      "image/png": "[encoded data removed]",
      "text/plain": [
       "<Figure size 640x480 with 2 Axes>"
      ]
     },
     "metadata": {},
     "output_type": "display_data"
    }
   ],
   "source": [
    "# Inferencia y evaluación\n",
    "def predict_evaluate(model, X_test, y_test):\n",
    "  print(\"Predicciones con el subconjunto de evaluación:\")\n",
    "  y_pred = predict_on_test_data(model, X_test)\n",
    "  print(y_pred)\n",
    "  print(\"Dist. de probabilidades de predicción con el subconjunto de evaluación:\")\n",
    "  y_pred_prob = predict_prob_on_test_data(model, X_test) #model.predict_proba(X_test)\n",
    "  print(y_pred_prob)\n",
    "  print(\"Métricas del modelo:\")\n",
    "  run_metrics = get_metrics(y_test, y_pred, y_pred_prob)\n",
    "  create_roc_auc_plot(y_test, y_pred)\n",
    "  create_confusion_matrix_plot(y_test, y_pred, model.classes_)\n",
    "\n",
    "  return run_metrics\n",
    "\n",
    "run_metrics = predict_evaluate(model, X_test, y_test)"
   ]
  },
  {
   "cell_type": "markdown",
   "id": "a555e37e",
   "metadata": {
    "id": "a555e37e"
   },
   "source": [
    "## 3. MLFlow\n",
    "\n",
    "En la siguiente sección se registraran los experimentos, modelos, parametros y metricas con el módulo `tracking` de mlflow."
   ]
  },
  {
   "cell_type": "code",
   "execution_count": 11,
   "id": "591ac346",
   "metadata": {
    "id": "591ac346"
   },
   "outputs": [],
   "source": [
    "# Función para crear un experimento en MLFlow y registrar parámetros, métricas y archivos de artefactos como imágenes, etc.\n",
    "def create_experiment(experiment_name, run_name, run_metrics, model, confusion_matrix_path = None,\n",
    "                      roc_auc_plot_path = None, run_params = None):\n",
    "\n",
    "    # mlflow.set_tracking_uri(\"http://localhost:8080\") # Descomentar esta línea si desea usar cualquier base de datos como sqlite como almacenamiento de back-end\n",
    "    mlflow.set_experiment(experiment_name)\n",
    "\n",
    "    # start an execution by experiment\n",
    "    with mlflow.start_run(run_name=run_name):\n",
    "\n",
    "        if not run_params == None:\n",
    "            for param in run_params:\n",
    "                mlflow.log_param(param, run_params[param])\n",
    "\n",
    "        for metric in run_metrics:\n",
    "            mlflow.log_metric(metric, run_metrics[metric])\n",
    "\n",
    "        mlflow.sklearn.log_model(model, \"model\")\n",
    "\n",
    "        if not confusion_matrix_path == None:\n",
    "            mlflow.log_artifact(confusion_matrix_path, 'confusion_matrix')\n",
    "\n",
    "        if not roc_auc_plot_path == None:\n",
    "            mlflow.log_artifact(roc_auc_plot_path, \"roc_auc_plot\")\n",
    "\n",
    "        mlflow.set_tag(\"tag1\", \"Random Forest\")\n",
    "        mlflow.set_tags({\"tag2\":\"Randomized Search CV\", \"tag3\":\"Production\"})\n",
    "\n",
    "    print('La ejecución: %s fue registrada en el experimento: %s' %(run_name, experiment_name))"
   ]
  },
  {
   "cell_type": "markdown",
   "id": "797b5595",
   "metadata": {
    "id": "797b5595"
   },
   "source": [
    "Primer experimento con el modelo (básico) de `RandomForest`.  "
   ]
  },
  {
   "cell_type": "code",
   "execution_count": 12,
   "id": "e5756180",
   "metadata": {
    "id": "e5756180",
    "outputId": "9f19502a-5c0d-4826-d80e-0dda752fa7cd"
   },
   "outputs": [
    {
     "name": "stdout",
     "output_type": "stream",
     "text": [
      "Valores nan en los datos: age               0\n",
      "job               0\n",
      "marital           0\n",
      "education         0\n",
      "default           0\n",
      "housing           0\n",
      "loan              0\n",
      "contact           0\n",
      "month             0\n",
      "day_of_week       0\n",
      "duration          0\n",
      "campaign          0\n",
      "pdays             0\n",
      "previous          0\n",
      "poutcome          0\n",
      "emp_var_rate      0\n",
      "cons_price_idx    0\n",
      "cons_conf_idx     0\n",
      "euribor3m         0\n",
      "nr_employed       0\n",
      "y                 0\n",
      "dtype: int64\n",
      "Valores nan después de eliminar filas con datos vacios age               0\n",
      "job               0\n",
      "marital           0\n",
      "education         0\n",
      "default           0\n",
      "housing           0\n",
      "loan              0\n",
      "contact           0\n",
      "month             0\n",
      "day_of_week       0\n",
      "duration          0\n",
      "campaign          0\n",
      "pdays             0\n",
      "previous          0\n",
      "poutcome          0\n",
      "emp_var_rate      0\n",
      "cons_price_idx    0\n",
      "cons_conf_idx     0\n",
      "euribor3m         0\n",
      "nr_employed       0\n",
      "y                 0\n",
      "dtype: int64\n",
      "Nuevo número de instancias:  51166\n",
      "Nuevo número de instancias sin suscripción: 25583\n",
      "Nuevo número de suscripciones 25583\n",
      "La nueva proporción de clientes sin suscripción: 0.5\n",
      "La nueva proporción de clientes con suscripción: 0.5\n"
     ]
    },
    {
     "name": "stderr",
     "output_type": "stream",
     "text": [
      "/opt/anaconda3/envs/mlops3/lib/python3.9/site-packages/sklearn/base.py:474: FutureWarning: `BaseEstimator._validate_data` is deprecated in 1.6 and will be removed in 1.7. Use `sklearn.utils.validation.validate_data` instead. This function becomes public and is part of the scikit-learn developer API.\n",
      "  warnings.warn(\n"
     ]
    },
    {
     "name": "stdout",
     "output_type": "stream",
     "text": [
      "Predicciones con el subconjunto de evaluación:\n",
      "[0 0 0 ... 0 0 0]\n",
      "Dist. de probabilidades de predicción con el subconjunto de evaluación:\n",
      "[[0.99009901 0.00990099]\n",
      " [0.97029703 0.02970297]\n",
      " [0.96039604 0.03960396]\n",
      " ...\n",
      " [1.         0.        ]\n",
      " [0.63366337 0.36633663]\n",
      " [1.         0.        ]]\n",
      "Métricas del modelo:\n"
     ]
    },
    {
     "name": "stderr",
     "output_type": "stream",
     "text": [
      "2025/08/25 15:04:09 WARNING mlflow.models.model: `artifact_path` is deprecated. Please use `name` instead.\n"
     ]
    },
    {
     "name": "stdout",
     "output_type": "stream",
     "text": [
      "{'accuracy': 0.91, 'precision': 0.62, 'recall': 0.54, 'entropy': 0.21}\n"
     ]
    },
    {
     "name": "stderr",
     "output_type": "stream",
     "text": [
      "\u001b[31m2025/08/25 15:04:10 WARNING mlflow.models.model: Model logged without a signature and input example. Please set `input_example` parameter when logging the model to auto infer the model signature.\u001b[0m\n"
     ]
    },
    {
     "name": "stdout",
     "output_type": "stream",
     "text": [
      "La ejecución: smote_aplicado_second fue registrada en el experimento: clasificador_basico\n"
     ]
    },
    {
     "data": {
      "image/png": "[encoded data removed]",
      "text/plain": [
       "<Figure size 640x480 with 1 Axes>"
      ]
     },
     "metadata": {},
     "output_type": "display_data"
    },
    {
     "data": {
      "image/png": "[encoded data removed]",
      "text/plain": [
       "<Figure size 640x480 with 2 Axes>"
      ]
     },
     "metadata": {},
     "output_type": "display_data"
    }
   ],
   "source": [
    "experiment_name = \"clasificador_basico\"\n",
    "run_name = \"smote_aplicado_second\"\n",
    "\n",
    "model, X_train, X_test, y_train, y_test = preprocess_train('datasets/banking/banking.csv')\n",
    "run_metrics = predict_evaluate(model, X_test, y_test)\n",
    "print(run_metrics)\n",
    "\n",
    "create_experiment(experiment_name, # Nombre del experimento\n",
    "                  run_name, # Nombre de la ejecución\n",
    "                  run_metrics, # Métricas obtenidas\n",
    "                  model, # Modelo ajustado\n",
    "                  'confusion_matrix.png', # Ruta a la imagen de la mátriz de confusión\n",
    "                  'roc_auc_curve.png', # Ruta a la imagen de la gráfica AUC\n",
    "                  run_params = {\"n_estimators\":101} # Parametros utilizados al entrenar el modelo\n",
    "                 )"
   ]
  },
  {
   "cell_type": "markdown",
   "id": "00c5b47c",
   "metadata": {
    "id": "00c5b47c"
   },
   "source": [
    "Crear otro experimento después de ajustar los hiperparámetros y registrar el mejor conjunto de parámetros encontrados con la función `hyper_parameter_tuning`."
   ]
  },
  {
   "cell_type": "code",
   "execution_count": 13,
   "id": "5a0d0f40",
   "metadata": {
    "id": "5a0d0f40",
    "outputId": "020392e4-6aff-446e-a8dd-5475ec03f7d2",
    "scrolled": true
   },
   "outputs": [
    {
     "name": "stdout",
     "output_type": "stream",
     "text": [
      "Fitting 5 folds for each of 100 candidates, totalling 500 fits\n",
      "Random grid:  {'n_estimators': [5, 21, 51, 101], 'max_depth': [10, 20, 30, 40, 50, 60, 70, 80, 90, 100, 110, 120], 'min_samples_split': [2, 6, 10], 'min_samples_leaf': [1, 3, 4], 'bootstrap': [True, False]} \n",
      "\n",
      "Best Parameters:  {'n_estimators': 51, 'min_samples_split': 2, 'min_samples_leaf': 4, 'max_depth': 80, 'bootstrap': True}  \n",
      "\n",
      "n_estimators 51\n",
      "min_samples_split 2\n",
      "min_samples_leaf 4\n",
      "max_depth 80\n",
      "bootstrap True\n",
      "Predicciones con el subconjunto de evaluación:\n",
      "[0 0 0 ... 0 0 0]\n",
      "Dist. de probabilidades de predicción con el subconjunto de evaluación:\n",
      "[[0.99009901 0.00990099]\n",
      " [0.97029703 0.02970297]\n",
      " [0.96039604 0.03960396]\n",
      " ...\n",
      " [1.         0.        ]\n",
      " [0.63366337 0.36633663]\n",
      " [1.         0.        ]]\n",
      "Métricas del modelo:\n"
     ]
    },
    {
     "name": "stderr",
     "output_type": "stream",
     "text": [
      "2025/08/25 15:05:45 WARNING mlflow.models.model: `artifact_path` is deprecated. Please use `name` instead.\n"
     ]
    },
    {
     "name": "stdout",
     "output_type": "stream",
     "text": [
      "{'accuracy': 0.91, 'precision': 0.62, 'recall': 0.54, 'entropy': 0.21}\n"
     ]
    },
    {
     "name": "stderr",
     "output_type": "stream",
     "text": [
      "\u001b[31m2025/08/25 15:05:47 WARNING mlflow.models.model: Model logged without a signature and input example. Please set `input_example` parameter when logging the model to auto infer the model signature.\u001b[0m\n"
     ]
    },
    {
     "name": "stdout",
     "output_type": "stream",
     "text": [
      "La ejecución: modelo_tuneado_con_randomsearchcv fue registrada en el experimento: modelo_optimizado\n"
     ]
    },
    {
     "data": {
      "image/png": "[encoded data removed]",
      "text/plain": [
       "<Figure size 640x480 with 1 Axes>"
      ]
     },
     "metadata": {},
     "output_type": "display_data"
    },
    {
     "data": {
      "image/png": "[encoded data removed]",
      "text/plain": [
       "<Figure size 640x480 with 2 Axes>"
      ]
     },
     "metadata": {},
     "output_type": "display_data"
    },
    {
     "name": "stdout",
     "output_type": "stream",
     "text": [
      "[CV] END bootstrap=False, max_depth=110, min_samples_leaf=4, min_samples_split=2, n_estimators=5; total time=   0.2s\n",
      "[CV] END bootstrap=True, max_depth=120, min_samples_leaf=4, min_samples_split=2, n_estimators=21; total time=   0.7s\n",
      "[CV] END bootstrap=False, max_depth=90, min_samples_leaf=4, min_samples_split=10, n_estimators=5; total time=   0.3s\n",
      "[CV] END bootstrap=True, max_depth=10, min_samples_leaf=3, min_samples_split=6, n_estimators=21; total time=   0.5s\n",
      "[CV] END bootstrap=False, max_depth=110, min_samples_leaf=1, min_samples_split=2, n_estimators=51; total time=   2.5s\n",
      "[CV] END bootstrap=True, max_depth=120, min_samples_leaf=1, min_samples_split=6, n_estimators=21; total time=   0.7s\n",
      "[CV] END bootstrap=False, max_depth=10, min_samples_leaf=1, min_samples_split=6, n_estimators=5; total time=   0.2s\n",
      "[CV] END bootstrap=True, max_depth=50, min_samples_leaf=4, min_samples_split=6, n_estimators=51; total time=   1.7s\n",
      "[CV] END bootstrap=False, max_depth=70, min_samples_leaf=3, min_samples_split=6, n_estimators=101; total time=   4.5s\n",
      "[CV] END bootstrap=True, max_depth=120, min_samples_leaf=3, min_samples_split=6, n_estimators=101; total time=   3.3s\n",
      "[CV] END bootstrap=False, max_depth=120, min_samples_leaf=4, min_samples_split=6, n_estimators=51; total time=   2.5s\n",
      "[CV] END bootstrap=False, max_depth=30, min_samples_leaf=4, min_samples_split=10, n_estimators=5; total time=   0.2s\n",
      "[CV] END bootstrap=True, max_depth=100, min_samples_leaf=3, min_samples_split=2, n_estimators=5; total time=   0.2s\n",
      "[CV] END bootstrap=False, max_depth=40, min_samples_leaf=1, min_samples_split=10, n_estimators=51; total time=   2.7s\n",
      "[CV] END bootstrap=False, max_depth=50, min_samples_leaf=3, min_samples_split=6, n_estimators=51; total time=   2.4s\n",
      "[CV] END bootstrap=True, max_depth=70, min_samples_leaf=3, min_samples_split=10, n_estimators=21; total time=   0.7s\n",
      "[CV] END bootstrap=True, max_depth=50, min_samples_leaf=4, min_samples_split=2, n_estimators=5; total time=   0.2s\n",
      "[CV] END bootstrap=True, max_depth=50, min_samples_leaf=4, min_samples_split=2, n_estimators=5; total time=   0.2s\n",
      "[CV] END bootstrap=False, max_depth=50, min_samples_leaf=3, min_samples_split=2, n_estimators=21; total time=   1.0s\n",
      "[CV] END bootstrap=True, max_depth=30, min_samples_leaf=1, min_samples_split=10, n_estimators=5; total time=   0.2s\n",
      "[CV] END bootstrap=True, max_depth=30, min_samples_leaf=1, min_samples_split=10, n_estimators=5; total time=   0.2s\n",
      "[CV] END bootstrap=True, max_depth=110, min_samples_leaf=4, min_samples_split=6, n_estimators=21; total time=   0.8s\n",
      "[CV] END bootstrap=False, max_depth=120, min_samples_leaf=3, min_samples_split=6, n_estimators=101; total time=   4.4s\n",
      "[CV] END bootstrap=False, max_depth=10, min_samples_leaf=4, min_samples_split=6, n_estimators=5; total time=   0.2s\n",
      "[CV] END bootstrap=False, max_depth=10, min_samples_leaf=4, min_samples_split=6, n_estimators=5; total time=   0.2s\n",
      "[CV] END bootstrap=True, max_depth=120, min_samples_leaf=3, min_samples_split=2, n_estimators=101; total time=   3.1s\n",
      "[CV] END bootstrap=False, max_depth=70, min_samples_leaf=4, min_samples_split=10, n_estimators=5; total time=   0.2s\n",
      "[CV] END bootstrap=True, max_depth=20, min_samples_leaf=3, min_samples_split=2, n_estimators=21; total time=   0.7s\n",
      "[CV] END bootstrap=False, max_depth=60, min_samples_leaf=3, min_samples_split=6, n_estimators=5; total time=   0.2s\n",
      "[CV] END bootstrap=False, max_depth=10, min_samples_leaf=1, min_samples_split=2, n_estimators=21; total time=   0.7s\n",
      "[CV] END bootstrap=True, max_depth=120, min_samples_leaf=3, min_samples_split=10, n_estimators=51; total time=   1.6s\n",
      "[CV] END bootstrap=False, max_depth=110, min_samples_leaf=3, min_samples_split=2, n_estimators=21; total time=   1.0s\n",
      "[CV] END bootstrap=True, max_depth=80, min_samples_leaf=1, min_samples_split=6, n_estimators=101; total time=   3.4s\n",
      "[CV] END bootstrap=True, max_depth=60, min_samples_leaf=4, min_samples_split=10, n_estimators=51; total time=   1.7s\n",
      "[CV] END bootstrap=True, max_depth=100, min_samples_leaf=1, min_samples_split=2, n_estimators=101; total time=   3.6s\n",
      "[CV] END bootstrap=False, max_depth=110, min_samples_leaf=3, min_samples_split=10, n_estimators=51; total time=   2.4s\n",
      "[CV] END bootstrap=True, max_depth=110, min_samples_leaf=3, min_samples_split=6, n_estimators=101; total time=   3.5s\n",
      "[CV] END bootstrap=False, max_depth=20, min_samples_leaf=1, min_samples_split=6, n_estimators=21; total time=   1.0s\n",
      "[CV] END bootstrap=True, max_depth=70, min_samples_leaf=3, min_samples_split=10, n_estimators=101; total time=   3.4s\n",
      "[CV] END bootstrap=False, max_depth=30, min_samples_leaf=3, min_samples_split=6, n_estimators=101; total time=   4.9s\n",
      "[CV] END bootstrap=True, max_depth=40, min_samples_leaf=3, min_samples_split=10, n_estimators=5; total time=   0.2s\n",
      "[CV] END bootstrap=False, max_depth=90, min_samples_leaf=3, min_samples_split=10, n_estimators=21; total time=   0.9s\n",
      "[CV] END bootstrap=True, max_depth=70, min_samples_leaf=1, min_samples_split=10, n_estimators=5; total time=   0.2s\n",
      "[CV] END bootstrap=True, max_depth=70, min_samples_leaf=1, min_samples_split=10, n_estimators=5; total time=   0.2s\n",
      "[CV] END bootstrap=False, max_depth=40, min_samples_leaf=1, min_samples_split=2, n_estimators=101; total time=   5.2s\n",
      "[CV] END bootstrap=True, max_depth=40, min_samples_leaf=1, min_samples_split=6, n_estimators=51; total time=   1.7s\n",
      "[CV] END bootstrap=True, max_depth=100, min_samples_leaf=4, min_samples_split=10, n_estimators=21; total time=   0.7s\n",
      "[CV] END bootstrap=True, max_depth=100, min_samples_leaf=3, min_samples_split=10, n_estimators=5; total time=   0.2s\n",
      "[CV] END bootstrap=True, max_depth=100, min_samples_leaf=3, min_samples_split=10, n_estimators=5; total time=   0.2s\n",
      "[CV] END bootstrap=True, max_depth=20, min_samples_leaf=1, min_samples_split=2, n_estimators=101; total time=   3.6s\n",
      "[CV] END bootstrap=True, max_depth=10, min_samples_leaf=1, min_samples_split=6, n_estimators=51; total time=   1.3s\n",
      "[CV] END bootstrap=True, max_depth=30, min_samples_leaf=4, min_samples_split=10, n_estimators=51; total time=   1.7s\n",
      "[CV] END bootstrap=False, max_depth=80, min_samples_leaf=1, min_samples_split=6, n_estimators=21; total time=   1.1s\n",
      "[CV] END bootstrap=True, max_depth=90, min_samples_leaf=3, min_samples_split=6, n_estimators=5; total time=   0.2s\n",
      "[CV] END bootstrap=True, max_depth=90, min_samples_leaf=3, min_samples_split=6, n_estimators=5; total time=   0.2s\n",
      "[CV] END bootstrap=False, max_depth=50, min_samples_leaf=1, min_samples_split=10, n_estimators=21; total time=   1.1s\n",
      "[CV] END bootstrap=True, max_depth=10, min_samples_leaf=3, min_samples_split=6, n_estimators=21; total time=   0.5s\n",
      "[CV] END bootstrap=False, max_depth=110, min_samples_leaf=1, min_samples_split=2, n_estimators=51; total time=   2.5s\n",
      "[CV] END bootstrap=True, max_depth=120, min_samples_leaf=1, min_samples_split=6, n_estimators=21; total time=   0.7s\n",
      "[CV] END bootstrap=False, max_depth=10, min_samples_leaf=1, min_samples_split=6, n_estimators=5; total time=   0.2s\n",
      "[CV] END bootstrap=True, max_depth=50, min_samples_leaf=4, min_samples_split=6, n_estimators=51; total time=   1.6s\n",
      "[CV] END bootstrap=False, max_depth=70, min_samples_leaf=3, min_samples_split=6, n_estimators=101; total time=   4.5s\n",
      "[CV] END bootstrap=True, max_depth=120, min_samples_leaf=3, min_samples_split=6, n_estimators=101; total time=   3.3s\n",
      "[CV] END bootstrap=False, max_depth=120, min_samples_leaf=4, min_samples_split=6, n_estimators=51; total time=   2.4s\n",
      "[CV] END bootstrap=True, max_depth=90, min_samples_leaf=4, min_samples_split=2, n_estimators=101; total time=   3.4s\n",
      "[CV] END bootstrap=True, max_depth=30, min_samples_leaf=4, min_samples_split=6, n_estimators=21; total time=   0.7s\n",
      "[CV] END bootstrap=True, max_depth=40, min_samples_leaf=4, min_samples_split=6, n_estimators=51; total time=   1.6s\n",
      "[CV] END bootstrap=False, max_depth=120, min_samples_leaf=1, min_samples_split=6, n_estimators=51; total time=   2.6s\n",
      "[CV] END bootstrap=True, max_depth=110, min_samples_leaf=4, min_samples_split=6, n_estimators=21; total time=   0.7s\n",
      "[CV] END bootstrap=True, max_depth=60, min_samples_leaf=3, min_samples_split=6, n_estimators=5; total time=   0.2s\n",
      "[CV] END bootstrap=False, max_depth=120, min_samples_leaf=3, min_samples_split=6, n_estimators=101; total time=   4.7s\n",
      "[CV] END bootstrap=False, max_depth=10, min_samples_leaf=4, min_samples_split=6, n_estimators=5; total time=   0.2s\n",
      "[CV] END bootstrap=True, max_depth=120, min_samples_leaf=3, min_samples_split=2, n_estimators=101; total time=   3.3s\n",
      "[CV] END bootstrap=True, max_depth=20, min_samples_leaf=3, min_samples_split=2, n_estimators=21; total time=   0.8s\n",
      "[CV] END bootstrap=False, max_depth=60, min_samples_leaf=3, min_samples_split=6, n_estimators=5; total time=   0.2s\n",
      "[CV] END bootstrap=False, max_depth=120, min_samples_leaf=1, min_samples_split=10, n_estimators=5; total time=   0.2s\n",
      "[CV] END bootstrap=True, max_depth=70, min_samples_leaf=4, min_samples_split=2, n_estimators=21; total time=   0.6s\n",
      "[CV] END bootstrap=True, max_depth=60, min_samples_leaf=1, min_samples_split=6, n_estimators=21; total time=   0.7s\n",
      "[CV] END bootstrap=False, max_depth=100, min_samples_leaf=4, min_samples_split=6, n_estimators=101; total time=   4.6s\n",
      "[CV] END bootstrap=True, max_depth=50, min_samples_leaf=4, min_samples_split=2, n_estimators=21; total time=   0.8s\n",
      "[CV] END bootstrap=True, max_depth=60, min_samples_leaf=4, min_samples_split=10, n_estimators=51; total time=   1.8s\n",
      "[CV] END bootstrap=True, max_depth=100, min_samples_leaf=1, min_samples_split=2, n_estimators=101; total time=   3.7s\n",
      "[CV] END bootstrap=False, max_depth=80, min_samples_leaf=4, min_samples_split=2, n_estimators=21; total time=   1.0s\n",
      "[CV] END bootstrap=False, max_depth=120, min_samples_leaf=4, min_samples_split=10, n_estimators=5; total time=   0.3s\n",
      "[CV] END bootstrap=True, max_depth=40, min_samples_leaf=3, min_samples_split=6, n_estimators=5; total time=   0.2s\n",
      "[CV] END bootstrap=False, max_depth=110, min_samples_leaf=1, min_samples_split=2, n_estimators=5; total time=   0.3s\n",
      "[CV] END bootstrap=True, max_depth=110, min_samples_leaf=3, min_samples_split=6, n_estimators=101; total time=   3.5s\n",
      "[CV] END bootstrap=False, max_depth=30, min_samples_leaf=3, min_samples_split=2, n_estimators=51; total time=   2.5s\n",
      "[CV] END bootstrap=False, max_depth=90, min_samples_leaf=3, min_samples_split=6, n_estimators=51; total time=   2.5s\n",
      "[CV] END bootstrap=False, max_depth=120, min_samples_leaf=3, min_samples_split=2, n_estimators=21; total time=   1.1s\n",
      "[CV] END bootstrap=True, max_depth=70, min_samples_leaf=1, min_samples_split=2, n_estimators=21; total time=   0.7s\n",
      "[CV] END bootstrap=False, max_depth=60, min_samples_leaf=1, min_samples_split=2, n_estimators=21; total time=   0.9s\n",
      "[CV] END bootstrap=True, max_depth=20, min_samples_leaf=1, min_samples_split=2, n_estimators=5; total time=   0.2s\n",
      "[CV] END bootstrap=True, max_depth=20, min_samples_leaf=1, min_samples_split=2, n_estimators=5; total time=   0.2s\n",
      "[CV] END bootstrap=True, max_depth=80, min_samples_leaf=4, min_samples_split=2, n_estimators=51; total time=   1.8s\n",
      "[CV] END bootstrap=True, max_depth=80, min_samples_leaf=3, min_samples_split=10, n_estimators=21; total time=   0.7s\n",
      "[CV] END bootstrap=True, max_depth=60, min_samples_leaf=3, min_samples_split=10, n_estimators=51; total time=   1.7s\n",
      "[CV] END bootstrap=True, max_depth=40, min_samples_leaf=4, min_samples_split=6, n_estimators=101; total time=   3.5s\n",
      "[CV] END bootstrap=True, max_depth=40, min_samples_leaf=1, min_samples_split=6, n_estimators=51; total time=   1.8s\n",
      "[CV] END bootstrap=True, max_depth=100, min_samples_leaf=4, min_samples_split=10, n_estimators=21; total time=   0.7s\n",
      "[CV] END bootstrap=True, max_depth=100, min_samples_leaf=3, min_samples_split=10, n_estimators=5; total time=   0.2s\n",
      "[CV] END bootstrap=True, max_depth=20, min_samples_leaf=1, min_samples_split=2, n_estimators=101; total time=   3.7s\n",
      "[CV] END bootstrap=False, max_depth=30, min_samples_leaf=4, min_samples_split=10, n_estimators=101; total time=   4.8s\n",
      "[CV] END bootstrap=True, max_depth=90, min_samples_leaf=3, min_samples_split=6, n_estimators=5; total time=   0.2s\n",
      "[CV] END bootstrap=False, max_depth=110, min_samples_leaf=4, min_samples_split=2, n_estimators=5; total time=   0.3s\n",
      "[CV] END bootstrap=True, max_depth=120, min_samples_leaf=4, min_samples_split=2, n_estimators=21; total time=   0.7s\n",
      "[CV] END bootstrap=True, max_depth=30, min_samples_leaf=1, min_samples_split=2, n_estimators=5; total time=   0.2s\n",
      "[CV] END bootstrap=True, max_depth=120, min_samples_leaf=1, min_samples_split=6, n_estimators=51; total time=   1.8s\n",
      "[CV] END bootstrap=True, max_depth=60, min_samples_leaf=3, min_samples_split=6, n_estimators=51; total time=   1.7s\n",
      "[CV] END bootstrap=True, max_depth=30, min_samples_leaf=1, min_samples_split=6, n_estimators=51; total time=   1.8s\n",
      "[CV] END bootstrap=False, max_depth=70, min_samples_leaf=4, min_samples_split=2, n_estimators=101; total time=   4.4s\n",
      "[CV] END bootstrap=False, max_depth=120, min_samples_leaf=3, min_samples_split=2, n_estimators=51; total time=   2.3s\n",
      "[CV] END bootstrap=True, max_depth=120, min_samples_leaf=3, min_samples_split=2, n_estimators=21; total time=   0.7s\n",
      "[CV] END bootstrap=False, max_depth=120, min_samples_leaf=4, min_samples_split=6, n_estimators=51; total time=   2.3s\n",
      "[CV] END bootstrap=True, max_depth=80, min_samples_leaf=3, min_samples_split=6, n_estimators=21; total time=   0.7s\n",
      "[CV] END bootstrap=True, max_depth=90, min_samples_leaf=4, min_samples_split=2, n_estimators=101; total time=   3.5s\n",
      "[CV] END bootstrap=True, max_depth=30, min_samples_leaf=4, min_samples_split=6, n_estimators=21; total time=   0.8s\n",
      "[CV] END bootstrap=True, max_depth=40, min_samples_leaf=4, min_samples_split=6, n_estimators=51; total time=   1.7s\n",
      "[CV] END bootstrap=True, max_depth=70, min_samples_leaf=3, min_samples_split=10, n_estimators=21; total time=   0.8s\n",
      "[CV] END bootstrap=False, max_depth=50, min_samples_leaf=3, min_samples_split=2, n_estimators=21; total time=   0.9s\n",
      "[CV] END bootstrap=False, max_depth=100, min_samples_leaf=1, min_samples_split=6, n_estimators=101; total time=   5.0s\n",
      "[CV] END bootstrap=True, max_depth=100, min_samples_leaf=4, min_samples_split=10, n_estimators=101; total time=   3.3s\n",
      "[CV] END bootstrap=True, max_depth=40, min_samples_leaf=3, min_samples_split=10, n_estimators=21; total time=   0.7s\n",
      "[CV] END bootstrap=True, max_depth=100, min_samples_leaf=4, min_samples_split=6, n_estimators=21; total time=   0.7s\n",
      "[CV] END bootstrap=False, max_depth=60, min_samples_leaf=4, min_samples_split=10, n_estimators=21; total time=   1.0s\n",
      "[CV] END bootstrap=False, max_depth=120, min_samples_leaf=1, min_samples_split=10, n_estimators=5; total time=   0.3s\n",
      "[CV] END bootstrap=True, max_depth=70, min_samples_leaf=4, min_samples_split=2, n_estimators=21; total time=   0.7s\n",
      "[CV] END bootstrap=True, max_depth=60, min_samples_leaf=1, min_samples_split=6, n_estimators=21; total time=   0.8s\n",
      "[CV] END bootstrap=False, max_depth=100, min_samples_leaf=4, min_samples_split=6, n_estimators=101; total time=   4.4s\n",
      "[CV] END bootstrap=True, max_depth=50, min_samples_leaf=4, min_samples_split=2, n_estimators=21; total time=   0.8s\n",
      "[CV] END bootstrap=True, max_depth=60, min_samples_leaf=4, min_samples_split=10, n_estimators=51; total time=   1.8s\n",
      "[CV] END bootstrap=True, max_depth=100, min_samples_leaf=1, min_samples_split=2, n_estimators=101; total time=   3.7s\n",
      "[CV] END bootstrap=False, max_depth=80, min_samples_leaf=4, min_samples_split=2, n_estimators=21; total time=   1.0s\n",
      "[CV] END bootstrap=False, max_depth=120, min_samples_leaf=4, min_samples_split=10, n_estimators=5; total time=   0.3s\n",
      "[CV] END bootstrap=True, max_depth=40, min_samples_leaf=3, min_samples_split=6, n_estimators=5; total time=   0.2s\n",
      "[CV] END bootstrap=False, max_depth=110, min_samples_leaf=1, min_samples_split=2, n_estimators=5; total time=   0.3s\n",
      "[CV] END bootstrap=True, max_depth=100, min_samples_leaf=4, min_samples_split=2, n_estimators=101; total time=   3.4s\n",
      "[CV] END bootstrap=False, max_depth=30, min_samples_leaf=3, min_samples_split=2, n_estimators=51; total time=   2.5s\n",
      "[CV] END bootstrap=False, max_depth=90, min_samples_leaf=3, min_samples_split=6, n_estimators=51; total time=   2.4s\n",
      "[CV] END bootstrap=False, max_depth=120, min_samples_leaf=3, min_samples_split=2, n_estimators=21; total time=   1.0s\n",
      "[CV] END bootstrap=True, max_depth=100, min_samples_leaf=1, min_samples_split=2, n_estimators=5; total time=   0.2s\n",
      "[CV] END bootstrap=True, max_depth=70, min_samples_leaf=1, min_samples_split=2, n_estimators=21; total time=   0.8s\n",
      "[CV] END bootstrap=False, max_depth=60, min_samples_leaf=1, min_samples_split=2, n_estimators=21; total time=   1.1s\n",
      "[CV] END bootstrap=True, max_depth=80, min_samples_leaf=4, min_samples_split=2, n_estimators=51; total time=   1.6s\n",
      "[CV] END bootstrap=True, max_depth=80, min_samples_leaf=3, min_samples_split=10, n_estimators=21; total time=   0.7s\n",
      "[CV] END bootstrap=True, max_depth=70, min_samples_leaf=1, min_samples_split=10, n_estimators=5; total time=   0.2s\n",
      "[CV] END bootstrap=True, max_depth=60, min_samples_leaf=3, min_samples_split=10, n_estimators=51; total time=   1.7s\n",
      "[CV] END bootstrap=True, max_depth=40, min_samples_leaf=4, min_samples_split=6, n_estimators=101; total time=   3.2s\n",
      "[CV] END bootstrap=False, max_depth=120, min_samples_leaf=1, min_samples_split=6, n_estimators=101; total time=   4.9s\n",
      "[CV] END bootstrap=False, max_depth=100, min_samples_leaf=1, min_samples_split=2, n_estimators=21; total time=   1.1s\n",
      "[CV] END bootstrap=True, max_depth=30, min_samples_leaf=1, min_samples_split=6, n_estimators=21; total time=   0.8s\n",
      "[CV] END bootstrap=True, max_depth=10, min_samples_leaf=1, min_samples_split=6, n_estimators=51; total time=   1.4s\n",
      "[CV] END bootstrap=True, max_depth=30, min_samples_leaf=4, min_samples_split=10, n_estimators=51; total time=   1.8s\n",
      "[CV] END bootstrap=False, max_depth=80, min_samples_leaf=1, min_samples_split=6, n_estimators=21; total time=   1.0s\n",
      "[CV] END bootstrap=True, max_depth=50, min_samples_leaf=3, min_samples_split=6, n_estimators=21; total time=   0.7s\n",
      "[CV] END bootstrap=False, max_depth=50, min_samples_leaf=1, min_samples_split=10, n_estimators=21; total time=   1.0s\n",
      "[CV] END bootstrap=False, max_depth=90, min_samples_leaf=4, min_samples_split=10, n_estimators=5; total time=   0.3s\n",
      "[CV] END bootstrap=True, max_depth=120, min_samples_leaf=1, min_samples_split=6, n_estimators=51; total time=   1.5s\n",
      "[CV] END bootstrap=True, max_depth=60, min_samples_leaf=3, min_samples_split=6, n_estimators=51; total time=   1.5s\n",
      "[CV] END bootstrap=True, max_depth=120, min_samples_leaf=1, min_samples_split=6, n_estimators=21; total time=   0.7s\n",
      "[CV] END bootstrap=True, max_depth=50, min_samples_leaf=4, min_samples_split=6, n_estimators=51; total time=   1.5s\n",
      "[CV] END bootstrap=False, max_depth=70, min_samples_leaf=3, min_samples_split=6, n_estimators=101; total time=   4.1s\n",
      "[CV] END bootstrap=True, max_depth=20, min_samples_leaf=1, min_samples_split=6, n_estimators=5; total time=   0.2s\n",
      "[CV] END bootstrap=False, max_depth=120, min_samples_leaf=3, min_samples_split=2, n_estimators=51; total time=   2.3s\n",
      "[CV] END bootstrap=True, max_depth=120, min_samples_leaf=3, min_samples_split=2, n_estimators=21; total time=   0.7s\n",
      "[CV] END bootstrap=False, max_depth=80, min_samples_leaf=4, min_samples_split=2, n_estimators=51; total time=   2.4s\n",
      "[CV] END bootstrap=True, max_depth=80, min_samples_leaf=3, min_samples_split=6, n_estimators=21; total time=   0.7s\n",
      "[CV] END bootstrap=False, max_depth=30, min_samples_leaf=4, min_samples_split=10, n_estimators=5; total time=   0.2s\n",
      "[CV] END bootstrap=True, max_depth=100, min_samples_leaf=3, min_samples_split=2, n_estimators=5; total time=   0.2s\n",
      "[CV] END bootstrap=False, max_depth=40, min_samples_leaf=1, min_samples_split=10, n_estimators=51; total time=   2.7s\n",
      "[CV] END bootstrap=False, max_depth=50, min_samples_leaf=3, min_samples_split=6, n_estimators=51; total time=   2.4s\n",
      "[CV] END bootstrap=False, max_depth=120, min_samples_leaf=1, min_samples_split=6, n_estimators=51; total time=   2.6s\n",
      "[CV] END bootstrap=True, max_depth=30, min_samples_leaf=1, min_samples_split=10, n_estimators=5; total time=   0.2s\n",
      "[CV] END bootstrap=True, max_depth=110, min_samples_leaf=4, min_samples_split=6, n_estimators=21; total time=   0.7s\n",
      "[CV] END bootstrap=True, max_depth=60, min_samples_leaf=3, min_samples_split=6, n_estimators=5; total time=   0.2s\n",
      "[CV] END bootstrap=False, max_depth=120, min_samples_leaf=3, min_samples_split=6, n_estimators=101; total time=   4.6s\n",
      "[CV] END bootstrap=False, max_depth=10, min_samples_leaf=4, min_samples_split=6, n_estimators=5; total time=   0.2s\n",
      "[CV] END bootstrap=True, max_depth=120, min_samples_leaf=3, min_samples_split=2, n_estimators=101; total time=   3.2s\n",
      "[CV] END bootstrap=False, max_depth=60, min_samples_leaf=4, min_samples_split=10, n_estimators=21; total time=   1.0s\n",
      "[CV] END bootstrap=False, max_depth=10, min_samples_leaf=1, min_samples_split=2, n_estimators=21; total time=   0.7s\n",
      "[CV] END bootstrap=True, max_depth=120, min_samples_leaf=3, min_samples_split=10, n_estimators=51; total time=   1.6s\n",
      "[CV] END bootstrap=False, max_depth=110, min_samples_leaf=3, min_samples_split=2, n_estimators=21; total time=   1.0s\n",
      "[CV] END bootstrap=True, max_depth=80, min_samples_leaf=1, min_samples_split=6, n_estimators=101; total time=   3.4s\n",
      "[CV] END bootstrap=True, max_depth=50, min_samples_leaf=3, min_samples_split=10, n_estimators=21; total time=   0.7s\n",
      "[CV] END bootstrap=False, max_depth=20, min_samples_leaf=1, min_samples_split=10, n_estimators=101; total time=   4.8s\n",
      "[CV] END bootstrap=False, max_depth=110, min_samples_leaf=3, min_samples_split=10, n_estimators=51; total time=   2.4s\n",
      "[CV] END bootstrap=True, max_depth=100, min_samples_leaf=4, min_samples_split=2, n_estimators=101; total time=   3.3s\n",
      "[CV] END bootstrap=False, max_depth=30, min_samples_leaf=3, min_samples_split=2, n_estimators=51; total time=   2.5s\n",
      "[CV] END bootstrap=False, max_depth=90, min_samples_leaf=3, min_samples_split=6, n_estimators=51; total time=   2.5s\n",
      "[CV] END bootstrap=False, max_depth=120, min_samples_leaf=3, min_samples_split=2, n_estimators=21; total time=   1.1s\n",
      "[CV] END bootstrap=True, max_depth=100, min_samples_leaf=1, min_samples_split=2, n_estimators=5; total time=   0.2s\n",
      "[CV] END bootstrap=True, max_depth=70, min_samples_leaf=1, min_samples_split=2, n_estimators=21; total time=   0.9s\n",
      "[CV] END bootstrap=False, max_depth=60, min_samples_leaf=1, min_samples_split=2, n_estimators=21; total time=   1.1s\n",
      "[CV] END bootstrap=True, max_depth=20, min_samples_leaf=1, min_samples_split=2, n_estimators=5; total time=   0.2s\n",
      "[CV] END bootstrap=True, max_depth=80, min_samples_leaf=4, min_samples_split=2, n_estimators=51; total time=   1.7s\n",
      "[CV] END bootstrap=True, max_depth=80, min_samples_leaf=3, min_samples_split=10, n_estimators=21; total time=   0.7s\n",
      "[CV] END bootstrap=True, max_depth=60, min_samples_leaf=3, min_samples_split=10, n_estimators=51; total time=   1.8s\n",
      "[CV] END bootstrap=True, max_depth=40, min_samples_leaf=4, min_samples_split=6, n_estimators=101; total time=   3.4s\n",
      "[CV] END bootstrap=True, max_depth=40, min_samples_leaf=1, min_samples_split=6, n_estimators=51; total time=   1.8s\n",
      "[CV] END bootstrap=True, max_depth=100, min_samples_leaf=4, min_samples_split=10, n_estimators=21; total time=   0.7s\n",
      "[CV] END bootstrap=True, max_depth=100, min_samples_leaf=3, min_samples_split=10, n_estimators=5; total time=   0.2s\n",
      "[CV] END bootstrap=True, max_depth=20, min_samples_leaf=1, min_samples_split=2, n_estimators=101; total time=   3.6s\n",
      "[CV] END bootstrap=True, max_depth=10, min_samples_leaf=1, min_samples_split=6, n_estimators=51; total time=   1.2s\n",
      "[CV] END bootstrap=True, max_depth=30, min_samples_leaf=4, min_samples_split=10, n_estimators=51; total time=   1.7s\n",
      "[CV] END bootstrap=False, max_depth=80, min_samples_leaf=1, min_samples_split=6, n_estimators=21; total time=   1.1s\n",
      "[CV] END bootstrap=False, max_depth=10, min_samples_leaf=1, min_samples_split=10, n_estimators=5; total time=   0.2s\n",
      "[CV] END bootstrap=True, max_depth=50, min_samples_leaf=3, min_samples_split=6, n_estimators=21; total time=   0.7s\n",
      "[CV] END bootstrap=False, max_depth=50, min_samples_leaf=1, min_samples_split=10, n_estimators=21; total time=   0.9s\n",
      "[CV] END bootstrap=False, max_depth=90, min_samples_leaf=4, min_samples_split=10, n_estimators=5; total time=   0.2s\n",
      "[CV] END bootstrap=True, max_depth=30, min_samples_leaf=1, min_samples_split=2, n_estimators=5; total time=   0.2s\n",
      "[CV] END bootstrap=True, max_depth=120, min_samples_leaf=1, min_samples_split=6, n_estimators=51; total time=   1.7s\n",
      "[CV] END bootstrap=True, max_depth=60, min_samples_leaf=3, min_samples_split=6, n_estimators=51; total time=   1.7s\n",
      "[CV] END bootstrap=False, max_depth=10, min_samples_leaf=1, min_samples_split=6, n_estimators=5; total time=   0.2s\n",
      "[CV] END bootstrap=False, max_depth=10, min_samples_leaf=1, min_samples_split=6, n_estimators=5; total time=   0.2s\n",
      "[CV] END bootstrap=True, max_depth=50, min_samples_leaf=4, min_samples_split=6, n_estimators=51; total time=   1.7s\n",
      "[CV] END bootstrap=False, max_depth=70, min_samples_leaf=3, min_samples_split=6, n_estimators=101; total time=   4.5s\n",
      "[CV] END bootstrap=True, max_depth=120, min_samples_leaf=3, min_samples_split=6, n_estimators=101; total time=   3.3s\n",
      "[CV] END bootstrap=False, max_depth=120, min_samples_leaf=4, min_samples_split=6, n_estimators=51; total time=   2.4s\n",
      "[CV] END bootstrap=False, max_depth=30, min_samples_leaf=4, min_samples_split=10, n_estimators=5; total time=   0.3s\n",
      "[CV] END bootstrap=True, max_depth=100, min_samples_leaf=3, min_samples_split=2, n_estimators=5; total time=   0.2s\n",
      "[CV] END bootstrap=False, max_depth=40, min_samples_leaf=1, min_samples_split=10, n_estimators=51; total time=   2.8s\n",
      "[CV] END bootstrap=True, max_depth=30, min_samples_leaf=4, min_samples_split=6, n_estimators=21; total time=   0.7s\n",
      "[CV] END bootstrap=True, max_depth=40, min_samples_leaf=4, min_samples_split=6, n_estimators=51; total time=   1.8s\n",
      "[CV] END bootstrap=True, max_depth=70, min_samples_leaf=3, min_samples_split=10, n_estimators=21; total time=   0.8s\n",
      "[CV] END bootstrap=True, max_depth=50, min_samples_leaf=4, min_samples_split=2, n_estimators=5; total time=   0.2s\n",
      "[CV] END bootstrap=False, max_depth=50, min_samples_leaf=3, min_samples_split=2, n_estimators=21; total time=   0.9s\n",
      "[CV] END bootstrap=False, max_depth=100, min_samples_leaf=1, min_samples_split=6, n_estimators=101; total time=   4.9s\n",
      "[CV] END bootstrap=True, max_depth=100, min_samples_leaf=4, min_samples_split=10, n_estimators=101; total time=   3.3s\n",
      "[CV] END bootstrap=True, max_depth=100, min_samples_leaf=4, min_samples_split=6, n_estimators=21; total time=   0.7s\n",
      "[CV] END bootstrap=False, max_depth=70, min_samples_leaf=4, min_samples_split=10, n_estimators=5; total time=   0.2s\n",
      "[CV] END bootstrap=False, max_depth=70, min_samples_leaf=4, min_samples_split=10, n_estimators=5; total time=   0.2s\n",
      "[CV] END bootstrap=False, max_depth=60, min_samples_leaf=4, min_samples_split=10, n_estimators=21; total time=   1.0s\n",
      "[CV] END bootstrap=False, max_depth=60, min_samples_leaf=3, min_samples_split=6, n_estimators=5; total time=   0.2s\n",
      "[CV] END bootstrap=False, max_depth=120, min_samples_leaf=1, min_samples_split=10, n_estimators=5; total time=   0.3s\n",
      "[CV] END bootstrap=True, max_depth=70, min_samples_leaf=4, min_samples_split=2, n_estimators=21; total time=   0.7s\n",
      "[CV] END bootstrap=True, max_depth=60, min_samples_leaf=1, min_samples_split=6, n_estimators=21; total time=   0.8s\n",
      "[CV] END bootstrap=False, max_depth=100, min_samples_leaf=4, min_samples_split=6, n_estimators=101; total time=   4.5s\n",
      "[CV] END bootstrap=True, max_depth=50, min_samples_leaf=3, min_samples_split=10, n_estimators=21; total time=   0.6s\n",
      "[CV] END bootstrap=False, max_depth=20, min_samples_leaf=1, min_samples_split=10, n_estimators=101; total time=   4.6s\n",
      "[CV] END bootstrap=False, max_depth=110, min_samples_leaf=3, min_samples_split=10, n_estimators=51; total time=   2.2s\n",
      "[CV] END bootstrap=True, max_depth=40, min_samples_leaf=3, min_samples_split=6, n_estimators=5; total time=   0.2s\n",
      "[CV] END bootstrap=False, max_depth=110, min_samples_leaf=1, min_samples_split=2, n_estimators=5; total time=   0.3s\n",
      "[CV] END bootstrap=True, max_depth=110, min_samples_leaf=3, min_samples_split=6, n_estimators=101; total time=   3.5s\n",
      "[CV] END bootstrap=False, max_depth=20, min_samples_leaf=1, min_samples_split=6, n_estimators=21; total time=   1.1s\n",
      "[CV] END bootstrap=True, max_depth=70, min_samples_leaf=3, min_samples_split=10, n_estimators=101; total time=   3.5s\n",
      "[CV] END bootstrap=False, max_depth=30, min_samples_leaf=3, min_samples_split=6, n_estimators=101; total time=   5.0s\n",
      "[CV] END bootstrap=False, max_depth=90, min_samples_leaf=3, min_samples_split=10, n_estimators=21; total time=   1.0s\n",
      "[CV] END bootstrap=True, max_depth=70, min_samples_leaf=1, min_samples_split=10, n_estimators=5; total time=   0.2s\n",
      "[CV] END bootstrap=False, max_depth=40, min_samples_leaf=1, min_samples_split=2, n_estimators=101; total time=   5.2s\n",
      "[CV] END bootstrap=False, max_depth=120, min_samples_leaf=1, min_samples_split=6, n_estimators=101; total time=   5.1s\n",
      "[CV] END bootstrap=True, max_depth=30, min_samples_leaf=1, min_samples_split=6, n_estimators=21; total time=   0.7s\n",
      "[CV] END bootstrap=True, max_depth=30, min_samples_leaf=1, min_samples_split=6, n_estimators=21; total time=   0.8s\n",
      "[CV] END bootstrap=False, max_depth=30, min_samples_leaf=4, min_samples_split=10, n_estimators=101; total time=   4.3s\n",
      "[CV] END bootstrap=True, max_depth=50, min_samples_leaf=3, min_samples_split=6, n_estimators=21; total time=   0.7s\n",
      "[CV] END bootstrap=False, max_depth=110, min_samples_leaf=4, min_samples_split=2, n_estimators=5; total time=   0.3s\n",
      "[CV] END bootstrap=True, max_depth=120, min_samples_leaf=4, min_samples_split=2, n_estimators=21; total time=   0.7s\n",
      "[CV] END bootstrap=True, max_depth=30, min_samples_leaf=1, min_samples_split=2, n_estimators=5; total time=   0.2s\n",
      "[CV] END bootstrap=True, max_depth=120, min_samples_leaf=1, min_samples_split=6, n_estimators=51; total time=   1.7s\n",
      "[CV] END bootstrap=True, max_depth=60, min_samples_leaf=3, min_samples_split=6, n_estimators=51; total time=   1.6s\n",
      "[CV] END bootstrap=True, max_depth=30, min_samples_leaf=1, min_samples_split=6, n_estimators=51; total time=   1.8s\n",
      "[CV] END bootstrap=False, max_depth=70, min_samples_leaf=4, min_samples_split=2, n_estimators=101; total time=   4.4s\n",
      "[CV] END bootstrap=False, max_depth=120, min_samples_leaf=3, min_samples_split=2, n_estimators=51; total time=   2.3s\n",
      "[CV] END bootstrap=True, max_depth=120, min_samples_leaf=3, min_samples_split=2, n_estimators=21; total time=   0.7s\n",
      "[CV] END bootstrap=False, max_depth=80, min_samples_leaf=4, min_samples_split=2, n_estimators=51; total time=   2.3s\n",
      "[CV] END bootstrap=True, max_depth=80, min_samples_leaf=3, min_samples_split=6, n_estimators=21; total time=   0.7s\n",
      "[CV] END bootstrap=True, max_depth=90, min_samples_leaf=4, min_samples_split=2, n_estimators=101; total time=   3.5s\n",
      "[CV] END bootstrap=True, max_depth=30, min_samples_leaf=4, min_samples_split=6, n_estimators=21; total time=   0.7s\n",
      "[CV] END bootstrap=True, max_depth=40, min_samples_leaf=4, min_samples_split=6, n_estimators=51; total time=   1.6s\n",
      "[CV] END bootstrap=True, max_depth=70, min_samples_leaf=3, min_samples_split=10, n_estimators=21; total time=   0.7s\n",
      "[CV] END bootstrap=True, max_depth=50, min_samples_leaf=4, min_samples_split=2, n_estimators=5; total time=   0.2s\n",
      "[CV] END bootstrap=False, max_depth=50, min_samples_leaf=3, min_samples_split=2, n_estimators=21; total time=   1.0s\n",
      "[CV] END bootstrap=False, max_depth=100, min_samples_leaf=1, min_samples_split=6, n_estimators=101; total time=   5.0s\n",
      "[CV] END bootstrap=True, max_depth=100, min_samples_leaf=4, min_samples_split=10, n_estimators=101; total time=   3.1s\n",
      "[CV] END bootstrap=True, max_depth=40, min_samples_leaf=3, min_samples_split=10, n_estimators=21; total time=   0.7s\n",
      "[CV] END bootstrap=True, max_depth=100, min_samples_leaf=4, min_samples_split=6, n_estimators=21; total time=   0.7s\n",
      "[CV] END bootstrap=True, max_depth=20, min_samples_leaf=3, min_samples_split=2, n_estimators=21; total time=   0.8s\n",
      "[CV] END bootstrap=False, max_depth=10, min_samples_leaf=1, min_samples_split=2, n_estimators=21; total time=   0.7s\n",
      "[CV] END bootstrap=True, max_depth=120, min_samples_leaf=3, min_samples_split=10, n_estimators=51; total time=   1.7s\n",
      "[CV] END bootstrap=False, max_depth=110, min_samples_leaf=3, min_samples_split=2, n_estimators=21; total time=   1.0s\n",
      "[CV] END bootstrap=True, max_depth=80, min_samples_leaf=1, min_samples_split=6, n_estimators=101; total time=   3.4s\n",
      "[CV] END bootstrap=True, max_depth=50, min_samples_leaf=3, min_samples_split=10, n_estimators=21; total time=   0.8s\n",
      "[CV] END bootstrap=False, max_depth=20, min_samples_leaf=1, min_samples_split=10, n_estimators=101; total time=   4.9s\n",
      "[CV] END bootstrap=False, max_depth=80, min_samples_leaf=4, min_samples_split=2, n_estimators=21; total time=   0.9s\n",
      "[CV] END bootstrap=False, max_depth=120, min_samples_leaf=4, min_samples_split=10, n_estimators=5; total time=   0.3s\n",
      "[CV] END bootstrap=False, max_depth=120, min_samples_leaf=4, min_samples_split=10, n_estimators=5; total time=   0.2s\n",
      "[CV] END bootstrap=False, max_depth=110, min_samples_leaf=1, min_samples_split=2, n_estimators=5; total time=   0.3s\n",
      "[CV] END bootstrap=True, max_depth=110, min_samples_leaf=3, min_samples_split=6, n_estimators=101; total time=   3.5s\n",
      "[CV] END bootstrap=False, max_depth=30, min_samples_leaf=3, min_samples_split=2, n_estimators=51; total time=   2.4s\n",
      "[CV] END bootstrap=False, max_depth=90, min_samples_leaf=3, min_samples_split=6, n_estimators=51; total time=   2.5s\n",
      "[CV] END bootstrap=False, max_depth=120, min_samples_leaf=3, min_samples_split=2, n_estimators=21; total time=   1.0s\n",
      "[CV] END bootstrap=True, max_depth=100, min_samples_leaf=1, min_samples_split=2, n_estimators=5; total time=   0.2s\n",
      "[CV] END bootstrap=True, max_depth=100, min_samples_leaf=1, min_samples_split=2, n_estimators=5; total time=   0.2s\n",
      "[CV] END bootstrap=True, max_depth=70, min_samples_leaf=1, min_samples_split=2, n_estimators=21; total time=   0.9s\n",
      "[CV] END bootstrap=False, max_depth=60, min_samples_leaf=1, min_samples_split=2, n_estimators=21; total time=   1.1s\n",
      "[CV] END bootstrap=True, max_depth=20, min_samples_leaf=1, min_samples_split=2, n_estimators=5; total time=   0.2s\n",
      "[CV] END bootstrap=True, max_depth=80, min_samples_leaf=4, min_samples_split=2, n_estimators=51; total time=   1.7s\n",
      "[CV] END bootstrap=True, max_depth=80, min_samples_leaf=3, min_samples_split=10, n_estimators=21; total time=   0.7s\n",
      "[CV] END bootstrap=True, max_depth=60, min_samples_leaf=3, min_samples_split=10, n_estimators=51; total time=   1.7s\n",
      "[CV] END bootstrap=True, max_depth=40, min_samples_leaf=4, min_samples_split=6, n_estimators=101; total time=   3.6s\n",
      "[CV] END bootstrap=True, max_depth=40, min_samples_leaf=1, min_samples_split=6, n_estimators=51; total time=   1.9s\n",
      "[CV] END bootstrap=True, max_depth=100, min_samples_leaf=4, min_samples_split=10, n_estimators=21; total time=   0.7s\n",
      "[CV] END bootstrap=True, max_depth=20, min_samples_leaf=1, min_samples_split=2, n_estimators=101; total time=   3.4s\n",
      "[CV] END bootstrap=True, max_depth=10, min_samples_leaf=1, min_samples_split=6, n_estimators=51; total time=   1.2s\n",
      "[CV] END bootstrap=True, max_depth=30, min_samples_leaf=4, min_samples_split=10, n_estimators=51; total time=   1.8s\n",
      "[CV] END bootstrap=False, max_depth=80, min_samples_leaf=1, min_samples_split=6, n_estimators=21; total time=   1.1s\n",
      "[CV] END bootstrap=False, max_depth=10, min_samples_leaf=1, min_samples_split=10, n_estimators=5; total time=   0.2s\n",
      "[CV] END bootstrap=True, max_depth=50, min_samples_leaf=3, min_samples_split=6, n_estimators=21; total time=   0.7s\n",
      "[CV] END bootstrap=False, max_depth=100, min_samples_leaf=1, min_samples_split=6, n_estimators=5; total time=   0.2s\n",
      "[CV] END bootstrap=False, max_depth=50, min_samples_leaf=1, min_samples_split=10, n_estimators=21; total time=   1.0s\n",
      "[CV] END bootstrap=True, max_depth=30, min_samples_leaf=1, min_samples_split=2, n_estimators=5; total time=   0.2s\n",
      "[CV] END bootstrap=True, max_depth=10, min_samples_leaf=3, min_samples_split=6, n_estimators=21; total time=   0.5s\n",
      "[CV] END bootstrap=False, max_depth=110, min_samples_leaf=1, min_samples_split=2, n_estimators=51; total time=   2.5s\n",
      "[CV] END bootstrap=True, max_depth=120, min_samples_leaf=1, min_samples_split=6, n_estimators=21; total time=   0.7s\n",
      "[CV] END bootstrap=False, max_depth=10, min_samples_leaf=1, min_samples_split=6, n_estimators=5; total time=   0.2s\n",
      "[CV] END bootstrap=True, max_depth=50, min_samples_leaf=4, min_samples_split=6, n_estimators=51; total time=   1.6s\n",
      "[CV] END bootstrap=False, max_depth=70, min_samples_leaf=3, min_samples_split=6, n_estimators=101; total time=   4.6s\n",
      "[CV] END bootstrap=True, max_depth=120, min_samples_leaf=3, min_samples_split=6, n_estimators=101; total time=   3.2s\n",
      "[CV] END bootstrap=False, max_depth=120, min_samples_leaf=4, min_samples_split=6, n_estimators=51; total time=   2.5s\n",
      "[CV] END bootstrap=False, max_depth=30, min_samples_leaf=4, min_samples_split=10, n_estimators=5; total time=   0.2s\n",
      "[CV] END bootstrap=True, max_depth=100, min_samples_leaf=3, min_samples_split=2, n_estimators=5; total time=   0.2s\n",
      "[CV] END bootstrap=False, max_depth=40, min_samples_leaf=1, min_samples_split=10, n_estimators=51; total time=   2.5s\n",
      "[CV] END bootstrap=False, max_depth=50, min_samples_leaf=3, min_samples_split=6, n_estimators=51; total time=   2.5s\n",
      "[CV] END bootstrap=False, max_depth=120, min_samples_leaf=1, min_samples_split=6, n_estimators=51; total time=   2.6s\n",
      "[CV] END bootstrap=True, max_depth=30, min_samples_leaf=1, min_samples_split=10, n_estimators=5; total time=   0.2s\n",
      "[CV] END bootstrap=True, max_depth=110, min_samples_leaf=4, min_samples_split=6, n_estimators=21; total time=   0.7s\n",
      "[CV] END bootstrap=True, max_depth=60, min_samples_leaf=3, min_samples_split=6, n_estimators=5; total time=   0.2s\n",
      "[CV] END bootstrap=True, max_depth=60, min_samples_leaf=3, min_samples_split=6, n_estimators=5; total time=   0.2s\n",
      "[CV] END bootstrap=False, max_depth=120, min_samples_leaf=3, min_samples_split=6, n_estimators=101; total time=   4.7s\n",
      "[CV] END bootstrap=False, max_depth=10, min_samples_leaf=4, min_samples_split=6, n_estimators=5; total time=   0.2s\n",
      "[CV] END bootstrap=True, max_depth=120, min_samples_leaf=3, min_samples_split=2, n_estimators=101; total time=   3.4s\n",
      "[CV] END bootstrap=True, max_depth=20, min_samples_leaf=3, min_samples_split=2, n_estimators=21; total time=   0.7s\n",
      "[CV] END bootstrap=False, max_depth=10, min_samples_leaf=1, min_samples_split=2, n_estimators=21; total time=   0.7s\n",
      "[CV] END bootstrap=True, max_depth=120, min_samples_leaf=3, min_samples_split=10, n_estimators=51; total time=   1.7s\n",
      "[CV] END bootstrap=False, max_depth=110, min_samples_leaf=3, min_samples_split=2, n_estimators=21; total time=   0.9s\n",
      "[CV] END bootstrap=True, max_depth=80, min_samples_leaf=1, min_samples_split=6, n_estimators=101; total time=   3.4s\n",
      "[CV] END bootstrap=True, max_depth=50, min_samples_leaf=3, min_samples_split=10, n_estimators=21; total time=   0.7s\n",
      "[CV] END bootstrap=False, max_depth=20, min_samples_leaf=1, min_samples_split=10, n_estimators=101; total time=   4.9s\n",
      "[CV] END bootstrap=False, max_depth=110, min_samples_leaf=3, min_samples_split=10, n_estimators=51; total time=   2.3s\n",
      "[CV] END bootstrap=True, max_depth=100, min_samples_leaf=4, min_samples_split=2, n_estimators=101; total time=   3.5s\n",
      "[CV] END bootstrap=False, max_depth=20, min_samples_leaf=1, min_samples_split=6, n_estimators=21; total time=   1.0s\n",
      "[CV] END bootstrap=True, max_depth=70, min_samples_leaf=3, min_samples_split=10, n_estimators=101; total time=   3.4s\n",
      "[CV] END bootstrap=False, max_depth=30, min_samples_leaf=3, min_samples_split=6, n_estimators=101; total time=   4.9s\n",
      "[CV] END bootstrap=True, max_depth=40, min_samples_leaf=3, min_samples_split=10, n_estimators=5; total time=   0.2s\n",
      "[CV] END bootstrap=False, max_depth=90, min_samples_leaf=3, min_samples_split=10, n_estimators=21; total time=   0.9s\n",
      "[CV] END bootstrap=False, max_depth=40, min_samples_leaf=1, min_samples_split=2, n_estimators=101; total time=   4.5s\n",
      "[CV] END bootstrap=False, max_depth=120, min_samples_leaf=1, min_samples_split=6, n_estimators=101; total time=   4.5s\n",
      "[CV] END bootstrap=False, max_depth=100, min_samples_leaf=1, min_samples_split=2, n_estimators=21; total time=   1.0s\n",
      "[CV] END bootstrap=False, max_depth=100, min_samples_leaf=1, min_samples_split=2, n_estimators=21; total time=   1.1s\n",
      "[CV] END bootstrap=True, max_depth=30, min_samples_leaf=1, min_samples_split=6, n_estimators=21; total time=   0.8s\n",
      "[CV] END bootstrap=False, max_depth=30, min_samples_leaf=4, min_samples_split=10, n_estimators=101; total time=   4.7s\n",
      "[CV] END bootstrap=True, max_depth=90, min_samples_leaf=3, min_samples_split=6, n_estimators=5; total time=   0.2s\n",
      "[CV] END bootstrap=False, max_depth=100, min_samples_leaf=1, min_samples_split=6, n_estimators=5; total time=   0.2s\n",
      "[CV] END bootstrap=False, max_depth=110, min_samples_leaf=4, min_samples_split=2, n_estimators=5; total time=   0.3s\n",
      "[CV] END bootstrap=True, max_depth=120, min_samples_leaf=4, min_samples_split=2, n_estimators=21; total time=   0.7s\n",
      "[CV] END bootstrap=False, max_depth=90, min_samples_leaf=4, min_samples_split=10, n_estimators=5; total time=   0.2s\n",
      "[CV] END bootstrap=True, max_depth=10, min_samples_leaf=3, min_samples_split=6, n_estimators=21; total time=   0.5s\n",
      "[CV] END bootstrap=False, max_depth=110, min_samples_leaf=1, min_samples_split=2, n_estimators=51; total time=   2.6s\n",
      "[CV] END bootstrap=True, max_depth=30, min_samples_leaf=1, min_samples_split=6, n_estimators=51; total time=   1.6s\n",
      "[CV] END bootstrap=False, max_depth=70, min_samples_leaf=4, min_samples_split=2, n_estimators=101; total time=   4.1s\n",
      "[CV] END bootstrap=True, max_depth=20, min_samples_leaf=1, min_samples_split=6, n_estimators=5; total time=   0.2s\n",
      "[CV] END bootstrap=True, max_depth=20, min_samples_leaf=1, min_samples_split=6, n_estimators=5; total time=   0.2s\n",
      "[CV] END bootstrap=True, max_depth=20, min_samples_leaf=1, min_samples_split=6, n_estimators=5; total time=   0.2s\n",
      "[CV] END bootstrap=True, max_depth=20, min_samples_leaf=1, min_samples_split=6, n_estimators=5; total time=   0.2s\n",
      "[CV] END bootstrap=True, max_depth=120, min_samples_leaf=3, min_samples_split=6, n_estimators=101; total time=   3.1s\n",
      "[CV] END bootstrap=False, max_depth=80, min_samples_leaf=4, min_samples_split=2, n_estimators=51; total time=   2.4s\n",
      "[CV] END bootstrap=True, max_depth=80, min_samples_leaf=3, min_samples_split=6, n_estimators=21; total time=   0.7s\n",
      "[CV] END bootstrap=False, max_depth=30, min_samples_leaf=4, min_samples_split=10, n_estimators=5; total time=   0.3s\n",
      "[CV] END bootstrap=True, max_depth=100, min_samples_leaf=3, min_samples_split=2, n_estimators=5; total time=   0.2s\n",
      "[CV] END bootstrap=False, max_depth=40, min_samples_leaf=1, min_samples_split=10, n_estimators=51; total time=   2.7s\n",
      "[CV] END bootstrap=True, max_depth=30, min_samples_leaf=4, min_samples_split=6, n_estimators=21; total time=   0.7s\n",
      "[CV] END bootstrap=True, max_depth=40, min_samples_leaf=4, min_samples_split=6, n_estimators=51; total time=   1.7s\n",
      "[CV] END bootstrap=True, max_depth=70, min_samples_leaf=3, min_samples_split=10, n_estimators=21; total time=   0.7s\n",
      "[CV] END bootstrap=True, max_depth=50, min_samples_leaf=4, min_samples_split=2, n_estimators=5; total time=   0.2s\n",
      "[CV] END bootstrap=False, max_depth=50, min_samples_leaf=3, min_samples_split=2, n_estimators=21; total time=   1.0s\n",
      "[CV] END bootstrap=False, max_depth=100, min_samples_leaf=1, min_samples_split=6, n_estimators=101; total time=   4.9s\n",
      "[CV] END bootstrap=True, max_depth=100, min_samples_leaf=4, min_samples_split=10, n_estimators=101; total time=   3.1s\n",
      "[CV] END bootstrap=True, max_depth=40, min_samples_leaf=3, min_samples_split=10, n_estimators=21; total time=   0.6s\n",
      "[CV] END bootstrap=True, max_depth=100, min_samples_leaf=4, min_samples_split=6, n_estimators=21; total time=   0.7s\n",
      "[CV] END bootstrap=False, max_depth=70, min_samples_leaf=4, min_samples_split=10, n_estimators=5; total time=   0.2s\n",
      "[CV] END bootstrap=True, max_depth=20, min_samples_leaf=3, min_samples_split=2, n_estimators=21; total time=   0.7s\n",
      "[CV] END bootstrap=False, max_depth=60, min_samples_leaf=3, min_samples_split=6, n_estimators=5; total time=   0.2s\n",
      "[CV] END bootstrap=False, max_depth=120, min_samples_leaf=1, min_samples_split=10, n_estimators=5; total time=   0.3s\n",
      "[CV] END bootstrap=True, max_depth=70, min_samples_leaf=4, min_samples_split=2, n_estimators=21; total time=   0.7s\n",
      "[CV] END bootstrap=True, max_depth=60, min_samples_leaf=1, min_samples_split=6, n_estimators=21; total time=   0.7s\n",
      "[CV] END bootstrap=False, max_depth=100, min_samples_leaf=4, min_samples_split=6, n_estimators=101; total time=   4.6s\n",
      "[CV] END bootstrap=True, max_depth=50, min_samples_leaf=4, min_samples_split=2, n_estimators=21; total time=   0.7s\n",
      "[CV] END bootstrap=True, max_depth=60, min_samples_leaf=4, min_samples_split=10, n_estimators=51; total time=   1.7s\n",
      "[CV] END bootstrap=True, max_depth=100, min_samples_leaf=1, min_samples_split=2, n_estimators=101; total time=   3.8s\n",
      "[CV] END bootstrap=False, max_depth=80, min_samples_leaf=4, min_samples_split=2, n_estimators=21; total time=   1.0s\n",
      "[CV] END bootstrap=False, max_depth=120, min_samples_leaf=4, min_samples_split=10, n_estimators=5; total time=   0.2s\n",
      "[CV] END bootstrap=True, max_depth=110, min_samples_leaf=3, min_samples_split=6, n_estimators=101; total time=   3.3s\n",
      "[CV] END bootstrap=False, max_depth=30, min_samples_leaf=3, min_samples_split=2, n_estimators=51; total time=   2.2s\n",
      "[CV] END bootstrap=False, max_depth=90, min_samples_leaf=3, min_samples_split=6, n_estimators=51; total time=   2.4s\n",
      "[CV] END bootstrap=False, max_depth=30, min_samples_leaf=3, min_samples_split=6, n_estimators=101; total time=   4.6s\n",
      "[CV] END bootstrap=True, max_depth=40, min_samples_leaf=3, min_samples_split=10, n_estimators=5; total time=   0.2s\n",
      "[CV] END bootstrap=True, max_depth=40, min_samples_leaf=3, min_samples_split=10, n_estimators=5; total time=   0.2s\n",
      "[CV] END bootstrap=True, max_depth=40, min_samples_leaf=3, min_samples_split=10, n_estimators=5; total time=   0.2s\n",
      "[CV] END bootstrap=False, max_depth=90, min_samples_leaf=3, min_samples_split=10, n_estimators=21; total time=   1.0s\n",
      "[CV] END bootstrap=True, max_depth=70, min_samples_leaf=1, min_samples_split=10, n_estimators=5; total time=   0.2s\n",
      "[CV] END bootstrap=False, max_depth=40, min_samples_leaf=1, min_samples_split=2, n_estimators=101; total time=   5.3s\n",
      "[CV] END bootstrap=True, max_depth=40, min_samples_leaf=1, min_samples_split=6, n_estimators=51; total time=   1.9s\n",
      "[CV] END bootstrap=True, max_depth=100, min_samples_leaf=4, min_samples_split=10, n_estimators=21; total time=   0.7s\n",
      "[CV] END bootstrap=True, max_depth=100, min_samples_leaf=3, min_samples_split=10, n_estimators=5; total time=   0.2s\n",
      "[CV] END bootstrap=True, max_depth=20, min_samples_leaf=1, min_samples_split=2, n_estimators=101; total time=   3.6s\n",
      "[CV] END bootstrap=False, max_depth=30, min_samples_leaf=4, min_samples_split=10, n_estimators=101; total time=   4.8s\n",
      "[CV] END bootstrap=False, max_depth=100, min_samples_leaf=1, min_samples_split=6, n_estimators=5; total time=   0.2s\n",
      "[CV] END bootstrap=False, max_depth=50, min_samples_leaf=1, min_samples_split=10, n_estimators=21; total time=   1.1s\n",
      "[CV] END bootstrap=False, max_depth=90, min_samples_leaf=4, min_samples_split=10, n_estimators=5; total time=   0.2s\n",
      "[CV] END bootstrap=True, max_depth=10, min_samples_leaf=3, min_samples_split=6, n_estimators=21; total time=   0.5s\n",
      "[CV] END bootstrap=False, max_depth=110, min_samples_leaf=1, min_samples_split=2, n_estimators=51; total time=   2.3s\n",
      "[CV] END bootstrap=True, max_depth=120, min_samples_leaf=1, min_samples_split=6, n_estimators=21; total time=   0.7s\n",
      "[CV] END bootstrap=True, max_depth=30, min_samples_leaf=1, min_samples_split=6, n_estimators=51; total time=   1.7s\n",
      "[CV] END bootstrap=False, max_depth=70, min_samples_leaf=4, min_samples_split=2, n_estimators=101; total time=   4.6s\n",
      "[CV] END bootstrap=False, max_depth=120, min_samples_leaf=3, min_samples_split=2, n_estimators=51; total time=   2.1s\n",
      "[CV] END bootstrap=True, max_depth=120, min_samples_leaf=3, min_samples_split=2, n_estimators=21; total time=   0.6s\n",
      "[CV] END bootstrap=False, max_depth=80, min_samples_leaf=4, min_samples_split=2, n_estimators=51; total time=   2.2s\n",
      "[CV] END bootstrap=True, max_depth=80, min_samples_leaf=3, min_samples_split=6, n_estimators=21; total time=   0.7s\n",
      "[CV] END bootstrap=True, max_depth=90, min_samples_leaf=4, min_samples_split=2, n_estimators=101; total time=   3.5s\n",
      "[CV] END bootstrap=False, max_depth=50, min_samples_leaf=3, min_samples_split=6, n_estimators=51; total time=   2.6s\n",
      "[CV] END bootstrap=False, max_depth=120, min_samples_leaf=1, min_samples_split=6, n_estimators=51; total time=   2.6s\n",
      "[CV] END bootstrap=True, max_depth=30, min_samples_leaf=1, min_samples_split=10, n_estimators=5; total time=   0.2s\n",
      "[CV] END bootstrap=True, max_depth=110, min_samples_leaf=4, min_samples_split=6, n_estimators=21; total time=   0.8s\n",
      "[CV] END bootstrap=True, max_depth=60, min_samples_leaf=3, min_samples_split=6, n_estimators=5; total time=   0.2s\n",
      "[CV] END bootstrap=False, max_depth=120, min_samples_leaf=3, min_samples_split=6, n_estimators=101; total time=   4.8s\n",
      "[CV] END bootstrap=True, max_depth=120, min_samples_leaf=3, min_samples_split=2, n_estimators=101; total time=   3.2s\n",
      "[CV] END bootstrap=False, max_depth=60, min_samples_leaf=4, min_samples_split=10, n_estimators=21; total time=   1.0s\n",
      "[CV] END bootstrap=False, max_depth=10, min_samples_leaf=1, min_samples_split=2, n_estimators=21; total time=   0.6s\n",
      "[CV] END bootstrap=True, max_depth=120, min_samples_leaf=3, min_samples_split=10, n_estimators=51; total time=   1.5s\n",
      "[CV] END bootstrap=False, max_depth=110, min_samples_leaf=3, min_samples_split=2, n_estimators=21; total time=   0.9s\n",
      "[CV] END bootstrap=True, max_depth=80, min_samples_leaf=1, min_samples_split=6, n_estimators=101; total time=   3.3s\n",
      "[CV] END bootstrap=True, max_depth=50, min_samples_leaf=4, min_samples_split=2, n_estimators=21; total time=   0.8s\n",
      "[CV] END bootstrap=True, max_depth=60, min_samples_leaf=4, min_samples_split=10, n_estimators=51; total time=   1.8s\n",
      "[CV] END bootstrap=True, max_depth=100, min_samples_leaf=1, min_samples_split=2, n_estimators=101; total time=   3.8s\n",
      "[CV] END bootstrap=False, max_depth=80, min_samples_leaf=4, min_samples_split=2, n_estimators=21; total time=   1.1s\n",
      "[CV] END bootstrap=True, max_depth=40, min_samples_leaf=3, min_samples_split=6, n_estimators=5; total time=   0.2s\n",
      "[CV] END bootstrap=True, max_depth=40, min_samples_leaf=3, min_samples_split=6, n_estimators=5; total time=   0.2s\n",
      "[CV] END bootstrap=False, max_depth=110, min_samples_leaf=1, min_samples_split=2, n_estimators=5; total time=   0.2s\n",
      "[CV] END bootstrap=True, max_depth=100, min_samples_leaf=4, min_samples_split=2, n_estimators=101; total time=   3.4s\n",
      "[CV] END bootstrap=False, max_depth=20, min_samples_leaf=1, min_samples_split=6, n_estimators=21; total time=   1.0s\n",
      "[CV] END bootstrap=True, max_depth=70, min_samples_leaf=3, min_samples_split=10, n_estimators=101; total time=   3.6s\n",
      "[CV] END bootstrap=False, max_depth=30, min_samples_leaf=3, min_samples_split=6, n_estimators=101; total time=   4.8s\n",
      "[CV] END bootstrap=False, max_depth=90, min_samples_leaf=3, min_samples_split=10, n_estimators=21; total time=   1.0s\n",
      "[CV] END bootstrap=False, max_depth=40, min_samples_leaf=1, min_samples_split=2, n_estimators=101; total time=   5.2s\n",
      "[CV] END bootstrap=False, max_depth=120, min_samples_leaf=1, min_samples_split=6, n_estimators=101; total time=   5.0s\n",
      "[CV] END bootstrap=False, max_depth=100, min_samples_leaf=1, min_samples_split=2, n_estimators=21; total time=   1.1s\n",
      "[CV] END bootstrap=True, max_depth=30, min_samples_leaf=1, min_samples_split=6, n_estimators=21; total time=   0.8s\n",
      "[CV] END bootstrap=False, max_depth=30, min_samples_leaf=4, min_samples_split=10, n_estimators=101; total time=   4.7s\n",
      "[CV] END bootstrap=True, max_depth=90, min_samples_leaf=3, min_samples_split=6, n_estimators=5; total time=   0.2s\n",
      "[CV] END bootstrap=False, max_depth=100, min_samples_leaf=1, min_samples_split=6, n_estimators=5; total time=   0.2s\n",
      "[CV] END bootstrap=False, max_depth=110, min_samples_leaf=4, min_samples_split=2, n_estimators=5; total time=   0.2s\n",
      "[CV] END bootstrap=True, max_depth=120, min_samples_leaf=4, min_samples_split=2, n_estimators=21; total time=   0.7s\n",
      "[CV] END bootstrap=True, max_depth=30, min_samples_leaf=1, min_samples_split=2, n_estimators=5; total time=   0.2s\n",
      "[CV] END bootstrap=True, max_depth=120, min_samples_leaf=1, min_samples_split=6, n_estimators=51; total time=   1.8s\n",
      "[CV] END bootstrap=True, max_depth=60, min_samples_leaf=3, min_samples_split=6, n_estimators=51; total time=   1.6s\n",
      "[CV] END bootstrap=True, max_depth=30, min_samples_leaf=1, min_samples_split=6, n_estimators=51; total time=   1.8s\n",
      "[CV] END bootstrap=False, max_depth=70, min_samples_leaf=4, min_samples_split=2, n_estimators=101; total time=   4.4s\n",
      "[CV] END bootstrap=False, max_depth=120, min_samples_leaf=3, min_samples_split=2, n_estimators=51; total time=   2.4s\n",
      "[CV] END bootstrap=True, max_depth=120, min_samples_leaf=3, min_samples_split=2, n_estimators=21; total time=   0.7s\n",
      "[CV] END bootstrap=False, max_depth=80, min_samples_leaf=4, min_samples_split=2, n_estimators=51; total time=   2.5s\n",
      "[CV] END bootstrap=True, max_depth=90, min_samples_leaf=4, min_samples_split=2, n_estimators=101; total time=   3.3s\n",
      "[CV] END bootstrap=False, max_depth=50, min_samples_leaf=3, min_samples_split=6, n_estimators=51; total time=   2.4s\n",
      "[CV] END bootstrap=False, max_depth=120, min_samples_leaf=1, min_samples_split=6, n_estimators=51; total time=   2.2s\n",
      "[CV] END bootstrap=False, max_depth=100, min_samples_leaf=1, min_samples_split=6, n_estimators=101; total time=   4.4s\n",
      "[CV] END bootstrap=True, max_depth=100, min_samples_leaf=4, min_samples_split=10, n_estimators=101; total time=   3.1s\n",
      "[CV] END bootstrap=True, max_depth=40, min_samples_leaf=3, min_samples_split=10, n_estimators=21; total time=   0.7s\n",
      "[CV] END bootstrap=True, max_depth=40, min_samples_leaf=3, min_samples_split=10, n_estimators=21; total time=   0.7s\n",
      "[CV] END bootstrap=True, max_depth=100, min_samples_leaf=4, min_samples_split=6, n_estimators=21; total time=   0.7s\n",
      "[CV] END bootstrap=False, max_depth=70, min_samples_leaf=4, min_samples_split=10, n_estimators=5; total time=   0.3s\n",
      "[CV] END bootstrap=False, max_depth=60, min_samples_leaf=4, min_samples_split=10, n_estimators=21; total time=   0.9s\n",
      "[CV] END bootstrap=False, max_depth=60, min_samples_leaf=3, min_samples_split=6, n_estimators=5; total time=   0.2s\n",
      "[CV] END bootstrap=False, max_depth=120, min_samples_leaf=1, min_samples_split=10, n_estimators=5; total time=   0.2s\n",
      "[CV] END bootstrap=True, max_depth=70, min_samples_leaf=4, min_samples_split=2, n_estimators=21; total time=   0.6s\n",
      "[CV] END bootstrap=True, max_depth=60, min_samples_leaf=1, min_samples_split=6, n_estimators=21; total time=   0.7s\n",
      "[CV] END bootstrap=False, max_depth=100, min_samples_leaf=4, min_samples_split=6, n_estimators=101; total time=   4.3s\n",
      "[CV] END bootstrap=True, max_depth=50, min_samples_leaf=4, min_samples_split=2, n_estimators=21; total time=   0.7s\n",
      "[CV] END bootstrap=True, max_depth=50, min_samples_leaf=3, min_samples_split=10, n_estimators=21; total time=   0.7s\n",
      "[CV] END bootstrap=False, max_depth=20, min_samples_leaf=1, min_samples_split=10, n_estimators=101; total time=   5.0s\n",
      "[CV] END bootstrap=False, max_depth=110, min_samples_leaf=3, min_samples_split=10, n_estimators=51; total time=   2.4s\n",
      "[CV] END bootstrap=True, max_depth=100, min_samples_leaf=4, min_samples_split=2, n_estimators=101; total time=   3.4s\n",
      "[CV] END bootstrap=False, max_depth=20, min_samples_leaf=1, min_samples_split=6, n_estimators=21; total time=   1.1s\n",
      "[CV] END bootstrap=True, max_depth=70, min_samples_leaf=3, min_samples_split=10, n_estimators=101; total time=   3.6s\n",
      "[CV] END bootstrap=False, max_depth=120, min_samples_leaf=3, min_samples_split=2, n_estimators=21; total time=   1.0s\n",
      "[CV] END bootstrap=True, max_depth=100, min_samples_leaf=1, min_samples_split=2, n_estimators=5; total time=   0.2s\n",
      "[CV] END bootstrap=True, max_depth=70, min_samples_leaf=1, min_samples_split=2, n_estimators=21; total time=   0.8s\n",
      "[CV] END bootstrap=False, max_depth=60, min_samples_leaf=1, min_samples_split=2, n_estimators=21; total time=   1.1s\n",
      "[CV] END bootstrap=True, max_depth=20, min_samples_leaf=1, min_samples_split=2, n_estimators=5; total time=   0.2s\n",
      "[CV] END bootstrap=True, max_depth=80, min_samples_leaf=4, min_samples_split=2, n_estimators=51; total time=   1.7s\n",
      "[CV] END bootstrap=True, max_depth=80, min_samples_leaf=3, min_samples_split=10, n_estimators=21; total time=   0.7s\n",
      "[CV] END bootstrap=True, max_depth=60, min_samples_leaf=3, min_samples_split=10, n_estimators=51; total time=   1.8s\n",
      "[CV] END bootstrap=True, max_depth=40, min_samples_leaf=4, min_samples_split=6, n_estimators=101; total time=   3.3s\n",
      "[CV] END bootstrap=False, max_depth=120, min_samples_leaf=1, min_samples_split=6, n_estimators=101; total time=   5.0s\n",
      "[CV] END bootstrap=False, max_depth=100, min_samples_leaf=1, min_samples_split=2, n_estimators=21; total time=   1.1s\n",
      "[CV] END bootstrap=True, max_depth=10, min_samples_leaf=1, min_samples_split=6, n_estimators=51; total time=   1.2s\n",
      "[CV] END bootstrap=True, max_depth=30, min_samples_leaf=4, min_samples_split=10, n_estimators=51; total time=   1.7s\n",
      "[CV] END bootstrap=False, max_depth=80, min_samples_leaf=1, min_samples_split=6, n_estimators=21; total time=   1.0s\n",
      "[CV] END bootstrap=False, max_depth=10, min_samples_leaf=1, min_samples_split=10, n_estimators=5; total time=   0.2s\n",
      "[CV] END bootstrap=False, max_depth=10, min_samples_leaf=1, min_samples_split=10, n_estimators=5; total time=   0.2s\n",
      "[CV] END bootstrap=False, max_depth=10, min_samples_leaf=1, min_samples_split=10, n_estimators=5; total time=   0.2s\n",
      "[CV] END bootstrap=True, max_depth=50, min_samples_leaf=3, min_samples_split=6, n_estimators=21; total time=   0.7s\n",
      "[CV] END bootstrap=False, max_depth=100, min_samples_leaf=1, min_samples_split=6, n_estimators=5; total time=   0.2s\n"
     ]
    }
   ],
   "source": [
    "experiment_name = \"modelo_optimizado\"\n",
    "run_name=\"modelo_tuneado_con_randomsearchcv\"\n",
    "\n",
    "model_tuned, best_params = hyper_parameter_tuning(X_train, y_train)\n",
    "\n",
    "# Mostrar mejores párametros\n",
    "for param in best_params:\n",
    "    print(param, best_params[param])\n",
    "\n",
    "run_metrics = predict_evaluate(model, X_test, y_test)\n",
    "print(run_metrics)\n",
    "\n",
    "create_experiment(experiment_name, # Nombre del experimento\n",
    "                  run_name, # Nombre de la ejecución\n",
    "                  run_metrics, # Métricas obtenidas\n",
    "                  model_tuned, # Modelo ajustado\n",
    "                  'confusion_matrix.png', # Ruta a la imagen de la mátriz de confusión\n",
    "                  'roc_auc_curve.png', # Ruta a la imagen de la gráfica AUC\n",
    "                  run_params = best_params # Parametros encontrados con Random Search CV\n",
    "                 )"
   ]
  },
  {
   "cell_type": "markdown",
   "id": "7da88ce8",
   "metadata": {
    "id": "7da88ce8"
   },
   "source": [
    "## 4. Model Registry\n",
    "\n",
    "Si se desea utilizar la función Model Registry, necesitamos una base de datos que apoye el registro. Las opciones de base de datos son `oracle`, `mysql`, `postgresql`, `sqlite`. En esta sección veremos la configuración para `mysql` y `sqlite`, siendo esta última la mas facil de configurar.\n",
    "\n",
    "#### Usando MySQL\n",
    "\n",
    "1. Crear una base de datos nueva para MLflow.\n",
    "\n",
    "`CREATE DATABASE mlflow_tracking_database;`\n",
    "\n",
    "2. Inicilizar el servidor de tracking de MLflow utilizando la base de datos MySQL.\n",
    "` mlflow server \\\n",
    "   --backend-store-uri  mysql+pymysql://root@localhost/mlflow_tracking_database \\\n",
    "   --default-artifact-root  file:/./mlruns \\\n",
    "   -h 0.0.0.0 -p 8080`\n",
    "\n",
    "\n",
    "3. Establecer el URI de seguimiento de MLflow (dentro de la sección de código).\n",
    "\n",
    "  mlflow.set_tracking_uri(\"http://localhost:8080\")\n",
    "\n",
    "#### Usando SQLite\n",
    "\n",
    "1. Inicilizar el servidor de tracking de MLflow utilizando una base de datos SQLite.\n",
    "\n",
    "`mlflow server --backend-store-uri sqlite:///mlflow.db --default-artifact-root ./artifacts --host 0.0.0.0 --port 8080`\n",
    "\n",
    "\n",
    "2. Establecer el URI de seguimiento de MLflow (dentro de la sección de código).\n",
    "    \n",
    "    mlflow.set_tracking_uri(\"http://localhost:8080\")\n",
    "\n",
    "Ref. https://www.mlflow.org/docs/latest/model-registry.html#model-registry-workflows\n",
    "\n",
    "### 4.1 Agregar modelos a Model Registry: Método 1\n",
    "\n",
    "Ref.: https://www.mlflow.org/docs/latest/model-registry.html\n",
    "\n",
    "Hay tres formas para agregar un modelo al Model Registry con código. Primero, puede usar el método mlflow.`<model>.log_model()`. La siguiente función aplica esta estrategía:"
   ]
  },
  {
   "cell_type": "code",
   "execution_count": 15,
   "id": "a1dd2ead-a6b2-4c68-b875-8373b506df89",
   "metadata": {},
   "outputs": [],
   "source": [
    "# Set backend instead of store everything in files\n",
    "mlflow.set_tracking_uri(\"http://localhost:8080\")"
   ]
  },
  {
   "cell_type": "code",
   "execution_count": 17,
   "id": "564c9e7f",
   "metadata": {
    "id": "564c9e7f",
    "outputId": "c3f0a45a-b6c1-463e-c688-9c81dc20817a"
   },
   "outputs": [
    {
     "name": "stdout",
     "output_type": "stream",
     "text": [
      "Valores nan en los datos: age               0\n",
      "job               0\n",
      "marital           0\n",
      "education         0\n",
      "default           0\n",
      "housing           0\n",
      "loan              0\n",
      "contact           0\n",
      "month             0\n",
      "day_of_week       0\n",
      "duration          0\n",
      "campaign          0\n",
      "pdays             0\n",
      "previous          0\n",
      "poutcome          0\n",
      "emp_var_rate      0\n",
      "cons_price_idx    0\n",
      "cons_conf_idx     0\n",
      "euribor3m         0\n",
      "nr_employed       0\n",
      "y                 0\n",
      "dtype: int64\n",
      "Valores nan después de eliminar filas con datos vacios age               0\n",
      "job               0\n",
      "marital           0\n",
      "education         0\n",
      "default           0\n",
      "housing           0\n",
      "loan              0\n",
      "contact           0\n",
      "month             0\n",
      "day_of_week       0\n",
      "duration          0\n",
      "campaign          0\n",
      "pdays             0\n",
      "previous          0\n",
      "poutcome          0\n",
      "emp_var_rate      0\n",
      "cons_price_idx    0\n",
      "cons_conf_idx     0\n",
      "euribor3m         0\n",
      "nr_employed       0\n",
      "y                 0\n",
      "dtype: int64\n",
      "Nuevo número de instancias:  51166\n",
      "Nuevo número de instancias sin suscripción: 25583\n",
      "Nuevo número de suscripciones 25583\n",
      "La nueva proporción de clientes sin suscripción: 0.5\n",
      "La nueva proporción de clientes con suscripción: 0.5\n"
     ]
    },
    {
     "name": "stderr",
     "output_type": "stream",
     "text": [
      "/opt/anaconda3/envs/mlops3/lib/python3.9/site-packages/sklearn/base.py:474: FutureWarning: `BaseEstimator._validate_data` is deprecated in 1.6 and will be removed in 1.7. Use `sklearn.utils.validation.validate_data` instead. This function becomes public and is part of the scikit-learn developer API.\n",
      "  warnings.warn(\n"
     ]
    },
    {
     "name": "stdout",
     "output_type": "stream",
     "text": [
      "Predicciones con el subconjunto de evaluación:\n",
      "[0 0 0 ... 0 0 0]\n",
      "Dist. de probabilidades de predicción con el subconjunto de evaluación:\n",
      "[[0.99009901 0.00990099]\n",
      " [0.99009901 0.00990099]\n",
      " [0.95049505 0.04950495]\n",
      " ...\n",
      " [1.         0.        ]\n",
      " [0.72277228 0.27722772]\n",
      " [0.99009901 0.00990099]]\n",
      "Métricas del modelo:\n"
     ]
    },
    {
     "name": "stderr",
     "output_type": "stream",
     "text": [
      "2025/08/25 15:35:55 INFO mlflow.tracking.fluent: Experiment with name 'clasificador_basico_model_registry' does not exist. Creating a new experiment.\n"
     ]
    },
    {
     "name": "stdout",
     "output_type": "stream",
     "text": [
      "{'accuracy': 0.91, 'precision': 0.63, 'recall': 0.55, 'entropy': 0.2}\n"
     ]
    },
    {
     "name": "stderr",
     "output_type": "stream",
     "text": [
      "2025/08/25 15:35:55 WARNING mlflow.models.model: `artifact_path` is deprecated. Please use `name` instead.\n",
      "\u001b[31m2025/08/25 15:35:57 WARNING mlflow.models.model: Model logged without a signature and input example. Please set `input_example` parameter when logging the model to auto infer the model signature.\u001b[0m\n",
      "Successfully registered model 'randomforest-classifier'.\n",
      "2025/08/25 15:35:57 INFO mlflow.store.model_registry.abstract_store: Waiting up to 300 seconds for model version to finish creation. Model name: randomforest-classifier, version 1\n"
     ]
    },
    {
     "name": "stdout",
     "output_type": "stream",
     "text": [
      "🏃 View run smote_aplicado at: http://localhost:8080/#/experiments/1/runs/eec64e756e3b4f64a06f2f1b6a80ad2d\n",
      "🧪 View experiment at: http://localhost:8080/#/experiments/1\n"
     ]
    },
    {
     "name": "stderr",
     "output_type": "stream",
     "text": [
      "Created version '1' of model 'randomforest-classifier'.\n"
     ]
    },
    {
     "data": {
      "image/png": "[encoded data removed]",
      "text/plain": [
       "<Figure size 640x480 with 1 Axes>"
      ]
     },
     "metadata": {},
     "output_type": "display_data"
    },
    {
     "data": {
      "image/png": "[encoded data removed]",
      "text/plain": [
       "<Figure size 640x480 with 2 Axes>"
      ]
     },
     "metadata": {},
     "output_type": "display_data"
    },
    {
     "name": "stdout",
     "output_type": "stream",
     "text": [
      "[CV] END bootstrap=False, max_depth=110, min_samples_leaf=4, min_samples_split=2, n_estimators=5; total time=   0.4s\n",
      "[CV] END bootstrap=False, max_depth=110, min_samples_leaf=4, min_samples_split=2, n_estimators=5; total time=   0.4s\n",
      "[CV] END bootstrap=True, max_depth=120, min_samples_leaf=4, min_samples_split=2, n_estimators=21; total time=   1.0s\n",
      "[CV] END bootstrap=True, max_depth=30, min_samples_leaf=1, min_samples_split=2, n_estimators=5; total time=   0.3s\n",
      "[CV] END bootstrap=True, max_depth=10, min_samples_leaf=3, min_samples_split=6, n_estimators=21; total time=   0.8s\n",
      "[CV] END bootstrap=False, max_depth=110, min_samples_leaf=1, min_samples_split=2, n_estimators=51; total time=   3.5s\n",
      "[CV] END bootstrap=True, max_depth=60, min_samples_leaf=3, min_samples_split=6, n_estimators=51; total time=   2.5s\n",
      "[CV] END bootstrap=False, max_depth=10, min_samples_leaf=1, min_samples_split=6, n_estimators=5; total time=   0.3s\n",
      "[CV] END bootstrap=False, max_depth=10, min_samples_leaf=1, min_samples_split=6, n_estimators=5; total time=   0.3s\n",
      "[CV] END bootstrap=True, max_depth=50, min_samples_leaf=4, min_samples_split=6, n_estimators=51; total time=   2.5s\n",
      "[CV] END bootstrap=False, max_depth=70, min_samples_leaf=4, min_samples_split=2, n_estimators=101; total time=   6.4s\n",
      "[CV] END bootstrap=False, max_depth=120, min_samples_leaf=3, min_samples_split=2, n_estimators=51; total time=   3.2s\n",
      "[CV] END bootstrap=True, max_depth=120, min_samples_leaf=3, min_samples_split=6, n_estimators=101; total time=   5.0s\n",
      "[CV] END bootstrap=False, max_depth=120, min_samples_leaf=4, min_samples_split=6, n_estimators=51; total time=   3.3s\n",
      "[CV] END bootstrap=True, max_depth=90, min_samples_leaf=4, min_samples_split=2, n_estimators=101; total time=   4.9s\n",
      "[CV] END bootstrap=False, max_depth=40, min_samples_leaf=1, min_samples_split=10, n_estimators=51; total time=   3.5s\n",
      "[CV] END bootstrap=True, max_depth=40, min_samples_leaf=4, min_samples_split=6, n_estimators=51; total time=   2.3s\n",
      "[CV] END bootstrap=False, max_depth=120, min_samples_leaf=1, min_samples_split=6, n_estimators=51; total time=   3.4s\n",
      "[CV] END bootstrap=False, max_depth=100, min_samples_leaf=1, min_samples_split=6, n_estimators=101; total time=   6.7s\n",
      "[CV] END bootstrap=True, max_depth=100, min_samples_leaf=4, min_samples_split=10, n_estimators=101; total time=   4.7s\n",
      "[CV] END bootstrap=True, max_depth=120, min_samples_leaf=3, min_samples_split=2, n_estimators=101; total time=   5.0s\n",
      "[CV] END bootstrap=False, max_depth=60, min_samples_leaf=4, min_samples_split=10, n_estimators=21; total time=   1.2s\n",
      "[CV] END bootstrap=True, max_depth=20, min_samples_leaf=3, min_samples_split=2, n_estimators=21; total time=   1.0s\n",
      "[CV] END bootstrap=False, max_depth=120, min_samples_leaf=1, min_samples_split=10, n_estimators=5; total time=   0.3s\n",
      "[CV] END bootstrap=True, max_depth=70, min_samples_leaf=4, min_samples_split=2, n_estimators=21; total time=   0.9s\n",
      "[CV] END bootstrap=True, max_depth=120, min_samples_leaf=3, min_samples_split=10, n_estimators=51; total time=   2.5s\n",
      "[CV] END bootstrap=False, max_depth=110, min_samples_leaf=3, min_samples_split=2, n_estimators=21; total time=   1.3s\n",
      "[CV] END bootstrap=False, max_depth=110, min_samples_leaf=3, min_samples_split=2, n_estimators=21; total time=   1.4s\n",
      "[CV] END bootstrap=True, max_depth=80, min_samples_leaf=1, min_samples_split=6, n_estimators=101; total time=   4.9s\n",
      "[CV] END bootstrap=True, max_depth=60, min_samples_leaf=4, min_samples_split=10, n_estimators=51; total time=   2.4s\n",
      "[CV] END bootstrap=False, max_depth=20, min_samples_leaf=1, min_samples_split=10, n_estimators=101; total time=   6.6s\n",
      "[CV] END bootstrap=False, max_depth=110, min_samples_leaf=3, min_samples_split=10, n_estimators=51; total time=   3.3s\n",
      "[CV] END bootstrap=False, max_depth=120, min_samples_leaf=4, min_samples_split=10, n_estimators=5; total time=   0.3s\n",
      "[CV] END bootstrap=False, max_depth=120, min_samples_leaf=4, min_samples_split=10, n_estimators=5; total time=   0.4s\n",
      "[CV] END bootstrap=True, max_depth=40, min_samples_leaf=3, min_samples_split=6, n_estimators=5; total time=   0.3s\n",
      "[CV] END bootstrap=True, max_depth=110, min_samples_leaf=3, min_samples_split=6, n_estimators=101; total time=   4.7s\n",
      "[CV] END bootstrap=True, max_depth=100, min_samples_leaf=4, min_samples_split=2, n_estimators=101; total time=   4.7s\n",
      "[CV] END bootstrap=True, max_depth=70, min_samples_leaf=3, min_samples_split=10, n_estimators=101; total time=   4.7s\n",
      "[CV] END bootstrap=False, max_depth=30, min_samples_leaf=3, min_samples_split=6, n_estimators=101; total time=   6.5s\n",
      "[CV] END bootstrap=True, max_depth=20, min_samples_leaf=1, min_samples_split=2, n_estimators=5; total time=   0.3s\n",
      "[CV] END bootstrap=True, max_depth=80, min_samples_leaf=4, min_samples_split=2, n_estimators=51; total time=   2.5s\n",
      "[CV] END bootstrap=True, max_depth=80, min_samples_leaf=3, min_samples_split=10, n_estimators=21; total time=   1.1s\n",
      "[CV] END bootstrap=False, max_depth=40, min_samples_leaf=1, min_samples_split=2, n_estimators=101; total time=   7.1s\n",
      "[CV] END bootstrap=True, max_depth=40, min_samples_leaf=4, min_samples_split=6, n_estimators=101; total time=   4.8s\n",
      "[CV] END bootstrap=True, max_depth=40, min_samples_leaf=1, min_samples_split=6, n_estimators=51; total time=   2.5s\n",
      "[CV] END bootstrap=True, max_depth=100, min_samples_leaf=4, min_samples_split=10, n_estimators=21; total time=   1.0s\n",
      "[CV] END bootstrap=False, max_depth=100, min_samples_leaf=1, min_samples_split=2, n_estimators=21; total time=   1.3s\n",
      "[CV] END bootstrap=False, max_depth=100, min_samples_leaf=1, min_samples_split=2, n_estimators=21; total time=   1.4s\n",
      "[CV] END bootstrap=True, max_depth=30, min_samples_leaf=1, min_samples_split=6, n_estimators=21; total time=   1.0s\n",
      "[CV] END bootstrap=True, max_depth=30, min_samples_leaf=1, min_samples_split=6, n_estimators=21; total time=   1.1s\n",
      "[CV] END bootstrap=False, max_depth=30, min_samples_leaf=4, min_samples_split=10, n_estimators=101; total time=   6.3s\n",
      "[CV] END bootstrap=False, max_depth=10, min_samples_leaf=1, min_samples_split=10, n_estimators=5; total time=   0.3s\n",
      "[CV] END bootstrap=False, max_depth=10, min_samples_leaf=1, min_samples_split=10, n_estimators=5; total time=   0.3s\n",
      "[CV] END bootstrap=True, max_depth=50, min_samples_leaf=3, min_samples_split=6, n_estimators=21; total time=   1.0s\n",
      "[CV] END bootstrap=False, max_depth=100, min_samples_leaf=1, min_samples_split=6, n_estimators=5; total time=   0.3s\n",
      "[CV] END bootstrap=False, max_depth=110, min_samples_leaf=4, min_samples_split=2, n_estimators=5; total time=   0.4s\n",
      "[CV] END bootstrap=False, max_depth=110, min_samples_leaf=4, min_samples_split=2, n_estimators=5; total time=   0.4s\n",
      "[CV] END bootstrap=True, max_depth=120, min_samples_leaf=4, min_samples_split=2, n_estimators=21; total time=   1.0s\n",
      "[CV] END bootstrap=True, max_depth=30, min_samples_leaf=1, min_samples_split=2, n_estimators=5; total time=   0.3s\n",
      "[CV] END bootstrap=True, max_depth=10, min_samples_leaf=3, min_samples_split=6, n_estimators=21; total time=   0.8s\n",
      "[CV] END bootstrap=False, max_depth=110, min_samples_leaf=1, min_samples_split=2, n_estimators=51; total time=   3.2s\n",
      "[CV] END bootstrap=True, max_depth=60, min_samples_leaf=3, min_samples_split=6, n_estimators=51; total time=   2.7s\n",
      "[CV] END bootstrap=True, max_depth=30, min_samples_leaf=1, min_samples_split=6, n_estimators=51; total time=   2.5s\n",
      "[CV] END bootstrap=False, max_depth=70, min_samples_leaf=4, min_samples_split=2, n_estimators=101; total time=   6.0s\n",
      "[CV] END bootstrap=False, max_depth=70, min_samples_leaf=3, min_samples_split=6, n_estimators=101; total time=   6.4s\n",
      "[CV] END bootstrap=True, max_depth=120, min_samples_leaf=3, min_samples_split=2, n_estimators=21; total time=   1.1s\n",
      "[CV] END bootstrap=False, max_depth=80, min_samples_leaf=4, min_samples_split=2, n_estimators=51; total time=   3.2s\n",
      "[CV] END bootstrap=False, max_depth=120, min_samples_leaf=4, min_samples_split=6, n_estimators=51; total time=   3.2s\n",
      "[CV] END bootstrap=False, max_depth=30, min_samples_leaf=4, min_samples_split=10, n_estimators=5; total time=   0.3s\n",
      "[CV] END bootstrap=True, max_depth=100, min_samples_leaf=3, min_samples_split=2, n_estimators=5; total time=   0.2s\n",
      "[CV] END bootstrap=True, max_depth=100, min_samples_leaf=3, min_samples_split=2, n_estimators=5; total time=   0.3s\n",
      "[CV] END bootstrap=False, max_depth=40, min_samples_leaf=1, min_samples_split=10, n_estimators=51; total time=   3.2s\n",
      "[CV] END bootstrap=False, max_depth=50, min_samples_leaf=3, min_samples_split=6, n_estimators=51; total time=   3.3s\n",
      "[CV] END bootstrap=True, max_depth=40, min_samples_leaf=4, min_samples_split=6, n_estimators=51; total time=   2.4s\n",
      "[CV] END bootstrap=True, max_depth=70, min_samples_leaf=3, min_samples_split=10, n_estimators=21; total time=   1.0s\n",
      "[CV] END bootstrap=True, max_depth=70, min_samples_leaf=3, min_samples_split=10, n_estimators=21; total time=   1.0s\n",
      "[CV] END bootstrap=False, max_depth=50, min_samples_leaf=3, min_samples_split=2, n_estimators=21; total time=   1.4s\n",
      "[CV] END bootstrap=True, max_depth=30, min_samples_leaf=1, min_samples_split=10, n_estimators=5; total time=   0.3s\n",
      "[CV] END bootstrap=True, max_depth=110, min_samples_leaf=4, min_samples_split=6, n_estimators=21; total time=   0.9s\n",
      "[CV] END bootstrap=True, max_depth=110, min_samples_leaf=4, min_samples_split=6, n_estimators=21; total time=   1.0s\n",
      "[CV] END bootstrap=True, max_depth=60, min_samples_leaf=3, min_samples_split=6, n_estimators=5; total time=   0.3s\n",
      "[CV] END bootstrap=False, max_depth=120, min_samples_leaf=3, min_samples_split=6, n_estimators=101; total time=   6.4s\n",
      "[CV] END bootstrap=True, max_depth=100, min_samples_leaf=4, min_samples_split=10, n_estimators=101; total time=   4.7s\n",
      "[CV] END bootstrap=True, max_depth=40, min_samples_leaf=3, min_samples_split=10, n_estimators=21; total time=   1.0s\n",
      "[CV] END bootstrap=True, max_depth=100, min_samples_leaf=4, min_samples_split=6, n_estimators=21; total time=   1.0s\n",
      "[CV] END bootstrap=False, max_depth=70, min_samples_leaf=4, min_samples_split=10, n_estimators=5; total time=   0.3s\n",
      "[CV] END bootstrap=False, max_depth=60, min_samples_leaf=4, min_samples_split=10, n_estimators=21; total time=   1.3s\n",
      "[CV] END bootstrap=False, max_depth=60, min_samples_leaf=3, min_samples_split=6, n_estimators=5; total time=   0.3s\n",
      "[CV] END bootstrap=False, max_depth=10, min_samples_leaf=1, min_samples_split=2, n_estimators=21; total time=   1.0s\n",
      "[CV] END bootstrap=True, max_depth=120, min_samples_leaf=3, min_samples_split=10, n_estimators=51; total time=   2.2s\n",
      "[CV] END bootstrap=False, max_depth=100, min_samples_leaf=4, min_samples_split=6, n_estimators=101; total time=   6.3s\n",
      "[CV] END bootstrap=True, max_depth=80, min_samples_leaf=1, min_samples_split=6, n_estimators=101; total time=   5.1s\n",
      "[CV] END bootstrap=False, max_depth=20, min_samples_leaf=1, min_samples_split=10, n_estimators=101; total time=   6.6s\n",
      "[CV] END bootstrap=False, max_depth=80, min_samples_leaf=4, min_samples_split=2, n_estimators=21; total time=   1.3s\n",
      "[CV] END bootstrap=False, max_depth=80, min_samples_leaf=4, min_samples_split=2, n_estimators=21; total time=   1.3s\n",
      "[CV] END bootstrap=False, max_depth=80, min_samples_leaf=4, min_samples_split=2, n_estimators=21; total time=   1.3s\n",
      "[CV] END bootstrap=False, max_depth=110, min_samples_leaf=1, min_samples_split=2, n_estimators=5; total time=   0.4s\n",
      "[CV] END bootstrap=True, max_depth=100, min_samples_leaf=4, min_samples_split=2, n_estimators=101; total time=   4.9s\n",
      "[CV] END bootstrap=False, max_depth=30, min_samples_leaf=3, min_samples_split=2, n_estimators=51; total time=   3.3s\n",
      "[CV] END bootstrap=True, max_depth=70, min_samples_leaf=3, min_samples_split=10, n_estimators=101; total time=   4.7s\n",
      "[CV] END bootstrap=False, max_depth=30, min_samples_leaf=3, min_samples_split=6, n_estimators=101; total time=   6.4s\n",
      "[CV] END bootstrap=False, max_depth=60, min_samples_leaf=1, min_samples_split=2, n_estimators=21; total time=   1.5s\n",
      "[CV] END bootstrap=True, max_depth=40, min_samples_leaf=3, min_samples_split=10, n_estimators=5; total time=   0.3s\n",
      "[CV] END bootstrap=True, max_depth=40, min_samples_leaf=3, min_samples_split=10, n_estimators=5; total time=   0.3s\n",
      "[CV] END bootstrap=False, max_depth=90, min_samples_leaf=3, min_samples_split=10, n_estimators=21; total time=   1.4s\n",
      "[CV] END bootstrap=True, max_depth=80, min_samples_leaf=3, min_samples_split=10, n_estimators=21; total time=   1.0s\n",
      "[CV] END bootstrap=True, max_depth=70, min_samples_leaf=1, min_samples_split=10, n_estimators=5; total time=   0.3s\n",
      "[CV] END bootstrap=True, max_depth=60, min_samples_leaf=3, min_samples_split=10, n_estimators=51; total time=   2.4s\n",
      "[CV] END bootstrap=True, max_depth=60, min_samples_leaf=3, min_samples_split=10, n_estimators=51; total time=   2.5s\n",
      "[CV] END bootstrap=True, max_depth=40, min_samples_leaf=4, min_samples_split=6, n_estimators=101; total time=   4.7s\n",
      "[CV] END bootstrap=True, max_depth=40, min_samples_leaf=1, min_samples_split=6, n_estimators=51; total time=   2.4s\n",
      "[CV] END bootstrap=True, max_depth=40, min_samples_leaf=1, min_samples_split=6, n_estimators=51; total time=   2.5s\n",
      "[CV] END bootstrap=True, max_depth=100, min_samples_leaf=3, min_samples_split=10, n_estimators=5; total time=   0.3s\n",
      "[CV] END bootstrap=True, max_depth=20, min_samples_leaf=1, min_samples_split=2, n_estimators=101; total time=   5.0s\n",
      "[CV] END bootstrap=False, max_depth=30, min_samples_leaf=4, min_samples_split=10, n_estimators=101; total time=   5.8s\n",
      "[CV] END bootstrap=False, max_depth=80, min_samples_leaf=1, min_samples_split=6, n_estimators=21; total time=   1.4s\n",
      "[CV] END bootstrap=True, max_depth=50, min_samples_leaf=3, min_samples_split=6, n_estimators=21; total time=   1.0s\n",
      "[CV] END bootstrap=False, max_depth=100, min_samples_leaf=1, min_samples_split=6, n_estimators=5; total time=   0.3s\n"
     ]
    },
    {
     "name": "stdout",
     "output_type": "stream",
     "text": [
      "[CV] END bootstrap=False, max_depth=50, min_samples_leaf=1, min_samples_split=10, n_estimators=21; total time=   1.4s\n",
      "[CV] END bootstrap=False, max_depth=90, min_samples_leaf=4, min_samples_split=10, n_estimators=5; total time=   0.4s\n",
      "[CV] END bootstrap=True, max_depth=30, min_samples_leaf=1, min_samples_split=2, n_estimators=5; total time=   0.3s\n",
      "[CV] END bootstrap=True, max_depth=10, min_samples_leaf=3, min_samples_split=6, n_estimators=21; total time=   0.8s\n",
      "[CV] END bootstrap=True, max_depth=120, min_samples_leaf=1, min_samples_split=6, n_estimators=51; total time=   2.5s\n",
      "[CV] END bootstrap=True, max_depth=60, min_samples_leaf=3, min_samples_split=6, n_estimators=51; total time=   2.7s\n",
      "[CV] END bootstrap=True, max_depth=120, min_samples_leaf=1, min_samples_split=6, n_estimators=21; total time=   1.2s\n",
      "[CV] END bootstrap=False, max_depth=10, min_samples_leaf=1, min_samples_split=6, n_estimators=5; total time=   0.3s\n",
      "[CV] END bootstrap=True, max_depth=50, min_samples_leaf=4, min_samples_split=6, n_estimators=51; total time=   2.2s\n",
      "[CV] END bootstrap=False, max_depth=70, min_samples_leaf=4, min_samples_split=2, n_estimators=101; total time=   6.4s\n",
      "[CV] END bootstrap=True, max_depth=20, min_samples_leaf=1, min_samples_split=6, n_estimators=5; total time=   0.3s\n",
      "[CV] END bootstrap=False, max_depth=120, min_samples_leaf=3, min_samples_split=2, n_estimators=51; total time=   3.0s\n",
      "[CV] END bootstrap=True, max_depth=120, min_samples_leaf=3, min_samples_split=6, n_estimators=101; total time=   5.0s\n",
      "[CV] END bootstrap=False, max_depth=80, min_samples_leaf=4, min_samples_split=2, n_estimators=51; total time=   3.2s\n",
      "[CV] END bootstrap=True, max_depth=80, min_samples_leaf=3, min_samples_split=6, n_estimators=21; total time=   1.1s\n",
      "[CV] END bootstrap=True, max_depth=90, min_samples_leaf=4, min_samples_split=2, n_estimators=101; total time=   4.9s\n",
      "[CV] END bootstrap=True, max_depth=30, min_samples_leaf=4, min_samples_split=6, n_estimators=21; total time=   1.0s\n",
      "[CV] END bootstrap=True, max_depth=30, min_samples_leaf=4, min_samples_split=6, n_estimators=21; total time=   1.0s\n",
      "[CV] END bootstrap=True, max_depth=30, min_samples_leaf=4, min_samples_split=6, n_estimators=21; total time=   1.1s\n",
      "[CV] END bootstrap=True, max_depth=40, min_samples_leaf=4, min_samples_split=6, n_estimators=51; total time=   2.3s\n",
      "[CV] END bootstrap=True, max_depth=70, min_samples_leaf=3, min_samples_split=10, n_estimators=21; total time=   1.0s\n",
      "[CV] END bootstrap=True, max_depth=50, min_samples_leaf=4, min_samples_split=2, n_estimators=5; total time=   0.2s\n",
      "[CV] END bootstrap=True, max_depth=50, min_samples_leaf=4, min_samples_split=2, n_estimators=5; total time=   0.3s\n",
      "[CV] END bootstrap=False, max_depth=50, min_samples_leaf=3, min_samples_split=2, n_estimators=21; total time=   1.3s\n",
      "[CV] END bootstrap=True, max_depth=30, min_samples_leaf=1, min_samples_split=10, n_estimators=5; total time=   0.3s\n",
      "[CV] END bootstrap=True, max_depth=30, min_samples_leaf=1, min_samples_split=10, n_estimators=5; total time=   0.3s\n",
      "[CV] END bootstrap=True, max_depth=110, min_samples_leaf=4, min_samples_split=6, n_estimators=21; total time=   1.0s\n",
      "[CV] END bootstrap=True, max_depth=110, min_samples_leaf=4, min_samples_split=6, n_estimators=21; total time=   1.0s\n",
      "[CV] END bootstrap=True, max_depth=60, min_samples_leaf=3, min_samples_split=6, n_estimators=5; total time=   0.3s\n",
      "[CV] END bootstrap=False, max_depth=120, min_samples_leaf=3, min_samples_split=6, n_estimators=101; total time=   6.5s\n",
      "[CV] END bootstrap=False, max_depth=10, min_samples_leaf=4, min_samples_split=6, n_estimators=5; total time=   0.3s\n",
      "[CV] END bootstrap=False, max_depth=10, min_samples_leaf=4, min_samples_split=6, n_estimators=5; total time=   0.3s\n",
      "[CV] END bootstrap=False, max_depth=10, min_samples_leaf=4, min_samples_split=6, n_estimators=5; total time=   0.3s\n",
      "[CV] END bootstrap=False, max_depth=10, min_samples_leaf=4, min_samples_split=6, n_estimators=5; total time=   0.3s\n",
      "[CV] END bootstrap=False, max_depth=10, min_samples_leaf=4, min_samples_split=6, n_estimators=5; total time=   0.3s\n",
      "[CV] END bootstrap=True, max_depth=120, min_samples_leaf=3, min_samples_split=2, n_estimators=101; total time=   4.9s\n",
      "[CV] END bootstrap=False, max_depth=70, min_samples_leaf=4, min_samples_split=10, n_estimators=5; total time=   0.4s\n",
      "[CV] END bootstrap=False, max_depth=70, min_samples_leaf=4, min_samples_split=10, n_estimators=5; total time=   0.4s\n",
      "[CV] END bootstrap=True, max_depth=20, min_samples_leaf=3, min_samples_split=2, n_estimators=21; total time=   1.0s\n",
      "[CV] END bootstrap=False, max_depth=60, min_samples_leaf=3, min_samples_split=6, n_estimators=5; total time=   0.3s\n",
      "[CV] END bootstrap=False, max_depth=10, min_samples_leaf=1, min_samples_split=2, n_estimators=21; total time=   1.0s\n",
      "[CV] END bootstrap=True, max_depth=70, min_samples_leaf=4, min_samples_split=2, n_estimators=21; total time=   1.0s\n",
      "[CV] END bootstrap=True, max_depth=60, min_samples_leaf=1, min_samples_split=6, n_estimators=21; total time=   1.0s\n",
      "[CV] END bootstrap=True, max_depth=60, min_samples_leaf=1, min_samples_split=6, n_estimators=21; total time=   1.1s\n",
      "[CV] END bootstrap=False, max_depth=110, min_samples_leaf=3, min_samples_split=2, n_estimators=21; total time=   1.3s\n",
      "[CV] END bootstrap=False, max_depth=110, min_samples_leaf=3, min_samples_split=2, n_estimators=21; total time=   1.4s\n",
      "[CV] END bootstrap=True, max_depth=80, min_samples_leaf=1, min_samples_split=6, n_estimators=101; total time=   5.1s\n",
      "[CV] END bootstrap=True, max_depth=60, min_samples_leaf=4, min_samples_split=10, n_estimators=51; total time=   2.5s\n",
      "[CV] END bootstrap=False, max_depth=20, min_samples_leaf=1, min_samples_split=10, n_estimators=101; total time=   6.7s\n",
      "[CV] END bootstrap=False, max_depth=110, min_samples_leaf=3, min_samples_split=10, n_estimators=51; total time=   3.3s\n",
      "[CV] END bootstrap=False, max_depth=120, min_samples_leaf=4, min_samples_split=10, n_estimators=5; total time=   0.4s\n",
      "[CV] END bootstrap=True, max_depth=40, min_samples_leaf=3, min_samples_split=6, n_estimators=5; total time=   0.3s\n",
      "[CV] END bootstrap=False, max_depth=110, min_samples_leaf=1, min_samples_split=2, n_estimators=5; total time=   0.4s\n",
      "[CV] END bootstrap=True, max_depth=110, min_samples_leaf=3, min_samples_split=6, n_estimators=101; total time=   4.9s\n",
      "[CV] END bootstrap=False, max_depth=30, min_samples_leaf=3, min_samples_split=2, n_estimators=51; total time=   3.3s\n",
      "[CV] END bootstrap=True, max_depth=70, min_samples_leaf=3, min_samples_split=10, n_estimators=101; total time=   4.4s\n",
      "[CV] END bootstrap=False, max_depth=30, min_samples_leaf=3, min_samples_split=6, n_estimators=101; total time=   6.1s\n",
      "[CV] END bootstrap=True, max_depth=70, min_samples_leaf=1, min_samples_split=2, n_estimators=21; total time=   1.1s\n",
      "[CV] END bootstrap=True, max_depth=20, min_samples_leaf=1, min_samples_split=2, n_estimators=5; total time=   0.3s\n",
      "[CV] END bootstrap=True, max_depth=20, min_samples_leaf=1, min_samples_split=2, n_estimators=5; total time=   0.3s\n",
      "[CV] END bootstrap=True, max_depth=80, min_samples_leaf=4, min_samples_split=2, n_estimators=51; total time=   2.5s\n",
      "[CV] END bootstrap=True, max_depth=80, min_samples_leaf=3, min_samples_split=10, n_estimators=21; total time=   1.1s\n",
      "[CV] END bootstrap=False, max_depth=40, min_samples_leaf=1, min_samples_split=2, n_estimators=101; total time=   7.3s\n",
      "[CV] END bootstrap=False, max_depth=120, min_samples_leaf=1, min_samples_split=6, n_estimators=101; total time=   6.8s\n",
      "[CV] END bootstrap=True, max_depth=100, min_samples_leaf=4, min_samples_split=10, n_estimators=21; total time=   1.1s\n",
      "[CV] END bootstrap=True, max_depth=20, min_samples_leaf=1, min_samples_split=2, n_estimators=101; total time=   4.6s\n",
      "[CV] END bootstrap=True, max_depth=10, min_samples_leaf=1, min_samples_split=6, n_estimators=51; total time=   1.8s\n",
      "[CV] END bootstrap=False, max_depth=30, min_samples_leaf=4, min_samples_split=10, n_estimators=101; total time=   6.3s\n",
      "[CV] END bootstrap=True, max_depth=90, min_samples_leaf=3, min_samples_split=6, n_estimators=5; total time=   0.3s\n",
      "[CV] END bootstrap=True, max_depth=90, min_samples_leaf=3, min_samples_split=6, n_estimators=5; total time=   0.3s\n",
      "[CV] END bootstrap=False, max_depth=100, min_samples_leaf=1, min_samples_split=6, n_estimators=5; total time=   0.3s\n",
      "[CV] END bootstrap=False, max_depth=110, min_samples_leaf=4, min_samples_split=2, n_estimators=5; total time=   0.4s\n",
      "[CV] END bootstrap=True, max_depth=120, min_samples_leaf=4, min_samples_split=2, n_estimators=21; total time=   1.0s\n",
      "[CV] END bootstrap=False, max_depth=90, min_samples_leaf=4, min_samples_split=10, n_estimators=5; total time=   0.4s\n",
      "[CV] END bootstrap=True, max_depth=30, min_samples_leaf=1, min_samples_split=2, n_estimators=5; total time=   0.3s\n",
      "[CV] END bootstrap=True, max_depth=120, min_samples_leaf=1, min_samples_split=6, n_estimators=51; total time=   2.6s\n",
      "[CV] END bootstrap=True, max_depth=60, min_samples_leaf=3, min_samples_split=6, n_estimators=51; total time=   2.5s\n",
      "[CV] END bootstrap=True, max_depth=120, min_samples_leaf=1, min_samples_split=6, n_estimators=21; total time=   1.1s\n",
      "[CV] END bootstrap=True, max_depth=30, min_samples_leaf=1, min_samples_split=6, n_estimators=51; total time=   2.7s\n",
      "[CV] END bootstrap=True, max_depth=50, min_samples_leaf=4, min_samples_split=6, n_estimators=51; total time=   2.4s\n",
      "[CV] END bootstrap=False, max_depth=70, min_samples_leaf=3, min_samples_split=6, n_estimators=101; total time=   6.6s\n",
      "[CV] END bootstrap=True, max_depth=120, min_samples_leaf=3, min_samples_split=6, n_estimators=101; total time=   4.5s\n",
      "[CV] END bootstrap=False, max_depth=80, min_samples_leaf=4, min_samples_split=2, n_estimators=51; total time=   3.0s\n",
      "[CV] END bootstrap=False, max_depth=120, min_samples_leaf=4, min_samples_split=6, n_estimators=51; total time=   3.4s\n",
      "[CV] END bootstrap=False, max_depth=30, min_samples_leaf=4, min_samples_split=10, n_estimators=5; total time=   0.3s\n",
      "[CV] END bootstrap=False, max_depth=30, min_samples_leaf=4, min_samples_split=10, n_estimators=5; total time=   0.4s\n",
      "[CV] END bootstrap=True, max_depth=100, min_samples_leaf=3, min_samples_split=2, n_estimators=5; total time=   0.3s\n",
      "[CV] END bootstrap=False, max_depth=40, min_samples_leaf=1, min_samples_split=10, n_estimators=51; total time=   3.4s\n",
      "[CV] END bootstrap=False, max_depth=50, min_samples_leaf=3, min_samples_split=6, n_estimators=51; total time=   3.3s\n",
      "[CV] END bootstrap=False, max_depth=120, min_samples_leaf=1, min_samples_split=6, n_estimators=51; total time=   3.1s\n",
      "[CV] END bootstrap=True, max_depth=70, min_samples_leaf=3, min_samples_split=10, n_estimators=21; total time=   1.0s\n",
      "[CV] END bootstrap=False, max_depth=100, min_samples_leaf=1, min_samples_split=6, n_estimators=101; total time=   6.0s\n",
      "[CV] END bootstrap=False, max_depth=120, min_samples_leaf=3, min_samples_split=6, n_estimators=101; total time=   6.4s\n",
      "[CV] END bootstrap=True, max_depth=120, min_samples_leaf=3, min_samples_split=2, n_estimators=101; total time=   4.8s\n",
      "[CV] END bootstrap=False, max_depth=70, min_samples_leaf=4, min_samples_split=10, n_estimators=5; total time=   0.4s\n",
      "[CV] END bootstrap=False, max_depth=60, min_samples_leaf=4, min_samples_split=10, n_estimators=21; total time=   1.4s\n",
      "[CV] END bootstrap=False, max_depth=60, min_samples_leaf=3, min_samples_split=6, n_estimators=5; total time=   0.4s\n",
      "[CV] END bootstrap=False, max_depth=120, min_samples_leaf=1, min_samples_split=10, n_estimators=5; total time=   0.3s\n",
      "[CV] END bootstrap=False, max_depth=120, min_samples_leaf=1, min_samples_split=10, n_estimators=5; total time=   0.3s\n",
      "[CV] END bootstrap=True, max_depth=70, min_samples_leaf=4, min_samples_split=2, n_estimators=21; total time=   1.0s\n",
      "[CV] END bootstrap=True, max_depth=60, min_samples_leaf=1, min_samples_split=6, n_estimators=21; total time=   1.0s\n",
      "[CV] END bootstrap=True, max_depth=60, min_samples_leaf=1, min_samples_split=6, n_estimators=21; total time=   1.1s\n",
      "[CV] END bootstrap=False, max_depth=100, min_samples_leaf=4, min_samples_split=6, n_estimators=101; total time=   6.5s\n",
      "[CV] END bootstrap=True, max_depth=50, min_samples_leaf=4, min_samples_split=2, n_estimators=21; total time=   1.0s\n",
      "[CV] END bootstrap=True, max_depth=50, min_samples_leaf=3, min_samples_split=10, n_estimators=21; total time=   1.1s\n",
      "[CV] END bootstrap=True, max_depth=60, min_samples_leaf=4, min_samples_split=10, n_estimators=51; total time=   2.4s\n",
      "[CV] END bootstrap=True, max_depth=100, min_samples_leaf=1, min_samples_split=2, n_estimators=101; total time=   4.9s\n",
      "[CV] END bootstrap=True, max_depth=100, min_samples_leaf=1, min_samples_split=2, n_estimators=101; total time=   5.1s\n",
      "[CV] END bootstrap=False, max_depth=110, min_samples_leaf=1, min_samples_split=2, n_estimators=5; total time=   0.3s\n",
      "[CV] END bootstrap=True, max_depth=110, min_samples_leaf=3, min_samples_split=6, n_estimators=101; total time=   4.9s\n",
      "[CV] END bootstrap=False, max_depth=30, min_samples_leaf=3, min_samples_split=2, n_estimators=51; total time=   3.1s\n",
      "[CV] END bootstrap=False, max_depth=20, min_samples_leaf=1, min_samples_split=6, n_estimators=21; total time=   1.4s\n",
      "[CV] END bootstrap=True, max_depth=70, min_samples_leaf=3, min_samples_split=10, n_estimators=101; total time=   4.7s\n",
      "[CV] END bootstrap=False, max_depth=120, min_samples_leaf=3, min_samples_split=2, n_estimators=21; total time=   1.2s\n",
      "[CV] END bootstrap=False, max_depth=120, min_samples_leaf=3, min_samples_split=2, n_estimators=21; total time=   1.5s\n",
      "[CV] END bootstrap=False, max_depth=120, min_samples_leaf=3, min_samples_split=2, n_estimators=21; total time=   1.4s\n",
      "[CV] END bootstrap=True, max_depth=70, min_samples_leaf=1, min_samples_split=2, n_estimators=21; total time=   1.1s\n",
      "[CV] END bootstrap=False, max_depth=60, min_samples_leaf=1, min_samples_split=2, n_estimators=21; total time=   1.5s\n",
      "[CV] END bootstrap=True, max_depth=80, min_samples_leaf=4, min_samples_split=2, n_estimators=51; total time=   2.4s\n",
      "[CV] END bootstrap=True, max_depth=80, min_samples_leaf=3, min_samples_split=10, n_estimators=21; total time=   1.0s\n",
      "[CV] END bootstrap=True, max_depth=60, min_samples_leaf=3, min_samples_split=10, n_estimators=51; total time=   2.3s\n",
      "[CV] END bootstrap=True, max_depth=60, min_samples_leaf=3, min_samples_split=10, n_estimators=51; total time=   2.5s\n",
      "[CV] END bootstrap=True, max_depth=40, min_samples_leaf=4, min_samples_split=6, n_estimators=101; total time=   4.7s\n",
      "[CV] END bootstrap=False, max_depth=120, min_samples_leaf=1, min_samples_split=6, n_estimators=101; total time=   6.7s\n",
      "[CV] END bootstrap=False, max_depth=100, min_samples_leaf=1, min_samples_split=2, n_estimators=21; total time=   1.4s\n",
      "[CV] END bootstrap=True, max_depth=30, min_samples_leaf=1, min_samples_split=6, n_estimators=21; total time=   1.0s\n",
      "[CV] END bootstrap=True, max_depth=30, min_samples_leaf=1, min_samples_split=6, n_estimators=21; total time=   1.1s\n",
      "[CV] END bootstrap=True, max_depth=10, min_samples_leaf=1, min_samples_split=6, n_estimators=51; total time=   1.8s\n",
      "[CV] END bootstrap=True, max_depth=30, min_samples_leaf=4, min_samples_split=10, n_estimators=51; total time=   2.3s\n",
      "[CV] END bootstrap=True, max_depth=30, min_samples_leaf=4, min_samples_split=10, n_estimators=51; total time=   2.3s\n",
      "[CV] END bootstrap=False, max_depth=80, min_samples_leaf=1, min_samples_split=6, n_estimators=21; total time=   1.4s\n",
      "[CV] END bootstrap=True, max_depth=50, min_samples_leaf=3, min_samples_split=6, n_estimators=21; total time=   0.9s\n"
     ]
    }
   ],
   "source": [
    "def create_exp_and_register_model(experiment_name,run_name,run_metrics,model,confusion_matrix_path = None,\n",
    "                      roc_auc_plot_path = None, run_params=None):\n",
    "\n",
    "    # mlflow.set_tracking_uri(\"http://localhost:8080\")\n",
    "    mlflow.set_experiment(experiment_name)\n",
    "\n",
    "    with mlflow.start_run(run_name=run_name) as run:\n",
    "        if not run_params == None:\n",
    "            for param in run_params:\n",
    "                mlflow.log_param(param, run_params[param])\n",
    "\n",
    "        for metric in run_metrics:\n",
    "            mlflow.log_metric(metric, run_metrics[metric])\n",
    "\n",
    "        if not confusion_matrix_path == None:\n",
    "            mlflow.log_artifact(confusion_matrix_path, 'confusion_matrix')\n",
    "\n",
    "        if not roc_auc_plot_path == None:\n",
    "            mlflow.log_artifact(roc_auc_plot_path, \"roc_auc_plot\")\n",
    "\n",
    "        mlflow.set_tag(\"tag1\", \"Random Forest\")\n",
    "        mlflow.set_tags({\"tag2\":\"Randomized Search CV\", \"tag3\":\"Production\"})\n",
    "\n",
    "        # Incluimos esta linea\n",
    "        mlflow.sklearn.log_model(model, \"model\",registered_model_name=\"randomforest-classifier\")\n",
    "\n",
    "experiment_name = \"clasificador_basico_model_registry\"\n",
    "run_name = \"smote_aplicado\"\n",
    "\n",
    "model, X_train, X_test, y_train, y_test = preprocess_train('datasets/banking/banking.csv')\n",
    "run_metrics = predict_evaluate(model, X_test, y_test)\n",
    "print(run_metrics)\n",
    "create_exp_and_register_model(experiment_name, # Nombre del experimento\n",
    "                  run_name, # Nombre de la ejecución\n",
    "                  run_metrics, # Métricas obtenidas\n",
    "                  model, # Modelo ajustado\n",
    "                  'confusion_matrix.png', # Ruta a la imagen de la mátriz de confusión\n",
    "                  'roc_auc_curve.png', # Ruta a la imagen de la gráfica AUC\n",
    "                  run_params = {\"n_estimators\":101} # Parametros utilizados al entrenar el modelo\n",
    "                 )"
   ]
  },
  {
   "cell_type": "markdown",
   "id": "ccf99588",
   "metadata": {
    "id": "ccf99588"
   },
   "source": [
    "En el fragmento de código anterior, si no existe un modelo registrado con el nombre especificado, el método registrara un nuevo modelo y crea la Versión 1. Si existe un modelo registrado con el nombre, el método creara una nueva versión del modelo."
   ]
  },
  {
   "cell_type": "markdown",
   "id": "0e4af2d6",
   "metadata": {
    "id": "0e4af2d6"
   },
   "source": [
    "### 4.2 Agregar modelos a Model Registry: Método 2"
   ]
  },
  {
   "cell_type": "markdown",
   "id": "d8cdf9f2",
   "metadata": {
    "id": "d8cdf9f2"
   },
   "source": [
    "La segunda forma es usando el método `mlflow.register_model()`, después de que se complete todo el experimento y cuando haya decidido qué modelo es el más adecuado para agregar a Model Registry. Para este método, necesitará el run_id como parte del argumento runs:URI."
   ]
  },
  {
   "cell_type": "code",
   "execution_count": 34,
   "id": "6bac95af",
   "metadata": {
    "id": "6bac95af",
    "outputId": "05b81a6c-b7eb-4090-d6d4-2f84b4973fb3"
   },
   "outputs": [
    {
     "name": "stderr",
     "output_type": "stream",
     "text": [
      "Registered model 'random_forest_optimizado' already exists. Creating a new version of this model...\n",
      "2025/08/11 00:07:58 WARNING mlflow.tracking._model_registry.fluent: Run with id 8ef8ec31fbc44ade88ffb25193f61352 has no artifacts at artifact path 'model', registering model based on models:/m-8571d7efe1334f048a6417dacbb373b0 instead\n",
      "2025/08/11 00:07:58 INFO mlflow.store.model_registry.abstract_store: Waiting up to 300 seconds for model version to finish creation. Model name: random_forest_optimizado, version 1\n"
     ]
    },
    {
     "name": "stdout",
     "output_type": "stream",
     "text": [
      "http://localhost:8080\n",
      "ed837bdd72dc4f69af225a7553e685e3\n",
      "🏃 View run prueba at: http://localhost:8080/#/experiments/1/runs/ed837bdd72dc4f69af225a7553e685e3\n",
      "🧪 View experiment at: http://localhost:8080/#/experiments/1\n"
     ]
    },
    {
     "name": "stderr",
     "output_type": "stream",
     "text": [
      "Created version '1' of model 'random_forest_optimizado'.\n"
     ]
    }
   ],
   "source": [
    "print(mlflow.get_tracking_uri())\n",
    "with mlflow.start_run(run_name=\"prueba\") as run:\n",
    "    print(run.info.run_id)\n",
    "    result = mlflow.register_model(\n",
    "        f\"runs:/8ef8ec31fbc44ade88ffb25193f61352/model\",\n",
    "        \"random_forest_optimizado\"\n",
    "    )"
   ]
  },
  {
   "cell_type": "markdown",
   "id": "ab1a2618",
   "metadata": {
    "id": "ab1a2618"
   },
   "source": [
    "Si no existe un modelo registrado con el nombre, el método registra un nuevo modelo, crea la Versión 1 y devuelve un objeto `ModelVersion` de MLflow. Si existe un modelo registrado con el nombre, el método crea una nueva versión del modelo y devuelve el objeto de la versión."
   ]
  },
  {
   "cell_type": "markdown",
   "id": "d1388a4e",
   "metadata": {
    "id": "d1388a4e"
   },
   "source": [
    "### 4.3 Inferencia con un modelo de MLflow desde Model Registry"
   ]
  },
  {
   "cell_type": "code",
   "execution_count": 18,
   "id": "163919ff",
   "metadata": {
    "id": "163919ff",
    "outputId": "b362f9e0-ac26-49ef-a72a-1358cc141e86"
   },
   "outputs": [
    {
     "name": "stdout",
     "output_type": "stream",
     "text": [
      "[0 0 0 ... 0 0 0]\n",
      "[[0.99009901 0.00990099]\n",
      " [0.99009901 0.00990099]\n",
      " [0.95049505 0.04950495]\n",
      " ...\n",
      " [1.         0.        ]\n",
      " [0.72277228 0.27722772]\n",
      " [0.99009901 0.00990099]]\n"
     ]
    }
   ],
   "source": [
    "import mlflow.pyfunc\n",
    "\n",
    "model_name = \"randomforest-classifier\"\n",
    "model_version = 1\n",
    "\n",
    "model = mlflow.pyfunc.load_model(\n",
    "    model_uri=f\"models:/{model_name}/{model_version}\"\n",
    ")\n",
    "\n",
    "y_pred = model.predict(X_test)\n",
    "print(y_pred)\n",
    "\n",
    "sklearn_model = mlflow.sklearn.load_model(\n",
    "    model_uri=f\"models:/{model_name}/{model_version}\"\n",
    ")\n",
    "y_pred_prob = sklearn_model.predict_proba(X_test)\n",
    "print(y_pred_prob)"
   ]
  },
  {
   "cell_type": "markdown",
   "id": "b3731261",
   "metadata": {
    "id": "b3731261"
   },
   "source": [
    "### 4.4 Transicionar un modelo a diferentes estapas Stage, ahora conocido como Alias."
   ]
  },
  {
   "cell_type": "code",
   "execution_count": 19,
   "id": "c9814446",
   "metadata": {
    "id": "c9814446",
    "outputId": "12663add-2e01-4df0-cb84-20018941b9a0"
   },
   "outputs": [],
   "source": [
    "client = mlflow.tracking.MlflowClient()\n",
    "client.set_registered_model_alias(\n",
    "    name=\"randomforest-classifier\",\n",
    "    alias=\"prod\",\n",
    "    version=1\n",
    ")"
   ]
  },
  {
   "cell_type": "code",
   "execution_count": 20,
   "id": "ec2bf13e",
   "metadata": {
    "id": "ec2bf13e",
    "outputId": "3d58d68a-910b-43b4-bb5b-52a949a6acc2"
   },
   "outputs": [
    {
     "name": "stdout",
     "output_type": "stream",
     "text": [
      "[0 0 0 ... 0 0 0]\n"
     ]
    }
   ],
   "source": [
    "# Obtener el modelo, desde la etapa de producción, para realizar predicciones\n",
    "import mlflow.pyfunc\n",
    "\n",
    "model_name = \"randomforest-classifier\"\n",
    "alias = 'prod'  # Alias previamente asignado a una versión del modelo\n",
    "\n",
    "model = mlflow.pyfunc.load_model(\n",
    "    model_uri=f\"models:/{model_name}@{alias}\"\n",
    ")\n",
    "\n",
    "y_pred = model.predict(X_test)\n",
    "print(y_pred)"
   ]
  },
  {
   "cell_type": "markdown",
   "id": "8cbf7270",
   "metadata": {
    "id": "8cbf7270"
   },
   "source": [
    "## **Ejercicio 1:** Realizar inferencia con el modelo, desde el alias Production, usando solamente una instancia"
   ]
  },
  {
   "cell_type": "code",
   "execution_count": 21,
   "id": "676465f5",
   "metadata": {
    "id": "676465f5"
   },
   "outputs": [
    {
     "name": "stdout",
     "output_type": "stream",
     "text": [
      "Valores nan en los datos: age               0\n",
      "job               0\n",
      "marital           0\n",
      "education         0\n",
      "default           0\n",
      "housing           0\n",
      "loan              0\n",
      "contact           0\n",
      "month             0\n",
      "day_of_week       0\n",
      "duration          0\n",
      "campaign          0\n",
      "pdays             0\n",
      "previous          0\n",
      "poutcome          0\n",
      "emp_var_rate      0\n",
      "cons_price_idx    0\n",
      "cons_conf_idx     0\n",
      "euribor3m         0\n",
      "nr_employed       0\n",
      "y                 0\n",
      "dtype: int64\n",
      "Valores nan después de eliminar filas con datos vacios age               0\n",
      "job               0\n",
      "marital           0\n",
      "education         0\n",
      "default           0\n",
      "housing           0\n",
      "loan              0\n",
      "contact           0\n",
      "month             0\n",
      "day_of_week       0\n",
      "duration          0\n",
      "campaign          0\n",
      "pdays             0\n",
      "previous          0\n",
      "poutcome          0\n",
      "emp_var_rate      0\n",
      "cons_price_idx    0\n",
      "cons_conf_idx     0\n",
      "euribor3m         0\n",
      "nr_employed       0\n",
      "y                 0\n",
      "dtype: int64\n",
      "Nuevo número de instancias:  51166\n",
      "Nuevo número de instancias sin suscripción: 25583\n",
      "Nuevo número de suscripciones 25583\n",
      "La nueva proporción de clientes sin suscripción: 0.5\n",
      "La nueva proporción de clientes con suscripción: 0.5\n"
     ]
    },
    {
     "name": "stderr",
     "output_type": "stream",
     "text": [
      "/opt/anaconda3/envs/mlops3/lib/python3.9/site-packages/sklearn/base.py:474: FutureWarning: `BaseEstimator._validate_data` is deprecated in 1.6 and will be removed in 1.7. Use `sklearn.utils.validation.validate_data` instead. This function becomes public and is part of the scikit-learn developer API.\n",
      "  warnings.warn(\n"
     ]
    },
    {
     "name": "stdout",
     "output_type": "stream",
     "text": [
      "Predicción: [0]\n",
      "Probabilidades: [[0.99009901 0.00990099]]\n"
     ]
    },
    {
     "name": "stderr",
     "output_type": "stream",
     "text": [
      "/opt/anaconda3/envs/mlops3/lib/python3.9/site-packages/sklearn/utils/validation.py:2739: UserWarning: X does not have valid feature names, but RandomForestClassifier was fitted with feature names\n",
      "  warnings.warn(\n",
      "/opt/anaconda3/envs/mlops3/lib/python3.9/site-packages/sklearn/utils/validation.py:2739: UserWarning: X does not have valid feature names, but RandomForestClassifier was fitted with feature names\n",
      "  warnings.warn(\n"
     ]
    }
   ],
   "source": [
    "import mlflow.sklearn\n",
    "\n",
    "# ===== Inferencia con alias 'prod' usando una sola instancia de X_test =====\n",
    "# Usa el modelo que registraste en el notebook: \"randomforest-classifier\"\n",
    "# (en tu código de registro aparece: registered_model_name=\"randomforest-classifier\")\n",
    "\n",
    "model_name = \"randomforest-classifier\"\n",
    "alias = 'prod'  # Alias ya asignado en tu Model Registry\n",
    "\n",
    "model = mlflow.sklearn.load_model(\n",
    "    model_uri=f\"models:/{model_name}@{alias}\"\n",
    ")\n",
    "\n",
    "# Asegúrate de haber ejecutado antes la celda que define: \n",
    "model, X_train, X_test, y_train, y_test = preprocess_train('datasets/banking/banking.csv')\n",
    "\n",
    "# Tomamos 1 fila real del X_test para garantizar el orden/longitud de features correctos\n",
    "input_data = [X_test.iloc[0].tolist()]\n",
    "\n",
    "y_pred = model.predict(input_data)\n",
    "print(\"Predicción:\", y_pred)\n",
    "\n",
    "y_pred_prob = model.predict_proba(input_data)\n",
    "print(\"Probabilidades:\", y_pred_prob)\n"
   ]
  },
  {
   "cell_type": "markdown",
   "id": "b343838b",
   "metadata": {
    "id": "b343838b"
   },
   "source": [
    "## 5. MLFlow Models\n",
    "\n",
    "MLFlow permite desplegar modelos facilmente con MLFlow Models. Para esto, necesitaremos registrar"
   ]
  },
  {
   "cell_type": "code",
   "execution_count": 22,
   "id": "983940df",
   "metadata": {
    "id": "983940df"
   },
   "outputs": [],
   "source": [
    "protocol = \"http\"\n",
    "host = \"localhost\"\n",
    "port = \"8080\"\n",
    "URI = f\"{protocol}://{host}:{port}\"\n",
    "\n",
    "mlflow.set_tracking_uri(URI)"
   ]
  },
  {
   "cell_type": "markdown",
   "id": "5d7b3c76",
   "metadata": {
    "id": "5d7b3c76"
   },
   "source": [
    "Agregar la variable de entorno"
   ]
  },
  {
   "cell_type": "code",
   "execution_count": 23,
   "id": "11020b9f",
   "metadata": {
    "id": "11020b9f"
   },
   "outputs": [],
   "source": [
    "!export MLFLOW_TRACKING_URI=URI\n",
    "!source ~/.zshrc # o !source ~/.bash_profile si así lo requiere el sistema operativo"
   ]
  },
  {
   "cell_type": "markdown",
   "id": "47a9b959",
   "metadata": {
    "id": "47a9b959"
   },
   "source": [
    "Siguiente, sera necesario ejecutar un nuevo servicio, especificando un puerto diferente:\n",
    "`mlflow models serve --model-uri models:/randomforest-classifier@prod -p 1234 --no-conda`"
   ]
  },
  {
   "cell_type": "code",
   "execution_count": null,
   "id": "ad76fd1d",
   "metadata": {
    "id": "ad76fd1d"
   },
   "outputs": [],
   "source": [
    "# import requests\n",
    "\n",
    "# inference_request = {\n",
    "#         \"dataframe_records\": [[\"pasar datos de un nuevo registro aqui\"]]\n",
    "# }\n",
    "\n",
    "# endpoint = \"http://localhost:1234/invocations\"\n",
    "\n",
    "# response = requests.post(endpoint, json=inference_request)\n",
    "\n",
    "# print(response.text)"
   ]
  },
  {
   "cell_type": "markdown",
   "id": "8946409e",
   "metadata": {
    "id": "8946409e"
   },
   "source": [
    "## **Ejercicio 2:** Calidad del vino\n",
    "\n",
    "Versionar los experimentos de su modelo de clasificación de calidad del vino basado en Scikit-Learn. Usar reducción de dimensionalidad en el pipeline. Generar resultados con uno de los modelos registrados en Model Registry y que tenga como alias \"Champion\" usando nuevos datos.  "
   ]
  },
  {
   "cell_type": "code",
   "execution_count": 40,
   "id": "2ede3f7f",
   "metadata": {
    "id": "2ede3f7f"
   },
   "outputs": [
    {
     "name": "stderr",
     "output_type": "stream",
     "text": [
      "2025/08/11 00:10:47 INFO mlflow.tracking.fluent: Experiment with name 'wine_quality_cls' does not exist. Creating a new experiment.\n",
      "2025/08/11 00:10:47 WARNING mlflow.models.model: `artifact_path` is deprecated. Please use `name` instead.\n",
      "/opt/anaconda3/envs/mlopsv2/lib/python3.12/site-packages/mlflow/types/utils.py:452: UserWarning: Hint: Inferred schema contains integer column(s). Integer columns in Python cannot represent missing values. If your input data contains missing values at inference time, it will be encoded as floats and will cause a schema enforcement error. The best way to avoid this problem is to infer the model schema based on a realistic data sample (training dataset) that includes missing values. Alternatively, you can declare integer columns as doubles (float64) whenever these columns may have missing values. See `Handling Integers With Missing Values <https://www.mlflow.org/docs/latest/models.html#handling-integers-with-missing-values>`_ for more details.\n",
      "  warnings.warn(\n",
      "Successfully registered model 'wine_quality_clf'.\n",
      "2025/08/11 00:10:49 INFO mlflow.store.model_registry.abstract_store: Waiting up to 300 seconds for model version to finish creation. Model name: wine_quality_clf, version 1\n"
     ]
    },
    {
     "name": "stdout",
     "output_type": "stream",
     "text": [
      "🏃 View run wine_lr_pca_1754885447 at: http://localhost:8080/#/experiments/2/runs/1f90bd15059d41f68131b9eb425f5e1d\n",
      "🧪 View experiment at: http://localhost:8080/#/experiments/2\n",
      "Accuracy=0.972 | F1_macro=0.971\n"
     ]
    },
    {
     "name": "stderr",
     "output_type": "stream",
     "text": [
      "Created version '1' of model 'wine_quality_clf'.\n"
     ]
    }
   ],
   "source": [
    "import mlflow\n",
    "import mlflow.sklearn\n",
    "from sklearn.datasets import load_wine\n",
    "from sklearn.model_selection import train_test_split\n",
    "from sklearn.preprocessing import StandardScaler\n",
    "from sklearn.decomposition import PCA\n",
    "from sklearn.linear_model import LogisticRegression\n",
    "from sklearn.pipeline import Pipeline\n",
    "from sklearn.metrics import accuracy_score, f1_score\n",
    "import pandas as pd\n",
    "import time\n",
    "\n",
    "# ===== 1) Datos\n",
    "data = load_wine(as_frame=True)\n",
    "X = data.frame.drop(columns=[\"target\"])\n",
    "y = data.frame[\"target\"]\n",
    "X_train_w, X_test_w, y_train_w, y_test_w = train_test_split(\n",
    "    X, y, test_size=0.2, random_state=42, stratify=y\n",
    ")\n",
    "\n",
    "# ===== 2) Pipeline con reducción de dimensionalidad\n",
    "pipe = Pipeline(steps=[\n",
    "    (\"scaler\", StandardScaler()),\n",
    "    (\"pca\", PCA(n_components=5, random_state=42)),\n",
    "    (\"clf\", LogisticRegression(max_iter=300, random_state=42))\n",
    "])\n",
    "\n",
    "# ===== 3) Entrenar + versionar en MLflow\n",
    "mlflow.set_experiment(\"wine_quality_cls\")\n",
    "with mlflow.start_run(run_name=f\"wine_lr_pca_{int(time.time())}\") as run:\n",
    "    pipe.fit(X_train_w, y_train_w)\n",
    "    y_pred_w = pipe.predict(X_test_w)\n",
    "    acc = accuracy_score(y_test_w, y_pred_w)\n",
    "    f1  = f1_score(y_test_w, y_pred_w, average=\"macro\")\n",
    "    mlflow.log_metric(\"accuracy\", acc)\n",
    "    mlflow.log_metric(\"f1_macro\", f1)\n",
    "    mlflow.log_param(\"pca_n_components\", 5)\n",
    "    mlflow.log_param(\"clf\", \"LogisticRegression\")\n",
    "\n",
    "    # Registrar el pipeline completo\n",
    "    mlflow.sklearn.log_model(\n",
    "        sk_model=pipe,\n",
    "        artifact_path=\"model\",\n",
    "        registered_model_name=\"wine_quality_clf\",\n",
    "        input_example=X_test_w.iloc[[0]]\n",
    "    )\n",
    "\n",
    "print(f\"Accuracy={acc:.3f} | F1_macro={f1:.3f}\")\n"
   ]
  },
  {
   "cell_type": "code",
   "execution_count": 41,
   "id": "06ed7ea8-5ce5-496c-93d8-91725cf29fd6",
   "metadata": {},
   "outputs": [
    {
     "name": "stdout",
     "output_type": "stream",
     "text": [
      "Alias 'Champion' -> versión 1\n"
     ]
    },
    {
     "name": "stderr",
     "output_type": "stream",
     "text": [
      "/var/folders/6h/d5tm0tkx6d57jr9lwmrttrsc0000gn/T/ipykernel_47543/3643021433.py:6: FutureWarning: ``mlflow.tracking.client.MlflowClient.get_latest_versions`` is deprecated since 2.9.0. Model registry stages will be removed in a future major release. To learn more about the deprecation of model registry stages, see our migration guide here: https://mlflow.org/docs/latest/model-registry.html#migrating-from-stages\n",
      "  latest = client.get_latest_versions(model_name_wine, stages=[\"None\",\"Staging\",\"Production\"])\n"
     ]
    }
   ],
   "source": [
    "from mlflow.tracking import MlflowClient\n",
    "\n",
    "client = MlflowClient()\n",
    "model_name_wine = \"wine_quality_clf\"\n",
    "\n",
    "latest = client.get_latest_versions(model_name_wine, stages=[\"None\",\"Staging\",\"Production\"])\n",
    "if not latest:\n",
    "    raise RuntimeError(\"No hay versiones registradas de 'wine_quality_clf'.\")\n",
    "\n",
    "latest_version = max(latest, key=lambda v: int(v.version))\n",
    "client.set_registered_model_alias(name=model_name_wine, alias=\"Champion\", version=latest_version.version)\n",
    "print(f\"Alias 'Champion' -> versión {latest_version.version}\")\n"
   ]
  },
  {
   "cell_type": "code",
   "execution_count": 43,
   "id": "d212c762-0039-40ca-8530-a10ea5060632",
   "metadata": {},
   "outputs": [
    {
     "name": "stdout",
     "output_type": "stream",
     "text": [
      "Predicciones Champion (3 filas): [0 0 0]\n",
      "Probabilidades:\n",
      " [[9.99548033e-01 3.57502484e-04 9.44645554e-05]\n",
      " [9.99883060e-01 5.71934397e-05 5.97465420e-05]\n",
      " [9.99542927e-01 3.67379429e-04 8.96933798e-05]]\n"
     ]
    }
   ],
   "source": [
    "import mlflow.sklearn\n",
    "from sklearn.datasets import load_wine\n",
    "import pandas as pd\n",
    "\n",
    "# ===== Cargar modelo \"Champion\"\n",
    "# model_name = \"wine_quality_clf\"\n",
    "# alias = \"Champion\"\n",
    "# model = mlflow.sklearn.load_model(f\"models:/{model_name}@{alias}\")\n",
    "\n",
    "# ===== Crear nuevos datos (3 filas) basados en el dataset real de scikit-learn\n",
    "data = load_wine(as_frame=True)\n",
    "X_all = data.frame.drop(columns=[\"target\"])\n",
    "\n",
    "# Tomamos una fila real y generamos 2 variaciones pequeñas\n",
    "base = X_all.iloc[[0]].copy()\n",
    "var1 = base.copy(); var1.iloc[0, 0] = var1.iloc[0, 0] * 1.05  # pequeña perturbación en la 1ª feature\n",
    "var2 = base.copy(); var2.iloc[0, 1] = var2.iloc[0, 1] * 0.95  # pequeña perturbación en la 2ª feature\n",
    "X_new_wine = pd.concat([base, var1, var2], ignore_index=True)\n",
    "\n",
    "# ===== Predicción y (si aplica) probabilidades\n",
    "model = mlflow.sklearn.load_model(\"models:/wine_quality_clf@Champion\")\n",
    "y_pred_wine = model.predict(X_new_wine)\n",
    "print(\"Predicciones Champion (3 filas):\", y_pred_wine)\n",
    "\n",
    "if hasattr(model, \"predict_proba\"):\n",
    "    y_pred_prob_wine = model.predict_proba(X_new_wine)\n",
    "    print(\"Probabilidades:\\n\", y_pred_prob_wine)\n"
   ]
  }
 ],
 "metadata": {
  "colab": {
   "provenance": []
  },
  "kernelspec": {
   "display_name": "mlops3",
   "language": "python",
   "name": "mlops3"
  },
  "language_info": {
   "codemirror_mode": {
    "name": "ipython",
    "version": 3
   },
   "file_extension": ".py",
   "mimetype": "text/x-python",
   "name": "python",
   "nbconvert_exporter": "python",
   "pygments_lexer": "ipython3",
   "version": "3.9.23"
  }
 },
 "nbformat": 4,
 "nbformat_minor": 5
}
