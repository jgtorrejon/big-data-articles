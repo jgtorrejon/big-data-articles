{
 "cells": [
  {
   "cell_type": "markdown",
   "id": "3b0759aa-4b0b-49b8-9446-dce74dfe8340",
   "metadata": {},
   "source": [
    "# Maestría en Ciencia de Datos e Inteligencia Artificial\n",
    "## Módulo: 09: Minería de Datos\n",
    "### 2025\n",
    "\n",
    "### *Msc Renzo Claure*\n",
    "---"
   ]
  },
  {
   "cell_type": "code",
   "execution_count": null,
   "id": "97b7ddcd-066d-4c6e-b47f-bc82679f975e",
   "metadata": {},
   "outputs": [],
   "source": [
    "import numpy as np\n",
    "import matplotlib.pyplot as plt\n",
    "from sklearn.datasets import make_classification\n",
    "from sklearn.linear_model import LogisticRegression\n",
    "import pandas as pd\n",
    "import seaborn as sns"
   ]
  },
  {
   "cell_type": "markdown",
   "id": "2e555006-fb36-4c99-817e-b564d3ab2910",
   "metadata": {},
   "source": [
    "## 1. Visualizando la Función Logística\n",
    "La función logística es:\n",
    "\n",
    "$f(x) = \\frac{1}{1 + e^{-x}}$  \n"
   ]
  },
  {
   "cell_type": "code",
   "execution_count": null,
   "id": "496ba8d7-d7d4-4d99-80a3-212be723ee5f",
   "metadata": {},
   "outputs": [],
   "source": [
    "def logistic(x):\n",
    "    return 1 / (1 + np.exp(-x))\n",
    "\n",
    "x = np.linspace(-10, 10, 400)\n",
    "y = logistic(x)\n",
    "\n",
    "#función logistica\n",
    "plt.figure(figsize=(8, 5))\n",
    "plt.plot(x, y, label='f(x) = 1/(1+exp(-x))')\n",
    "plt.title('Función Logística')\n",
    "plt.xlabel('x')\n",
    "plt.ylabel('f(x)')\n",
    "plt.legend()\n",
    "plt.grid(True)\n",
    "plt.show()"
   ]
  },
  {
   "cell_type": "markdown",
   "id": "33ad9629-2f7e-41b5-b0ac-37da14e960d9",
   "metadata": {},
   "source": [
    "## 2. Ejemplo Práctico: Ajuste de un Modelo de Regresión Logística\n",
    "\n",
    "Generaremos un conjunto de datos sintético para un problema de clasificación binaria y ajustaremos un modelo de regresión logística."
   ]
  },
  {
   "cell_type": "code",
   "execution_count": null,
   "id": "3b782b65-ac85-4988-96e6-07b735f8074b",
   "metadata": {},
   "outputs": [],
   "source": [
    "X, y = make_classification(n_samples=1000, n_features=1, n_informative=1, \n",
    "                           n_redundant=0, n_clusters_per_class=1, random_state=42)\n",
    "\n",
    "# Visualizar los datos\n",
    "plt.figure(figsize=(8, 5))\n",
    "plt.scatter(X, y, alpha=0.4)\n",
    "plt.title('Datos Sintéticos para Clasificación Binaria')\n",
    "plt.xlabel('Característica')\n",
    "plt.ylabel('Clase')\n",
    "plt.grid(True)\n",
    "plt.show()"
   ]
  },
  {
   "cell_type": "code",
   "execution_count": null,
   "id": "3d86d7a4-9e97-4c55-ac22-0d3857756a38",
   "metadata": {},
   "outputs": [],
   "source": [
    "#modelo de RL\n",
    "model = LogisticRegression()\n",
    "model.fit(X, y)\n",
    "\n",
    "#oeficiente e intersección\n",
    "coef = model.coef_[0][0]\n",
    "intercept = model.intercept_[0]\n",
    "print(f\"Coeficiente: {coef:.3f}\")\n",
    "print(f\"Intercepción: {intercept:.3f}\")\n",
    "\n",
    "# curva de regresión logística sobre los datos\n",
    "X_plot = np.linspace(X.min()-1, X.max()+1, 300).reshape(-1, 1)\n",
    "y_prob = model.predict_proba(X_plot)[:, 1]\n",
    "\n",
    "plt.figure(figsize=(8, 5))\n",
    "plt.scatter(X, y, alpha=0.4, label='Datos reales')\n",
    "plt.plot(X_plot, y_prob, color='red', linewidth=2, label='Curva logística')\n",
    "plt.title('Regresión Logística Ajustada')\n",
    "plt.xlabel('Característica')\n",
    "plt.ylabel('Probabilidad')\n",
    "plt.legend()\n",
    "plt.grid(True)\n",
    "plt.show()"
   ]
  },
  {
   "cell_type": "markdown",
   "id": "e73d7d01-19d5-4af5-8440-38ca4b970f60",
   "metadata": {},
   "source": [
    "En la regresión logística, el coeficiente se puede interpretar en términos de odds ratio.  \n",
    "La relación es:  \n",
    "\n",
    "$\n",
    "OR = p/(1-p)\n",
    "$\n",
    "\n",
    "$\n",
    "OR = e^{\\beta}\n",
    "$  \n",
    "\n",
    "Donde $\\beta$ es el coeficiente estimado.  \n",
    "Calculemos el odds ratio para nuestro modelo:"
   ]
  },
  {
   "cell_type": "code",
   "execution_count": null,
   "id": "7f33b3a1-e451-4f86-96b7-390814dfee66",
   "metadata": {},
   "outputs": [],
   "source": [
    "# odds ratio\n",
    "odds_ratio = np.exp(coef)\n",
    "print(f\"Odds Ratio: {odds_ratio:.3f}\")"
   ]
  },
  {
   "cell_type": "markdown",
   "id": "e0495324-b364-4ca0-be34-dfdad3b963a4",
   "metadata": {},
   "source": [
    "Interpretación:  \n",
    "Un odds ratio (OR) de 36.601 implica que, manteniendo constantes las demás variables del modelo, un incremento de una unidad en la variable predictora asociada multiplica los odds (la razón de probabilidades de éxito frente a fracaso) por aproximadamente 36.6. En otras palabras:\n",
    "\n",
    "- Interpretación directa: Si, por ejemplo, la variable predictora aumenta en una unidad, la probabilidad de que ocurra el evento de interés (por ejemplo, una enfermedad, un resultado positivo en un diagnóstico, etc.) se incrementa de forma tan significativa que los odds pasan a ser 36.601 veces mayores que los originales.\n",
    "\n",
    "- Impacto significativo: Este valor indica una asociación muy fuerte entre la variable predictora y el resultado. Es decir, dicha variable tiene un efecto sustancial en la probabilidad del evento.\n",
    "\n",
    "- Cautela en la interpretación: Es importante considerar el contexto y la escala de la variable. Si la variable se mide en una escala en la que un cambio de una unidad representa un cambio muy grande, el OR puede verse inflado. Además, conviene evaluar el intervalo de confianza del OR para determinar la precisión de esa estimación y descartar que el valor extremo sea producto de la variabilidad muestral o de algún problema en los datos."
   ]
  },
  {
   "cell_type": "code",
   "execution_count": null,
   "id": "aa7b54c2-a248-4430-926e-041f2fd33dfd",
   "metadata": {},
   "outputs": [],
   "source": []
  }
 ],
 "metadata": {
  "kernelspec": {
   "display_name": "Python 3 (ipykernel)",
   "language": "python",
   "name": "python3"
  },
  "language_info": {
   "codemirror_mode": {
    "name": "ipython",
    "version": 3
   },
   "file_extension": ".py",
   "mimetype": "text/x-python",
   "name": "python",
   "nbconvert_exporter": "python",
   "pygments_lexer": "ipython3",
   "version": "3.12.7"
  }
 },
 "nbformat": 4,
 "nbformat_minor": 5
}
