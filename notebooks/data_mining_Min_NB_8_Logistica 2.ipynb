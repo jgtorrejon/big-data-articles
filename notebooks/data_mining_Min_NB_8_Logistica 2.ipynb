{
 "cells": [
  {
   "cell_type": "markdown",
   "id": "fb9b557b-1bbe-4dd6-8da9-1cb9c04f07e7",
   "metadata": {},
   "source": [
    "# Maestría en Ciencia de Datos e Inteligencia Artificial\n",
    "## Módulo: 09: Minería de Datos\n",
    "### 2025\n",
    "\n",
    "### *Msc Renzo Claure*\n",
    "---"
   ]
  },
  {
   "cell_type": "code",
   "execution_count": null,
   "id": "091af853-673a-4552-976e-9cb7f4fecaf0",
   "metadata": {},
   "outputs": [],
   "source": [
    "import numpy as np\n",
    "import pandas as pd\n",
    "import matplotlib.pyplot as plt\n",
    "import seaborn as sns\n",
    "from sklearn.datasets import load_breast_cancer\n",
    "from sklearn.model_selection import train_test_split\n",
    "from sklearn.linear_model import LogisticRegression\n",
    "from sklearn.metrics import confusion_matrix, classification_report, roc_curve, auc"
   ]
  },
  {
   "cell_type": "code",
   "execution_count": null,
   "id": "184d142f-a9c9-4ff9-9098-2481f303a4c8",
   "metadata": {},
   "outputs": [],
   "source": [
    "plt.style.use('default')\n",
    "sns.set_style('whitegrid')"
   ]
  },
  {
   "cell_type": "code",
   "execution_count": null,
   "id": "36b6cc38-9d23-4c73-a284-4087ffc6de3c",
   "metadata": {},
   "outputs": [],
   "source": [
    "#de datos\n",
    "data = load_breast_cancer()\n",
    "\n",
    "df = pd.DataFrame(data.data, columns=data.feature_names)\n",
    "df['target'] = data.target\n",
    "\n",
    "df.head()"
   ]
  },
  {
   "cell_type": "code",
   "execution_count": null,
   "id": "1be72f52-3315-4930-8b8f-5e0bc70dfdbb",
   "metadata": {},
   "outputs": [],
   "source": [
    "df.describe()"
   ]
  },
  {
   "cell_type": "code",
   "execution_count": null,
   "id": "f6a6b53c-82c8-46b5-953f-418eff70dd94",
   "metadata": {},
   "outputs": [],
   "source": [
    "# División del dataset: 70% entrenamiento, 30% prueba\n",
    "X_train, X_test, y_train, y_test = train_test_split(data.data, data.target, \n",
    "                                                    test_size=0.30, random_state=42, stratify=data.target)\n"
   ]
  },
  {
   "cell_type": "code",
   "execution_count": null,
   "id": "0d7056c1-7ecd-4a1f-9917-5fc01b761a60",
   "metadata": {},
   "outputs": [],
   "source": [
    "modelo = LogisticRegression(max_iter=10000)\n",
    "modelo.fit(X_train, y_train)"
   ]
  },
  {
   "cell_type": "code",
   "execution_count": null,
   "id": "03bec4bd-048c-40ba-aed8-d9fad9b90bc2",
   "metadata": {},
   "outputs": [],
   "source": [
    "y_pred = modelo.predict(X_test)"
   ]
  },
  {
   "cell_type": "code",
   "execution_count": null,
   "id": "fe13945a-c2ee-4a8b-a3d4-a8f71d3ea05c",
   "metadata": {},
   "outputs": [],
   "source": [
    "print(\"Reporte de Clasificación:\")\n",
    "print(classification_report(y_test, y_pred))\n"
   ]
  },
  {
   "cell_type": "code",
   "execution_count": null,
   "id": "aa8089a3-2eaa-4b14-b727-717c74c3caee",
   "metadata": {},
   "outputs": [],
   "source": [
    "# Matriz de confusión\n",
    "cm = confusion_matrix(y_test, y_pred)\n",
    "plt.figure(figsize=(6, 4))\n",
    "sns.heatmap(cm, annot=True, fmt=\"d\", cmap=\"Blues\", cbar=False)\n",
    "plt.title('Matriz de Confusión')\n",
    "plt.xlabel('Clase Predicha')\n",
    "plt.ylabel('Clase Real')\n",
    "plt.show()"
   ]
  },
  {
   "cell_type": "code",
   "execution_count": null,
   "id": "00567798-9eff-429f-9b25-8824426d4fe2",
   "metadata": {},
   "outputs": [],
   "source": [
    "#probabilidades de predicción para la clase positiva (1)\n",
    "y_prob = modelo.predict_proba(X_test)[:, 1]"
   ]
  },
  {
   "cell_type": "code",
   "execution_count": null,
   "id": "7cf35a0f-d66d-4af1-a4cd-243762fb0118",
   "metadata": {},
   "outputs": [],
   "source": [
    "#la curva ROC\n",
    "fpr, tpr, thresholds = roc_curve(y_test, y_prob)\n",
    "roc_auc = auc(fpr, tpr)"
   ]
  },
  {
   "cell_type": "code",
   "execution_count": null,
   "id": "de274f0a-94fc-48d9-a747-1fa758c0a40e",
   "metadata": {},
   "outputs": [],
   "source": [
    "plt.figure(figsize=(6, 4))\n",
    "plt.plot(fpr, tpr, label=f'AUC = {roc_auc:.3f}')\n",
    "plt.plot([0, 1], [0, 1], linestyle='--', color='gray')\n",
    "plt.title('Curva ROC')\n",
    "plt.xlabel('Tasa de Falsos Positivos')\n",
    "plt.ylabel('Tasa de Verdaderos Positivos')\n",
    "plt.legend(loc='lower right')\n",
    "plt.show()"
   ]
  },
  {
   "cell_type": "markdown",
   "id": "2f6f7b73-3e31-4c82-ae73-cd035336d9b6",
   "metadata": {},
   "source": [
    "### 4. Interpretación de los Coeficientes: Odds Ratio\n",
    "Para interpretar la influencia de cada variable, se calcula el *odds ratio* a partir de los coeficientes del modelo:  \n",
    "$\n",
    "OR = e^{\\beta}\n",
    "$  \n",
    "Un valor mayor que 1 indica que un aumento en la variable incrementa los odds de que el tumor sea maligno (o benigno, dependiendo de la codificación), mientras que un valor menor que 1 indica lo contrario.\n"
   ]
  },
  {
   "cell_type": "code",
   "execution_count": null,
   "id": "ef80ff4e-64a4-4431-883b-19dc0f8f612f",
   "metadata": {},
   "outputs": [],
   "source": [
    "coeficientes = modelo.coef_[0]\n",
    "features = data.feature_names"
   ]
  },
  {
   "cell_type": "code",
   "execution_count": null,
   "id": "34996d8d-d96e-4dc5-a645-1b47ff1b80bc",
   "metadata": {},
   "outputs": [],
   "source": [
    "# Calcular el odds ratio\n",
    "odds_ratio = np.exp(coeficientes)"
   ]
  },
  {
   "cell_type": "code",
   "execution_count": null,
   "id": "5fe77aee-ed45-4bc9-8d74-095f4324d58e",
   "metadata": {},
   "outputs": [],
   "source": [
    "df_coef = pd.DataFrame({\n",
    "    'Feature': features,\n",
    "    'Coeficiente': coeficientes,\n",
    "    'Odds Ratio': odds_ratio\n",
    "}).sort_values(by='Odds Ratio', ascending=False)"
   ]
  },
  {
   "cell_type": "code",
   "execution_count": null,
   "id": "8edbb86e-b076-47af-8fe5-754b3c43ff9e",
   "metadata": {},
   "outputs": [],
   "source": [
    "print(\"Interpretación de los Coeficientes (Odds Ratio):\")\n",
    "print(df_coef)"
   ]
  },
  {
   "cell_type": "code",
   "execution_count": null,
   "id": "10dde639-a2fe-4e87-9db3-0d04c7a76a40",
   "metadata": {},
   "outputs": [],
   "source": [
    "# Visualización del odds ratio para las 10 variables con mayor impacto\n",
    "plt.figure(figsize=(8, 6))\n",
    "sns.barplot(data=df_coef.head(10), x='Odds Ratio', y='Feature', orient='h')\n",
    "plt.title('Top 10 Variables según Odds Ratio')\n",
    "plt.xlabel('Odds Ratio')\n",
    "plt.ylabel('Feature')\n",
    "plt.show()"
   ]
  },
  {
   "cell_type": "markdown",
   "id": "690a1ff1-59f1-418b-8e5f-88d6b355ec99",
   "metadata": {},
   "source": [
    "### Conclusiones\n",
    "- **Evaluación del Modelo:** El reporte de clasificación, la matriz de confusión y la curva ROC muestran el desempeño del modelo en la clasificación de tumores.\n",
    "- **Interpretación Estadística:** La interpretación de los coeficientes en términos de *odds ratio* permite entender cómo cada variable afecta la probabilidad de clasificar un tumor como maligno o benigno."
   ]
  },
  {
   "cell_type": "code",
   "execution_count": null,
   "id": "4b4e1539-625b-4cbd-a213-776619deb7ef",
   "metadata": {},
   "outputs": [],
   "source": []
  }
 ],
 "metadata": {
  "kernelspec": {
   "display_name": "Python 3 (ipykernel)",
   "language": "python",
   "name": "python3"
  },
  "language_info": {
   "codemirror_mode": {
    "name": "ipython",
    "version": 3
   },
   "file_extension": ".py",
   "mimetype": "text/x-python",
   "name": "python",
   "nbconvert_exporter": "python",
   "pygments_lexer": "ipython3",
   "version": "3.12.7"
  }
 },
 "nbformat": 4,
 "nbformat_minor": 5
}
