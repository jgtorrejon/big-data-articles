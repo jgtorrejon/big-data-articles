{
 "cells": [
  {
   "cell_type": "code",
   "execution_count": null,
   "id": "efe8e98d-30ab-4d68-a5a3-df2d539a9b3d",
   "metadata": {},
   "outputs": [],
   "source": [
    "import nltk\n",
    "nltk.download('gutenberg')\n",
    "nltk.download('punkt')\n",
    "nltk.download('stopwords')"
   ]
  },
  {
   "cell_type": "code",
   "execution_count": null,
   "id": "fb58c64a-75bd-49b8-9e12-effbbca2f74b",
   "metadata": {},
   "outputs": [],
   "source": [
    "from nltk.corpus import gutenberg\n",
    "from nltk.corpus import stopwords\n",
    "import re"
   ]
  },
  {
   "cell_type": "code",
   "execution_count": null,
   "id": "37e548b4-f81b-4d95-86b4-983c946c4f34",
   "metadata": {},
   "outputs": [],
   "source": [
    "# Elegimos un texto \n",
    "text = gutenberg.raw('austen-emma.txt')  # \"Emma\" de Jane Austen"
   ]
  },
  {
   "cell_type": "code",
   "execution_count": null,
   "id": "b573d60f-36f8-4d14-a78d-762f6ad2b298",
   "metadata": {},
   "outputs": [],
   "source": [
    "# Preprocesar: minúsculas, eliminar signos y números\n",
    "text = text.lower()\n",
    "text = re.sub(r'[^a-z\\s]', '', text)"
   ]
  },
  {
   "cell_type": "code",
   "execution_count": null,
   "id": "cde03150-dd6f-4a48-8c69-06c742eca9a3",
   "metadata": {},
   "outputs": [],
   "source": [
    "# Tokenizar en frases\n",
    "sentences = nltk.sent_tokenize(text)"
   ]
  },
  {
   "cell_type": "code",
   "execution_count": null,
   "id": "fa26640a-0869-4cf3-91f4-5a1836677a90",
   "metadata": {},
   "outputs": [],
   "source": [
    "print(f\"Número de frases cargadas: {len(sentences)}\")\n",
    "print(\"\\nPrimeras 1 frases:\")\n",
    "print(sentences[:1])"
   ]
  },
  {
   "cell_type": "markdown",
   "id": "aa6741fa-bcc8-4b40-8fcb-2c0ecd3cba86",
   "metadata": {},
   "source": [
    "## Bag of Words\n"
   ]
  },
  {
   "cell_type": "code",
   "execution_count": null,
   "id": "34f715cb-6235-45ab-ace5-959b6c501ac7",
   "metadata": {},
   "outputs": [],
   "source": [
    "from sklearn.feature_extraction.text import CountVectorizer\n",
    "import matplotlib.pyplot as plt\n",
    "import pandas as pd"
   ]
  },
  {
   "cell_type": "code",
   "execution_count": null,
   "id": "36f75060-a616-4baa-a172-ff99fedcff9a",
   "metadata": {},
   "outputs": [],
   "source": [
    "# Vectorizador simple (solo palabras)\n",
    "vectorizer_bow = CountVectorizer(stop_words='english')\n",
    "X_bow = vectorizer_bow.fit_transform(sentences)"
   ]
  },
  {
   "cell_type": "code",
   "execution_count": null,
   "id": "1e4f2c67-28eb-4612-9345-58b52988ae7a",
   "metadata": {},
   "outputs": [],
   "source": [
    "# Sacar las palabras más frecuentes\n",
    "sum_words = X_bow.sum(axis=0)\n",
    "words_freq = [(word, sum_words[0, idx]) for word, idx in vectorizer_bow.vocabulary_.items()]\n",
    "words_freq = sorted(words_freq, key=lambda x: x[1], reverse=True)"
   ]
  },
  {
   "cell_type": "code",
   "execution_count": null,
   "id": "d0ea5c9e-5df4-4fde-b70a-a73b130ace78",
   "metadata": {},
   "outputs": [],
   "source": [
    "# Mostrar top 20\n",
    "top_words = words_freq[:20]\n",
    "print(\"\\nTop 20 palabras más frecuentes (Bag of Words):\")\n",
    "print(top_words)"
   ]
  },
  {
   "cell_type": "code",
   "execution_count": null,
   "id": "39f90a35-0c92-4dec-8519-8962890eec54",
   "metadata": {},
   "outputs": [],
   "source": [
    "# Graficar\n",
    "words, counts = zip(*top_words)\n",
    "plt.figure(figsize=(10,6))\n",
    "plt.barh(words[::-1], counts[::-1])\n",
    "plt.title(\"Top 20 Palabras - Bag of Words\")\n",
    "plt.xlabel(\"Frecuencia\")\n",
    "plt.grid(True)\n",
    "plt.show()"
   ]
  },
  {
   "cell_type": "markdown",
   "id": "f9bfecd6-bc23-41c0-ba04-da8f284bae8d",
   "metadata": {},
   "source": [
    "# N-grams (Bigrams y Trigrams)"
   ]
  },
  {
   "cell_type": "code",
   "execution_count": null,
   "id": "8e3c549c-fedf-44e3-a330-db6e0a80e301",
   "metadata": {},
   "outputs": [],
   "source": [
    "# Bigrams\n",
    "vectorizer_bigram = CountVectorizer(ngram_range=(2,2), stop_words='english')\n",
    "X_bigram = vectorizer_bigram.fit_transform(sentences)\n",
    "\n",
    "sum_bigrams = X_bigram.sum(axis=0)\n",
    "bigrams_freq = [(bigram, sum_bigrams[0, idx]) for bigram, idx in vectorizer_bigram.vocabulary_.items()]\n",
    "bigrams_freq = sorted(bigrams_freq, key=lambda x: x[1], reverse=True)\n",
    "\n",
    "print(\"\\nTop 10 Bigrams más frecuentes:\")\n",
    "print(bigrams_freq[:10])"
   ]
  },
  {
   "cell_type": "code",
   "execution_count": null,
   "id": "16ad382b-90e1-4f08-8268-4acec5c65719",
   "metadata": {},
   "outputs": [],
   "source": [
    "# Trigrams\n",
    "vectorizer_trigram = CountVectorizer(ngram_range=(3,3), stop_words='english')\n",
    "X_trigram = vectorizer_trigram.fit_transform(sentences)\n",
    "\n",
    "sum_trigrams = X_trigram.sum(axis=0)\n",
    "trigrams_freq = [(trigram, sum_trigrams[0, idx]) for trigram, idx in vectorizer_trigram.vocabulary_.items()]\n",
    "trigrams_freq = sorted(trigrams_freq, key=lambda x: x[1], reverse=True)\n",
    "\n",
    "print(\"\\nTop 10 Trigrams más frecuentes:\")\n",
    "print(trigrams_freq[:10])"
   ]
  },
  {
   "cell_type": "markdown",
   "id": "7d82f6de-5a5a-458f-b823-5f54d4b08f83",
   "metadata": {},
   "source": [
    "### TF-IDF"
   ]
  },
  {
   "cell_type": "code",
   "execution_count": null,
   "id": "ad1d20ad-e091-4a91-b991-de82a7e4fc7a",
   "metadata": {},
   "outputs": [],
   "source": [
    "from sklearn.feature_extraction.text import TfidfVectorizer"
   ]
  },
  {
   "cell_type": "code",
   "execution_count": null,
   "id": "c9986db8-e1ba-4c0a-aa80-80f2646ffc3d",
   "metadata": {},
   "outputs": [],
   "source": [
    "# Vectorizador TF-IDF\n",
    "vectorizer_tfidf = TfidfVectorizer(stop_words='english')\n",
    "X_tfidf = vectorizer_tfidf.fit_transform(sentences)"
   ]
  },
  {
   "cell_type": "code",
   "execution_count": null,
   "id": "e5468b9e-e316-404e-97c4-81dd71835d88",
   "metadata": {},
   "outputs": [],
   "source": [
    "# Calcular importancia promedio\n",
    "tfidf_means = X_tfidf.toarray().mean(axis=0)\n",
    "vocab_tfidf = vectorizer_tfidf.get_feature_names_out()\n",
    "\n",
    "top_indices = tfidf_means.argsort()[::-1][:20]\n",
    "top_tfidf_words = [(vocab_tfidf[i], tfidf_means[i]) for i in top_indices]\n",
    "\n",
    "print(\"\\nTop 20 palabras más distintivas por TF-IDF:\")\n",
    "print(top_tfidf_words)"
   ]
  },
  {
   "cell_type": "code",
   "execution_count": null,
   "id": "52c303a1-eb71-4456-b7c1-959cda3b39a3",
   "metadata": {},
   "outputs": [],
   "source": [
    "# Graficar\n",
    "words, scores = zip(*top_tfidf_words)\n",
    "plt.figure(figsize=(10,6))\n",
    "plt.barh(words[::-1], scores[::-1])\n",
    "plt.title(\"Top 20 Palabras más importantes - TF-IDF\")\n",
    "plt.xlabel(\"Peso TF-IDF\")\n",
    "plt.grid(True)\n",
    "plt.show()"
   ]
  },
  {
   "cell_type": "code",
   "execution_count": null,
   "id": "559cdd13-a937-4386-be3e-03c47a92f6cf",
   "metadata": {},
   "outputs": [],
   "source": []
  },
  {
   "cell_type": "code",
   "execution_count": null,
   "id": "57c4d38a-eaea-47ba-9da7-2ebe18b79f06",
   "metadata": {},
   "outputs": [],
   "source": []
  }
 ],
 "metadata": {
  "kernelspec": {
   "display_name": "Python 3 (ipykernel)",
   "language": "python",
   "name": "python3"
  },
  "language_info": {
   "codemirror_mode": {
    "name": "ipython",
    "version": 3
   },
   "file_extension": ".py",
   "mimetype": "text/x-python",
   "name": "python",
   "nbconvert_exporter": "python",
   "pygments_lexer": "ipython3",
   "version": "3.12.7"
  }
 },
 "nbformat": 4,
 "nbformat_minor": 5
}
