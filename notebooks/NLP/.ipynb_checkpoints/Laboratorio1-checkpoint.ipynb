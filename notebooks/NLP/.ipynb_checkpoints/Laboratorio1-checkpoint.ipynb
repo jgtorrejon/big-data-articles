{
 "cells": [
  {
   "cell_type": "markdown",
   "id": "0de57cbb-8cd5-45bf-b92b-e9932afe4a8b",
   "metadata": {},
   "source": [
    "## Laboratorio 1\n",
    "### Integrantes:\n",
    "- Brandon Valle"
   ]
  },
  {
   "cell_type": "code",
   "execution_count": 29,
   "id": "202770d5-1d39-4b1c-ab32-8b4824bab668",
   "metadata": {},
   "outputs": [],
   "source": [
    "# Preprocesamiento de texto de \"Alice in Wonderland\"\n",
    "import nltk\n",
    "import string\n",
    "import re\n",
    "import matplotlib.pyplot as plt\n",
    "import seaborn as sns\n",
    "from nltk.corpus import gutenberg, stopwords\n",
    "from nltk.tokenize import word_tokenize\n",
    "from collections import Counter\n",
    "import pandas as pd"
   ]
  },
  {
   "cell_type": "code",
   "execution_count": 30,
   "id": "79039d88-38ab-473b-a224-3d0c1913d0bf",
   "metadata": {},
   "outputs": [
    {
     "name": "stderr",
     "output_type": "stream",
     "text": [
      "[nltk_data] Downloading package gutenberg to /root/nltk_data...\n",
      "[nltk_data]   Package gutenberg is already up-to-date!\n",
      "[nltk_data] Downloading package punkt to /root/nltk_data...\n",
      "[nltk_data]   Package punkt is already up-to-date!\n",
      "[nltk_data] Downloading package stopwords to /root/nltk_data...\n",
      "[nltk_data]   Package stopwords is already up-to-date!\n"
     ]
    },
    {
     "data": {
      "text/plain": [
       "True"
      ]
     },
     "execution_count": 30,
     "metadata": {},
     "output_type": "execute_result"
    }
   ],
   "source": [
    "# Descargar recursos necesarios\n",
    "nltk.download('gutenberg')\n",
    "nltk.download('punkt')\n",
    "nltk.download('stopwords')"
   ]
  },
  {
   "cell_type": "code",
   "execution_count": 31,
   "id": "ff3e8331-25d6-43ea-85d4-9726c0f81b32",
   "metadata": {},
   "outputs": [],
   "source": [
    "# 1. Cargar el texto\n",
    "raw_text = nltk.corpus.gutenberg.raw('carroll-alice.txt')"
   ]
  },
  {
   "cell_type": "code",
   "execution_count": 32,
   "id": "8a47f469-43cb-4a6a-a929-b98571711269",
   "metadata": {},
   "outputs": [
    {
     "data": {
      "text/plain": [
       "['[',\n",
       " 'Alice',\n",
       " \"'s\",\n",
       " 'Adventures',\n",
       " 'in',\n",
       " 'Wonderland',\n",
       " 'by',\n",
       " 'Lewis',\n",
       " 'Carroll',\n",
       " '1865']"
      ]
     },
     "execution_count": 32,
     "metadata": {},
     "output_type": "execute_result"
    }
   ],
   "source": [
    "# 2. Tokenizar\n",
    "tokens = word_tokenize(raw_text)\n",
    "tokens[:10]"
   ]
  },
  {
   "cell_type": "code",
   "execution_count": 33,
   "id": "ff46649b-ecbd-472e-9d6e-c935a5c2a73a",
   "metadata": {},
   "outputs": [
    {
     "data": {
      "text/plain": [
       "['[',\n",
       " 'alice',\n",
       " \"'s\",\n",
       " 'adventures',\n",
       " 'in',\n",
       " 'wonderland',\n",
       " 'by',\n",
       " 'lewis',\n",
       " 'carroll',\n",
       " '1865']"
      ]
     },
     "execution_count": 33,
     "metadata": {},
     "output_type": "execute_result"
    }
   ],
   "source": [
    "# 3. Convertir a minúsculas\n",
    "tokens = [word.lower() for word in tokens]\n",
    "tokens[:10]"
   ]
  },
  {
   "cell_type": "code",
   "execution_count": 34,
   "id": "4e787f7f-51af-4b3e-be5c-7e65e09cc68c",
   "metadata": {},
   "outputs": [
    {
     "data": {
      "text/plain": [
       "['',\n",
       " 'alice',\n",
       " 's',\n",
       " 'adventures',\n",
       " 'in',\n",
       " 'wonderland',\n",
       " 'by',\n",
       " 'lewis',\n",
       " 'carroll',\n",
       " '1865']"
      ]
     },
     "execution_count": 34,
     "metadata": {},
     "output_type": "execute_result"
    }
   ],
   "source": [
    "# 4. Eliminar signos de puntuación\n",
    "re_punc = re.compile('[%s]' % re.escape(string.punctuation))\n",
    "stripped = [re_punc.sub('', word) for word in tokens]\n",
    "stripped[:10]"
   ]
  },
  {
   "cell_type": "code",
   "execution_count": 35,
   "id": "f701a6db-8ec2-48a3-a50e-0fceab4c1739",
   "metadata": {},
   "outputs": [
    {
     "data": {
      "text/plain": [
       "['alice',\n",
       " 's',\n",
       " 'adventures',\n",
       " 'in',\n",
       " 'wonderland',\n",
       " 'by',\n",
       " 'lewis',\n",
       " 'carroll',\n",
       " 'chapter',\n",
       " 'i']"
      ]
     },
     "execution_count": 35,
     "metadata": {},
     "output_type": "execute_result"
    }
   ],
   "source": [
    "# 5. Eliminar tokens no alfabéticos\n",
    "words = [word for word in stripped if word.isalpha()]\n",
    "words[:10]"
   ]
  },
  {
   "cell_type": "code",
   "execution_count": 36,
   "id": "750d3fb0-68eb-4eaa-b9e9-d2ec9006bfcc",
   "metadata": {},
   "outputs": [
    {
     "data": {
      "text/plain": [
       "['alice',\n",
       " 'adventures',\n",
       " 'wonderland',\n",
       " 'lewis',\n",
       " 'carroll',\n",
       " 'chapter',\n",
       " 'rabbithole',\n",
       " 'alice',\n",
       " 'beginning',\n",
       " 'get']"
      ]
     },
     "execution_count": 36,
     "metadata": {},
     "output_type": "execute_result"
    }
   ],
   "source": [
    "# 6. Eliminar stopwords (palabras vacías)\n",
    "stop_words = set(stopwords.words('english'))\n",
    "clean_words = [word for word in words if word not in stop_words]\n",
    "clean_words[:10]"
   ]
  },
  {
   "cell_type": "code",
   "execution_count": 37,
   "id": "8fac0da1-0576-4441-9536-57c9ca0cba11",
   "metadata": {},
   "outputs": [
    {
     "data": {
      "text/plain": [
       "[('said', 462),\n",
       " ('alice', 398),\n",
       " ('nt', 217),\n",
       " ('little', 128),\n",
       " ('one', 104),\n",
       " ('would', 96),\n",
       " ('know', 88),\n",
       " ('could', 86),\n",
       " ('like', 85),\n",
       " ('went', 83),\n",
       " ('queen', 75),\n",
       " ('thought', 74),\n",
       " ('time', 68),\n",
       " ('see', 67),\n",
       " ('king', 63),\n",
       " ('well', 60),\n",
       " ('turtle', 59),\n",
       " ('began', 58),\n",
       " ('hatter', 56),\n",
       " ('mock', 56)]"
      ]
     },
     "execution_count": 37,
     "metadata": {},
     "output_type": "execute_result"
    }
   ],
   "source": [
    "# 7. Obtener las 20 palabras más frecuentes\n",
    "## Bag of Words\n",
    "word_freq = Counter(clean_words)\n",
    "top_words = word_freq.most_common(20)\n",
    "top_words"
   ]
  },
  {
   "cell_type": "code",
   "execution_count": 38,
   "id": "18cd6e35-7ca0-4c0b-9dba-ce28c7501f2f",
   "metadata": {},
   "outputs": [
    {
     "data": {
      "text/html": [
       "<div>\n",
       "<style scoped>\n",
       "    .dataframe tbody tr th:only-of-type {\n",
       "        vertical-align: middle;\n",
       "    }\n",
       "\n",
       "    .dataframe tbody tr th {\n",
       "        vertical-align: top;\n",
       "    }\n",
       "\n",
       "    .dataframe thead th {\n",
       "        text-align: right;\n",
       "    }\n",
       "</style>\n",
       "<table border=\"1\" class=\"dataframe\">\n",
       "  <thead>\n",
       "    <tr style=\"text-align: right;\">\n",
       "      <th></th>\n",
       "      <th>word</th>\n",
       "      <th>frequency</th>\n",
       "    </tr>\n",
       "  </thead>\n",
       "  <tbody>\n",
       "    <tr>\n",
       "      <th>0</th>\n",
       "      <td>said</td>\n",
       "      <td>462</td>\n",
       "    </tr>\n",
       "    <tr>\n",
       "      <th>1</th>\n",
       "      <td>alice</td>\n",
       "      <td>398</td>\n",
       "    </tr>\n",
       "    <tr>\n",
       "      <th>2</th>\n",
       "      <td>nt</td>\n",
       "      <td>217</td>\n",
       "    </tr>\n",
       "    <tr>\n",
       "      <th>3</th>\n",
       "      <td>little</td>\n",
       "      <td>128</td>\n",
       "    </tr>\n",
       "    <tr>\n",
       "      <th>4</th>\n",
       "      <td>one</td>\n",
       "      <td>104</td>\n",
       "    </tr>\n",
       "  </tbody>\n",
       "</table>\n",
       "</div>"
      ],
      "text/plain": [
       "     word  frequency\n",
       "0    said        462\n",
       "1   alice        398\n",
       "2      nt        217\n",
       "3  little        128\n",
       "4     one        104"
      ]
     },
     "execution_count": 38,
     "metadata": {},
     "output_type": "execute_result"
    }
   ],
   "source": [
    "# 8. Convertir a DataFrame para graficar\n",
    "df_top_words = pd.DataFrame(top_words, columns=['word', 'frequency'])\n",
    "df_top_words.head(5)"
   ]
  },
  {
   "cell_type": "code",
   "execution_count": 39,
   "id": "bbdd0d38-8a5b-436d-963d-6a58ccc882d4",
   "metadata": {},
   "outputs": [
    {
     "name": "stderr",
     "output_type": "stream",
     "text": [
      "/tmp/ipykernel_173/284110689.py:3: FutureWarning: \n",
      "\n",
      "Passing `palette` without assigning `hue` is deprecated and will be removed in v0.14.0. Assign the `y` variable to `hue` and set `legend=False` for the same effect.\n",
      "\n",
      "  sns.barplot(x='frequency', y='word', data=df_top_words, palette='magma')\n"
     ]
    },
    {
     "data": {
      "image/png": "[encoded data removed]",
      "text/plain": [
       "<Figure size 1200x600 with 1 Axes>"
      ]
     },
     "metadata": {},
     "output_type": "display_data"
    }
   ],
   "source": [
    "# 9. Graficar\n",
    "plt.figure(figsize=(12, 6))\n",
    "sns.barplot(x='frequency', y='word', data=df_top_words, palette='magma')\n",
    "plt.title('Top 20 most frequent words in \"Alice in Wonderland\" (after preprocessing)')\n",
    "plt.xlabel('Frequency')\n",
    "plt.ylabel('Words')\n",
    "plt.tight_layout()\n",
    "plt.show()"
   ]
  },
  {
   "cell_type": "code",
   "execution_count": 40,
   "id": "4f29548e-4802-4815-9932-02f27a9ebe4c",
   "metadata": {},
   "outputs": [
    {
     "name": "stdout",
     "output_type": "stream",
     "text": [
      "Top 10 Bigrams:\n",
      "('said', 'alice'): 123\n",
      "('mock', 'turtle'): 56\n",
      "('march', 'hare'): 31\n",
      "('said', 'king'): 29\n",
      "('ca', 'nt'): 28\n",
      "('thought', 'alice'): 26\n",
      "('wo', 'nt'): 24\n",
      "('white', 'rabbit'): 22\n",
      "('said', 'hatter'): 22\n",
      "('said', 'mock'): 20\n",
      "\n",
      "Top 10 Trigrams:\n",
      "('said', 'mock', 'turtle'): 20\n",
      "('said', 'march', 'hare'): 9\n",
      "('nt', 'wo', 'nt'): 7\n",
      "('poor', 'little', 'thing'): 6\n",
      "('wo', 'nt', 'wo'): 6\n",
      "('little', 'golden', 'key'): 5\n",
      "('certainly', 'said', 'alice'): 5\n",
      "('white', 'kid', 'gloves'): 5\n",
      "('said', 'alice', 'nt'): 5\n",
      "('march', 'hare', 'said'): 5\n"
     ]
    }
   ],
   "source": [
    "## B. N-grams (Bigrams y Trigrams)\n",
    "from nltk.util import ngrams\n",
    "from collections import Counter\n",
    "\n",
    "# Bigrams\n",
    "bigrams = list(ngrams(clean_words, 2))\n",
    "bigram_freq = Counter(bigrams).most_common(10)\n",
    "\n",
    "# Trigrams\n",
    "trigrams = list(ngrams(clean_words, 3))\n",
    "trigram_freq = Counter(trigrams).most_common(10)\n",
    "\n",
    "# Mostrar resultados\n",
    "print(\"Top 10 Bigrams:\")\n",
    "for bigram, freq in bigram_freq:\n",
    "    print(f\"{bigram}: {freq}\")\n",
    "\n",
    "print(\"\\nTop 10 Trigrams:\")\n",
    "for trigram, freq in trigram_freq:\n",
    "    print(f\"{trigram}: {freq}\")"
   ]
  },
  {
   "cell_type": "code",
   "execution_count": 41,
   "id": "91096fea-b753-4b9e-b1f6-6f8a8aa72b41",
   "metadata": {},
   "outputs": [
    {
     "name": "stdout",
     "output_type": "stream",
     "text": [
      "\n",
      "Top 15 palabras/frases con mayor TF-IDF promedio:\n",
      "said: 0.0405\n",
      "alice: 0.0313\n",
      "said alice: 0.0196\n",
      "know: 0.0110\n",
      "thought: 0.0098\n",
      "like: 0.0095\n",
      "little: 0.0093\n",
      "queen: 0.0090\n",
      "come: 0.0085\n",
      "king: 0.0083\n",
      "hatter: 0.0082\n",
      "went: 0.0081\n",
      "don: 0.0079\n",
      "gryphon: 0.0078\n",
      "oh: 0.0077\n"
     ]
    }
   ],
   "source": [
    "## C. TF-IDF (Término Frecuencia-Inversa Frecuencia de Documento)\n",
    "from sklearn.feature_extraction.text import TfidfVectorizer\n",
    "from nltk.tokenize import sent_tokenize\n",
    "\n",
    "# Tokenizar en frases\n",
    "sentences = sent_tokenize(raw_text)\n",
    "\n",
    "# Vectorizador TF-IDF\n",
    "vectorizer = TfidfVectorizer(stop_words='english', ngram_range=(1, 2))  # incluye unigramas y bigramas\n",
    "tfidf_matrix = vectorizer.fit_transform(sentences)\n",
    "\n",
    "# Calcular importancia promedio por palabra\n",
    "import numpy as np\n",
    "tfidf_means = np.asarray(tfidf_matrix.mean(axis=0)).flatten()\n",
    "feature_names = vectorizer.get_feature_names_out()\n",
    "\n",
    "# Ordenar por mayor peso TF-IDF promedio\n",
    "tfidf_scores = list(zip(feature_names, tfidf_means))\n",
    "tfidf_scores.sort(key=lambda x: x[1], reverse=True)\n",
    "\n",
    "# Mostrar top 15 términos/frases con mayor TF-IDF\n",
    "print(\"\\nTop 15 palabras/frases con mayor TF-IDF promedio:\")\n",
    "for term, score in tfidf_scores[:15]:\n",
    "    print(f\"{term}: {score:.4f}\")"
   ]
  },
  {
   "cell_type": "markdown",
   "id": "14966373-558d-45ac-bfb1-8701bce087f5",
   "metadata": {},
   "source": [
    "### ¿Qué diferencias encuentras entre los resultados de BoW, N-grams y TF-IDF?\n",
    "\n",
    "**Bag of Words (BoW)** muestra las **palabras individuales más frecuentes**, como “said”, “alice”, “little”, y “one”. Este modelo ignora el contexto, por lo que muchas de las palabras reflejan el estilo narrativo del autor sin mostrar relaciones entre términos.\n",
    "\n",
    "**N-grams**, en cambio, captura **combinaciones de palabras consecutivas** como:\n",
    "- Bigrams: `('said', 'alice')`, `('mock', 'turtle')`\n",
    "- Trigrams: `('said', 'mock', 'turtle')`, `('little', 'golden', 'key')`\n",
    "\n",
    "Esto permite identificar frases comunes o expresiones propias del texto que no se detectan con BoW.\n",
    "\n",
    "**TF-IDF** destaca palabras que **no solo son frecuentes**, sino que **aportan valor distintivo** dentro de ciertas frases. Aunque “said” y “alice” siguen siendo relevantes, aparecen otras menos repetidas pero significativas como “gryphon”, “hatter” u “oh”."
   ]
  },
  {
   "cell_type": "markdown",
   "id": "9e29284b-2c88-4865-a7d6-23df06197b1c",
   "metadata": {},
   "source": [
    "### ¿Por qué el TF-IDF resalta palabras diferentes de BoW?\n",
    "\n",
    "TF-IDF penaliza palabras que se repiten en **muchas frases** y favorece aquellas que son **únicas en contextos específicos**.\n",
    "\n",
    "- Palabras como “said” aparecen en casi todas las frases, por lo que su TF-IDF es moderado.\n",
    "- Palabras como “gryphon” o “hatter”, aunque poco frecuentes, tienen un **TF-IDF alto** porque destacan en frases particulares.\n",
    "\n",
    "Esto hace que TF-IDF sea ideal para identificar **términos temáticos o narrativos relevantes**, no solo frecuentes."
   ]
  },
  {
   "cell_type": "markdown",
   "id": "e61cfd9b-6576-4dc6-9280-8d0b93a35da9",
   "metadata": {},
   "source": [
    "### ¿Cómo podrían usar estos resultados en marketing editorial?\n",
    "\n",
    "1. **Diseño de portadas o títulos atractivos**: Frases como “Mock Turtle” o “Golden Key” pueden inspirar títulos de capítulos o slogans publicitarios.\n",
    "2. **Identificación de personajes clave**: Palabras como “Hatter” o “Gryphon” (detectadas por TF-IDF) son útiles para crear campañas gráficas o de merchandising.\n",
    "3. **Selección de citas impactantes**: N-grams y TF-IDF ayudan a encontrar frases distintivas del estilo de la novela para contraportadas, redes sociales o reseñas.\n",
    "4. **Adaptaciones modernas o infantiles**: BoW permite detectar vocabulario muy repetido que puede simplificarse o modernizarse en ediciones adaptadas."
   ]
  }
 ],
 "metadata": {
  "kernelspec": {
   "display_name": "Python 3 (ipykernel)",
   "language": "python",
   "name": "python3"
  },
  "language_info": {
   "codemirror_mode": {
    "name": "ipython",
    "version": 3
   },
   "file_extension": ".py",
   "mimetype": "text/x-python",
   "name": "python",
   "nbconvert_exporter": "python",
   "pygments_lexer": "ipython3",
   "version": "3.12.7"
  }
 },
 "nbformat": 4,
 "nbformat_minor": 5
}
