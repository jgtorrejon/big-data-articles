{
 "cells": [
  {
   "cell_type": "code",
   "execution_count": 1,
   "id": "6a525a97-b8bf-4b23-897d-a8d42a87fe39",
   "metadata": {},
   "outputs": [
    {
     "name": "stdout",
     "output_type": "stream",
     "text": [
      "ELIZA: Hola, soy ELIZA. ¿En qué puedo ayudarte hoy?\n"
     ]
    },
    {
     "name": "stdin",
     "output_type": "stream",
     "text": [
      "Tú:  hola como estas\n"
     ]
    },
    {
     "name": "stdout",
     "output_type": "stream",
     "text": [
      "ELIZA: ¿Puedes explicarlo mejor?\n"
     ]
    },
    {
     "name": "stdin",
     "output_type": "stream",
     "text": [
      "Tú:  quisiera que leas un libro \n"
     ]
    },
    {
     "name": "stdout",
     "output_type": "stream",
     "text": [
      "ELIZA: Cuéntame más.\n"
     ]
    },
    {
     "name": "stdin",
     "output_type": "stream",
     "text": [
      "Tú:  sobre el libro?\n"
     ]
    },
    {
     "name": "stdout",
     "output_type": "stream",
     "text": [
      "ELIZA: Entiendo. ¿Puedes elaborar un poco más?\n"
     ]
    },
    {
     "name": "stdin",
     "output_type": "stream",
     "text": [
      "Tú:  es un libro de ciencia ficcion \n"
     ]
    },
    {
     "name": "stdout",
     "output_type": "stream",
     "text": [
      "ELIZA: ¿Por qué dices eso?\n"
     ]
    },
    {
     "name": "stdin",
     "output_type": "stream",
     "text": [
      "Tú:  por que es un libro intersante\n"
     ]
    },
    {
     "name": "stdout",
     "output_type": "stream",
     "text": [
      "ELIZA: Cuéntame más.\n"
     ]
    },
    {
     "name": "stdin",
     "output_type": "stream",
     "text": [
      "Tú:  salir\n"
     ]
    },
    {
     "name": "stdout",
     "output_type": "stream",
     "text": [
      "ELIZA: Hasta pronto.\n"
     ]
    }
   ],
   "source": [
    "import re\n",
    "import random\n",
    "\n",
    "# Diccionario de respuestas por patrón\n",
    "rules = [\n",
    "    (r'yo necesito (.*)',\n",
    "     [\"¿Por qué necesitas {0}?\",\n",
    "      \"¿Te ayudaría obtener {0}?\",\n",
    "      \"¿Estás seguro de que necesitas {0}?\"]),\n",
    "\n",
    "    (r'yo estoy (.*)',\n",
    "     [\"¿Desde cuándo estás {0}?\",\n",
    "      \"¿Cómo te hace sentir estar {0}?\",\n",
    "      \"¿Por qué crees que estás {0}?\"]),\n",
    "\n",
    "    (r'mi (.*)',\n",
    "     [\"Hablemos más sobre tu {0}.\",\n",
    "      \"¿Tu {0} tiene importancia para ti?\",\n",
    "      \"¿Por qué mencionas tu {0}?\"]),\n",
    "\n",
    "    (r'(.*) madre(.*)',\n",
    "     [\"Cuéntame más sobre tu madre.\",\n",
    "      \"¿Cómo es tu relación con tu madre?\",\n",
    "      \"¿Tu madre tiene un rol importante en tu vida?\"]),\n",
    "\n",
    "    (r'yo no puedo (.*)',\n",
    "     [\"¿Qué te impide {0}?\",\n",
    "      \"¿Has intentado realmente {0}?\",\n",
    "      \"¿Por qué no puedes {0}?\"]),\n",
    "\n",
    "    (r'quiero (.*)',\n",
    "     [\"¿Por qué quieres {0}?\",\n",
    "      \"¿Te haría feliz conseguir {0}?\",\n",
    "      \"¿Qué significaría para ti lograr {0}?\"]),\n",
    "\n",
    "    (r'no sé (.*)',\n",
    "     [\"¿Por qué crees que no sabes {0}?\",\n",
    "      \"¿Qué pasaría si supieras {0}?\",\n",
    "      \"¿Te gustaría saber {0}?\"]),\n",
    "\n",
    "    (r'salir',\n",
    "     [\"Fue un gusto hablar contigo. ¡Adiós!\"]),\n",
    "    \n",
    "    (r'(.*)',\n",
    "     [\"Cuéntame más.\",\n",
    "      \"Entiendo. ¿Puedes elaborar un poco más?\",\n",
    "      \"¿Por qué dices eso?\",\n",
    "      \"¿Puedes explicarlo mejor?\"])\n",
    "]\n",
    "\n",
    "# Reflejo simple (yo -> tú, mi -> tu, etc.)\n",
    "reflections = {\n",
    "    \"yo\": \"tú\",\n",
    "    \"mi\": \"tu\",\n",
    "    \"me\": \"te\",\n",
    "    \"soy\": \"eres\",\n",
    "    \"estoy\": \"estás\",\n",
    "    \"mío\": \"tuyo\",\n",
    "    \"conmigo\": \"contigo\"\n",
    "}\n",
    "\n",
    "def reflect(fragment):\n",
    "    words = fragment.lower().split()\n",
    "    return ' '.join([reflections.get(w, w) for w in words])\n",
    "\n",
    "def eliza_response(text):\n",
    "    for pattern, responses in rules:\n",
    "        match = re.match(pattern, text.lower())\n",
    "        if match:\n",
    "            resp = random.choice(responses)\n",
    "            fragment = reflect(match.group(1)) if match.lastindex else \"\"\n",
    "            return resp.format(fragment)\n",
    "    return \"¿Puedes explicarme mejor eso?\"\n",
    "\n",
    "# Conversación\n",
    "print(\"ELIZA: Hola, soy ELIZA. ¿En qué puedo ayudarte hoy?\")\n",
    "while True:\n",
    "    user_input = input(\"Tú: \")\n",
    "    if user_input.lower() in [\"salir\", \"adiós\", \"chao\"]:\n",
    "        print(\"ELIZA: Hasta pronto.\")\n",
    "        break\n",
    "    print(\"ELIZA:\", eliza_response(user_input))\n"
   ]
  },
  {
   "cell_type": "code",
   "execution_count": null,
   "id": "d30d511a-1815-4974-a875-fcdae3c45929",
   "metadata": {},
   "outputs": [],
   "source": []
  }
 ],
 "metadata": {
  "kernelspec": {
   "display_name": "Python 3 (ipykernel)",
   "language": "python",
   "name": "python3"
  },
  "language_info": {
   "codemirror_mode": {
    "name": "ipython",
    "version": 3
   },
   "file_extension": ".py",
   "mimetype": "text/x-python",
   "name": "python",
   "nbconvert_exporter": "python",
   "pygments_lexer": "ipython3",
   "version": "3.11.7"
  }
 },
 "nbformat": 4,
 "nbformat_minor": 5
}
