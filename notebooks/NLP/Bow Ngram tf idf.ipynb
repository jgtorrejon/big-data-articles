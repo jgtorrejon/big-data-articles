{
 "cells": [
  {
   "cell_type": "markdown",
   "id": "0e91ed28-6640-47ef-9249-9f5479660fee",
   "metadata": {},
   "source": [
    "### Bag of Words"
   ]
  },
  {
   "cell_type": "code",
   "execution_count": null,
   "id": "07652bf8-87d0-4700-ac96-d81744231ed2",
   "metadata": {},
   "outputs": [],
   "source": [
    "from collections import Counter\n",
    "import math"
   ]
  },
  {
   "cell_type": "code",
   "execution_count": null,
   "id": "40fce388-6f6b-478a-a610-36cd875fa788",
   "metadata": {},
   "outputs": [],
   "source": [
    "# 1. Definir las frases\n",
    "corpus = [\n",
    "    \"el gato duerme\",\n",
    "    \"el perro corre\"\n",
    "]"
   ]
  },
  {
   "cell_type": "code",
   "execution_count": null,
   "id": "14afe895-3417-45be-b417-67398522d536",
   "metadata": {},
   "outputs": [],
   "source": [
    "# 2. Tokenizar las frases\n",
    "tokenized_corpus = [sentence.split() for sentence in corpus]"
   ]
  },
  {
   "cell_type": "code",
   "execution_count": null,
   "id": "e97f5127-5749-42c8-9942-13adc0cb76b1",
   "metadata": {},
   "outputs": [],
   "source": [
    "tokenized_corpus"
   ]
  },
  {
   "cell_type": "code",
   "execution_count": null,
   "id": "588bbf0c-f938-40c9-b879-2b51958580aa",
   "metadata": {},
   "outputs": [],
   "source": [
    "# 3. Construir el vocabulario\n",
    "all_words = []\n",
    "for sentence in tokenized_corpus:\n",
    "    for word in sentence:\n",
    "        all_words.append(word)\n",
    "\n",
    "vocabulary = sorted(set(all_words))\n",
    "print(\"Vocabulario:\", vocabulary)"
   ]
  },
  {
   "cell_type": "code",
   "execution_count": null,
   "id": "b9b62a69-6068-4f28-9e72-fdbee465f541",
   "metadata": {},
   "outputs": [],
   "source": [
    "# 4. Construir Bag of Words (BoW)\n",
    "def build_bow(tokens, vocabulary):\n",
    "    bow = Counter(tokens)\n",
    "    return [bow[word] for word in vocabulary]\n",
    "\n",
    "bows = [build_bow(sentence, vocabulary) for sentence in tokenized_corpus]\n",
    "\n",
    "print(\"\\nBag of Words (conteo):\")\n",
    "for i, bow in enumerate(bows):\n",
    "    print(f\"Frase {i+1}: {bow}\")\n"
   ]
  },
  {
   "cell_type": "markdown",
   "id": "9173c38f-7368-4bac-8705-d887f1247140",
   "metadata": {},
   "source": [
    "## N-grams,  Bigramas"
   ]
  },
  {
   "cell_type": "code",
   "execution_count": null,
   "id": "3d870c29-3c6a-4ea6-84f3-8fcf30ab1a5b",
   "metadata": {},
   "outputs": [],
   "source": [
    "# 5. Construir Bigrams\n",
    "def generate_bigrams(tokens):\n",
    "    return list(zip(tokens, tokens[1:]))\n",
    "\n",
    "print(\"\\nBigrams:\")\n",
    "for i, sentence in enumerate(tokenized_corpus):\n",
    "    print(f\"Frase {i+1}: {generate_bigrams(sentence)}\")"
   ]
  },
  {
   "cell_type": "code",
   "execution_count": null,
   "id": "5deade3f-6dff-476c-90a0-22eed9648184",
   "metadata": {},
   "outputs": [],
   "source": [
    "tokenized_corpus[1:]"
   ]
  },
  {
   "cell_type": "markdown",
   "id": "8cfc3f25-a982-4cfc-ab22-adbdb6df09a0",
   "metadata": {},
   "source": [
    "#### Otro ejemplo con bigramas"
   ]
  },
  {
   "cell_type": "code",
   "execution_count": null,
   "id": "96cd9f7e-27ee-491b-a41f-fbd119b06014",
   "metadata": {},
   "outputs": [],
   "source": [
    "# corpus pequeño de ejemplo\n",
    "corpus = [\n",
    "    \"el gato duerme\",\n",
    "    \"el perro ladra\",\n",
    "    \"el gato salta\",\n",
    "    \"el perro corre\",\n",
    "    \"el gato maulla\"\n",
    "]\n",
    "\n",
    "# Paso 1: Tokenizar (separar palabras)\n",
    "tokens = []\n",
    "for sentence in corpus:\n",
    "    tokens.extend(sentence.split())\n",
    "\n",
    "print(\"Tokens:\", tokens)\n"
   ]
  },
  {
   "cell_type": "code",
   "execution_count": null,
   "id": "1f37d032-9835-40c2-ab6d-1a9dc5dd6a52",
   "metadata": {},
   "outputs": [],
   "source": [
    "# Contar bigramas y palabras\n",
    "# utilizando la libreria nltk ya tiene una funcion que permite generar bigrams\n",
    "import matplotlib.pyplot as plt\n",
    "from collections import Counter\n",
    "from nltk import bigrams\n",
    "\n",
    "# Contar palabras (unigramas)\n",
    "unigram_counts = Counter(tokens)\n",
    "\n",
    "# Contar bigramas\n",
    "bigram_counts = Counter(bigrams(tokens))\n",
    "\n",
    "print(\"\\nConteo de unigramas:\")\n",
    "print(unigram_counts)\n",
    "\n",
    "print(\"\\nConteo de bigramas:\")\n",
    "print(bigram_counts)\n",
    "\n",
    "\n"
   ]
  },
  {
   "cell_type": "code",
   "execution_count": null,
   "id": "4fb0d8f1-fa7b-4fba-8f96-35c9713748c7",
   "metadata": {},
   "outputs": [],
   "source": [
    "Counter(tokens)"
   ]
  },
  {
   "cell_type": "code",
   "execution_count": null,
   "id": "b47eef10-910a-437d-bdab-e430ee63c3da",
   "metadata": {},
   "outputs": [],
   "source": [
    "Counter(bigrams(tokens))"
   ]
  },
  {
   "cell_type": "code",
   "execution_count": null,
   "id": "75f1e01c-040d-46aa-a294-83b1b82f069b",
   "metadata": {},
   "outputs": [],
   "source": [
    "from nltk import trigrams\n",
    "Counter(trigrams(tokens))"
   ]
  },
  {
   "attachments": {
    "03cf8ff2-ef5d-40fa-9dad-ed31a741c85f.png": {
     "image/png": "[encoded data removed]"
    }
   },
   "cell_type": "markdown",
   "id": "06f8b361-33e2-46b1-af12-4cb3b02f9550",
   "metadata": {},
   "source": [
    "### Calculando la probabilidad del bigrama\n",
    "\n",
    "![image.png](attachment:03cf8ff2-ef5d-40fa-9dad-ed31a741c85f.png)\n"
   ]
  },
  {
   "cell_type": "code",
   "execution_count": null,
   "id": "b56539f2-89f0-48b5-99f8-92c31a208e29",
   "metadata": {},
   "outputs": [],
   "source": [
    "def mle_probability(word1, word2):\n",
    "    bigram_count = bigram_counts[(word1, word2)]\n",
    "    unigram_count = unigram_counts[word1]\n",
    "    \n",
    "    if unigram_count == 0:\n",
    "        return 0.0  # Evitar división por cero\n",
    "    return bigram_count / unigram_count\n",
    "\n",
    "# Ejemplos:\n",
    "\n",
    "print(\"\\nProbabilidades estimadas:\")\n",
    "\n",
    "pairs_to_check = [\n",
    "    (\"el\", \"gato\"),\n",
    "    (\"el\", \"perro\"),\n",
    "    (\"gato\", \"duerme\"),\n",
    "    (\"perro\", \"ladra\"),\n",
    "    (\"perro\", \"corre\")\n",
    "]\n",
    "\n",
    "for w1, w2 in pairs_to_check:\n",
    "    prob = mle_probability(w1, w2)\n",
    "    print(f\"P({w2} | {w1}) = {prob:.3f}\")\n"
   ]
  },
  {
   "cell_type": "code",
   "execution_count": null,
   "id": "65a5e5bb-d69b-4a68-874c-28c7f84b7783",
   "metadata": {},
   "outputs": [],
   "source": [
    "# Calculamos probabilidades\n",
    "labels = []\n",
    "probs = []\n",
    "\n",
    "for w1, w2 in pairs_to_check:\n",
    "    prob = mle_probability(w1, w2)\n",
    "    labels.append(f\"{w1} → {w2}\")\n",
    "    probs.append(prob)\n",
    "\n",
    "# Mediante el siguiente codigo se realiza el grafico\n",
    "plt.figure(figsize=(10, 6))\n",
    "plt.bar(labels, probs)\n",
    "plt.xlabel('Bigramas (word1 → word2)')\n",
    "plt.ylabel('Probabilidad (MLE)')\n",
    "plt.title('Probabilidad MLE de Bigramas en el Corpus')\n",
    "plt.ylim(0, 1)  # Probabilidades están entre 0 y 1\n",
    "plt.grid(axis='y', linestyle='--', alpha=0.7)\n",
    "plt.xticks(rotation=45)\n",
    "plt.show()"
   ]
  },
  {
   "cell_type": "markdown",
   "id": "6a50ada0-7015-4a85-ac63-0e88437cd4d9",
   "metadata": {},
   "source": [
    "### TF - IDF"
   ]
  },
  {
   "cell_type": "code",
   "execution_count": null,
   "id": "eb5c7360-d5dc-4e7a-84f3-495ac4bab9b6",
   "metadata": {},
   "outputs": [],
   "source": [
    "# 6. Calcular TF\n",
    "def compute_tf(tokens, vocabulary):\n",
    "    counts = Counter(tokens)\n",
    "    total_terms = len(tokens)\n",
    "    return [counts[word]/total_terms for word in vocabulary]\n",
    "\n",
    "tfs = [compute_tf(sentence, vocabulary) for sentence in tokenized_corpus]"
   ]
  },
  {
   "cell_type": "code",
   "execution_count": null,
   "id": "d5196cc5-16d0-4b22-a57f-25cb53154d8a",
   "metadata": {},
   "outputs": [],
   "source": [
    "tfs"
   ]
  },
  {
   "cell_type": "code",
   "execution_count": null,
   "id": "8831beb0-72d9-42e4-affc-16f738038be0",
   "metadata": {},
   "outputs": [],
   "source": [
    "# 7. Calcular IDF\n",
    "def compute_idf(tokenized_corpus, vocabulary):\n",
    "    N = len(tokenized_corpus)\n",
    "    idf = {}\n",
    "    for word in vocabulary:\n",
    "        containing = sum(1 for sentence in tokenized_corpus if word in sentence)\n",
    "        idf[word] = math.log(N / containing) if containing > 0 else 0.0\n",
    "    return idf\n",
    "\n",
    "idf = compute_idf(tokenized_corpus, vocabulary)\n",
    "print(\"\\nIDF por palabra:\", idf)"
   ]
  },
  {
   "cell_type": "code",
   "execution_count": null,
   "id": "cf6427bb-4b19-45f5-ada0-6f93ef46c3c7",
   "metadata": {},
   "outputs": [],
   "source": [
    "# 8. Calcular TF-IDF\n",
    "def compute_tfidf(tf, idf, vocabulary):\n",
    "    return [tf_i * idf[word] for tf_i, word in zip(tf, vocabulary)]\n",
    "\n",
    "tfidfs = [compute_tfidf(tf, idf, vocabulary) for tf in tfs]\n",
    "\n",
    "print(\"\\nTF-IDF:\")\n",
    "for i, tfidf in enumerate(tfidfs):\n",
    "    print(f\"Frase {i+1}: {tfidf}\")"
   ]
  },
  {
   "cell_type": "code",
   "execution_count": null,
   "id": "6faede45-fbe7-465f-8f9a-879e854078f8",
   "metadata": {},
   "outputs": [],
   "source": []
  }
 ],
 "metadata": {
  "kernelspec": {
   "display_name": "Python 3 (ipykernel)",
   "language": "python",
   "name": "python3"
  },
  "language_info": {
   "codemirror_mode": {
    "name": "ipython",
    "version": 3
   },
   "file_extension": ".py",
   "mimetype": "text/x-python",
   "name": "python",
   "nbconvert_exporter": "python",
   "pygments_lexer": "ipython3",
   "version": "3.12.7"
  }
 },
 "nbformat": 4,
 "nbformat_minor": 5
}
