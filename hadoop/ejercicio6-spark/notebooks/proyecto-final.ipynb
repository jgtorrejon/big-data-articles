{
 "cells": [
  {
   "cell_type": "markdown",
   "id": "27ee1d98-821a-490c-8a7a-f1e0a0b0a83f",
   "metadata": {},
   "source": [
    "# Proyecto Final Modulo\n",
    "## Nombre: Darlyn Bravo Peña"
   ]
  },
  {
   "cell_type": "markdown",
   "id": "4e974be2-2f80-4fb4-89c1-1a0a38ecd54e",
   "metadata": {
    "jp-MarkdownHeadingCollapsed": true
   },
   "source": [
    "## Conjunto de Dataset\n",
    "[Red Wine Quality](hps://archive.ics.uci.edu/ml/machine-learning-databases/wine-quality/winequality-red.csv)"
   ]
  },
  {
   "cell_type": "markdown",
   "id": "de91efc3-9703-4735-a0fa-a22af3df24e7",
   "metadata": {
    "jp-MarkdownHeadingCollapsed": true
   },
   "source": [
    "## 1. Conguración e Inicio de Spark\n",
    "\n",
    "We are using 1 worker to make this work"
   ]
  },
  {
   "cell_type": "code",
   "execution_count": 2,
   "id": "4954eacc-a162-4ce2-b4db-7416eedd0953",
   "metadata": {},
   "outputs": [],
   "source": [
    "# Imports\n",
    "from pyspark.sql import SparkSession"
   ]
  },
  {
   "cell_type": "code",
   "execution_count": 4,
   "id": "9bfa0e7a-855d-4462-9656-c6d439064407",
   "metadata": {},
   "outputs": [
    {
     "name": "stdout",
     "output_type": "stream",
     "text": [
      "[('spark.driver.port', '43205'), ('spark.executor.id', 'driver'), ('spark.driver.memory', '1g'), ('spark.driver.host', '32d4c8e10f1a'), ('spark.driver.extraJavaOptions', '-Djava.net.preferIPv6Addresses=false -XX:+IgnoreUnrecognizedVMOptions --add-opens=java.base/java.lang=ALL-UNNAMED --add-opens=java.base/java.lang.invoke=ALL-UNNAMED --add-opens=java.base/java.lang.reflect=ALL-UNNAMED --add-opens=java.base/java.io=ALL-UNNAMED --add-opens=java.base/java.net=ALL-UNNAMED --add-opens=java.base/java.nio=ALL-UNNAMED --add-opens=java.base/java.util=ALL-UNNAMED --add-opens=java.base/java.util.concurrent=ALL-UNNAMED --add-opens=java.base/java.util.concurrent.atomic=ALL-UNNAMED --add-opens=java.base/sun.nio.ch=ALL-UNNAMED --add-opens=java.base/sun.nio.cs=ALL-UNNAMED --add-opens=java.base/sun.security.action=ALL-UNNAMED --add-opens=java.base/sun.util.calendar=ALL-UNNAMED --add-opens=java.security.jgss/sun.security.krb5=ALL-UNNAMED -Djdk.reflect.useDirectMethodHandle=false'), ('spark.app.name', 'NoteBookFinalSession'), ('spark.rdd.compress', 'True'), ('spark.app.id', 'local-1753459533665'), ('spark.serializer.objectStreamReset', '100'), ('spark.master', 'local[*]'), ('spark.submit.pyFiles', ''), ('spark.submit.deployMode', 'client'), ('spark.app.submitTime', '1753459532481'), ('spark.sql.warehouse.dir', 'file:/home/jovyan/work/spark-warehouse'), ('spark.app.startTime', '1753459532648'), ('spark.ui.showConsoleProgress', 'true'), ('spark.executor.extraJavaOptions', '-Djava.net.preferIPv6Addresses=false -XX:+IgnoreUnrecognizedVMOptions --add-opens=java.base/java.lang=ALL-UNNAMED --add-opens=java.base/java.lang.invoke=ALL-UNNAMED --add-opens=java.base/java.lang.reflect=ALL-UNNAMED --add-opens=java.base/java.io=ALL-UNNAMED --add-opens=java.base/java.net=ALL-UNNAMED --add-opens=java.base/java.nio=ALL-UNNAMED --add-opens=java.base/java.util=ALL-UNNAMED --add-opens=java.base/java.util.concurrent=ALL-UNNAMED --add-opens=java.base/java.util.concurrent.atomic=ALL-UNNAMED --add-opens=java.base/sun.nio.ch=ALL-UNNAMED --add-opens=java.base/sun.nio.cs=ALL-UNNAMED --add-opens=java.base/sun.security.action=ALL-UNNAMED --add-opens=java.base/sun.util.calendar=ALL-UNNAMED --add-opens=java.security.jgss/sun.security.krb5=ALL-UNNAMED -Djdk.reflect.useDirectMethodHandle=false')]\n"
     ]
    }
   ],
   "source": [
    "# Session builder\n",
    "spark = SparkSession.builder \\\n",
    "    .appName(\"NoteBookFinalSession\") \\\n",
    "    .getOrCreate()\n",
    "\n",
    "# Verifying the current session builder (only for testing purpose)\n",
    "print(spark.sparkContext.getConf().getAll())"
   ]
  },
  {
   "cell_type": "markdown",
   "id": "9b8ced70-61a8-4ecb-8edf-e5b1a0b1d874",
   "metadata": {},
   "source": [
    "## 2. Carga y Exploración de Datos (ETL)"
   ]
  },
  {
   "cell_type": "code",
   "execution_count": 7,
   "id": "7b905a94-4436-4889-be64-f226ccfed5ab",
   "metadata": {},
   "outputs": [
    {
     "name": "stdout",
     "output_type": "stream",
     "text": [
      "Dataset loaded successfully\n"
     ]
    }
   ],
   "source": [
    "df = spark.read.csv('/data/winequality-red.csv', header=True, inferSchema=True, sep=';')\n",
    "print(\"Dataset loaded successfully\")"
   ]
  },
  {
   "cell_type": "markdown",
   "id": "0fef552a-3f22-4b90-9414-3aadac461944",
   "metadata": {},
   "source": [
    "### Exploratory Analysis"
   ]
  },
  {
   "cell_type": "code",
   "execution_count": 8,
   "id": "cba9c2c1-d1be-4794-94cf-792aec7ef5be",
   "metadata": {},
   "outputs": [
    {
     "name": "stdout",
     "output_type": "stream",
     "text": [
      "root\n",
      " |-- fixed acidity: double (nullable = true)\n",
      " |-- volatile acidity: double (nullable = true)\n",
      " |-- citric acid: double (nullable = true)\n",
      " |-- residual sugar: double (nullable = true)\n",
      " |-- chlorides: double (nullable = true)\n",
      " |-- free sulfur dioxide: double (nullable = true)\n",
      " |-- total sulfur dioxide: double (nullable = true)\n",
      " |-- density: double (nullable = true)\n",
      " |-- pH: double (nullable = true)\n",
      " |-- sulphates: double (nullable = true)\n",
      " |-- alcohol: double (nullable = true)\n",
      " |-- quality: integer (nullable = true)\n",
      "\n"
     ]
    }
   ],
   "source": [
    "# Print Schema\n",
    "df.printSchema()"
   ]
  },
  {
   "cell_type": "code",
   "execution_count": 18,
   "id": "a17fb680-4c7b-4a8b-b06b-13f3d0cb4b24",
   "metadata": {},
   "outputs": [
    {
     "data": {
      "text/html": [
       "<div>\n",
       "<style scoped>\n",
       "    .dataframe tbody tr th:only-of-type {\n",
       "        vertical-align: middle;\n",
       "    }\n",
       "\n",
       "    .dataframe tbody tr th {\n",
       "        vertical-align: top;\n",
       "    }\n",
       "\n",
       "    .dataframe thead th {\n",
       "        text-align: right;\n",
       "    }\n",
       "</style>\n",
       "<table border=\"1\" class=\"dataframe\">\n",
       "  <thead>\n",
       "    <tr style=\"text-align: right;\">\n",
       "      <th></th>\n",
       "      <th>fixed acidity</th>\n",
       "      <th>volatile acidity</th>\n",
       "      <th>citric acid</th>\n",
       "      <th>residual sugar</th>\n",
       "      <th>chlorides</th>\n",
       "      <th>free sulfur dioxide</th>\n",
       "      <th>total sulfur dioxide</th>\n",
       "      <th>density</th>\n",
       "      <th>pH</th>\n",
       "      <th>sulphates</th>\n",
       "      <th>alcohol</th>\n",
       "      <th>quality</th>\n",
       "    </tr>\n",
       "  </thead>\n",
       "  <tbody>\n",
       "    <tr>\n",
       "      <th>0</th>\n",
       "      <td>7.4</td>\n",
       "      <td>0.70</td>\n",
       "      <td>0.00</td>\n",
       "      <td>1.9</td>\n",
       "      <td>0.076</td>\n",
       "      <td>11.0</td>\n",
       "      <td>34.0</td>\n",
       "      <td>0.9978</td>\n",
       "      <td>3.51</td>\n",
       "      <td>0.56</td>\n",
       "      <td>9.4</td>\n",
       "      <td>5</td>\n",
       "    </tr>\n",
       "    <tr>\n",
       "      <th>1</th>\n",
       "      <td>7.8</td>\n",
       "      <td>0.88</td>\n",
       "      <td>0.00</td>\n",
       "      <td>2.6</td>\n",
       "      <td>0.098</td>\n",
       "      <td>25.0</td>\n",
       "      <td>67.0</td>\n",
       "      <td>0.9968</td>\n",
       "      <td>3.20</td>\n",
       "      <td>0.68</td>\n",
       "      <td>9.8</td>\n",
       "      <td>5</td>\n",
       "    </tr>\n",
       "    <tr>\n",
       "      <th>2</th>\n",
       "      <td>7.8</td>\n",
       "      <td>0.76</td>\n",
       "      <td>0.04</td>\n",
       "      <td>2.3</td>\n",
       "      <td>0.092</td>\n",
       "      <td>15.0</td>\n",
       "      <td>54.0</td>\n",
       "      <td>0.9970</td>\n",
       "      <td>3.26</td>\n",
       "      <td>0.65</td>\n",
       "      <td>9.8</td>\n",
       "      <td>5</td>\n",
       "    </tr>\n",
       "    <tr>\n",
       "      <th>3</th>\n",
       "      <td>11.2</td>\n",
       "      <td>0.28</td>\n",
       "      <td>0.56</td>\n",
       "      <td>1.9</td>\n",
       "      <td>0.075</td>\n",
       "      <td>17.0</td>\n",
       "      <td>60.0</td>\n",
       "      <td>0.9980</td>\n",
       "      <td>3.16</td>\n",
       "      <td>0.58</td>\n",
       "      <td>9.8</td>\n",
       "      <td>6</td>\n",
       "    </tr>\n",
       "    <tr>\n",
       "      <th>4</th>\n",
       "      <td>7.4</td>\n",
       "      <td>0.70</td>\n",
       "      <td>0.00</td>\n",
       "      <td>1.9</td>\n",
       "      <td>0.076</td>\n",
       "      <td>11.0</td>\n",
       "      <td>34.0</td>\n",
       "      <td>0.9978</td>\n",
       "      <td>3.51</td>\n",
       "      <td>0.56</td>\n",
       "      <td>9.4</td>\n",
       "      <td>5</td>\n",
       "    </tr>\n",
       "  </tbody>\n",
       "</table>\n",
       "</div>"
      ],
      "text/plain": [
       "   fixed acidity  volatile acidity  citric acid  residual sugar  chlorides  \\\n",
       "0            7.4              0.70         0.00             1.9      0.076   \n",
       "1            7.8              0.88         0.00             2.6      0.098   \n",
       "2            7.8              0.76         0.04             2.3      0.092   \n",
       "3           11.2              0.28         0.56             1.9      0.075   \n",
       "4            7.4              0.70         0.00             1.9      0.076   \n",
       "\n",
       "   free sulfur dioxide  total sulfur dioxide  density    pH  sulphates  \\\n",
       "0                 11.0                  34.0   0.9978  3.51       0.56   \n",
       "1                 25.0                  67.0   0.9968  3.20       0.68   \n",
       "2                 15.0                  54.0   0.9970  3.26       0.65   \n",
       "3                 17.0                  60.0   0.9980  3.16       0.58   \n",
       "4                 11.0                  34.0   0.9978  3.51       0.56   \n",
       "\n",
       "   alcohol  quality  \n",
       "0      9.4        5  \n",
       "1      9.8        5  \n",
       "2      9.8        5  \n",
       "3      9.8        6  \n",
       "4      9.4        5  "
      ]
     },
     "execution_count": 18,
     "metadata": {},
     "output_type": "execute_result"
    }
   ],
   "source": [
    "# Show first 5 lines\n",
    "df.limit(5).toPandas()"
   ]
  },
  {
   "cell_type": "code",
   "execution_count": 22,
   "id": "2c7f19cf-b5a2-45f6-8dea-02ba011aa34f",
   "metadata": {},
   "outputs": [
    {
     "name": "stdout",
     "output_type": "stream",
     "text": [
      "+-------+------------------+-------------------+-------------------+------------------+--------------------+-------------------+--------------------+--------------------+-------------------+------------------+------------------+------------------+\n",
      "|summary|     fixed acidity|   volatile acidity|        citric acid|    residual sugar|           chlorides|free sulfur dioxide|total sulfur dioxide|             density|                 pH|         sulphates|           alcohol|           quality|\n",
      "+-------+------------------+-------------------+-------------------+------------------+--------------------+-------------------+--------------------+--------------------+-------------------+------------------+------------------+------------------+\n",
      "|  count|              1599|               1599|               1599|              1599|                1599|               1599|                1599|                1599|               1599|              1599|              1599|              1599|\n",
      "|   mean| 8.319637273295838| 0.5278205128205131| 0.2709756097560964|2.5388055034396517| 0.08746654158849257| 15.874921826141339|   46.46779237023139|  0.9967466791744831|  3.311113195747343|0.6581488430268921|10.422983114446502|5.6360225140712945|\n",
      "| stddev|1.7410963181276948|0.17905970415353525|0.19480113740531824|  1.40992805950728|0.047065302010090085|  10.46015696980971|   32.89532447829907|0.001887333953842...|0.15438646490354271|0.1695069795901101|1.0656675818473935|0.8075694397347051|\n",
      "|    min|               4.6|               0.12|                0.0|               0.9|               0.012|                1.0|                 6.0|             0.99007|               2.74|              0.33|               8.4|                 3|\n",
      "|    max|              15.9|               1.58|                1.0|              15.5|               0.611|               72.0|               289.0|             1.00369|               4.01|               2.0|              14.9|                 8|\n",
      "+-------+------------------+-------------------+-------------------+------------------+--------------------+-------------------+--------------------+--------------------+-------------------+------------------+------------------+------------------+\n",
      "\n"
     ]
    }
   ],
   "source": [
    "# Stadistic Summary\n",
    "df.describe().show()"
   ]
  },
  {
   "cell_type": "code",
   "execution_count": 10,
   "id": "2cd8cccc-3d14-441c-8271-0f43e230e775",
   "metadata": {},
   "outputs": [
    {
     "name": "stdout",
     "output_type": "stream",
     "text": [
      "+-------+-----+\n",
      "|quality|count|\n",
      "+-------+-----+\n",
      "|      3|   10|\n",
      "|      4|   53|\n",
      "|      5|  681|\n",
      "|      6|  638|\n",
      "|      7|  199|\n",
      "|      8|   18|\n",
      "+-------+-----+\n",
      "\n"
     ]
    }
   ],
   "source": [
    "df.groupBy(\"quality\").count().orderBy(\"quality\").show()"
   ]
  },
  {
   "cell_type": "markdown",
   "id": "eea87fc1-a060-4f1b-afe6-9f5283cbaefc",
   "metadata": {},
   "source": [
    "We can see a balance of data with quality **5,6,7**"
   ]
  },
  {
   "cell_type": "code",
   "execution_count": 11,
   "id": "ade4ee01-1fe9-4660-b6b6-137b55e9f23c",
   "metadata": {},
   "outputs": [
    {
     "name": "stdout",
     "output_type": "stream",
     "text": [
      "Correlación entre fixed acidity y quality: 0.1241\n",
      "Correlación entre volatile acidity y quality: -0.3906\n",
      "Correlación entre citric acid y quality: 0.2264\n",
      "Correlación entre residual sugar y quality: 0.0137\n",
      "Correlación entre chlorides y quality: -0.1289\n",
      "Correlación entre free sulfur dioxide y quality: -0.0507\n",
      "Correlación entre total sulfur dioxide y quality: -0.1851\n",
      "Correlación entre density y quality: -0.1749\n",
      "Correlación entre pH y quality: -0.0577\n",
      "Correlación entre sulphates y quality: 0.2514\n",
      "Correlación entre alcohol y quality: 0.4762\n"
     ]
    }
   ],
   "source": [
    "for col_name in df.columns:\n",
    "    if col_name != 'quality':\n",
    "        corr = df.stat.corr(col_name, 'quality')\n",
    "        print(f\"Correlación entre {col_name} y quality: {corr:.4f}\")"
   ]
  },
  {
   "cell_type": "code",
   "execution_count": 20,
   "id": "16c823ef-15f3-4a16-b5bf-2bafe9c0fc98",
   "metadata": {},
   "outputs": [
    {
     "name": "stdout",
     "output_type": "stream",
     "text": [
      "+-------------+----------------+-----------+--------------+---------+-------------------+--------------------+-------+---+---------+-------+-------+\n",
      "|fixed acidity|volatile acidity|citric acid|residual sugar|chlorides|free sulfur dioxide|total sulfur dioxide|density| pH|sulphates|alcohol|quality|\n",
      "+-------------+----------------+-----------+--------------+---------+-------------------+--------------------+-------+---+---------+-------+-------+\n",
      "|            0|               0|          0|             0|        0|                  0|                   0|      0|  0|        0|      0|      0|\n",
      "+-------------+----------------+-----------+--------------+---------+-------------------+--------------------+-------+---+---------+-------+-------+\n",
      "\n"
     ]
    }
   ],
   "source": [
    "#  Null values per column\n",
    "from pyspark.sql.functions import col, sum\n",
    "\n",
    "df.select([sum(col(c).isNull().cast(\"int\")).alias(c) for c in df.columns]).show()"
   ]
  },
  {
   "cell_type": "markdown",
   "id": "c66fa916-e9c2-4576-a80c-56e12859e5bf",
   "metadata": {
    "jp-MarkdownHeadingCollapsed": true
   },
   "source": [
    "## 3. Preparación de Datos y Feature Engineering"
   ]
  },
  {
   "cell_type": "markdown",
   "id": "83523ebd-f100-452c-b523-86717992cea9",
   "metadata": {},
   "source": [
    "### Creating a new label column from quality called target"
   ]
  },
  {
   "cell_type": "code",
   "execution_count": 29,
   "id": "0abdd7cb-e4bd-4393-8d0b-1bde88c15712",
   "metadata": {},
   "outputs": [],
   "source": [
    "from pyspark.sql.functions import when\n",
    "\n",
    "df = df.withColumn(\"label\", when(df[\"quality\"] > 5, 1.0).otherwise(0.0))"
   ]
  },
  {
   "cell_type": "markdown",
   "id": "ade7ebf6-526e-4434-b6f4-5cf477906842",
   "metadata": {},
   "source": [
    "### Feature Selection\n",
    "We are skipping the **quality and label** variable because it will used as a target."
   ]
  },
  {
   "cell_type": "code",
   "execution_count": 36,
   "id": "9b3161f5-de52-4257-a3a9-b04868b7ed14",
   "metadata": {},
   "outputs": [],
   "source": [
    "from pyspark.ml.feature import VectorAssembler, StandardScaler\n",
    "\n",
    "# Chossing feature columns\n",
    "feature_cols = [col for col in df.columns if col not in ('quality', 'label')]\n",
    "\n",
    "# creating the unscaled_features vector assembler\n",
    "feature_assembler = VectorAssembler(\n",
    " inputCols=feature_cols,\n",
    " outputCol=\"unscaled_features\"\n",
    ")\n",
    "\n",
    "# normalizing features using standard scaler\n",
    "scaler = StandardScaler(inputCol='unscaled_features', outputCol='features')"
   ]
  },
  {
   "cell_type": "markdown",
   "id": "e4f54994-7835-45f5-91d5-f0b014c77f92",
   "metadata": {},
   "source": [
    "## Training the Model using Pipelines\n",
    "We are going to use `LogisticRegression` and `DecisionTreeClassifier`"
   ]
  },
  {
   "cell_type": "code",
   "execution_count": 40,
   "id": "354cc4d6-1fd9-496c-a843-fa11ab5bfd62",
   "metadata": {},
   "outputs": [],
   "source": [
    "# Import required libs\n",
    "from pyspark.ml import Pipeline\n",
    "from pyspark.ml.classification import LogisticRegression, DecisionTreeClassifier\n",
    "from pyspark.ml.evaluation import BinaryClassificationEvaluator"
   ]
  },
  {
   "cell_type": "code",
   "execution_count": 33,
   "id": "aa2dbfe2-e53d-47af-aa36-25b31f2b780a",
   "metadata": {},
   "outputs": [],
   "source": [
    "# Split data for training and test\n",
    "train, test = df.randomSplit([0.8, 0.2], seed=42)"
   ]
  },
  {
   "cell_type": "code",
   "execution_count": 46,
   "id": "842f50aa-c0d8-469e-81c9-5330a6c42bf0",
   "metadata": {},
   "outputs": [],
   "source": [
    "# Preparing the pipeline\n",
    "models = {\n",
    "    'LogisticRegression': LogisticRegression(labelCol='label', featuresCol='features', maxIter=10),\n",
    "    'DecisionTree': DecisionTreeClassifier(labelCol='label', featuresCol='features')\n",
    "}\n",
    "\n",
    "# Run each model\n",
    "results = []\n",
    "\n",
    "# Evaluador AUC\n",
    "evaluator = BinaryClassificationEvaluator(labelCol='label', metricName='areaUnderROC')\n",
    "confusion_matrix = {}\n",
    "\n",
    "for name, model in models.items():\n",
    "    pipeline = Pipeline(stages=[feature_assembler, scaler, model])\n",
    "    pipeline_model = pipeline.fit(train)\n",
    "    predictions = pipeline_model.transform(test)\n",
    "    \n",
    "    auc = evaluator.evaluate(predictions)\n",
    "    cm = predictions.groupBy(\"label\").pivot(\"prediction\").count().fillna(0).orderBy(\"label\")\n",
    "    results.append({'model': name, 'AUC': auc, 'cm': cm})    \n"
   ]
  },
  {
   "cell_type": "code",
   "execution_count": 47,
   "id": "fcff6421-7a49-494a-b0bf-a19efbe7e352",
   "metadata": {},
   "outputs": [
    {
     "data": {
      "text/plain": [
       "[{'model': 'LogisticRegression',\n",
       "  'AUC': 0.8351724137931038,\n",
       "  'cm': DataFrame[label: double, 0.0: bigint, 1.0: bigint]},\n",
       " {'model': 'DecisionTree',\n",
       "  'AUC': 0.702970822281167,\n",
       "  'cm': DataFrame[label: double, 0.0: bigint, 1.0: bigint]}]"
      ]
     },
     "execution_count": 47,
     "metadata": {},
     "output_type": "execute_result"
    }
   ],
   "source": [
    "results"
   ]
  },
  {
   "cell_type": "markdown",
   "id": "39ba97dd-c8ee-42a0-98ee-d0abbc95bcea",
   "metadata": {},
   "source": [
    "## Evaluating Models\n",
    "\n",
    "**LogisticRegression — AUC = 0.835**\n",
    "- Muy buen desempeño.\n",
    "- El AUC (Área Bajo la Curva ROC) de 0.835 significa que, en promedio, el modelo tiene un 83.5% de probabilidad de asignar una puntuación de predicción más alta a una muestra positiva (vino de buena calidad) que a una negativa (vino de calidad estándar).\n",
    "- Esto indica una fuerte capacidad de discriminación entre vinos buenos y regulares.\n",
    "\n",
    "**DecisionTree — AUC = 0.703**\n",
    "- Desempeño moderado.\n",
    "- Un AUC de 0.703 todavía es aceptable, pero indica que el modelo separa las clases con menos eficacia que la regresión logística.\n",
    "- Puede ser más susceptible a sobreajuste o menos capaz de capturar patrones generalizables con los parámetros por defecto."
   ]
  },
  {
   "cell_type": "markdown",
   "id": "9aeecf8d-34ce-4cda-a465-fa1dbf916e95",
   "metadata": {},
   "source": [
    "### Confusion Matrix"
   ]
  },
  {
   "cell_type": "code",
   "execution_count": 48,
   "id": "aef377ae-5d8c-46bb-a2a4-cf501f6dcd15",
   "metadata": {},
   "outputs": [
    {
     "name": "stdout",
     "output_type": "stream",
     "text": [
      "Confusion Matrix for LogisticRegression\n",
      "+-----+---+---+\n",
      "|label|0.0|1.0|\n",
      "+-----+---+---+\n",
      "|  0.0|105| 25|\n",
      "|  1.0| 37|108|\n",
      "+-----+---+---+\n",
      "\n",
      "Confusion Matrix for DecisionTree\n",
      "+-----+---+---+\n",
      "|label|0.0|1.0|\n",
      "+-----+---+---+\n",
      "|  0.0| 93| 37|\n",
      "|  1.0| 40|105|\n",
      "+-----+---+---+\n",
      "\n"
     ]
    }
   ],
   "source": [
    "for result in results:\n",
    "    cm = result['cm']\n",
    "    print('Confusion Matrix for', result['model'])\n",
    "    cm.show()"
   ]
  },
  {
   "cell_type": "markdown",
   "id": "0055fce7-9286-439f-915f-ee326e3f4003",
   "metadata": {
    "jp-MarkdownHeadingCollapsed": true
   },
   "source": [
    "## Conlusión\n",
    "\n",
    "Logistic Regression no solo tiene mejor AUC, sino que también comete menos errores tanto de tipo I (falsos positivos) como de tipo II (falsos negativos). Es decir:\n",
    "\n",
    "Clasifica mejor los vinos buenos sin castigar tanto con falsos positivos."
   ]
  }
 ],
 "metadata": {
  "kernelspec": {
   "display_name": "Python 3 (ipykernel)",
   "language": "python",
   "name": "python3"
  },
  "language_info": {
   "codemirror_mode": {
    "name": "ipython",
    "version": 3
   },
   "file_extension": ".py",
   "mimetype": "text/x-python",
   "name": "python",
   "nbconvert_exporter": "python",
   "pygments_lexer": "ipython3",
   "version": "3.11.6"
  }
 },
 "nbformat": 4,
 "nbformat_minor": 5
}
