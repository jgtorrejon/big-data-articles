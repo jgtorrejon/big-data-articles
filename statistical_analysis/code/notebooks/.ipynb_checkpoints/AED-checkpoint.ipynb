{
 "cells": [
  {
   "cell_type": "markdown",
   "id": "8daa6c84-fd91-473c-b8e9-54eb4230d302",
   "metadata": {},
   "source": [
    "# AED\n",
    "\n",
    "El analisis exploratorio de datos permite en la fase de \"Entendimiento del Datos\" de la metodologia CRISP - DM, comprender la naturaleza de los datos desde un punto de vista del negocio. "
   ]
  },
  {
   "cell_type": "code",
   "execution_count": 3,
   "id": "594b0e73-06eb-45c7-87bd-0fd2b7942112",
   "metadata": {},
   "outputs": [],
   "source": [
    "import pandas as pd\n",
    "import numpy as np\n",
    "import matplotlib.pyplot as plt\n",
    "import seaborn as sns"
   ]
  },
  {
   "cell_type": "code",
   "execution_count": null,
   "id": "dcdbf550-1d8b-4e07-9eb8-f5e0fb6b7296",
   "metadata": {},
   "outputs": [],
   "source": [
    "pip install mysql-connector-python"
   ]
  },
  {
   "cell_type": "code",
   "execution_count": null,
   "id": "5d285ad0-e8eb-45bd-af39-fac40e1ac9dd",
   "metadata": {},
   "outputs": [],
   "source": [
    "import mysql.connector as connector"
   ]
  },
  {
   "cell_type": "code",
   "execution_count": null,
   "id": "a78b974b-71d3-4726-af90-7633ce35bfab",
   "metadata": {},
   "outputs": [],
   "source": [
    "# leer los datos de la tabla telco1\n",
    "\n",
    "try:\n",
    "    mydb = connector.connect(host='localhost', database='curso', user='root', passwd= 'curso123', use_pure='True')\n",
    "    query = \"select * from telco1_2024\"\n",
    "    df_telco_churn1 = pd.read_sql(query, mydb)\n",
    "    mydb.close()\n",
    "except Exception as e:\n",
    "    mydb.close()\n",
    "    print(str(e))"
   ]
  },
  {
   "cell_type": "code",
   "execution_count": null,
   "id": "c9d4d85e-0e98-4542-816f-89bf43ee454d",
   "metadata": {},
   "outputs": [],
   "source": [
    "# leer los datos de la tabla telco2\n",
    "\n",
    "try:\n",
    "    mydb = connector.connect(host='localhost', database='curso', user='root', passwd= 'curso123', use_pure='True')\n",
    "    query = \"select * from telco2_2024\"\n",
    "    df_telco_churn2 = pd.read_sql(query, mydb)\n",
    "    mydb.close()\n",
    "except Exception as e:\n",
    "    mydb.close()\n",
    "    print(str(e))"
   ]
  },
  {
   "cell_type": "code",
   "execution_count": null,
   "id": "24880fc8-b825-4f56-befc-44facf5815da",
   "metadata": {},
   "outputs": [],
   "source": [
    "ls"
   ]
  },
  {
   "cell_type": "markdown",
   "id": "e1c6b4c7-54de-4370-b7b8-34fe54264de1",
   "metadata": {},
   "source": [
    "Se puede obtener los datos no solo de una conexión a una base de datos sino a partir de un archivo csv"
   ]
  },
  {
   "cell_type": "code",
   "execution_count": null,
   "id": "b3b12a25-50ac-4b3b-8659-b70e894b0117",
   "metadata": {},
   "outputs": [],
   "source": [
    "df_telco_churn1 = pd.read_csv('caso telco/telco1.csv', sep= ',', decimal = '.')"
   ]
  },
  {
   "cell_type": "code",
   "execution_count": null,
   "id": "e3a0f5fe-a35d-4f25-bea8-043b335cc454",
   "metadata": {},
   "outputs": [],
   "source": [
    "df_telco_churn2 = pd.read_csv('caso telco/telco2.csv', sep= ',', decimal = '.')"
   ]
  },
  {
   "cell_type": "code",
   "execution_count": null,
   "id": "9e076628-6fb3-4fcf-9181-3bcb70cd1e8c",
   "metadata": {},
   "outputs": [],
   "source": [
    "df_telco_churn1.columns = df_telco_churn1.columns.str.strip()"
   ]
  },
  {
   "cell_type": "code",
   "execution_count": null,
   "id": "d7095de6-8889-49a0-87de-14a1e69cb988",
   "metadata": {},
   "outputs": [],
   "source": [
    "df_telco_churn2.columns = df_telco_churn2.columns.str.strip()"
   ]
  },
  {
   "cell_type": "code",
   "execution_count": null,
   "id": "cb90fefc-7154-4006-8497-6a0c347eb30b",
   "metadata": {},
   "outputs": [],
   "source": [
    "df_telco_churn2.columns"
   ]
  },
  {
   "cell_type": "code",
   "execution_count": null,
   "id": "3e767c8b-fdb2-4d85-8ff5-428a9b8daab4",
   "metadata": {},
   "outputs": [],
   "source": [
    "type(df_telco_churn1)"
   ]
  },
  {
   "cell_type": "code",
   "execution_count": null,
   "id": "d385e00e-a3d4-4f8b-a072-78a3bf2eab5c",
   "metadata": {},
   "outputs": [],
   "source": [
    "df_telco_churn1.head()"
   ]
  },
  {
   "cell_type": "code",
   "execution_count": null,
   "id": "53e096a4-14a5-408a-8b9a-8c4d1cb52733",
   "metadata": {},
   "outputs": [],
   "source": [
    "df_telco_churn1.head(2)"
   ]
  },
  {
   "cell_type": "code",
   "execution_count": null,
   "id": "400ee5c7-947f-4d4f-b726-d8057b00b3af",
   "metadata": {},
   "outputs": [],
   "source": [
    "df_telco_churn2.head()"
   ]
  },
  {
   "cell_type": "markdown",
   "id": "2a78bf41-1295-4a73-b4ef-f7762b46d90e",
   "metadata": {},
   "source": [
    "¿Qué tipo datos contienen las columnas?"
   ]
  },
  {
   "cell_type": "code",
   "execution_count": null,
   "id": "e0d3e67f-2de3-497a-8b5c-5f01f1ff087f",
   "metadata": {},
   "outputs": [],
   "source": [
    "df_telco_churn1.dtypes"
   ]
  },
  {
   "cell_type": "code",
   "execution_count": null,
   "id": "563ba959-e02f-4178-9215-2b3c9f99039d",
   "metadata": {},
   "outputs": [],
   "source": [
    "df_telco_churn2.dtypes"
   ]
  },
  {
   "cell_type": "markdown",
   "id": "e6b4ca4e-3b53-4630-bfe0-9947875caec7",
   "metadata": {},
   "source": [
    "### ¿Seran los tipos adecuados?\n",
    "\n",
    "Los tipos de datos que pueden existir en pandas son:\n",
    "\n",
    "- int\n",
    "- object\n",
    "- float\n",
    "- datetime\n",
    "\n",
    "Para poder realizar un casting se utiliza el metodo astype()\n",
    "\n",
    "Por ejemplo el tipo del campo SENIORCITIZEN  deberia ser object"
   ]
  },
  {
   "cell_type": "code",
   "execution_count": null,
   "id": "f05c60f2-39de-4ea0-a061-ce0761d72820",
   "metadata": {},
   "outputs": [],
   "source": [
    "df_telco_churn1['SeniorCitizen'] = df_telco_churn1['SeniorCitizen'].astype('object')"
   ]
  },
  {
   "cell_type": "code",
   "execution_count": null,
   "id": "5919ff03-9641-482c-b2a8-1dc83f2bc119",
   "metadata": {},
   "outputs": [],
   "source": [
    "df_telco_churn1.dtypes"
   ]
  },
  {
   "cell_type": "markdown",
   "id": "1f7214bd-240d-44a6-bf45-a32c520bbd66",
   "metadata": {},
   "source": [
    "En Telco2, se puede apreciar la columa account, no importa que paresca número se debe convertir en object"
   ]
  },
  {
   "cell_type": "code",
   "execution_count": null,
   "id": "fe8384b3-fe42-4309-ad03-c3d6db7f9c7d",
   "metadata": {},
   "outputs": [],
   "source": [
    "df_telco_churn2[\"account\"] = df_telco_churn2[\"account\"].astype('object')"
   ]
  },
  {
   "cell_type": "code",
   "execution_count": null,
   "id": "eb02c0de-98cd-4170-a79f-13533601f413",
   "metadata": {},
   "outputs": [],
   "source": [
    "#si se quiere cambiar varias columnas\n",
    "df_telco_churn2 = df_telco_churn2.astype({'account':'object', 'area_code':'object'})"
   ]
  },
  {
   "cell_type": "code",
   "execution_count": null,
   "id": "0b9c9f0e-8eb1-43fd-aa41-7ac4998142f5",
   "metadata": {},
   "outputs": [],
   "source": [
    "df_telco_churn2.dtypes"
   ]
  },
  {
   "cell_type": "code",
   "execution_count": null,
   "id": "545a13ee-1447-42f1-9ad5-232df8504cac",
   "metadata": {},
   "outputs": [],
   "source": [
    "# identificar el número de elementos de la base telco1\n",
    "len(df_telco_churn1)"
   ]
  },
  {
   "cell_type": "code",
   "execution_count": null,
   "id": "1c3ed229-c8c2-4e81-b710-eb77c974778f",
   "metadata": {},
   "outputs": [],
   "source": [
    "# identificar el número de elementos de la base telco2\n",
    "len(df_telco_churn2)"
   ]
  },
  {
   "cell_type": "code",
   "execution_count": null,
   "id": "0089cb27-4f24-450a-838a-1ef6f48808ad",
   "metadata": {},
   "outputs": [],
   "source": [
    "type(df_telco_churn1)"
   ]
  },
  {
   "cell_type": "code",
   "execution_count": null,
   "id": "160b56d6-ab02-4610-9813-d56e43377712",
   "metadata": {},
   "outputs": [],
   "source": [
    "df_telco_churn1.shape"
   ]
  },
  {
   "cell_type": "code",
   "execution_count": null,
   "id": "5acedd1e-c0c4-4757-968b-5bbc36df342c",
   "metadata": {},
   "outputs": [],
   "source": [
    "df_telco_churn2.columns"
   ]
  },
  {
   "cell_type": "code",
   "execution_count": null,
   "id": "bd9d336d-4a91-4a6e-995b-8f8e49b26d7d",
   "metadata": {},
   "outputs": [],
   "source": [
    "type(df_telco_churn2['voice_mail_plan'])"
   ]
  },
  {
   "cell_type": "code",
   "execution_count": null,
   "id": "510b8fc5-24ad-43f1-9437-2a7745681716",
   "metadata": {},
   "outputs": [],
   "source": [
    "df_telco_churn2.groupby('voice_mail_plan').size()"
   ]
  },
  {
   "cell_type": "code",
   "execution_count": null,
   "id": "d680a01b-3389-4bf2-b1a0-9273c100bc26",
   "metadata": {},
   "outputs": [],
   "source": [
    "voice_mail_plan_agrupado = df_telco_churn2.groupby('voice_mail_plan').size()"
   ]
  },
  {
   "cell_type": "code",
   "execution_count": null,
   "id": "2fb17954-547a-401b-b137-e2e10e3bbad8",
   "metadata": {},
   "outputs": [],
   "source": [
    "voice_mail_plan_agrupado"
   ]
  },
  {
   "cell_type": "code",
   "execution_count": null,
   "id": "a4ca2af4-6248-463c-a605-d2b0732b2c84",
   "metadata": {},
   "outputs": [],
   "source": [
    "type(voice_mail_plan_agrupado)"
   ]
  },
  {
   "cell_type": "markdown",
   "id": "882a3632-27d6-4436-b035-a5d36a3cd02d",
   "metadata": {},
   "source": [
    "#### Grafica variable cualitativa\n",
    "\n",
    "Se utiliza graficos de barras"
   ]
  },
  {
   "cell_type": "code",
   "execution_count": null,
   "id": "0232fdbc-3c42-4252-a878-9a0beb5a3b73",
   "metadata": {},
   "outputs": [],
   "source": [
    "voice_mail_plan_agrupado.plot.bar('voice_mail_plan')\n",
    "plt.show()"
   ]
  },
  {
   "cell_type": "code",
   "execution_count": null,
   "id": "611d3be6-df19-454a-ba5b-3cf039e3cfb4",
   "metadata": {},
   "outputs": [],
   "source": [
    "international_plan_agrupado = df_telco_churn2.groupby('international_plan').size()\n",
    "international_plan_agrupado.plot.bar('international_plan')\n",
    "plt.show()"
   ]
  },
  {
   "cell_type": "code",
   "execution_count": null,
   "id": "1b063e41-2123-44ba-823d-67509477b8dc",
   "metadata": {},
   "outputs": [],
   "source": [
    "# Otra manera de representar en porcentaje\n",
    "df_telco_churn2['international_plan'].value_counts(normalize=True)*100"
   ]
  },
  {
   "cell_type": "code",
   "execution_count": null,
   "id": "22aabe9e-f0ce-49b2-b074-074f675f0ad9",
   "metadata": {},
   "outputs": [],
   "source": [
    "df_telco_churn2['international_plan'].value_counts()"
   ]
  },
  {
   "cell_type": "markdown",
   "id": "0a91041b-8de5-4086-ab97-d038b2eac733",
   "metadata": {},
   "source": [
    "**PREGUNTA** Como se distribuyen las variables de gender, PaymentMethod, StreamingTV concluya algunas caracteristicas"
   ]
  },
  {
   "cell_type": "code",
   "execution_count": null,
   "id": "03efcb7c-13b1-4bd9-973c-d7512709bd63",
   "metadata": {},
   "outputs": [],
   "source": [
    "df_telco_churn1.groupby('gender').size()"
   ]
  },
  {
   "cell_type": "code",
   "execution_count": null,
   "id": "3216898e-57df-4ee3-8c3a-c445ed949654",
   "metadata": {},
   "outputs": [],
   "source": []
  },
  {
   "cell_type": "markdown",
   "id": "7942a6c5-44b4-46aa-915c-88f24748886e",
   "metadata": {},
   "source": [
    "#### Grafica variable cuantitativa\n",
    "\n",
    "Se utiliza graficos de histogramas"
   ]
  },
  {
   "cell_type": "code",
   "execution_count": null,
   "id": "6318b661-0d32-47bf-b2eb-8d6c2d744992",
   "metadata": {},
   "outputs": [],
   "source": [
    "df_telco_churn2['total_day_minutes'].hist(bins=100)\n",
    "plt.show()"
   ]
  },
  {
   "cell_type": "code",
   "execution_count": null,
   "id": "66d6d3be-5209-4678-9312-29ab097d103f",
   "metadata": {},
   "outputs": [],
   "source": [
    "df_telco_churn2['number_customer_service_calls'].hist(bins=10)\n",
    "plt.show()"
   ]
  },
  {
   "cell_type": "code",
   "execution_count": null,
   "id": "a9ed9f27-ac1d-4ab0-ab91-17c561e2a049",
   "metadata": {},
   "outputs": [],
   "source": [
    "df_telco_churn1['TotalCharges'].hist(bins=10)\n",
    "plt.show()"
   ]
  },
  {
   "cell_type": "code",
   "execution_count": null,
   "id": "b49cb3bd-03f3-431c-bf79-935637edfb91",
   "metadata": {},
   "outputs": [],
   "source": [
    "#graficando con seaborn\n",
    "import seaborn as sns\n"
   ]
  },
  {
   "cell_type": "code",
   "execution_count": null,
   "id": "34c20b3c-f3a0-4e8d-9c56-8372fd41ae0a",
   "metadata": {},
   "outputs": [],
   "source": [
    "sns.histplot(data=df_telco_churn1, x = 'TotalCharges',bins=10 )\n",
    "plt.show()"
   ]
  },
  {
   "cell_type": "markdown",
   "id": "02cca98b-1370-46ff-a6d1-91e6a51a8bf5",
   "metadata": {},
   "source": [
    "**Media**\n",
    "\n",
    "Cual es la media de las variable cuantitativas de la variable df_telco_churn2.total_day_minutes, df_telco_churn1.TOTALCHARGES"
   ]
  },
  {
   "cell_type": "code",
   "execution_count": null,
   "id": "ab088ad1-1593-498b-9886-5d6bc3358a23",
   "metadata": {},
   "outputs": [],
   "source": [
    "df_telco_churn2['total_day_minutes'].mean()"
   ]
  },
  {
   "cell_type": "code",
   "execution_count": null,
   "id": "e2569019-9e32-4df2-824e-a1f989fe7531",
   "metadata": {},
   "outputs": [],
   "source": [
    "df_telco_churn2[['total_night_calls','total_night_charge']].mean()"
   ]
  },
  {
   "cell_type": "code",
   "execution_count": null,
   "id": "8c4da144-6641-43dd-9624-94b65a168d89",
   "metadata": {},
   "outputs": [],
   "source": [
    "# complete TOTALCHARGES"
   ]
  },
  {
   "cell_type": "code",
   "execution_count": null,
   "id": "1f1ed4c1-df14-45bc-9c0a-0b249661e949",
   "metadata": {},
   "outputs": [],
   "source": [
    "df_telco_churn1['TotalCharges'].mean()"
   ]
  },
  {
   "cell_type": "markdown",
   "id": "e33290ba-1d1e-440f-a308-af509a6edb94",
   "metadata": {},
   "source": [
    "**Mediana**\n",
    "\n",
    "Cual es la mediana de las variable cuantitativas de la variable df_telco_churn2.total_day_minutes, df_telco_churn1.TOTALCHARGES\n"
   ]
  },
  {
   "cell_type": "code",
   "execution_count": null,
   "id": "e85f4b77-1354-4846-abba-ed407cd12093",
   "metadata": {},
   "outputs": [],
   "source": [
    "df_telco_churn2['total_day_minutes'].median()"
   ]
  },
  {
   "cell_type": "code",
   "execution_count": null,
   "id": "b7d24530-4cf2-4975-8757-39f844b56d1a",
   "metadata": {},
   "outputs": [],
   "source": [
    "#complete TOTALCHARGES"
   ]
  },
  {
   "cell_type": "code",
   "execution_count": null,
   "id": "4d0a13bb-356a-434d-a678-46243283e8ad",
   "metadata": {},
   "outputs": [],
   "source": [
    "df_telco_churn1['TotalCharges'].median()"
   ]
  },
  {
   "cell_type": "code",
   "execution_count": null,
   "id": "60ff82ed-d7e7-445a-8f19-63eaba116ccc",
   "metadata": {},
   "outputs": [],
   "source": []
  },
  {
   "cell_type": "markdown",
   "id": "b9147b41-296d-457c-babc-e50abee601dc",
   "metadata": {},
   "source": [
    "**Moda**\n",
    "\n",
    "Cual es la moda de las variable cuantitativas de la variable df_telco_churn2.total_day_minutes, df_telco_churn1.TOTALCHARGES\n"
   ]
  },
  {
   "cell_type": "code",
   "execution_count": null,
   "id": "7523b054-a610-4000-b3b9-22152736f6f2",
   "metadata": {},
   "outputs": [],
   "source": [
    "df_telco_churn2['total_day_minutes'].mode()"
   ]
  },
  {
   "cell_type": "code",
   "execution_count": null,
   "id": "e12a6293-0ff1-4edb-88b1-bd6b14b2b1e5",
   "metadata": {},
   "outputs": [],
   "source": [
    "df_telco_churn2['total_day_minutes'].hist(bins=1000)\n",
    "plt.show()"
   ]
  },
  {
   "cell_type": "code",
   "execution_count": null,
   "id": "f6e81384-3cff-4c9f-937f-d2efecd01c27",
   "metadata": {},
   "outputs": [],
   "source": [
    "df_telco_churn1['TotalCharges'].mode()"
   ]
  },
  {
   "cell_type": "code",
   "execution_count": null,
   "id": "067dcb14-d824-461e-8115-e3182722c39d",
   "metadata": {},
   "outputs": [],
   "source": [
    "df_telco_churn1['TotalCharges'].hist(bins=100)\n",
    "plt.show()"
   ]
  },
  {
   "cell_type": "markdown",
   "id": "26e931cd-bfd2-4a85-bbb6-b6251f22d147",
   "metadata": {},
   "source": [
    "### Medidas de dispersión"
   ]
  },
  {
   "cell_type": "code",
   "execution_count": null,
   "id": "d1812ba9-1180-434a-b4d7-85a8d2259b0d",
   "metadata": {},
   "outputs": [],
   "source": [
    "# Rango"
   ]
  },
  {
   "cell_type": "code",
   "execution_count": null,
   "id": "9ff8f257-f963-431b-a88b-fc447e58abf1",
   "metadata": {},
   "outputs": [],
   "source": [
    "maximo = df_telco_churn1['TotalCharges'].max()"
   ]
  },
  {
   "cell_type": "code",
   "execution_count": null,
   "id": "45be5349-2a2f-4cfa-b932-f22aad672180",
   "metadata": {},
   "outputs": [],
   "source": [
    "minimo = df_telco_churn1['TotalCharges'].min()"
   ]
  },
  {
   "cell_type": "code",
   "execution_count": null,
   "id": "6df95833-590d-43e1-b9cf-e65f442f44b5",
   "metadata": {},
   "outputs": [],
   "source": [
    "rango = maximo - minimo"
   ]
  },
  {
   "cell_type": "code",
   "execution_count": null,
   "id": "7a8b9374-d756-4867-a3c3-06f8cdddf209",
   "metadata": {},
   "outputs": [],
   "source": [
    "maximo"
   ]
  },
  {
   "cell_type": "code",
   "execution_count": null,
   "id": "efb1605f-545e-4675-9a0b-c17f0cdd5c4e",
   "metadata": {},
   "outputs": [],
   "source": [
    "minimo"
   ]
  },
  {
   "cell_type": "code",
   "execution_count": null,
   "id": "0b4b398b-1542-4c3d-8e00-c8cfb2f8acb4",
   "metadata": {},
   "outputs": [],
   "source": [
    "rango"
   ]
  },
  {
   "cell_type": "code",
   "execution_count": null,
   "id": "a70f033c-1a23-4922-a6a5-8c7b5c546acf",
   "metadata": {},
   "outputs": [],
   "source": []
  },
  {
   "cell_type": "code",
   "execution_count": null,
   "id": "a03841d2-ab20-476d-94a7-97fb99bb79c0",
   "metadata": {},
   "outputs": [],
   "source": [
    "# Cuartiles\n",
    "q1, q3 = np.percentile(df_telco_churn2['total_day_minutes'], [25,75])"
   ]
  },
  {
   "cell_type": "code",
   "execution_count": null,
   "id": "d7ed41af-34b0-4e0e-8c9d-d09a1c3da192",
   "metadata": {},
   "outputs": [],
   "source": [
    "q1"
   ]
  },
  {
   "cell_type": "code",
   "execution_count": null,
   "id": "60b5c61f-72f5-4d6f-9f04-59df62bf7378",
   "metadata": {},
   "outputs": [],
   "source": [
    "q3"
   ]
  },
  {
   "cell_type": "code",
   "execution_count": null,
   "id": "c53dd042-c8b9-4ff1-bc90-2493e8581b9c",
   "metadata": {},
   "outputs": [],
   "source": [
    "# Rango intercuartil\n",
    "\n",
    "RIC = q3 - q1\n"
   ]
  },
  {
   "cell_type": "code",
   "execution_count": null,
   "id": "9261dce9-aa87-4937-86e7-d7436210cdda",
   "metadata": {},
   "outputs": [],
   "source": [
    "RIC"
   ]
  },
  {
   "cell_type": "code",
   "execution_count": null,
   "id": "4492ec5a-389e-4ec2-b00d-305bf4a638da",
   "metadata": {},
   "outputs": [],
   "source": [
    "# Varianza\n",
    "\n",
    "df_telco_churn2['total_day_minutes'].var()"
   ]
  },
  {
   "cell_type": "code",
   "execution_count": null,
   "id": "6510eb56-d6e4-4b45-9c92-444fe95b16a0",
   "metadata": {},
   "outputs": [],
   "source": [
    "# Desviacion Estandar\n",
    "\n",
    "df_telco_churn2['total_day_minutes'].std()"
   ]
  },
  {
   "cell_type": "code",
   "execution_count": null,
   "id": "a849ff6e-f520-4f62-90fb-7ab3f1671b7f",
   "metadata": {},
   "outputs": [],
   "source": [
    "# Grafico Box plot"
   ]
  },
  {
   "cell_type": "code",
   "execution_count": null,
   "id": "af36a5bc-6bb3-4197-816c-1d717b729cc7",
   "metadata": {},
   "outputs": [],
   "source": [
    "df_telco_churn2.boxplot('total_day_minutes')\n",
    "plt.show()"
   ]
  },
  {
   "cell_type": "code",
   "execution_count": null,
   "id": "9d6041f0-b09d-4697-9f09-30d19627e866",
   "metadata": {},
   "outputs": [],
   "source": [
    "sns.boxplot(data= df_telco_churn2['total_day_minutes'])\n",
    "plt.show()"
   ]
  },
  {
   "cell_type": "code",
   "execution_count": null,
   "id": "cbef684c-9a50-43b8-b902-f45e597a3ef2",
   "metadata": {},
   "outputs": [],
   "source": [
    "df_telco_churn2.head(2).T"
   ]
  },
  {
   "cell_type": "markdown",
   "id": "a6ec6cba-7499-4203-bbcb-118fa13c410e",
   "metadata": {},
   "source": [
    "## AED entre varias variables"
   ]
  },
  {
   "cell_type": "code",
   "execution_count": null,
   "id": "bb54956c-797d-417d-817a-f5c3565bed42",
   "metadata": {},
   "outputs": [],
   "source": [
    "# Entre variables cuantitativas correlacíon "
   ]
  },
  {
   "cell_type": "code",
   "execution_count": null,
   "id": "7b46589f-961e-4bdd-8b35-241dbbb6f138",
   "metadata": {},
   "outputs": [],
   "source": [
    "pd.plotting.scatter_matrix(df_telco_churn2[['total_day_minutes','total_day_charge']], alpha=0.5)\n",
    "plt.show()"
   ]
  },
  {
   "cell_type": "code",
   "execution_count": null,
   "id": "09672454-8a5b-4eb9-86c1-d734342c9cab",
   "metadata": {},
   "outputs": [],
   "source": [
    "pd.plotting.scatter_matrix(df_telco_churn2[['total_night_calls','total_night_charge']], alpha=0.2)\n",
    "plt.show()"
   ]
  },
  {
   "cell_type": "code",
   "execution_count": null,
   "id": "9f7d9459-a806-43e0-a3c0-cea9df88a003",
   "metadata": {},
   "outputs": [],
   "source": [
    "pd.plotting.scatter_matrix(df_telco_churn2[['total_night_calls','total_night_charge', 'total_night_minutes']], alpha=0.2)\n",
    "plt.show()"
   ]
  },
  {
   "cell_type": "code",
   "execution_count": null,
   "id": "4cf988f5-7ed6-4ab8-a04e-425b416e1008",
   "metadata": {},
   "outputs": [],
   "source": [
    "sns.scatterplot(data = df_telco_churn2, x = 'total_night_charge', y = 'total_night_minutes')"
   ]
  },
  {
   "cell_type": "code",
   "execution_count": null,
   "id": "b505f85e-1b1f-4de3-8ace-e1c7c52acfc1",
   "metadata": {},
   "outputs": [],
   "source": [
    "sns.scatterplot(data = df_telco_churn2, x = 'total_night_calls', y = 'total_night_minutes')"
   ]
  },
  {
   "cell_type": "code",
   "execution_count": null,
   "id": "2a932a09-a488-447b-ab1e-13d2881e5359",
   "metadata": {},
   "outputs": [],
   "source": [
    "corr_df = df_telco_churn2[['total_night_charge', 'total_night_minutes']].corr(method='pearson')\n",
    "\n",
    "plt.figure(figsize=(5, 5))\n",
    "sns.heatmap(corr_df, annot=True)\n",
    "plt.show()"
   ]
  },
  {
   "cell_type": "code",
   "execution_count": null,
   "id": "e62599df-9223-452f-8974-22d8887000a0",
   "metadata": {},
   "outputs": [],
   "source": [
    "corr_df = df_telco_churn2[['total_night_calls', 'total_night_minutes']].corr(method='pearson')\n",
    "\n",
    "plt.figure(figsize=(7, 5))\n",
    "sns.heatmap(corr_df, annot=True)\n",
    "plt.show()     "
   ]
  },
  {
   "cell_type": "code",
   "execution_count": null,
   "id": "7e78f31d-126b-4767-905e-807845185714",
   "metadata": {},
   "outputs": [],
   "source": [
    "df_telco_churn1.describe(include = 'all')"
   ]
  },
  {
   "cell_type": "code",
   "execution_count": null,
   "id": "9b7e184c-c7e4-4944-9609-429d3d19e8b9",
   "metadata": {},
   "outputs": [],
   "source": [
    "df_telco_churn2.describe(include = 'all')"
   ]
  },
  {
   "cell_type": "code",
   "execution_count": null,
   "id": "ec215a81-01d5-4027-831c-a1dba7b5560a",
   "metadata": {},
   "outputs": [],
   "source": [
    "df_telco_churn2.sample(4).head(4).T"
   ]
  },
  {
   "cell_type": "markdown",
   "id": "29323246-bd28-46d3-9926-a21a17231446",
   "metadata": {},
   "source": [
    "### Analisis bivariado respecto de la variable objetivo"
   ]
  },
  {
   "cell_type": "code",
   "execution_count": null,
   "id": "d2c847f1-3b50-40c7-adfc-1c08cc609965",
   "metadata": {},
   "outputs": [],
   "source": [
    "df_telco_churn2.groupby(['churn.']).agg({'number_vmail_messages': 'mean', 'total_day_minutes': 'mean', 'total_day_calls': 'mean',  \\\n",
    "                                       'total_day_charge': 'mean', 'total_eve_minutes': 'mean', 'total_eve_calls': 'mean', \\\n",
    "                                        'total_eve_charge': 'mean', 'total_night_minutes': 'mean', 'total_night_calls': 'mean', \\\n",
    "                                        'total_night_charge': 'mean', 'total_intl_minutes': 'mean', 'total_intl_calls':'mean', \\\n",
    "                                        'total_intl_charge':'mean', 'total_intl_charge':'mean' \\\n",
    "                                       }) \\\n",
    "       .sort_values(['churn.'], ascending = True)"
   ]
  },
  {
   "cell_type": "code",
   "execution_count": null,
   "id": "d1f9a149-eb40-406b-bebf-2628a6e8a8d4",
   "metadata": {},
   "outputs": [],
   "source": [
    "df_telco_churn1.groupby(['Churn']).agg({'MonthlyCharges': 'mean', 'TotalCharges': 'mean'})  \\\n",
    "               .sort_values(['Churn'], ascending = True )  "
   ]
  },
  {
   "cell_type": "markdown",
   "id": "0a8587a7-b733-4072-a9d3-313235c06bc2",
   "metadata": {},
   "source": [
    "## Analisis bivariado entre variables categóricas"
   ]
  },
  {
   "cell_type": "code",
   "execution_count": null,
   "id": "993fc176-098c-4045-ae14-e8a9a7ec72f4",
   "metadata": {},
   "outputs": [],
   "source": [
    "df_telco_churn1.groupby(['MultipleLines','Churn'], dropna=False).agg({'TotalCharges':'mean'})"
   ]
  },
  {
   "cell_type": "code",
   "execution_count": null,
   "id": "62c0d9d7-a7ac-4ab3-b962-d6e93eb83b67",
   "metadata": {},
   "outputs": [],
   "source": [
    "df_telco_churn1.groupby(['Dependents','Churn'], dropna=False).agg({'TotalCharges':'mean'})"
   ]
  },
  {
   "cell_type": "code",
   "execution_count": null,
   "id": "e068c792-a095-4311-886a-99761fdbd033",
   "metadata": {},
   "outputs": [],
   "source": [
    "df_telco_churn1.groupby(['StreamingMovies','Churn'], dropna=False).agg({'TotalCharges':'mean'})"
   ]
  },
  {
   "cell_type": "markdown",
   "id": "18e32223-b6eb-4e6b-86a6-abae83d8dee0",
   "metadata": {},
   "source": [
    "## Data Profiling"
   ]
  },
  {
   "cell_type": "code",
   "execution_count": null,
   "id": "73067ab3-31d2-41af-898a-8a43ff94378d",
   "metadata": {},
   "outputs": [],
   "source": [
    "pip install ydata-profiling --user"
   ]
  },
  {
   "cell_type": "code",
   "execution_count": null,
   "id": "0f0eba32-e3e8-4757-a3ee-362aac861e5c",
   "metadata": {},
   "outputs": [],
   "source": [
    "import numpy as np\n",
    "import pandas as pd\n",
    "from ydata_profiling import ProfileReport\n"
   ]
  },
  {
   "cell_type": "code",
   "execution_count": null,
   "id": "9bc95d0e-290a-487c-b8f1-d046221b751b",
   "metadata": {},
   "outputs": [],
   "source": [
    "profile = ProfileReport(df_telco_churn2, title=\"Profiling Report\")"
   ]
  },
  {
   "cell_type": "code",
   "execution_count": null,
   "id": "4618634c-ecf6-480c-9d56-1f13dbc8b6b9",
   "metadata": {
    "scrolled": true
   },
   "outputs": [],
   "source": [
    "profile"
   ]
  },
  {
   "cell_type": "code",
   "execution_count": null,
   "id": "e77f3cfd-805d-4402-aa40-a414e7537db1",
   "metadata": {},
   "outputs": [],
   "source": []
  }
 ],
 "metadata": {
  "kernelspec": {
   "display_name": "Python 3 (ipykernel)",
   "language": "python",
   "name": "python3"
  },
  "language_info": {
   "codemirror_mode": {
    "name": "ipython",
    "version": 3
   },
   "file_extension": ".py",
   "mimetype": "text/x-python",
   "name": "python",
   "nbconvert_exporter": "python",
   "pygments_lexer": "ipython3",
   "version": "3.12.4"
  }
 },
 "nbformat": 4,
 "nbformat_minor": 5
}
