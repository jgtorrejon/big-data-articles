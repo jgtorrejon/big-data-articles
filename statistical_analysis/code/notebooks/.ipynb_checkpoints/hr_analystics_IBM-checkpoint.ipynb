{
 "cells": [
  {
   "cell_type": "markdown",
   "id": "58544f92-003a-4c1d-b529-57440de2c478",
   "metadata": {},
   "source": [
    "# Análisis Estadístico de HHRR IBM\n",
    "## Dataset Columns\n",
    "- **Age**: Edad\n",
    "- **DailyRate**: Tarifa Diaria\n",
    "- **DistanceFromHome**: Distancia desde casa\n",
    "- **Education**: Nivel de Educación\n",
    "- **EnvironmentSatisfaction**: Satisfacción Laboral pero en el contexto del entorno físico\n",
    "- **HourlyRate**: Tarifa por Hora\n",
    "- **JobInvolvement**: Compromiso con el Trabajo\n",
    "- **JobLevel**: Nivel de trabajo\n",
    "- **JobSatisfaction**: Satisfacción de trabajo con su Rol Actual\n",
    "- **MonthlyIncome**: Ingresos Mensuales\n",
    "- **MonthlyRate**: Tarifa Mensual\n",
    "- **NumCompaniesWorked**: Número de compañías en las cuales trabajó\n",
    "- **PercentSalaryHike**: Porcentaje de incremento salarial\n",
    "- **PerformanceRating**: Calificación de Desenvolvimiento\n",
    "- **RelationshipSatisfaction**: Satisfacción interpersonal\n",
    "- **StandardHours**: Horas Estándar\n",
    "- **StockOptionLevel**: Tipos de opciones que un empleado tiene para adquirir acciones de la empresa\n",
    "- **TotalWorkingYears**: Horas trabajadas por Año\n",
    "- **TrainingTimesLastYear**: Entrenamientos recibidos el último año\n",
    "- **WorkLifeBalance**: Balance laboral y personal\n",
    "- **YearsAtCompany**: Años en la compañía\n",
    "- **YearsInCurrentRole**: Años en el Rol Actúal\n",
    "- **YearsSinceLastPromotion**: Años que han pasado desde el último ascenso.\n",
    "- **YearsWithCurrManager**: Años con el manager actual"
   ]
  },
  {
   "cell_type": "markdown",
   "id": "6ed0f802-4a2a-42dd-b398-d0e5f26c0e24",
   "metadata": {},
   "source": [
    "## Quantitative Columns"
   ]
  },
  {
   "cell_type": "code",
   "execution_count": 30,
   "id": "5d1d278c-c3cb-48cc-a94d-30c5ff979204",
   "metadata": {},
   "outputs": [
    {
     "data": {
      "text/html": [
       "<div>\n",
       "<style scoped>\n",
       "    .dataframe tbody tr th:only-of-type {\n",
       "        vertical-align: middle;\n",
       "    }\n",
       "\n",
       "    .dataframe tbody tr th {\n",
       "        vertical-align: top;\n",
       "    }\n",
       "\n",
       "    .dataframe thead th {\n",
       "        text-align: right;\n",
       "    }\n",
       "</style>\n",
       "<table border=\"1\" class=\"dataframe\">\n",
       "  <thead>\n",
       "    <tr style=\"text-align: right;\">\n",
       "      <th></th>\n",
       "      <th>Age</th>\n",
       "      <th>DailyRate</th>\n",
       "      <th>DistanceFromHome</th>\n",
       "      <th>HourlyRate</th>\n",
       "      <th>MonthlyIncome</th>\n",
       "      <th>MonthlyRate</th>\n",
       "      <th>NumCompaniesWorked</th>\n",
       "      <th>PercentSalaryHike</th>\n",
       "      <th>TotalWorkingYears</th>\n",
       "      <th>TrainingTimesLastYear</th>\n",
       "      <th>YearsAtCompany</th>\n",
       "      <th>YearsInCurrentRole</th>\n",
       "      <th>YearsSinceLastPromotion</th>\n",
       "      <th>YearsWithCurrManager</th>\n",
       "    </tr>\n",
       "  </thead>\n",
       "  <tbody>\n",
       "    <tr>\n",
       "      <th>0</th>\n",
       "      <td>41</td>\n",
       "      <td>1102</td>\n",
       "      <td>1</td>\n",
       "      <td>94</td>\n",
       "      <td>5993</td>\n",
       "      <td>19479</td>\n",
       "      <td>8</td>\n",
       "      <td>11</td>\n",
       "      <td>8</td>\n",
       "      <td>0</td>\n",
       "      <td>6</td>\n",
       "      <td>4</td>\n",
       "      <td>0</td>\n",
       "      <td>5</td>\n",
       "    </tr>\n",
       "    <tr>\n",
       "      <th>1</th>\n",
       "      <td>49</td>\n",
       "      <td>279</td>\n",
       "      <td>8</td>\n",
       "      <td>61</td>\n",
       "      <td>5130</td>\n",
       "      <td>24907</td>\n",
       "      <td>1</td>\n",
       "      <td>23</td>\n",
       "      <td>10</td>\n",
       "      <td>3</td>\n",
       "      <td>10</td>\n",
       "      <td>7</td>\n",
       "      <td>1</td>\n",
       "      <td>7</td>\n",
       "    </tr>\n",
       "    <tr>\n",
       "      <th>2</th>\n",
       "      <td>37</td>\n",
       "      <td>1373</td>\n",
       "      <td>2</td>\n",
       "      <td>92</td>\n",
       "      <td>2090</td>\n",
       "      <td>2396</td>\n",
       "      <td>6</td>\n",
       "      <td>15</td>\n",
       "      <td>7</td>\n",
       "      <td>3</td>\n",
       "      <td>0</td>\n",
       "      <td>0</td>\n",
       "      <td>0</td>\n",
       "      <td>0</td>\n",
       "    </tr>\n",
       "    <tr>\n",
       "      <th>3</th>\n",
       "      <td>33</td>\n",
       "      <td>1392</td>\n",
       "      <td>3</td>\n",
       "      <td>56</td>\n",
       "      <td>2909</td>\n",
       "      <td>23159</td>\n",
       "      <td>1</td>\n",
       "      <td>11</td>\n",
       "      <td>8</td>\n",
       "      <td>3</td>\n",
       "      <td>8</td>\n",
       "      <td>7</td>\n",
       "      <td>3</td>\n",
       "      <td>0</td>\n",
       "    </tr>\n",
       "    <tr>\n",
       "      <th>4</th>\n",
       "      <td>27</td>\n",
       "      <td>591</td>\n",
       "      <td>2</td>\n",
       "      <td>40</td>\n",
       "      <td>3468</td>\n",
       "      <td>16632</td>\n",
       "      <td>9</td>\n",
       "      <td>12</td>\n",
       "      <td>6</td>\n",
       "      <td>3</td>\n",
       "      <td>2</td>\n",
       "      <td>2</td>\n",
       "      <td>2</td>\n",
       "      <td>2</td>\n",
       "    </tr>\n",
       "  </tbody>\n",
       "</table>\n",
       "</div>"
      ],
      "text/plain": [
       "   Age  DailyRate  DistanceFromHome  HourlyRate  MonthlyIncome  MonthlyRate  \\\n",
       "0   41       1102                 1          94           5993        19479   \n",
       "1   49        279                 8          61           5130        24907   \n",
       "2   37       1373                 2          92           2090         2396   \n",
       "3   33       1392                 3          56           2909        23159   \n",
       "4   27        591                 2          40           3468        16632   \n",
       "\n",
       "   NumCompaniesWorked  PercentSalaryHike  TotalWorkingYears  \\\n",
       "0                   8                 11                  8   \n",
       "1                   1                 23                 10   \n",
       "2                   6                 15                  7   \n",
       "3                   1                 11                  8   \n",
       "4                   9                 12                  6   \n",
       "\n",
       "   TrainingTimesLastYear  YearsAtCompany  YearsInCurrentRole  \\\n",
       "0                      0               6                   4   \n",
       "1                      3              10                   7   \n",
       "2                      3               0                   0   \n",
       "3                      3               8                   7   \n",
       "4                      3               2                   2   \n",
       "\n",
       "   YearsSinceLastPromotion  YearsWithCurrManager  \n",
       "0                        0                     5  \n",
       "1                        1                     7  \n",
       "2                        0                     0  \n",
       "3                        3                     0  \n",
       "4                        2                     2  "
      ]
     },
     "execution_count": 30,
     "metadata": {},
     "output_type": "execute_result"
    }
   ],
   "source": [
    "import pandas as pd\n",
    "import seaborn as sns\n",
    "\n",
    "df = pd.read_csv(\"caso_hr_analytics_ibm/WA_Fn-UseC_-HR-Employee-Attrition.csv\")\n",
    "\n",
    "# all int64 types\n",
    "quantitative_columns = ['Age', 'DailyRate', 'DistanceFromHome', 'HourlyRate',\n",
    "                        'MonthlyIncome', 'MonthlyRate', 'NumCompaniesWorked', 'PercentSalaryHike',\n",
    "                        'TotalWorkingYears', 'TrainingTimesLastYear',\n",
    "                        'YearsAtCompany', 'YearsInCurrentRole', 'YearsSinceLastPromotion',\n",
    "                        'YearsWithCurrManager'\n",
    "                       ]\n",
    "df[quantitative_columns].head()\n"
   ]
  },
  {
   "cell_type": "markdown",
   "id": "81e4d7d2-35e3-4171-b832-e115243176f1",
   "metadata": {},
   "source": [
    "## Cualitative Columns"
   ]
  },
  {
   "cell_type": "code",
   "execution_count": 25,
   "id": "8807d3c0-1d82-4fbd-83cc-b1fdd496e650",
   "metadata": {},
   "outputs": [
    {
     "data": {
      "text/html": [
       "<div>\n",
       "<style scoped>\n",
       "    .dataframe tbody tr th:only-of-type {\n",
       "        vertical-align: middle;\n",
       "    }\n",
       "\n",
       "    .dataframe tbody tr th {\n",
       "        vertical-align: top;\n",
       "    }\n",
       "\n",
       "    .dataframe thead th {\n",
       "        text-align: right;\n",
       "    }\n",
       "</style>\n",
       "<table border=\"1\" class=\"dataframe\">\n",
       "  <thead>\n",
       "    <tr style=\"text-align: right;\">\n",
       "      <th></th>\n",
       "      <th>Attrition</th>\n",
       "      <th>BusinessTravel</th>\n",
       "      <th>Department</th>\n",
       "      <th>EducationField</th>\n",
       "      <th>Gender</th>\n",
       "      <th>JobRole</th>\n",
       "      <th>MaritalStatus</th>\n",
       "      <th>Over18</th>\n",
       "      <th>OverTime</th>\n",
       "      <th>Education</th>\n",
       "      <th>EnvironmentSatisfaction</th>\n",
       "      <th>JobInvolvement</th>\n",
       "      <th>JobSatisfaction</th>\n",
       "      <th>RelationshipSatisfaction</th>\n",
       "      <th>StandardHours</th>\n",
       "      <th>StockOptionLevel</th>\n",
       "      <th>PerformanceRating</th>\n",
       "    </tr>\n",
       "  </thead>\n",
       "  <tbody>\n",
       "    <tr>\n",
       "      <th>0</th>\n",
       "      <td>Yes</td>\n",
       "      <td>Travel_Rarely</td>\n",
       "      <td>Sales</td>\n",
       "      <td>Life Sciences</td>\n",
       "      <td>Female</td>\n",
       "      <td>Sales Executive</td>\n",
       "      <td>Single</td>\n",
       "      <td>Y</td>\n",
       "      <td>Yes</td>\n",
       "      <td>2</td>\n",
       "      <td>2</td>\n",
       "      <td>3</td>\n",
       "      <td>4</td>\n",
       "      <td>1</td>\n",
       "      <td>80</td>\n",
       "      <td>0</td>\n",
       "      <td>3</td>\n",
       "    </tr>\n",
       "    <tr>\n",
       "      <th>1</th>\n",
       "      <td>No</td>\n",
       "      <td>Travel_Frequently</td>\n",
       "      <td>Research &amp; Development</td>\n",
       "      <td>Life Sciences</td>\n",
       "      <td>Male</td>\n",
       "      <td>Research Scientist</td>\n",
       "      <td>Married</td>\n",
       "      <td>Y</td>\n",
       "      <td>No</td>\n",
       "      <td>1</td>\n",
       "      <td>3</td>\n",
       "      <td>2</td>\n",
       "      <td>2</td>\n",
       "      <td>4</td>\n",
       "      <td>80</td>\n",
       "      <td>1</td>\n",
       "      <td>4</td>\n",
       "    </tr>\n",
       "    <tr>\n",
       "      <th>2</th>\n",
       "      <td>Yes</td>\n",
       "      <td>Travel_Rarely</td>\n",
       "      <td>Research &amp; Development</td>\n",
       "      <td>Other</td>\n",
       "      <td>Male</td>\n",
       "      <td>Laboratory Technician</td>\n",
       "      <td>Single</td>\n",
       "      <td>Y</td>\n",
       "      <td>Yes</td>\n",
       "      <td>2</td>\n",
       "      <td>4</td>\n",
       "      <td>2</td>\n",
       "      <td>3</td>\n",
       "      <td>2</td>\n",
       "      <td>80</td>\n",
       "      <td>0</td>\n",
       "      <td>3</td>\n",
       "    </tr>\n",
       "    <tr>\n",
       "      <th>3</th>\n",
       "      <td>No</td>\n",
       "      <td>Travel_Frequently</td>\n",
       "      <td>Research &amp; Development</td>\n",
       "      <td>Life Sciences</td>\n",
       "      <td>Female</td>\n",
       "      <td>Research Scientist</td>\n",
       "      <td>Married</td>\n",
       "      <td>Y</td>\n",
       "      <td>Yes</td>\n",
       "      <td>4</td>\n",
       "      <td>4</td>\n",
       "      <td>3</td>\n",
       "      <td>3</td>\n",
       "      <td>3</td>\n",
       "      <td>80</td>\n",
       "      <td>0</td>\n",
       "      <td>3</td>\n",
       "    </tr>\n",
       "    <tr>\n",
       "      <th>4</th>\n",
       "      <td>No</td>\n",
       "      <td>Travel_Rarely</td>\n",
       "      <td>Research &amp; Development</td>\n",
       "      <td>Medical</td>\n",
       "      <td>Male</td>\n",
       "      <td>Laboratory Technician</td>\n",
       "      <td>Married</td>\n",
       "      <td>Y</td>\n",
       "      <td>No</td>\n",
       "      <td>1</td>\n",
       "      <td>1</td>\n",
       "      <td>3</td>\n",
       "      <td>2</td>\n",
       "      <td>4</td>\n",
       "      <td>80</td>\n",
       "      <td>1</td>\n",
       "      <td>3</td>\n",
       "    </tr>\n",
       "  </tbody>\n",
       "</table>\n",
       "</div>"
      ],
      "text/plain": [
       "  Attrition     BusinessTravel              Department EducationField  Gender  \\\n",
       "0       Yes      Travel_Rarely                   Sales  Life Sciences  Female   \n",
       "1        No  Travel_Frequently  Research & Development  Life Sciences    Male   \n",
       "2       Yes      Travel_Rarely  Research & Development          Other    Male   \n",
       "3        No  Travel_Frequently  Research & Development  Life Sciences  Female   \n",
       "4        No      Travel_Rarely  Research & Development        Medical    Male   \n",
       "\n",
       "                 JobRole MaritalStatus Over18 OverTime  Education  \\\n",
       "0        Sales Executive        Single      Y      Yes          2   \n",
       "1     Research Scientist       Married      Y       No          1   \n",
       "2  Laboratory Technician        Single      Y      Yes          2   \n",
       "3     Research Scientist       Married      Y      Yes          4   \n",
       "4  Laboratory Technician       Married      Y       No          1   \n",
       "\n",
       "   EnvironmentSatisfaction  JobInvolvement  JobSatisfaction  \\\n",
       "0                        2               3                4   \n",
       "1                        3               2                2   \n",
       "2                        4               2                3   \n",
       "3                        4               3                3   \n",
       "4                        1               3                2   \n",
       "\n",
       "   RelationshipSatisfaction  StandardHours  StockOptionLevel  \\\n",
       "0                         1             80                 0   \n",
       "1                         4             80                 1   \n",
       "2                         2             80                 0   \n",
       "3                         3             80                 0   \n",
       "4                         4             80                 1   \n",
       "\n",
       "   PerformanceRating  \n",
       "0                  3  \n",
       "1                  4  \n",
       "2                  3  \n",
       "3                  3  \n",
       "4                  3  "
      ]
     },
     "execution_count": 25,
     "metadata": {},
     "output_type": "execute_result"
    }
   ],
   "source": [
    "qualitative_columns = [\n",
    "    \"Attrition\", \"BusinessTravel\", \"Department\", \"EducationField\", \"Gender\", \"JobRole\",\n",
    "    \"MaritalStatus\", \"Over18\", \"OverTime\", \"Education\", 'EnvironmentSatisfaction', 'JobInvolvement',\n",
    "    'JobSatisfaction', 'RelationshipSatisfaction', 'StandardHours', 'StockOptionLevel', 'PerformanceRating',\n",
    "    'WorkLifeBalance'\n",
    "]\n",
    "\n",
    "# get info about information\n",
    "df[qualitative_columns].head()"
   ]
  },
  {
   "cell_type": "markdown",
   "id": "fe1cb485-b5ee-4ef9-913c-2d35b4371b25",
   "metadata": {},
   "source": [
    "## Describiendo la Data de las Variables que necesitamos analizar\n",
    "Por ejemplo qué es JobLevel ?"
   ]
  },
  {
   "cell_type": "code",
   "execution_count": 8,
   "id": "99fba2d8-cca0-4fd1-810b-6e6a55886166",
   "metadata": {},
   "outputs": [
    {
     "data": {
      "text/plain": [
       "<Axes: >"
      ]
     },
     "execution_count": 8,
     "metadata": {},
     "output_type": "execute_result"
    },
    {
     "data": {
      "image/png": "[encoded data removed]",
      "text/plain": [
       "<Figure size 640x480 with 1 Axes>"
      ]
     },
     "metadata": {},
     "output_type": "display_data"
    }
   ],
   "source": [
    "df['JobLevel'].hist(bins=10)"
   ]
  },
  {
   "cell_type": "markdown",
   "id": "1026a854-7b1c-4557-994a-fe2c8c3ebf12",
   "metadata": {},
   "source": [
    "De acuerdo al análisis podríamos considerar mas que una variable cuantitativa, será una variable categórica, porque suponemos que podría indicar una variable categórica ordinal."
   ]
  },
  {
   "cell_type": "code",
   "execution_count": 18,
   "id": "ccde2722-9a05-4fda-8074-dc553341f87d",
   "metadata": {},
   "outputs": [
    {
     "data": {
      "text/plain": [
       "<seaborn.axisgrid.FacetGrid at 0xffff58c67e30>"
      ]
     },
     "execution_count": 18,
     "metadata": {},
     "output_type": "execute_result"
    },
    {
     "data": {
      "image/png": "[encoded data removed]",
      "text/plain": [
       "<Figure size 572.125x500 with 1 Axes>"
      ]
     },
     "metadata": {},
     "output_type": "display_data"
    }
   ],
   "source": [
    "sns.displot(df, x='Age', hue='Attrition', multiple='stack')"
   ]
  },
  {
   "cell_type": "markdown",
   "id": "7d648005-951f-4ebe-bd8c-d4ad5e82bbd2",
   "metadata": {},
   "source": [
    "Este gráfico describe que quienes se fueron de la empresa en un gran porcentaje tenían una edad en un rango de 25-30 años"
   ]
  },
  {
   "cell_type": "markdown",
   "id": "538d0538-b794-4d54-bedb-1d42a7f32616",
   "metadata": {},
   "source": [
    "## Attrition vs MonthlyIncome\n",
    "Nos muestra que existe una dispersión de la información y que existe un sesgo, pero cláramente "
   ]
  },
  {
   "cell_type": "code",
   "execution_count": 28,
   "id": "c7820378-f3d6-4561-a7ee-1008dd6290ab",
   "metadata": {},
   "outputs": [
    {
     "data": {
      "text/plain": [
       "<Axes: xlabel='Attrition', ylabel='TotalWorkingYears'>"
      ]
     },
     "execution_count": 28,
     "metadata": {},
     "output_type": "execute_result"
    },
    {
     "data": {
      "image/png": "[encoded data removed]",
      "text/plain": [
       "<Figure size 640x480 with 1 Axes>"
      ]
     },
     "metadata": {},
     "output_type": "display_data"
    }
   ],
   "source": [
    "sns.boxplot(x='Attrition', y='TotalWorkingYears', data=df, hue='JobRole')"
   ]
  }
 ],
 "metadata": {
  "kernelspec": {
   "display_name": "Python 3 (ipykernel)",
   "language": "python",
   "name": "python3"
  },
  "language_info": {
   "codemirror_mode": {
    "name": "ipython",
    "version": 3
   },
   "file_extension": ".py",
   "mimetype": "text/x-python",
   "name": "python",
   "nbconvert_exporter": "python",
   "pygments_lexer": "ipython3",
   "version": "3.12.4"
  }
 },
 "nbformat": 4,
 "nbformat_minor": 5
}
