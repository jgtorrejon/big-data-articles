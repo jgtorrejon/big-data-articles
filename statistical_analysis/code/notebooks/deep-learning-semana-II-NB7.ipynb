{
 "cells": [
  {
   "cell_type": "markdown",
   "metadata": {},
   "source": [
    "# Maestría en Maestría en Ciencia de Datos e Inteligencia Artificial\n",
    "#### 8. Machine Learning and Deep Learning\n",
    "#### Docente: Msc. Renzo Claure Aracena."
   ]
  },
  {
   "cell_type": "code",
   "execution_count": null,
   "metadata": {},
   "outputs": [],
   "source": [
    "%matplotlib inline\n",
    "import numpy as np\n",
    "import pandas as pd\n",
    "import seaborn as sn\n",
    "import matplotlib.pyplot as plt\n",
    "\n",
    "from sklearn.model_selection import train_test_split\n",
    "from matplotlib.colors import ListedColormap"
   ]
  },
  {
   "cell_type": "code",
   "execution_count": null,
   "metadata": {},
   "outputs": [],
   "source": [
    "cancer = pd.read_csv('cancer.csv', delimiter = \";\", decimal=\",\")"
   ]
  },
  {
   "cell_type": "code",
   "execution_count": null,
   "metadata": {},
   "outputs": [],
   "source": [
    "cancer.head()"
   ]
  },
  {
   "cell_type": "code",
   "execution_count": null,
   "metadata": {},
   "outputs": [],
   "source": [
    "cancer.shape"
   ]
  },
  {
   "cell_type": "code",
   "execution_count": null,
   "metadata": {},
   "outputs": [],
   "source": [
    "cancer.dtypes"
   ]
  },
  {
   "cell_type": "code",
   "execution_count": null,
   "metadata": {},
   "outputs": [],
   "source": [
    "X_2D = cancer[['Radio', 'Simetria']]\n",
    "y_2D = cancer['Tipo']"
   ]
  },
  {
   "cell_type": "code",
   "execution_count": null,
   "metadata": {},
   "outputs": [],
   "source": [
    "from sklearn.linear_model import LogisticRegression"
   ]
  },
  {
   "cell_type": "code",
   "execution_count": null,
   "metadata": {},
   "outputs": [],
   "source": [
    "#import matplotlib.pyplot as plt\n",
    "#from importlib import reload\n",
    "#plt=reload(plt)"
   ]
  },
  {
   "cell_type": "code",
   "execution_count": null,
   "metadata": {},
   "outputs": [],
   "source": [
    "X_train, X_test, y_train, y_test = train_test_split(X_2D, y_2D, random_state=0)\n",
    "\n",
    "plt.figure()\n",
    "color = {'M' : 'red', 'B' : 'green'}\n",
    "plt.scatter(X_train['Radio'].array, X_train['Simetria'].array, marker= 'o', c=y_train.map(color))\n",
    "plt.title('Regresion Logistica')\n",
    "plt.xlabel('Radio')\n",
    "plt.ylabel('Simetria')\n",
    "plt.show() #fin\n"
   ]
  },
  {
   "cell_type": "code",
   "execution_count": null,
   "metadata": {},
   "outputs": [],
   "source": [
    "clasif = LogisticRegression(C=1).fit(X_train, y_train)"
   ]
  },
  {
   "cell_type": "code",
   "execution_count": null,
   "metadata": {},
   "outputs": [],
   "source": [
    "Radio = 10\n",
    "Simetria = 0.175\n",
    "\n",
    "print('Un tumor con un radio  de: {} y simetria: {}, es probable que sea: {}'\n",
    "      .format(Radio, Simetria, clasif.predict([[Radio, Simetria]])))"
   ]
  },
  {
   "cell_type": "code",
   "execution_count": null,
   "metadata": {},
   "outputs": [],
   "source": [
    "print('La precision del modelo de clasificacion de cancer sobre el entrenamiento es de:{:.2f}'.format(clasif.score(X_train, y_train)))\n",
    "print('La precision del modelo de clasificacion de cancer sobre la comprobacion es de:{}'.format(clasif.score(X_test, y_test)))"
   ]
  },
  {
   "cell_type": "code",
   "execution_count": null,
   "metadata": {},
   "outputs": [],
   "source": [
    "clasif.score(X_train, y_train)"
   ]
  },
  {
   "cell_type": "code",
   "execution_count": null,
   "metadata": {},
   "outputs": [],
   "source": [
    "for C_i in [0.001, 1, 10, 1000, 10000]:\n",
    "    clasif = LogisticRegression(C=C_i).fit(X_train, y_train)\n",
    "    score_train = clasif.score(X_train, y_train)\n",
    "    score_test = clasif.score(X_test, y_test)\n",
    "    print('C = {:.3f}, score entrenamiento: {:.2f}, score comprobacion: {:.2f}\\n'.format(C_i, score_train, score_test))"
   ]
  },
  {
   "cell_type": "code",
   "execution_count": null,
   "metadata": {},
   "outputs": [],
   "source": [
    "from adspy_shared_utilities import plot_class_regions_for_classifier_subplot"
   ]
  },
  {
   "cell_type": "code",
   "execution_count": null,
   "metadata": {},
   "outputs": [],
   "source": [
    "X_2D = cancer[['Radio', 'Simetria']]\n",
    "y_2D = cancer[['Tipo']].replace({'Tipo':{'B':0, 'M':1}})\n",
    "y_2D = y_2D['Tipo']"
   ]
  },
  {
   "cell_type": "code",
   "execution_count": null,
   "metadata": {},
   "outputs": [],
   "source": [
    "X_2D = X_2D.to_numpy()\n",
    "y_2D = y_2D.to_numpy()\n",
    "\n",
    "X_train, X_test, y_train, y_test = train_test_split(X_2D, y_2D, random_state=0)\n",
    "clasif = LogisticRegression().fit(X_train, y_train)\n",
    "\n",
    "fig, subaxes = plt.subplots(1, 1, figsize=(7, 5))\n",
    "titulo = 'Regresion Logistica para Cancer, 2 variables C = {:.3f}'.format(1.0)\n",
    "plot_class_regions_for_classifier_subplot(clasif, X_train[:100,:], y_train[0:100], X_test[:30,:], y_test[0:30], titulo, subaxes)\n"
   ]
  },
  {
   "cell_type": "code",
   "execution_count": null,
   "metadata": {},
   "outputs": [],
   "source": [
    "X_train, X_test, y_train, y_test = train_test_split(X_2D, y_2D, random_state=0)\n",
    "\n",
    "fig, subaxes = plt.subplots(3, 1, figsize=(7,10))\n",
    "\n",
    "for C_i, subplot in zip([0.01, 1, 100], subaxes):\n",
    "    clasif = LogisticRegression(C=C_i).fit(X_train, y_train)\n",
    "    titulo ='Regresion Logistica Cancer C = {:.3f}'.format(C_i)\n",
    "    \n",
    "    plot_class_regions_for_classifier_subplot(clasif, X_train[:100,:], y_train[0:100],\n",
    "                                             X_test[:30,:], y_test[0:30], titulo,\n",
    "                                             subplot)\n",
    "plt.tight_layout()"
   ]
  },
  {
   "cell_type": "markdown",
   "metadata": {},
   "source": [
    "*Pruebe el Clasificador con todas las variables para C=0.01, C=1 y C=100*"
   ]
  },
  {
   "cell_type": "code",
   "execution_count": null,
   "metadata": {},
   "outputs": [],
   "source": []
  }
 ],
 "metadata": {
  "kernelspec": {
   "display_name": "Python 3 (ipykernel)",
   "language": "python",
   "name": "python3"
  },
  "language_info": {
   "codemirror_mode": {
    "name": "ipython",
    "version": 3
   },
   "file_extension": ".py",
   "mimetype": "text/x-python",
   "name": "python",
   "nbconvert_exporter": "python",
   "pygments_lexer": "ipython3",
   "version": "3.12.7"
  }
 },
 "nbformat": 4,
 "nbformat_minor": 4
}
