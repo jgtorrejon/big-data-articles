


import pandas as pd
import numpy as np
import matplotlib.pyplot as plt
import seaborn as sns


pip install mysql-connector-python


import mysql.connector as connector


# leer los datos de la tabla telco1

try:
    mydb = connector.connect(host='localhost', database='curso', user='root', passwd= 'curso123', use_pure='True')
    query = "select * from telco1_2024"
    df_telco_churn1 = pd.read_sql(query, mydb)
    mydb.close()
except Exception as e:
    mydb.close()
    print(str(e))


# leer los datos de la tabla telco2

try:
    mydb = connector.connect(host='localhost', database='curso', user='root', passwd= 'curso123', use_pure='True')
    query = "select * from telco2_2024"
    df_telco_churn2 = pd.read_sql(query, mydb)
    mydb.close()
except Exception as e:
    mydb.close()
    print(str(e))


ls





df_telco_churn1 = pd.read_csv('caso telco/telco1.csv', sep= ',', decimal = '.')


df_telco_churn2 = pd.read_csv('caso telco/telco2.csv', sep= ',', decimal = '.')


df_telco_churn1.columns = df_telco_churn1.columns.str.strip()


df_telco_churn2.columns = df_telco_churn2.columns.str.strip()


df_telco_churn2.columns


type(df_telco_churn1)


df_telco_churn1.head()


df_telco_churn1.head(2)


df_telco_churn2.head()





df_telco_churn1.dtypes


df_telco_churn2.dtypes





df_telco_churn1['SeniorCitizen'] = df_telco_churn1['SeniorCitizen'].astype('object')


df_telco_churn1.dtypes





df_telco_churn2["account"] = df_telco_churn2["account"].astype('object')


#si se quiere cambiar varias columnas
df_telco_churn2 = df_telco_churn2.astype({'account':'object', 'area_code':'object'})


df_telco_churn2.dtypes


# identificar el número de elementos de la base telco1
len(df_telco_churn1)


# identificar el número de elementos de la base telco2
len(df_telco_churn2)


type(df_telco_churn1)


df_telco_churn1.shape


df_telco_churn2.columns


type(df_telco_churn2['voice_mail_plan'])


df_telco_churn2.groupby('voice_mail_plan').size()


voice_mail_plan_agrupado = df_telco_churn2.groupby('voice_mail_plan').size()


voice_mail_plan_agrupado


type(voice_mail_plan_agrupado)





voice_mail_plan_agrupado.plot.bar('voice_mail_plan')
plt.show()


international_plan_agrupado = df_telco_churn2.groupby('international_plan').size()
international_plan_agrupado.plot.bar('international_plan')
plt.show()


# Otra manera de representar en porcentaje
df_telco_churn2['international_plan'].value_counts(normalize=True)*100


df_telco_churn2['international_plan'].value_counts()





df_telco_churn1.groupby('gender').size()








df_telco_churn2['total_day_minutes'].hist(bins=100)
plt.show()


df_telco_churn2['number_customer_service_calls'].hist(bins=10)
plt.show()


df_telco_churn1['TotalCharges'].hist(bins=10)
plt.show()


#graficando con seaborn
import seaborn as sns



sns.histplot(data=df_telco_churn1, x = 'TotalCharges',bins=10 )
plt.show()





df_telco_churn2['total_day_minutes'].mean()


df_telco_churn2[['total_night_calls','total_night_charge']].mean()


# complete TOTALCHARGES


df_telco_churn1['TotalCharges'].mean()





df_telco_churn2['total_day_minutes'].median()


#complete TOTALCHARGES


df_telco_churn1['TotalCharges'].median()








df_telco_churn2['total_day_minutes'].mode()


df_telco_churn2['total_day_minutes'].hist(bins=1000)
plt.show()


df_telco_churn1['TotalCharges'].mode()


df_telco_churn1['TotalCharges'].hist(bins=100)
plt.show()





# Rango


maximo = df_telco_churn1['TotalCharges'].max()


minimo = df_telco_churn1['TotalCharges'].min()


rango = maximo - minimo


maximo


minimo


rango





# Cuartiles
q1, q3 = np.percentile(df_telco_churn2['total_day_minutes'], [25,75])


q1


q3


# Rango intercuartil

RIC = q3 - q1



RIC


# Varianza

df_telco_churn2['total_day_minutes'].var()


# Desviacion Estandar

df_telco_churn2['total_day_minutes'].std()


# Grafico Box plot


df_telco_churn2.boxplot('total_day_minutes')
plt.show()


sns.boxplot(data= df_telco_churn2['total_day_minutes'])
plt.show()


df_telco_churn2.head(2).T





# Entre variables cuantitativas correlacíon 


pd.plotting.scatter_matrix(df_telco_churn2[['total_day_minutes','total_day_charge']], alpha=0.5)
plt.show()


pd.plotting.scatter_matrix(df_telco_churn2[['total_night_calls','total_night_charge']], alpha=0.2)
plt.show()


pd.plotting.scatter_matrix(df_telco_churn2[['total_night_calls','total_night_charge', 'total_night_minutes']], alpha=0.2)
plt.show()


sns.scatterplot(data = df_telco_churn2, x = 'total_night_charge', y = 'total_night_minutes')


sns.scatterplot(data = df_telco_churn2, x = 'total_night_calls', y = 'total_night_minutes')


corr_df = df_telco_churn2[['total_night_charge', 'total_night_minutes']].corr(method='pearson')

plt.figure(figsize=(5, 5))
sns.heatmap(corr_df, annot=True)
plt.show()


corr_df = df_telco_churn2[['total_night_calls', 'total_night_minutes']].corr(method='pearson')

plt.figure(figsize=(7, 5))
sns.heatmap(corr_df, annot=True)
plt.show()     


df_telco_churn1.describe(include = 'all')


df_telco_churn2.describe(include = 'all')


df_telco_churn2.sample(4).head(4).T





df_telco_churn2.groupby(['churn.']).agg({'number_vmail_messages': 'mean', 'total_day_minutes': 'mean', 'total_day_calls': 'mean',  \
                                       'total_day_charge': 'mean', 'total_eve_minutes': 'mean', 'total_eve_calls': 'mean', \
                                        'total_eve_charge': 'mean', 'total_night_minutes': 'mean', 'total_night_calls': 'mean', \
                                        'total_night_charge': 'mean', 'total_intl_minutes': 'mean', 'total_intl_calls':'mean', \
                                        'total_intl_charge':'mean', 'total_intl_charge':'mean' \
                                       }) \
       .sort_values(['churn.'], ascending = True)


df_telco_churn1.groupby(['Churn']).agg({'MonthlyCharges': 'mean', 'TotalCharges': 'mean'})  \
               .sort_values(['Churn'], ascending = True )  





df_telco_churn1.groupby(['MultipleLines','Churn'], dropna=False).agg({'TotalCharges':'mean'})


df_telco_churn1.groupby(['Dependents','Churn'], dropna=False).agg({'TotalCharges':'mean'})


df_telco_churn1.groupby(['StreamingMovies','Churn'], dropna=False).agg({'TotalCharges':'mean'})





pip install ydata-profiling --user


import numpy as np
import pandas as pd
from ydata_profiling import ProfileReport



profile = ProfileReport(df_telco_churn2, title="Profiling Report")


profile



