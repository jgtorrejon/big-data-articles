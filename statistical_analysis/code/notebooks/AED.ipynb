{
 "cells": [
  {
   "cell_type": "markdown",
   "id": "8daa6c84-fd91-473c-b8e9-54eb4230d302",
   "metadata": {},
   "source": [
    "# AED\n",
    "\n",
    "El analisis exploratorio de datos permite en la fase de \"Entendimiento del Datos\" de la metodologia CRISP - DM, comprender la naturaleza de los datos desde un punto de vista del negocio. "
   ]
  },
  {
   "cell_type": "code",
   "execution_count": 3,
   "id": "594b0e73-06eb-45c7-87bd-0fd2b7942112",
   "metadata": {},
   "outputs": [],
   "source": [
    "import pandas as pd\n",
    "import numpy as np\n",
    "import matplotlib.pyplot as plt\n",
    "import seaborn as sns"
   ]
  },
  {
   "cell_type": "code",
   "execution_count": 4,
   "id": "dcdbf550-1d8b-4e07-9eb8-f5e0fb6b7296",
   "metadata": {},
   "outputs": [
    {
     "name": "stdout",
     "output_type": "stream",
     "text": [
      "Collecting mysql-connector-python\n",
      "  Downloading mysql_connector_python-9.1.0-cp312-cp312-manylinux_2_28_aarch64.whl.metadata (6.0 kB)\n",
      "Downloading mysql_connector_python-9.1.0-cp312-cp312-manylinux_2_28_aarch64.whl (34.1 MB)\n",
      "\u001b[2K   \u001b[90m━━━━━━━━━━━━━━━━━━━━━━━━━━━━━━━━━━━━━━━━\u001b[0m \u001b[32m34.1/34.1 MB\u001b[0m \u001b[31m3.2 MB/s\u001b[0m eta \u001b[36m0:00:00\u001b[0m00:01\u001b[0m00:01\u001b[0m\n",
      "\u001b[?25hInstalling collected packages: mysql-connector-python\n",
      "Successfully installed mysql-connector-python-9.1.0\n",
      "\u001b[33mWARNING: Running pip as the 'root' user can result in broken permissions and conflicting behaviour with the system package manager. It is recommended to use a virtual environment instead: https://pip.pypa.io/warnings/venv\u001b[0m\u001b[33m\n",
      "\u001b[0mNote: you may need to restart the kernel to use updated packages.\n"
     ]
    }
   ],
   "source": [
    "pip install mysql-connector-python"
   ]
  },
  {
   "cell_type": "code",
   "execution_count": 5,
   "id": "5d285ad0-e8eb-45bd-af39-fac40e1ac9dd",
   "metadata": {},
   "outputs": [],
   "source": [
    "import mysql.connector as connector"
   ]
  },
  {
   "cell_type": "code",
   "execution_count": 6,
   "id": "a78b974b-71d3-4726-af90-7633ce35bfab",
   "metadata": {},
   "outputs": [
    {
     "ename": "NameError",
     "evalue": "name 'mydb' is not defined",
     "output_type": "error",
     "traceback": [
      "\u001b[0;31m---------------------------------------------------------------------------\u001b[0m",
      "\u001b[0;31mConnectionRefusedError\u001b[0m                    Traceback (most recent call last)",
      "File \u001b[0;32m/opt/conda/lib/python3.12/site-packages/mysql/connector/network.py:763\u001b[0m, in \u001b[0;36mMySQLTCPSocket.open_connection\u001b[0;34m(self)\u001b[0m\n\u001b[1;32m    762\u001b[0m     \u001b[38;5;28mself\u001b[39m\u001b[38;5;241m.\u001b[39msock\u001b[38;5;241m.\u001b[39msettimeout(\u001b[38;5;28mself\u001b[39m\u001b[38;5;241m.\u001b[39m_connection_timeout)\n\u001b[0;32m--> 763\u001b[0m     \u001b[38;5;28mself\u001b[39m\u001b[38;5;241m.\u001b[39msock\u001b[38;5;241m.\u001b[39mconnect(sockaddr)\n\u001b[1;32m    764\u001b[0m \u001b[38;5;28;01mexcept\u001b[39;00m \u001b[38;5;167;01mIOError\u001b[39;00m \u001b[38;5;28;01mas\u001b[39;00m err:\n",
      "\u001b[0;31mConnectionRefusedError\u001b[0m: [Errno 111] Connection refused",
      "\nThe above exception was the direct cause of the following exception:\n",
      "\u001b[0;31mInterfaceError\u001b[0m                            Traceback (most recent call last)",
      "Cell \u001b[0;32mIn[6], line 4\u001b[0m\n\u001b[1;32m      3\u001b[0m \u001b[38;5;28;01mtry\u001b[39;00m:\n\u001b[0;32m----> 4\u001b[0m     mydb \u001b[38;5;241m=\u001b[39m connector\u001b[38;5;241m.\u001b[39mconnect(host\u001b[38;5;241m=\u001b[39m\u001b[38;5;124m'\u001b[39m\u001b[38;5;124mlocalhost\u001b[39m\u001b[38;5;124m'\u001b[39m, database\u001b[38;5;241m=\u001b[39m\u001b[38;5;124m'\u001b[39m\u001b[38;5;124mcurso\u001b[39m\u001b[38;5;124m'\u001b[39m, user\u001b[38;5;241m=\u001b[39m\u001b[38;5;124m'\u001b[39m\u001b[38;5;124mroot\u001b[39m\u001b[38;5;124m'\u001b[39m, passwd\u001b[38;5;241m=\u001b[39m \u001b[38;5;124m'\u001b[39m\u001b[38;5;124mcurso123\u001b[39m\u001b[38;5;124m'\u001b[39m, use_pure\u001b[38;5;241m=\u001b[39m\u001b[38;5;124m'\u001b[39m\u001b[38;5;124mTrue\u001b[39m\u001b[38;5;124m'\u001b[39m)\n\u001b[1;32m      5\u001b[0m     query \u001b[38;5;241m=\u001b[39m \u001b[38;5;124m\"\u001b[39m\u001b[38;5;124mselect * from telco1_2024\u001b[39m\u001b[38;5;124m\"\u001b[39m\n",
      "File \u001b[0;32m/opt/conda/lib/python3.12/site-packages/mysql/connector/pooling.py:323\u001b[0m, in \u001b[0;36mconnect\u001b[0;34m(*args, **kwargs)\u001b[0m\n\u001b[1;32m    322\u001b[0m     \u001b[38;5;28;01mreturn\u001b[39;00m CMySQLConnection(\u001b[38;5;241m*\u001b[39margs, \u001b[38;5;241m*\u001b[39m\u001b[38;5;241m*\u001b[39mkwargs)\n\u001b[0;32m--> 323\u001b[0m \u001b[38;5;28;01mreturn\u001b[39;00m MySQLConnection(\u001b[38;5;241m*\u001b[39margs, \u001b[38;5;241m*\u001b[39m\u001b[38;5;241m*\u001b[39mkwargs)\n",
      "File \u001b[0;32m/opt/conda/lib/python3.12/site-packages/mysql/connector/connection.py:179\u001b[0m, in \u001b[0;36mMySQLConnection.__init__\u001b[0;34m(self, **kwargs)\u001b[0m\n\u001b[1;32m    178\u001b[0m \u001b[38;5;28;01mtry\u001b[39;00m:\n\u001b[0;32m--> 179\u001b[0m     \u001b[38;5;28mself\u001b[39m\u001b[38;5;241m.\u001b[39mconnect(\u001b[38;5;241m*\u001b[39m\u001b[38;5;241m*\u001b[39mkwargs)\n\u001b[1;32m    180\u001b[0m \u001b[38;5;28;01mexcept\u001b[39;00m \u001b[38;5;167;01mException\u001b[39;00m:\n\u001b[1;32m    181\u001b[0m     \u001b[38;5;66;03m# Tidy-up underlying socket on failure\u001b[39;00m\n",
      "File \u001b[0;32m/opt/conda/lib/python3.12/site-packages/mysql/connector/abstracts.py:1426\u001b[0m, in \u001b[0;36mMySQLConnectionAbstract.connect\u001b[0;34m(self, **kwargs)\u001b[0m\n\u001b[1;32m   1425\u001b[0m \u001b[38;5;28mself\u001b[39m\u001b[38;5;241m.\u001b[39mdisconnect()\n\u001b[0;32m-> 1426\u001b[0m \u001b[38;5;28mself\u001b[39m\u001b[38;5;241m.\u001b[39m_open_connection()\n\u001b[1;32m   1428\u001b[0m charset, collation \u001b[38;5;241m=\u001b[39m (\n\u001b[1;32m   1429\u001b[0m     kwargs\u001b[38;5;241m.\u001b[39mpop(\u001b[38;5;124m\"\u001b[39m\u001b[38;5;124mcharset\u001b[39m\u001b[38;5;124m\"\u001b[39m, \u001b[38;5;28;01mNone\u001b[39;00m),\n\u001b[1;32m   1430\u001b[0m     kwargs\u001b[38;5;241m.\u001b[39mpop(\u001b[38;5;124m\"\u001b[39m\u001b[38;5;124mcollation\u001b[39m\u001b[38;5;124m\"\u001b[39m, \u001b[38;5;28;01mNone\u001b[39;00m),\n\u001b[1;32m   1431\u001b[0m )\n",
      "File \u001b[0;32m/opt/conda/lib/python3.12/site-packages/mysql/connector/connection.py:370\u001b[0m, in \u001b[0;36mMySQLConnection._open_connection\u001b[0;34m(self)\u001b[0m\n\u001b[1;32m    369\u001b[0m \u001b[38;5;28;01mtry\u001b[39;00m:\n\u001b[0;32m--> 370\u001b[0m     \u001b[38;5;28mself\u001b[39m\u001b[38;5;241m.\u001b[39m_socket\u001b[38;5;241m.\u001b[39mopen_connection()\n\u001b[1;32m    372\u001b[0m     \u001b[38;5;66;03m# do initial handshake\u001b[39;00m\n",
      "File \u001b[0;32m/opt/conda/lib/python3.12/site-packages/mysql/connector/network.py:765\u001b[0m, in \u001b[0;36mMySQLTCPSocket.open_connection\u001b[0;34m(self)\u001b[0m\n\u001b[1;32m    764\u001b[0m \u001b[38;5;28;01mexcept\u001b[39;00m \u001b[38;5;167;01mIOError\u001b[39;00m \u001b[38;5;28;01mas\u001b[39;00m err:\n\u001b[0;32m--> 765\u001b[0m     \u001b[38;5;28;01mraise\u001b[39;00m InterfaceError(\n\u001b[1;32m    766\u001b[0m         errno\u001b[38;5;241m=\u001b[39m\u001b[38;5;241m2003\u001b[39m,\n\u001b[1;32m    767\u001b[0m         values\u001b[38;5;241m=\u001b[39m(\n\u001b[1;32m    768\u001b[0m             \u001b[38;5;28mself\u001b[39m\u001b[38;5;241m.\u001b[39mserver_host,\n\u001b[1;32m    769\u001b[0m             \u001b[38;5;28mself\u001b[39m\u001b[38;5;241m.\u001b[39mserver_port,\n\u001b[1;32m    770\u001b[0m             _strioerror(err),\n\u001b[1;32m    771\u001b[0m         ),\n\u001b[1;32m    772\u001b[0m     ) \u001b[38;5;28;01mfrom\u001b[39;00m \u001b[38;5;21;01merr\u001b[39;00m\n\u001b[1;32m    773\u001b[0m \u001b[38;5;28;01mexcept\u001b[39;00m \u001b[38;5;167;01mException\u001b[39;00m \u001b[38;5;28;01mas\u001b[39;00m err:\n",
      "\u001b[0;31mInterfaceError\u001b[0m: 2003: Can't connect to MySQL server on 'localhost:3306' (Errno 111: Connection refused)",
      "\nDuring handling of the above exception, another exception occurred:\n",
      "\u001b[0;31mNameError\u001b[0m                                 Traceback (most recent call last)",
      "Cell \u001b[0;32mIn[6], line 9\u001b[0m\n\u001b[1;32m      7\u001b[0m     mydb\u001b[38;5;241m.\u001b[39mclose()\n\u001b[1;32m      8\u001b[0m \u001b[38;5;28;01mexcept\u001b[39;00m \u001b[38;5;167;01mException\u001b[39;00m \u001b[38;5;28;01mas\u001b[39;00m e:\n\u001b[0;32m----> 9\u001b[0m     mydb\u001b[38;5;241m.\u001b[39mclose()\n\u001b[1;32m     10\u001b[0m     \u001b[38;5;28mprint\u001b[39m(\u001b[38;5;28mstr\u001b[39m(e))\n",
      "\u001b[0;31mNameError\u001b[0m: name 'mydb' is not defined"
     ]
    }
   ],
   "source": [
    "# leer los datos de la tabla telco1\n",
    "\n",
    "try:\n",
    "    mydb = connector.connect(host='localhost', database='curso', user='root', passwd= 'curso123', use_pure='True')\n",
    "    query = \"select * from telco1_2024\"\n",
    "    df_telco_churn1 = pd.read_sql(query, mydb)\n",
    "    mydb.close()\n",
    "except Exception as e:\n",
    "    mydb.close()\n",
    "    print(str(e))"
   ]
  },
  {
   "cell_type": "code",
   "execution_count": null,
   "id": "c9d4d85e-0e98-4542-816f-89bf43ee454d",
   "metadata": {},
   "outputs": [],
   "source": [
    "# leer los datos de la tabla telco2\n",
    "\n",
    "try:\n",
    "    mydb = connector.connect(host='localhost', database='curso', user='root', passwd= 'curso123', use_pure='True')\n",
    "    query = \"select * from telco2_2024\"\n",
    "    df_telco_churn2 = pd.read_sql(query, mydb)\n",
    "    mydb.close()\n",
    "except Exception as e:\n",
    "    mydb.close()\n",
    "    print(str(e))"
   ]
  },
  {
   "cell_type": "code",
   "execution_count": null,
   "id": "24880fc8-b825-4f56-befc-44facf5815da",
   "metadata": {},
   "outputs": [],
   "source": [
    "ls"
   ]
  },
  {
   "cell_type": "markdown",
   "id": "e1c6b4c7-54de-4370-b7b8-34fe54264de1",
   "metadata": {},
   "source": [
    "Se puede obtener los datos no solo de una conexión a una base de datos sino a partir de un archivo csv"
   ]
  },
  {
   "cell_type": "code",
   "execution_count": 7,
   "id": "b3b12a25-50ac-4b3b-8659-b70e894b0117",
   "metadata": {},
   "outputs": [],
   "source": [
    "df_telco_churn1 = pd.read_csv('caso telco/telco1.csv', sep= ',', decimal = '.')"
   ]
  },
  {
   "cell_type": "code",
   "execution_count": 8,
   "id": "e3a0f5fe-a35d-4f25-bea8-043b335cc454",
   "metadata": {},
   "outputs": [],
   "source": [
    "df_telco_churn2 = pd.read_csv('caso telco/telco2.csv', sep= ',', decimal = '.')"
   ]
  },
  {
   "cell_type": "code",
   "execution_count": 9,
   "id": "9e076628-6fb3-4fcf-9181-3bcb70cd1e8c",
   "metadata": {},
   "outputs": [],
   "source": [
    "df_telco_churn1.columns = df_telco_churn1.columns.str.strip()"
   ]
  },
  {
   "cell_type": "code",
   "execution_count": 10,
   "id": "d7095de6-8889-49a0-87de-14a1e69cb988",
   "metadata": {},
   "outputs": [],
   "source": [
    "df_telco_churn2.columns = df_telco_churn2.columns.str.strip()"
   ]
  },
  {
   "cell_type": "code",
   "execution_count": 11,
   "id": "cb90fefc-7154-4006-8497-6a0c347eb30b",
   "metadata": {},
   "outputs": [
    {
     "data": {
      "text/plain": [
       "Index(['state', 'account', 'area_code', 'phone_number', 'international_plan',\n",
       "       'voice_mail_plan', 'number_vmail_messages', 'total_day_minutes',\n",
       "       'total_day_calls', 'total_day_charge', 'total_eve_minutes',\n",
       "       'total_eve_calls', 'total_eve_charge', 'total_night_minutes',\n",
       "       'total_night_calls', 'total_night_charge', 'total_intl_minutes',\n",
       "       'total_intl_calls', 'total_intl_charge',\n",
       "       'number_customer_service_calls', 'churn.'],\n",
       "      dtype='object')"
      ]
     },
     "execution_count": 11,
     "metadata": {},
     "output_type": "execute_result"
    }
   ],
   "source": [
    "df_telco_churn2.columns"
   ]
  },
  {
   "cell_type": "code",
   "execution_count": 12,
   "id": "3e767c8b-fdb2-4d85-8ff5-428a9b8daab4",
   "metadata": {},
   "outputs": [
    {
     "data": {
      "text/plain": [
       "pandas.core.frame.DataFrame"
      ]
     },
     "execution_count": 12,
     "metadata": {},
     "output_type": "execute_result"
    }
   ],
   "source": [
    "type(df_telco_churn1)"
   ]
  },
  {
   "cell_type": "code",
   "execution_count": 13,
   "id": "d385e00e-a3d4-4f8b-a072-78a3bf2eab5c",
   "metadata": {},
   "outputs": [
    {
     "data": {
      "text/html": [
       "<div>\n",
       "<style scoped>\n",
       "    .dataframe tbody tr th:only-of-type {\n",
       "        vertical-align: middle;\n",
       "    }\n",
       "\n",
       "    .dataframe tbody tr th {\n",
       "        vertical-align: top;\n",
       "    }\n",
       "\n",
       "    .dataframe thead th {\n",
       "        text-align: right;\n",
       "    }\n",
       "</style>\n",
       "<table border=\"1\" class=\"dataframe\">\n",
       "  <thead>\n",
       "    <tr style=\"text-align: right;\">\n",
       "      <th></th>\n",
       "      <th>customerID</th>\n",
       "      <th>gender</th>\n",
       "      <th>SeniorCitizen</th>\n",
       "      <th>Partner</th>\n",
       "      <th>Dependents</th>\n",
       "      <th>tenure</th>\n",
       "      <th>PhoneService</th>\n",
       "      <th>MultipleLines</th>\n",
       "      <th>InternetService</th>\n",
       "      <th>OnlineSecurity</th>\n",
       "      <th>...</th>\n",
       "      <th>DeviceProtection</th>\n",
       "      <th>TechSupport</th>\n",
       "      <th>StreamingTV</th>\n",
       "      <th>StreamingMovies</th>\n",
       "      <th>Contract</th>\n",
       "      <th>PaperlessBilling</th>\n",
       "      <th>PaymentMethod</th>\n",
       "      <th>MonthlyCharges</th>\n",
       "      <th>TotalCharges</th>\n",
       "      <th>Churn</th>\n",
       "    </tr>\n",
       "  </thead>\n",
       "  <tbody>\n",
       "    <tr>\n",
       "      <th>0</th>\n",
       "      <td>7590-VHVEG</td>\n",
       "      <td>Female</td>\n",
       "      <td>0</td>\n",
       "      <td>Yes</td>\n",
       "      <td>No</td>\n",
       "      <td>1</td>\n",
       "      <td>No</td>\n",
       "      <td>No phone service</td>\n",
       "      <td>DSL</td>\n",
       "      <td>No</td>\n",
       "      <td>...</td>\n",
       "      <td>No</td>\n",
       "      <td>No</td>\n",
       "      <td>No</td>\n",
       "      <td>No</td>\n",
       "      <td>Month-to-month</td>\n",
       "      <td>Yes</td>\n",
       "      <td>Electronic check</td>\n",
       "      <td>29.85</td>\n",
       "      <td>29.85</td>\n",
       "      <td>No</td>\n",
       "    </tr>\n",
       "    <tr>\n",
       "      <th>1</th>\n",
       "      <td>5575-GNVDE</td>\n",
       "      <td>Male</td>\n",
       "      <td>0</td>\n",
       "      <td>No</td>\n",
       "      <td>No</td>\n",
       "      <td>34</td>\n",
       "      <td>Yes</td>\n",
       "      <td>No</td>\n",
       "      <td>DSL</td>\n",
       "      <td>Yes</td>\n",
       "      <td>...</td>\n",
       "      <td>Yes</td>\n",
       "      <td>No</td>\n",
       "      <td>No</td>\n",
       "      <td>No</td>\n",
       "      <td>One year</td>\n",
       "      <td>No</td>\n",
       "      <td>Mailed check</td>\n",
       "      <td>56.95</td>\n",
       "      <td>1889.50</td>\n",
       "      <td>No</td>\n",
       "    </tr>\n",
       "    <tr>\n",
       "      <th>2</th>\n",
       "      <td>3668-QPYBK</td>\n",
       "      <td>Male</td>\n",
       "      <td>0</td>\n",
       "      <td>No</td>\n",
       "      <td>No</td>\n",
       "      <td>2</td>\n",
       "      <td>Yes</td>\n",
       "      <td>No</td>\n",
       "      <td>DSL</td>\n",
       "      <td>Yes</td>\n",
       "      <td>...</td>\n",
       "      <td>No</td>\n",
       "      <td>No</td>\n",
       "      <td>No</td>\n",
       "      <td>No</td>\n",
       "      <td>Month-to-month</td>\n",
       "      <td>Yes</td>\n",
       "      <td>Mailed check</td>\n",
       "      <td>53.85</td>\n",
       "      <td>108.15</td>\n",
       "      <td>Yes</td>\n",
       "    </tr>\n",
       "    <tr>\n",
       "      <th>3</th>\n",
       "      <td>7795-CFOCW</td>\n",
       "      <td>Male</td>\n",
       "      <td>0</td>\n",
       "      <td>No</td>\n",
       "      <td>No</td>\n",
       "      <td>45</td>\n",
       "      <td>No</td>\n",
       "      <td>No phone service</td>\n",
       "      <td>DSL</td>\n",
       "      <td>Yes</td>\n",
       "      <td>...</td>\n",
       "      <td>Yes</td>\n",
       "      <td>Yes</td>\n",
       "      <td>No</td>\n",
       "      <td>No</td>\n",
       "      <td>One year</td>\n",
       "      <td>No</td>\n",
       "      <td>Bank transfer (automatic)</td>\n",
       "      <td>42.30</td>\n",
       "      <td>1840.75</td>\n",
       "      <td>No</td>\n",
       "    </tr>\n",
       "    <tr>\n",
       "      <th>4</th>\n",
       "      <td>9237-HQITU</td>\n",
       "      <td>Female</td>\n",
       "      <td>0</td>\n",
       "      <td>No</td>\n",
       "      <td>No</td>\n",
       "      <td>2</td>\n",
       "      <td>Yes</td>\n",
       "      <td>No</td>\n",
       "      <td>Fiber optic</td>\n",
       "      <td>No</td>\n",
       "      <td>...</td>\n",
       "      <td>No</td>\n",
       "      <td>No</td>\n",
       "      <td>No</td>\n",
       "      <td>No</td>\n",
       "      <td>Month-to-month</td>\n",
       "      <td>Yes</td>\n",
       "      <td>Electronic check</td>\n",
       "      <td>70.70</td>\n",
       "      <td>151.65</td>\n",
       "      <td>Yes</td>\n",
       "    </tr>\n",
       "  </tbody>\n",
       "</table>\n",
       "<p>5 rows × 21 columns</p>\n",
       "</div>"
      ],
      "text/plain": [
       "   customerID  gender  SeniorCitizen Partner Dependents  tenure PhoneService  \\\n",
       "0  7590-VHVEG  Female              0     Yes         No       1           No   \n",
       "1  5575-GNVDE    Male              0      No         No      34          Yes   \n",
       "2  3668-QPYBK    Male              0      No         No       2          Yes   \n",
       "3  7795-CFOCW    Male              0      No         No      45           No   \n",
       "4  9237-HQITU  Female              0      No         No       2          Yes   \n",
       "\n",
       "      MultipleLines InternetService OnlineSecurity  ... DeviceProtection  \\\n",
       "0  No phone service             DSL             No  ...               No   \n",
       "1                No             DSL            Yes  ...              Yes   \n",
       "2                No             DSL            Yes  ...               No   \n",
       "3  No phone service             DSL            Yes  ...              Yes   \n",
       "4                No     Fiber optic             No  ...               No   \n",
       "\n",
       "  TechSupport StreamingTV StreamingMovies        Contract PaperlessBilling  \\\n",
       "0          No          No              No  Month-to-month              Yes   \n",
       "1          No          No              No        One year               No   \n",
       "2          No          No              No  Month-to-month              Yes   \n",
       "3         Yes          No              No        One year               No   \n",
       "4          No          No              No  Month-to-month              Yes   \n",
       "\n",
       "               PaymentMethod MonthlyCharges  TotalCharges  Churn  \n",
       "0           Electronic check          29.85         29.85     No  \n",
       "1               Mailed check          56.95       1889.50     No  \n",
       "2               Mailed check          53.85        108.15    Yes  \n",
       "3  Bank transfer (automatic)          42.30       1840.75     No  \n",
       "4           Electronic check          70.70        151.65    Yes  \n",
       "\n",
       "[5 rows x 21 columns]"
      ]
     },
     "execution_count": 13,
     "metadata": {},
     "output_type": "execute_result"
    }
   ],
   "source": [
    "df_telco_churn1.head()"
   ]
  },
  {
   "cell_type": "code",
   "execution_count": 14,
   "id": "53e096a4-14a5-408a-8b9a-8c4d1cb52733",
   "metadata": {},
   "outputs": [
    {
     "data": {
      "text/html": [
       "<div>\n",
       "<style scoped>\n",
       "    .dataframe tbody tr th:only-of-type {\n",
       "        vertical-align: middle;\n",
       "    }\n",
       "\n",
       "    .dataframe tbody tr th {\n",
       "        vertical-align: top;\n",
       "    }\n",
       "\n",
       "    .dataframe thead th {\n",
       "        text-align: right;\n",
       "    }\n",
       "</style>\n",
       "<table border=\"1\" class=\"dataframe\">\n",
       "  <thead>\n",
       "    <tr style=\"text-align: right;\">\n",
       "      <th></th>\n",
       "      <th>customerID</th>\n",
       "      <th>gender</th>\n",
       "      <th>SeniorCitizen</th>\n",
       "      <th>Partner</th>\n",
       "      <th>Dependents</th>\n",
       "      <th>tenure</th>\n",
       "      <th>PhoneService</th>\n",
       "      <th>MultipleLines</th>\n",
       "      <th>InternetService</th>\n",
       "      <th>OnlineSecurity</th>\n",
       "      <th>...</th>\n",
       "      <th>DeviceProtection</th>\n",
       "      <th>TechSupport</th>\n",
       "      <th>StreamingTV</th>\n",
       "      <th>StreamingMovies</th>\n",
       "      <th>Contract</th>\n",
       "      <th>PaperlessBilling</th>\n",
       "      <th>PaymentMethod</th>\n",
       "      <th>MonthlyCharges</th>\n",
       "      <th>TotalCharges</th>\n",
       "      <th>Churn</th>\n",
       "    </tr>\n",
       "  </thead>\n",
       "  <tbody>\n",
       "    <tr>\n",
       "      <th>0</th>\n",
       "      <td>7590-VHVEG</td>\n",
       "      <td>Female</td>\n",
       "      <td>0</td>\n",
       "      <td>Yes</td>\n",
       "      <td>No</td>\n",
       "      <td>1</td>\n",
       "      <td>No</td>\n",
       "      <td>No phone service</td>\n",
       "      <td>DSL</td>\n",
       "      <td>No</td>\n",
       "      <td>...</td>\n",
       "      <td>No</td>\n",
       "      <td>No</td>\n",
       "      <td>No</td>\n",
       "      <td>No</td>\n",
       "      <td>Month-to-month</td>\n",
       "      <td>Yes</td>\n",
       "      <td>Electronic check</td>\n",
       "      <td>29.85</td>\n",
       "      <td>29.85</td>\n",
       "      <td>No</td>\n",
       "    </tr>\n",
       "    <tr>\n",
       "      <th>1</th>\n",
       "      <td>5575-GNVDE</td>\n",
       "      <td>Male</td>\n",
       "      <td>0</td>\n",
       "      <td>No</td>\n",
       "      <td>No</td>\n",
       "      <td>34</td>\n",
       "      <td>Yes</td>\n",
       "      <td>No</td>\n",
       "      <td>DSL</td>\n",
       "      <td>Yes</td>\n",
       "      <td>...</td>\n",
       "      <td>Yes</td>\n",
       "      <td>No</td>\n",
       "      <td>No</td>\n",
       "      <td>No</td>\n",
       "      <td>One year</td>\n",
       "      <td>No</td>\n",
       "      <td>Mailed check</td>\n",
       "      <td>56.95</td>\n",
       "      <td>1889.50</td>\n",
       "      <td>No</td>\n",
       "    </tr>\n",
       "  </tbody>\n",
       "</table>\n",
       "<p>2 rows × 21 columns</p>\n",
       "</div>"
      ],
      "text/plain": [
       "   customerID  gender  SeniorCitizen Partner Dependents  tenure PhoneService  \\\n",
       "0  7590-VHVEG  Female              0     Yes         No       1           No   \n",
       "1  5575-GNVDE    Male              0      No         No      34          Yes   \n",
       "\n",
       "      MultipleLines InternetService OnlineSecurity  ... DeviceProtection  \\\n",
       "0  No phone service             DSL             No  ...               No   \n",
       "1                No             DSL            Yes  ...              Yes   \n",
       "\n",
       "  TechSupport StreamingTV StreamingMovies        Contract PaperlessBilling  \\\n",
       "0          No          No              No  Month-to-month              Yes   \n",
       "1          No          No              No        One year               No   \n",
       "\n",
       "      PaymentMethod MonthlyCharges  TotalCharges  Churn  \n",
       "0  Electronic check          29.85         29.85     No  \n",
       "1      Mailed check          56.95       1889.50     No  \n",
       "\n",
       "[2 rows x 21 columns]"
      ]
     },
     "execution_count": 14,
     "metadata": {},
     "output_type": "execute_result"
    }
   ],
   "source": [
    "df_telco_churn1.head(2)"
   ]
  },
  {
   "cell_type": "code",
   "execution_count": 15,
   "id": "400ee5c7-947f-4d4f-b726-d8057b00b3af",
   "metadata": {},
   "outputs": [
    {
     "data": {
      "text/html": [
       "<div>\n",
       "<style scoped>\n",
       "    .dataframe tbody tr th:only-of-type {\n",
       "        vertical-align: middle;\n",
       "    }\n",
       "\n",
       "    .dataframe tbody tr th {\n",
       "        vertical-align: top;\n",
       "    }\n",
       "\n",
       "    .dataframe thead th {\n",
       "        text-align: right;\n",
       "    }\n",
       "</style>\n",
       "<table border=\"1\" class=\"dataframe\">\n",
       "  <thead>\n",
       "    <tr style=\"text-align: right;\">\n",
       "      <th></th>\n",
       "      <th>state</th>\n",
       "      <th>account</th>\n",
       "      <th>area_code</th>\n",
       "      <th>phone_number</th>\n",
       "      <th>international_plan</th>\n",
       "      <th>voice_mail_plan</th>\n",
       "      <th>number_vmail_messages</th>\n",
       "      <th>total_day_minutes</th>\n",
       "      <th>total_day_calls</th>\n",
       "      <th>total_day_charge</th>\n",
       "      <th>...</th>\n",
       "      <th>total_eve_calls</th>\n",
       "      <th>total_eve_charge</th>\n",
       "      <th>total_night_minutes</th>\n",
       "      <th>total_night_calls</th>\n",
       "      <th>total_night_charge</th>\n",
       "      <th>total_intl_minutes</th>\n",
       "      <th>total_intl_calls</th>\n",
       "      <th>total_intl_charge</th>\n",
       "      <th>number_customer_service_calls</th>\n",
       "      <th>churn.</th>\n",
       "    </tr>\n",
       "  </thead>\n",
       "  <tbody>\n",
       "    <tr>\n",
       "      <th>0</th>\n",
       "      <td>KS</td>\n",
       "      <td>128</td>\n",
       "      <td>415</td>\n",
       "      <td>382-4657</td>\n",
       "      <td>no</td>\n",
       "      <td>yes</td>\n",
       "      <td>25</td>\n",
       "      <td>265.1</td>\n",
       "      <td>110</td>\n",
       "      <td>45.07</td>\n",
       "      <td>...</td>\n",
       "      <td>99</td>\n",
       "      <td>16.78</td>\n",
       "      <td>244.7</td>\n",
       "      <td>91</td>\n",
       "      <td>11.01</td>\n",
       "      <td>10.0</td>\n",
       "      <td>3</td>\n",
       "      <td>2.70</td>\n",
       "      <td>1</td>\n",
       "      <td>False.</td>\n",
       "    </tr>\n",
       "    <tr>\n",
       "      <th>1</th>\n",
       "      <td>OH</td>\n",
       "      <td>107</td>\n",
       "      <td>415</td>\n",
       "      <td>371-7191</td>\n",
       "      <td>no</td>\n",
       "      <td>yes</td>\n",
       "      <td>26</td>\n",
       "      <td>161.6</td>\n",
       "      <td>123</td>\n",
       "      <td>27.47</td>\n",
       "      <td>...</td>\n",
       "      <td>103</td>\n",
       "      <td>16.62</td>\n",
       "      <td>254.4</td>\n",
       "      <td>103</td>\n",
       "      <td>11.45</td>\n",
       "      <td>13.7</td>\n",
       "      <td>3</td>\n",
       "      <td>3.70</td>\n",
       "      <td>1</td>\n",
       "      <td>False.</td>\n",
       "    </tr>\n",
       "    <tr>\n",
       "      <th>2</th>\n",
       "      <td>NJ</td>\n",
       "      <td>137</td>\n",
       "      <td>415</td>\n",
       "      <td>358-1921</td>\n",
       "      <td>no</td>\n",
       "      <td>no</td>\n",
       "      <td>0</td>\n",
       "      <td>243.4</td>\n",
       "      <td>114</td>\n",
       "      <td>41.38</td>\n",
       "      <td>...</td>\n",
       "      <td>110</td>\n",
       "      <td>10.30</td>\n",
       "      <td>162.6</td>\n",
       "      <td>104</td>\n",
       "      <td>7.32</td>\n",
       "      <td>12.2</td>\n",
       "      <td>5</td>\n",
       "      <td>3.29</td>\n",
       "      <td>0</td>\n",
       "      <td>False.</td>\n",
       "    </tr>\n",
       "    <tr>\n",
       "      <th>3</th>\n",
       "      <td>OH</td>\n",
       "      <td>84</td>\n",
       "      <td>408</td>\n",
       "      <td>375-9999</td>\n",
       "      <td>yes</td>\n",
       "      <td>no</td>\n",
       "      <td>0</td>\n",
       "      <td>299.4</td>\n",
       "      <td>71</td>\n",
       "      <td>50.90</td>\n",
       "      <td>...</td>\n",
       "      <td>88</td>\n",
       "      <td>5.26</td>\n",
       "      <td>196.9</td>\n",
       "      <td>89</td>\n",
       "      <td>8.86</td>\n",
       "      <td>6.6</td>\n",
       "      <td>7</td>\n",
       "      <td>1.78</td>\n",
       "      <td>2</td>\n",
       "      <td>False.</td>\n",
       "    </tr>\n",
       "    <tr>\n",
       "      <th>4</th>\n",
       "      <td>OK</td>\n",
       "      <td>75</td>\n",
       "      <td>415</td>\n",
       "      <td>330-6626</td>\n",
       "      <td>yes</td>\n",
       "      <td>no</td>\n",
       "      <td>0</td>\n",
       "      <td>166.7</td>\n",
       "      <td>113</td>\n",
       "      <td>28.34</td>\n",
       "      <td>...</td>\n",
       "      <td>122</td>\n",
       "      <td>12.61</td>\n",
       "      <td>186.9</td>\n",
       "      <td>121</td>\n",
       "      <td>8.41</td>\n",
       "      <td>10.1</td>\n",
       "      <td>3</td>\n",
       "      <td>2.73</td>\n",
       "      <td>3</td>\n",
       "      <td>False.</td>\n",
       "    </tr>\n",
       "  </tbody>\n",
       "</table>\n",
       "<p>5 rows × 21 columns</p>\n",
       "</div>"
      ],
      "text/plain": [
       "  state  account  area_code phone_number international_plan voice_mail_plan  \\\n",
       "0    KS      128        415     382-4657                 no             yes   \n",
       "1    OH      107        415     371-7191                 no             yes   \n",
       "2    NJ      137        415     358-1921                 no              no   \n",
       "3    OH       84        408     375-9999                yes              no   \n",
       "4    OK       75        415     330-6626                yes              no   \n",
       "\n",
       "   number_vmail_messages  total_day_minutes  total_day_calls  \\\n",
       "0                     25              265.1              110   \n",
       "1                     26              161.6              123   \n",
       "2                      0              243.4              114   \n",
       "3                      0              299.4               71   \n",
       "4                      0              166.7              113   \n",
       "\n",
       "   total_day_charge  ...  total_eve_calls  total_eve_charge  \\\n",
       "0             45.07  ...               99             16.78   \n",
       "1             27.47  ...              103             16.62   \n",
       "2             41.38  ...              110             10.30   \n",
       "3             50.90  ...               88              5.26   \n",
       "4             28.34  ...              122             12.61   \n",
       "\n",
       "   total_night_minutes  total_night_calls  total_night_charge  \\\n",
       "0                244.7                 91               11.01   \n",
       "1                254.4                103               11.45   \n",
       "2                162.6                104                7.32   \n",
       "3                196.9                 89                8.86   \n",
       "4                186.9                121                8.41   \n",
       "\n",
       "   total_intl_minutes  total_intl_calls  total_intl_charge  \\\n",
       "0                10.0                 3               2.70   \n",
       "1                13.7                 3               3.70   \n",
       "2                12.2                 5               3.29   \n",
       "3                 6.6                 7               1.78   \n",
       "4                10.1                 3               2.73   \n",
       "\n",
       "   number_customer_service_calls   churn.  \n",
       "0                              1   False.  \n",
       "1                              1   False.  \n",
       "2                              0   False.  \n",
       "3                              2   False.  \n",
       "4                              3   False.  \n",
       "\n",
       "[5 rows x 21 columns]"
      ]
     },
     "execution_count": 15,
     "metadata": {},
     "output_type": "execute_result"
    }
   ],
   "source": [
    "df_telco_churn2.head()"
   ]
  },
  {
   "cell_type": "markdown",
   "id": "2a78bf41-1295-4a73-b4ef-f7762b46d90e",
   "metadata": {},
   "source": [
    "¿Qué tipo datos contienen las columnas?"
   ]
  },
  {
   "cell_type": "code",
   "execution_count": 16,
   "id": "e0d3e67f-2de3-497a-8b5c-5f01f1ff087f",
   "metadata": {},
   "outputs": [
    {
     "data": {
      "text/plain": [
       "customerID           object\n",
       "gender               object\n",
       "SeniorCitizen         int64\n",
       "Partner              object\n",
       "Dependents           object\n",
       "tenure                int64\n",
       "PhoneService         object\n",
       "MultipleLines        object\n",
       "InternetService      object\n",
       "OnlineSecurity       object\n",
       "OnlineBackup         object\n",
       "DeviceProtection     object\n",
       "TechSupport          object\n",
       "StreamingTV          object\n",
       "StreamingMovies      object\n",
       "Contract             object\n",
       "PaperlessBilling     object\n",
       "PaymentMethod        object\n",
       "MonthlyCharges      float64\n",
       "TotalCharges        float64\n",
       "Churn                object\n",
       "dtype: object"
      ]
     },
     "execution_count": 16,
     "metadata": {},
     "output_type": "execute_result"
    }
   ],
   "source": [
    "df_telco_churn1.dtypes"
   ]
  },
  {
   "cell_type": "code",
   "execution_count": 17,
   "id": "563ba959-e02f-4178-9215-2b3c9f99039d",
   "metadata": {},
   "outputs": [
    {
     "data": {
      "text/plain": [
       "state                             object\n",
       "account                            int64\n",
       "area_code                          int64\n",
       "phone_number                      object\n",
       "international_plan                object\n",
       "voice_mail_plan                   object\n",
       "number_vmail_messages              int64\n",
       "total_day_minutes                float64\n",
       "total_day_calls                    int64\n",
       "total_day_charge                 float64\n",
       "total_eve_minutes                float64\n",
       "total_eve_calls                    int64\n",
       "total_eve_charge                 float64\n",
       "total_night_minutes              float64\n",
       "total_night_calls                  int64\n",
       "total_night_charge               float64\n",
       "total_intl_minutes               float64\n",
       "total_intl_calls                   int64\n",
       "total_intl_charge                float64\n",
       "number_customer_service_calls      int64\n",
       "churn.                            object\n",
       "dtype: object"
      ]
     },
     "execution_count": 17,
     "metadata": {},
     "output_type": "execute_result"
    }
   ],
   "source": [
    "df_telco_churn2.dtypes"
   ]
  },
  {
   "cell_type": "markdown",
   "id": "e6b4ca4e-3b53-4630-bfe0-9947875caec7",
   "metadata": {},
   "source": [
    "### ¿Seran los tipos adecuados?\n",
    "\n",
    "Los tipos de datos que pueden existir en pandas son:\n",
    "\n",
    "- int\n",
    "- object\n",
    "- float\n",
    "- datetime\n",
    "\n",
    "Para poder realizar un casting se utiliza el metodo astype()\n",
    "\n",
    "Por ejemplo el tipo del campo SENIORCITIZEN  deberia ser object"
   ]
  },
  {
   "cell_type": "code",
   "execution_count": null,
   "id": "f05c60f2-39de-4ea0-a061-ce0761d72820",
   "metadata": {},
   "outputs": [],
   "source": [
    "df_telco_churn1['SeniorCitizen'] = df_telco_churn1['SeniorCitizen'].astype('object')"
   ]
  },
  {
   "cell_type": "code",
   "execution_count": null,
   "id": "5919ff03-9641-482c-b2a8-1dc83f2bc119",
   "metadata": {},
   "outputs": [],
   "source": [
    "df_telco_churn1.dtypes"
   ]
  },
  {
   "cell_type": "markdown",
   "id": "1f7214bd-240d-44a6-bf45-a32c520bbd66",
   "metadata": {},
   "source": [
    "En Telco2, se puede apreciar la columa account, no importa que paresca número se debe convertir en object"
   ]
  },
  {
   "cell_type": "code",
   "execution_count": null,
   "id": "fe8384b3-fe42-4309-ad03-c3d6db7f9c7d",
   "metadata": {},
   "outputs": [],
   "source": [
    "df_telco_churn2[\"account\"] = df_telco_churn2[\"account\"].astype('object')"
   ]
  },
  {
   "cell_type": "code",
   "execution_count": null,
   "id": "eb02c0de-98cd-4170-a79f-13533601f413",
   "metadata": {},
   "outputs": [],
   "source": [
    "#si se quiere cambiar varias columnas\n",
    "df_telco_churn2 = df_telco_churn2.astype({'account':'object', 'area_code':'object'})"
   ]
  },
  {
   "cell_type": "code",
   "execution_count": null,
   "id": "0b9c9f0e-8eb1-43fd-aa41-7ac4998142f5",
   "metadata": {},
   "outputs": [],
   "source": [
    "df_telco_churn2.dtypes"
   ]
  },
  {
   "cell_type": "code",
   "execution_count": null,
   "id": "545a13ee-1447-42f1-9ad5-232df8504cac",
   "metadata": {},
   "outputs": [],
   "source": [
    "# identificar el número de elementos de la base telco1\n",
    "len(df_telco_churn1)"
   ]
  },
  {
   "cell_type": "code",
   "execution_count": null,
   "id": "1c3ed229-c8c2-4e81-b710-eb77c974778f",
   "metadata": {},
   "outputs": [],
   "source": [
    "# identificar el número de elementos de la base telco2\n",
    "len(df_telco_churn2)"
   ]
  },
  {
   "cell_type": "code",
   "execution_count": null,
   "id": "0089cb27-4f24-450a-838a-1ef6f48808ad",
   "metadata": {},
   "outputs": [],
   "source": [
    "type(df_telco_churn1)"
   ]
  },
  {
   "cell_type": "code",
   "execution_count": null,
   "id": "160b56d6-ab02-4610-9813-d56e43377712",
   "metadata": {},
   "outputs": [],
   "source": [
    "df_telco_churn1.shape"
   ]
  },
  {
   "cell_type": "code",
   "execution_count": null,
   "id": "5acedd1e-c0c4-4757-968b-5bbc36df342c",
   "metadata": {},
   "outputs": [],
   "source": [
    "df_telco_churn2.columns"
   ]
  },
  {
   "cell_type": "code",
   "execution_count": null,
   "id": "bd9d336d-4a91-4a6e-995b-8f8e49b26d7d",
   "metadata": {},
   "outputs": [],
   "source": [
    "type(df_telco_churn2['voice_mail_plan'])"
   ]
  },
  {
   "cell_type": "code",
   "execution_count": null,
   "id": "510b8fc5-24ad-43f1-9437-2a7745681716",
   "metadata": {},
   "outputs": [],
   "source": [
    "df_telco_churn2.groupby('voice_mail_plan').size()"
   ]
  },
  {
   "cell_type": "code",
   "execution_count": null,
   "id": "d680a01b-3389-4bf2-b1a0-9273c100bc26",
   "metadata": {},
   "outputs": [],
   "source": [
    "voice_mail_plan_agrupado = df_telco_churn2.groupby('voice_mail_plan').size()"
   ]
  },
  {
   "cell_type": "code",
   "execution_count": null,
   "id": "2fb17954-547a-401b-b137-e2e10e3bbad8",
   "metadata": {},
   "outputs": [],
   "source": [
    "voice_mail_plan_agrupado"
   ]
  },
  {
   "cell_type": "code",
   "execution_count": null,
   "id": "a4ca2af4-6248-463c-a605-d2b0732b2c84",
   "metadata": {},
   "outputs": [],
   "source": [
    "type(voice_mail_plan_agrupado)"
   ]
  },
  {
   "cell_type": "markdown",
   "id": "882a3632-27d6-4436-b035-a5d36a3cd02d",
   "metadata": {},
   "source": [
    "#### Grafica variable cualitativa\n",
    "\n",
    "Se utiliza graficos de barras"
   ]
  },
  {
   "cell_type": "code",
   "execution_count": null,
   "id": "0232fdbc-3c42-4252-a878-9a0beb5a3b73",
   "metadata": {},
   "outputs": [],
   "source": [
    "voice_mail_plan_agrupado.plot.bar('voice_mail_plan')\n",
    "plt.show()"
   ]
  },
  {
   "cell_type": "code",
   "execution_count": null,
   "id": "611d3be6-df19-454a-ba5b-3cf039e3cfb4",
   "metadata": {},
   "outputs": [],
   "source": [
    "international_plan_agrupado = df_telco_churn2.groupby('international_plan').size()\n",
    "international_plan_agrupado.plot.bar('international_plan')\n",
    "plt.show()"
   ]
  },
  {
   "cell_type": "code",
   "execution_count": null,
   "id": "1b063e41-2123-44ba-823d-67509477b8dc",
   "metadata": {},
   "outputs": [],
   "source": [
    "# Otra manera de representar en porcentaje\n",
    "df_telco_churn2['international_plan'].value_counts(normalize=True)*100"
   ]
  },
  {
   "cell_type": "code",
   "execution_count": null,
   "id": "22aabe9e-f0ce-49b2-b074-074f675f0ad9",
   "metadata": {},
   "outputs": [],
   "source": [
    "df_telco_churn2['international_plan'].value_counts()"
   ]
  },
  {
   "cell_type": "markdown",
   "id": "0a91041b-8de5-4086-ab97-d038b2eac733",
   "metadata": {},
   "source": [
    "**PREGUNTA** Como se distribuyen las variables de gender, PaymentMethod, StreamingTV concluya algunas caracteristicas"
   ]
  },
  {
   "cell_type": "code",
   "execution_count": null,
   "id": "03efcb7c-13b1-4bd9-973c-d7512709bd63",
   "metadata": {},
   "outputs": [],
   "source": [
    "df_telco_churn1.groupby('gender').size()"
   ]
  },
  {
   "cell_type": "code",
   "execution_count": null,
   "id": "3216898e-57df-4ee3-8c3a-c445ed949654",
   "metadata": {},
   "outputs": [],
   "source": []
  },
  {
   "cell_type": "markdown",
   "id": "7942a6c5-44b4-46aa-915c-88f24748886e",
   "metadata": {},
   "source": [
    "#### Grafica variable cuantitativa\n",
    "\n",
    "Se utiliza graficos de histogramas"
   ]
  },
  {
   "cell_type": "code",
   "execution_count": null,
   "id": "6318b661-0d32-47bf-b2eb-8d6c2d744992",
   "metadata": {},
   "outputs": [],
   "source": [
    "df_telco_churn2['total_day_minutes'].hist(bins=100)\n",
    "plt.show()"
   ]
  },
  {
   "cell_type": "code",
   "execution_count": null,
   "id": "66d6d3be-5209-4678-9312-29ab097d103f",
   "metadata": {},
   "outputs": [],
   "source": [
    "df_telco_churn2['number_customer_service_calls'].hist(bins=10)\n",
    "plt.show()"
   ]
  },
  {
   "cell_type": "code",
   "execution_count": null,
   "id": "a9ed9f27-ac1d-4ab0-ab91-17c561e2a049",
   "metadata": {},
   "outputs": [],
   "source": [
    "df_telco_churn1['TotalCharges'].hist(bins=10)\n",
    "plt.show()"
   ]
  },
  {
   "cell_type": "code",
   "execution_count": null,
   "id": "b49cb3bd-03f3-431c-bf79-935637edfb91",
   "metadata": {},
   "outputs": [],
   "source": [
    "#graficando con seaborn\n",
    "import seaborn as sns\n"
   ]
  },
  {
   "cell_type": "code",
   "execution_count": null,
   "id": "34c20b3c-f3a0-4e8d-9c56-8372fd41ae0a",
   "metadata": {},
   "outputs": [],
   "source": [
    "sns.histplot(data=df_telco_churn1, x = 'TotalCharges',bins=10 )\n",
    "plt.show()"
   ]
  },
  {
   "cell_type": "markdown",
   "id": "02cca98b-1370-46ff-a6d1-91e6a51a8bf5",
   "metadata": {},
   "source": [
    "**Media**\n",
    "\n",
    "Cual es la media de las variable cuantitativas de la variable df_telco_churn2.total_day_minutes, df_telco_churn1.TOTALCHARGES"
   ]
  },
  {
   "cell_type": "code",
   "execution_count": null,
   "id": "ab088ad1-1593-498b-9886-5d6bc3358a23",
   "metadata": {},
   "outputs": [],
   "source": [
    "df_telco_churn2['total_day_minutes'].mean()"
   ]
  },
  {
   "cell_type": "code",
   "execution_count": null,
   "id": "e2569019-9e32-4df2-824e-a1f989fe7531",
   "metadata": {},
   "outputs": [],
   "source": [
    "df_telco_churn2[['total_night_calls','total_night_charge']].mean()"
   ]
  },
  {
   "cell_type": "code",
   "execution_count": null,
   "id": "8c4da144-6641-43dd-9624-94b65a168d89",
   "metadata": {},
   "outputs": [],
   "source": [
    "# complete TOTALCHARGES"
   ]
  },
  {
   "cell_type": "code",
   "execution_count": null,
   "id": "1f1ed4c1-df14-45bc-9c0a-0b249661e949",
   "metadata": {},
   "outputs": [],
   "source": [
    "df_telco_churn1['TotalCharges'].mean()"
   ]
  },
  {
   "cell_type": "markdown",
   "id": "e33290ba-1d1e-440f-a308-af509a6edb94",
   "metadata": {},
   "source": [
    "**Mediana**\n",
    "\n",
    "Cual es la mediana de las variable cuantitativas de la variable df_telco_churn2.total_day_minutes, df_telco_churn1.TOTALCHARGES\n"
   ]
  },
  {
   "cell_type": "code",
   "execution_count": null,
   "id": "e85f4b77-1354-4846-abba-ed407cd12093",
   "metadata": {},
   "outputs": [],
   "source": [
    "df_telco_churn2['total_day_minutes'].median()"
   ]
  },
  {
   "cell_type": "code",
   "execution_count": null,
   "id": "b7d24530-4cf2-4975-8757-39f844b56d1a",
   "metadata": {},
   "outputs": [],
   "source": [
    "#complete TOTALCHARGES"
   ]
  },
  {
   "cell_type": "code",
   "execution_count": null,
   "id": "4d0a13bb-356a-434d-a678-46243283e8ad",
   "metadata": {},
   "outputs": [],
   "source": [
    "df_telco_churn1['TotalCharges'].median()"
   ]
  },
  {
   "cell_type": "code",
   "execution_count": null,
   "id": "60ff82ed-d7e7-445a-8f19-63eaba116ccc",
   "metadata": {},
   "outputs": [],
   "source": []
  },
  {
   "cell_type": "markdown",
   "id": "b9147b41-296d-457c-babc-e50abee601dc",
   "metadata": {},
   "source": [
    "**Moda**\n",
    "\n",
    "Cual es la moda de las variable cuantitativas de la variable df_telco_churn2.total_day_minutes, df_telco_churn1.TOTALCHARGES\n"
   ]
  },
  {
   "cell_type": "code",
   "execution_count": null,
   "id": "7523b054-a610-4000-b3b9-22152736f6f2",
   "metadata": {},
   "outputs": [],
   "source": [
    "df_telco_churn2['total_day_minutes'].mode()"
   ]
  },
  {
   "cell_type": "code",
   "execution_count": null,
   "id": "e12a6293-0ff1-4edb-88b1-bd6b14b2b1e5",
   "metadata": {},
   "outputs": [],
   "source": [
    "df_telco_churn2['total_day_minutes'].hist(bins=1000)\n",
    "plt.show()"
   ]
  },
  {
   "cell_type": "code",
   "execution_count": null,
   "id": "f6e81384-3cff-4c9f-937f-d2efecd01c27",
   "metadata": {},
   "outputs": [],
   "source": [
    "df_telco_churn1['TotalCharges'].mode()"
   ]
  },
  {
   "cell_type": "code",
   "execution_count": null,
   "id": "067dcb14-d824-461e-8115-e3182722c39d",
   "metadata": {},
   "outputs": [],
   "source": [
    "df_telco_churn1['TotalCharges'].hist(bins=100)\n",
    "plt.show()"
   ]
  },
  {
   "cell_type": "markdown",
   "id": "26e931cd-bfd2-4a85-bbb6-b6251f22d147",
   "metadata": {},
   "source": [
    "### Medidas de dispersión"
   ]
  },
  {
   "cell_type": "code",
   "execution_count": null,
   "id": "d1812ba9-1180-434a-b4d7-85a8d2259b0d",
   "metadata": {},
   "outputs": [],
   "source": [
    "# Rango"
   ]
  },
  {
   "cell_type": "code",
   "execution_count": null,
   "id": "9ff8f257-f963-431b-a88b-fc447e58abf1",
   "metadata": {},
   "outputs": [],
   "source": [
    "maximo = df_telco_churn1['TotalCharges'].max()"
   ]
  },
  {
   "cell_type": "code",
   "execution_count": null,
   "id": "45be5349-2a2f-4cfa-b932-f22aad672180",
   "metadata": {},
   "outputs": [],
   "source": [
    "minimo = df_telco_churn1['TotalCharges'].min()"
   ]
  },
  {
   "cell_type": "code",
   "execution_count": null,
   "id": "6df95833-590d-43e1-b9cf-e65f442f44b5",
   "metadata": {},
   "outputs": [],
   "source": [
    "rango = maximo - minimo"
   ]
  },
  {
   "cell_type": "code",
   "execution_count": null,
   "id": "7a8b9374-d756-4867-a3c3-06f8cdddf209",
   "metadata": {},
   "outputs": [],
   "source": [
    "maximo"
   ]
  },
  {
   "cell_type": "code",
   "execution_count": null,
   "id": "efb1605f-545e-4675-9a0b-c17f0cdd5c4e",
   "metadata": {},
   "outputs": [],
   "source": [
    "minimo"
   ]
  },
  {
   "cell_type": "code",
   "execution_count": null,
   "id": "0b4b398b-1542-4c3d-8e00-c8cfb2f8acb4",
   "metadata": {},
   "outputs": [],
   "source": [
    "rango"
   ]
  },
  {
   "cell_type": "code",
   "execution_count": null,
   "id": "a70f033c-1a23-4922-a6a5-8c7b5c546acf",
   "metadata": {},
   "outputs": [],
   "source": []
  },
  {
   "cell_type": "code",
   "execution_count": null,
   "id": "a03841d2-ab20-476d-94a7-97fb99bb79c0",
   "metadata": {},
   "outputs": [],
   "source": [
    "# Cuartiles\n",
    "q1, q3 = np.percentile(df_telco_churn2['total_day_minutes'], [25,75])"
   ]
  },
  {
   "cell_type": "code",
   "execution_count": null,
   "id": "d7ed41af-34b0-4e0e-8c9d-d09a1c3da192",
   "metadata": {},
   "outputs": [],
   "source": [
    "q1"
   ]
  },
  {
   "cell_type": "code",
   "execution_count": null,
   "id": "60b5c61f-72f5-4d6f-9f04-59df62bf7378",
   "metadata": {},
   "outputs": [],
   "source": [
    "q3"
   ]
  },
  {
   "cell_type": "code",
   "execution_count": null,
   "id": "c53dd042-c8b9-4ff1-bc90-2493e8581b9c",
   "metadata": {},
   "outputs": [],
   "source": [
    "# Rango intercuartil\n",
    "\n",
    "RIC = q3 - q1\n"
   ]
  },
  {
   "cell_type": "code",
   "execution_count": null,
   "id": "9261dce9-aa87-4937-86e7-d7436210cdda",
   "metadata": {},
   "outputs": [],
   "source": [
    "RIC"
   ]
  },
  {
   "cell_type": "code",
   "execution_count": null,
   "id": "4492ec5a-389e-4ec2-b00d-305bf4a638da",
   "metadata": {},
   "outputs": [],
   "source": [
    "# Varianza\n",
    "\n",
    "df_telco_churn2['total_day_minutes'].var()"
   ]
  },
  {
   "cell_type": "code",
   "execution_count": null,
   "id": "6510eb56-d6e4-4b45-9c92-444fe95b16a0",
   "metadata": {},
   "outputs": [],
   "source": [
    "# Desviacion Estandar\n",
    "\n",
    "df_telco_churn2['total_day_minutes'].std()"
   ]
  },
  {
   "cell_type": "code",
   "execution_count": null,
   "id": "a849ff6e-f520-4f62-90fb-7ab3f1671b7f",
   "metadata": {},
   "outputs": [],
   "source": [
    "# Grafico Box plot"
   ]
  },
  {
   "cell_type": "code",
   "execution_count": null,
   "id": "af36a5bc-6bb3-4197-816c-1d717b729cc7",
   "metadata": {},
   "outputs": [],
   "source": [
    "df_telco_churn2.boxplot('total_day_minutes')\n",
    "plt.show()"
   ]
  },
  {
   "cell_type": "code",
   "execution_count": null,
   "id": "9d6041f0-b09d-4697-9f09-30d19627e866",
   "metadata": {},
   "outputs": [],
   "source": [
    "sns.boxplot(data= df_telco_churn2['total_day_minutes'])\n",
    "plt.show()"
   ]
  },
  {
   "cell_type": "code",
   "execution_count": null,
   "id": "cbef684c-9a50-43b8-b902-f45e597a3ef2",
   "metadata": {},
   "outputs": [],
   "source": [
    "df_telco_churn2.head(2).T"
   ]
  },
  {
   "cell_type": "markdown",
   "id": "a6ec6cba-7499-4203-bbcb-118fa13c410e",
   "metadata": {},
   "source": [
    "## AED entre varias variables"
   ]
  },
  {
   "cell_type": "code",
   "execution_count": null,
   "id": "bb54956c-797d-417d-817a-f5c3565bed42",
   "metadata": {},
   "outputs": [],
   "source": [
    "# Entre variables cuantitativas correlacíon "
   ]
  },
  {
   "cell_type": "code",
   "execution_count": null,
   "id": "7b46589f-961e-4bdd-8b35-241dbbb6f138",
   "metadata": {},
   "outputs": [],
   "source": [
    "pd.plotting.scatter_matrix(df_telco_churn2[['total_day_minutes','total_day_charge']], alpha=0.5)\n",
    "plt.show()"
   ]
  },
  {
   "cell_type": "code",
   "execution_count": null,
   "id": "09672454-8a5b-4eb9-86c1-d734342c9cab",
   "metadata": {},
   "outputs": [],
   "source": [
    "pd.plotting.scatter_matrix(df_telco_churn2[['total_night_calls','total_night_charge']], alpha=0.2)\n",
    "plt.show()"
   ]
  },
  {
   "cell_type": "code",
   "execution_count": null,
   "id": "9f7d9459-a806-43e0-a3c0-cea9df88a003",
   "metadata": {},
   "outputs": [],
   "source": [
    "pd.plotting.scatter_matrix(df_telco_churn2[['total_night_calls','total_night_charge', 'total_night_minutes']], alpha=0.2)\n",
    "plt.show()"
   ]
  },
  {
   "cell_type": "code",
   "execution_count": null,
   "id": "4cf988f5-7ed6-4ab8-a04e-425b416e1008",
   "metadata": {},
   "outputs": [],
   "source": [
    "sns.scatterplot(data = df_telco_churn2, x = 'total_night_charge', y = 'total_night_minutes')"
   ]
  },
  {
   "cell_type": "code",
   "execution_count": null,
   "id": "b505f85e-1b1f-4de3-8ace-e1c7c52acfc1",
   "metadata": {},
   "outputs": [],
   "source": [
    "sns.scatterplot(data = df_telco_churn2, x = 'total_night_calls', y = 'total_night_minutes')"
   ]
  },
  {
   "cell_type": "code",
   "execution_count": null,
   "id": "2a932a09-a488-447b-ab1e-13d2881e5359",
   "metadata": {},
   "outputs": [],
   "source": [
    "corr_df = df_telco_churn2[['total_night_charge', 'total_night_minutes']].corr(method='pearson')\n",
    "\n",
    "plt.figure(figsize=(5, 5))\n",
    "sns.heatmap(corr_df, annot=True)\n",
    "plt.show()"
   ]
  },
  {
   "cell_type": "code",
   "execution_count": null,
   "id": "e62599df-9223-452f-8974-22d8887000a0",
   "metadata": {},
   "outputs": [],
   "source": [
    "corr_df = df_telco_churn2[['total_night_calls', 'total_night_minutes']].corr(method='pearson')\n",
    "\n",
    "plt.figure(figsize=(7, 5))\n",
    "sns.heatmap(corr_df, annot=True)\n",
    "plt.show()     "
   ]
  },
  {
   "cell_type": "code",
   "execution_count": null,
   "id": "7e78f31d-126b-4767-905e-807845185714",
   "metadata": {},
   "outputs": [],
   "source": [
    "df_telco_churn1.describe(include = 'all')"
   ]
  },
  {
   "cell_type": "code",
   "execution_count": null,
   "id": "9b7e184c-c7e4-4944-9609-429d3d19e8b9",
   "metadata": {},
   "outputs": [],
   "source": [
    "df_telco_churn2.describe(include = 'all')"
   ]
  },
  {
   "cell_type": "code",
   "execution_count": null,
   "id": "ec215a81-01d5-4027-831c-a1dba7b5560a",
   "metadata": {},
   "outputs": [],
   "source": [
    "df_telco_churn2.sample(4).head(4).T"
   ]
  },
  {
   "cell_type": "markdown",
   "id": "29323246-bd28-46d3-9926-a21a17231446",
   "metadata": {},
   "source": [
    "### Analisis bivariado respecto de la variable objetivo"
   ]
  },
  {
   "cell_type": "code",
   "execution_count": null,
   "id": "d2c847f1-3b50-40c7-adfc-1c08cc609965",
   "metadata": {},
   "outputs": [],
   "source": [
    "df_telco_churn2.groupby(['churn.']).agg({'number_vmail_messages': 'mean', 'total_day_minutes': 'mean', 'total_day_calls': 'mean',  \\\n",
    "                                       'total_day_charge': 'mean', 'total_eve_minutes': 'mean', 'total_eve_calls': 'mean', \\\n",
    "                                        'total_eve_charge': 'mean', 'total_night_minutes': 'mean', 'total_night_calls': 'mean', \\\n",
    "                                        'total_night_charge': 'mean', 'total_intl_minutes': 'mean', 'total_intl_calls':'mean', \\\n",
    "                                        'total_intl_charge':'mean', 'total_intl_charge':'mean' \\\n",
    "                                       }) \\\n",
    "       .sort_values(['churn.'], ascending = True)"
   ]
  },
  {
   "cell_type": "code",
   "execution_count": null,
   "id": "d1f9a149-eb40-406b-bebf-2628a6e8a8d4",
   "metadata": {},
   "outputs": [],
   "source": [
    "df_telco_churn1.groupby(['Churn']).agg({'MonthlyCharges': 'mean', 'TotalCharges': 'mean'})  \\\n",
    "               .sort_values(['Churn'], ascending = True )  "
   ]
  },
  {
   "cell_type": "markdown",
   "id": "0a8587a7-b733-4072-a9d3-313235c06bc2",
   "metadata": {},
   "source": [
    "## Analisis bivariado entre variables categóricas"
   ]
  },
  {
   "cell_type": "code",
   "execution_count": null,
   "id": "993fc176-098c-4045-ae14-e8a9a7ec72f4",
   "metadata": {},
   "outputs": [],
   "source": [
    "df_telco_churn1.groupby(['MultipleLines','Churn'], dropna=False).agg({'TotalCharges':'mean'})"
   ]
  },
  {
   "cell_type": "code",
   "execution_count": null,
   "id": "62c0d9d7-a7ac-4ab3-b962-d6e93eb83b67",
   "metadata": {},
   "outputs": [],
   "source": [
    "df_telco_churn1.groupby(['Dependents','Churn'], dropna=False).agg({'TotalCharges':'mean'})"
   ]
  },
  {
   "cell_type": "code",
   "execution_count": null,
   "id": "e068c792-a095-4311-886a-99761fdbd033",
   "metadata": {},
   "outputs": [],
   "source": [
    "df_telco_churn1.groupby(['StreamingMovies','Churn'], dropna=False).agg({'TotalCharges':'mean'})"
   ]
  },
  {
   "cell_type": "markdown",
   "id": "18e32223-b6eb-4e6b-86a6-abae83d8dee0",
   "metadata": {},
   "source": [
    "## Data Profiling"
   ]
  },
  {
   "cell_type": "code",
   "execution_count": null,
   "id": "73067ab3-31d2-41af-898a-8a43ff94378d",
   "metadata": {},
   "outputs": [],
   "source": [
    "pip install ydata-profiling --user"
   ]
  },
  {
   "cell_type": "code",
   "execution_count": null,
   "id": "0f0eba32-e3e8-4757-a3ee-362aac861e5c",
   "metadata": {},
   "outputs": [],
   "source": [
    "import numpy as np\n",
    "import pandas as pd\n",
    "from ydata_profiling import ProfileReport\n"
   ]
  },
  {
   "cell_type": "code",
   "execution_count": null,
   "id": "9bc95d0e-290a-487c-b8f1-d046221b751b",
   "metadata": {},
   "outputs": [],
   "source": [
    "profile = ProfileReport(df_telco_churn2, title=\"Profiling Report\")"
   ]
  },
  {
   "cell_type": "code",
   "execution_count": null,
   "id": "4618634c-ecf6-480c-9d56-1f13dbc8b6b9",
   "metadata": {
    "scrolled": true
   },
   "outputs": [],
   "source": [
    "profile"
   ]
  },
  {
   "cell_type": "code",
   "execution_count": null,
   "id": "e77f3cfd-805d-4402-aa40-a414e7537db1",
   "metadata": {},
   "outputs": [],
   "source": []
  }
 ],
 "metadata": {
  "kernelspec": {
   "display_name": "Python 3 (ipykernel)",
   "language": "python",
   "name": "python3"
  },
  "language_info": {
   "codemirror_mode": {
    "name": "ipython",
    "version": 3
   },
   "file_extension": ".py",
   "mimetype": "text/x-python",
   "name": "python",
   "nbconvert_exporter": "python",
   "pygments_lexer": "ipython3",
   "version": "3.12.4"
  }
 },
 "nbformat": 4,
 "nbformat_minor": 5
}
