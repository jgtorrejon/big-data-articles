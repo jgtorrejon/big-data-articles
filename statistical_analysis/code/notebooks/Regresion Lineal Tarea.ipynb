{
 "cells": [
  {
   "cell_type": "code",
   "execution_count": 2,
   "id": "7fd90008-0c88-49c4-bffc-de01a2aa3cf0",
   "metadata": {},
   "outputs": [],
   "source": [
    "import pandas as pd\n",
    "import statsmodels.api as sm\n",
    "import statsmodels.formula.api as smf\n",
    "from sklearn.datasets import make_regression\n",
    "from scipy.stats import shapiro\n",
    "import matplotlib.pyplot as plt\n",
    "import scipy.stats as stats\n",
    "from statsmodels.stats.anova import anova_lm\n",
    "from sklearn.linear_model import LinearRegression\n",
    "from sklearn.metrics import mean_squared_error, r2_score\n",
    "import numpy as np\n",
    "from sklearn.preprocessing import StandardScaler"
   ]
  },
  {
   "cell_type": "code",
   "execution_count": 4,
   "id": "eea7916d-6b9d-4eac-8938-d8ca99d21545",
   "metadata": {},
   "outputs": [],
   "source": [
    "municipios = pd.read_csv('mun_cbba/Mun_Cbba2.csv', sep=';', decimal=',')"
   ]
  },
  {
   "cell_type": "code",
   "execution_count": 10,
   "id": "652f188e-d7a0-4241-ac4c-a8ae25e8ab36",
   "metadata": {},
   "outputs": [
    {
     "name": "stdout",
     "output_type": "stream",
     "text": [
      "                            OLS Regression Results                            \n",
      "==============================================================================\n",
      "Dep. Variable:                    tmi   R-squared:                       0.726\n",
      "Model:                            OLS   Adj. R-squared:                  0.712\n",
      "Method:                 Least Squares   F-statistic:                     54.26\n",
      "Date:                Mon, 18 Nov 2024   Prob (F-statistic):           3.02e-12\n",
      "Time:                        03:06:20   Log-Likelihood:                -168.20\n",
      "No. Observations:                  44   AIC:                             342.4\n",
      "Df Residuals:                      41   BIC:                             347.7\n",
      "Df Model:                           2                                         \n",
      "Covariance Type:            nonrobust                                         \n",
      "==============================================================================\n",
      "                 coef    std err          t      P>|t|      [0.025      0.975]\n",
      "------------------------------------------------------------------------------\n",
      "Intercept     34.1012      8.306      4.106      0.000      17.327      50.875\n",
      "anfe           1.3292      0.182      7.307      0.000       0.962       1.697\n",
      "purb           0.0505      0.093      0.546      0.588      -0.136       0.237\n",
      "==============================================================================\n",
      "Omnibus:                        1.460   Durbin-Watson:                   1.266\n",
      "Prob(Omnibus):                  0.482   Jarque-Bera (JB):                1.047\n",
      "Skew:                          -0.010   Prob(JB):                        0.592\n",
      "Kurtosis:                       2.244   Cond. No.                         206.\n",
      "==============================================================================\n",
      "\n",
      "Notes:\n",
      "[1] Standard Errors assume that the covariance matrix of the errors is correctly specified.\n"
     ]
    }
   ],
   "source": [
    "modelo = smf.ols(formula=\"tmi ~ anfe + purb\", data=municipios).fit()\n",
    "\n",
    "print(modelo.summary())"
   ]
  },
  {
   "cell_type": "code",
   "execution_count": 11,
   "id": "7f4403d9-3b4a-476e-978c-81b574f326d6",
   "metadata": {},
   "outputs": [
    {
     "data": {
      "image/png": "[encoded data removed]",
      "text/plain": [
       "<Figure size 640x480 with 1 Axes>"
      ]
     },
     "metadata": {},
     "output_type": "display_data"
    }
   ],
   "source": [
    "residuos = modelo.resid\n",
    "stats.probplot(residuos, dist=\"norm\", plot=plt)\n",
    "plt.title(\"Gráfico Q-Q de los Residuos\")\n",
    "plt.show()"
   ]
  },
  {
   "cell_type": "code",
   "execution_count": 12,
   "id": "f0af9ab8-0205-432d-90bc-c02b50d3f88d",
   "metadata": {},
   "outputs": [
    {
     "name": "stdout",
     "output_type": "stream",
     "text": [
      "Estadístico de Shapiro-Wilk: 0.9795819888314098\n",
      "p-value: 0.6169840241066836\n"
     ]
    }
   ],
   "source": [
    "stat, p_value = shapiro(residuos)\n",
    "print('Estadístico de Shapiro-Wilk:', stat)\n",
    "print('p-value:', p_value)"
   ]
  },
  {
   "cell_type": "code",
   "execution_count": 13,
   "id": "dbcf83ba-bf5e-4ae5-9710-d17c57ab9a82",
   "metadata": {},
   "outputs": [
    {
     "name": "stdout",
     "output_type": "stream",
     "text": [
      "                            OLS Regression Results                            \n",
      "==============================================================================\n",
      "Dep. Variable:                    tmi   R-squared:                       0.726\n",
      "Model:                            OLS   Adj. R-squared:                  0.712\n",
      "Method:                 Least Squares   F-statistic:                     54.26\n",
      "Date:                Mon, 18 Nov 2024   Prob (F-statistic):           3.02e-12\n",
      "Time:                        03:06:34   Log-Likelihood:                -168.20\n",
      "No. Observations:                  44   AIC:                             342.4\n",
      "Df Residuals:                      41   BIC:                             347.7\n",
      "Df Model:                           2                                         \n",
      "Covariance Type:            nonrobust                                         \n",
      "==============================================================================\n",
      "                 coef    std err          t      P>|t|      [0.025      0.975]\n",
      "------------------------------------------------------------------------------\n",
      "Intercept     34.1012      8.306      4.106      0.000      17.327      50.875\n",
      "anfe           1.3292      0.182      7.307      0.000       0.962       1.697\n",
      "purb           0.0505      0.093      0.546      0.588      -0.136       0.237\n",
      "==============================================================================\n",
      "Omnibus:                        1.460   Durbin-Watson:                   1.266\n",
      "Prob(Omnibus):                  0.482   Jarque-Bera (JB):                1.047\n",
      "Skew:                          -0.010   Prob(JB):                        0.592\n",
      "Kurtosis:                       2.244   Cond. No.                         206.\n",
      "==============================================================================\n",
      "\n",
      "Notes:\n",
      "[1] Standard Errors assume that the covariance matrix of the errors is correctly specified.\n"
     ]
    }
   ],
   "source": [
    "print(modelo.summary())"
   ]
  },
  {
   "cell_type": "markdown",
   "id": "fb79f1a4-1b1e-45a8-af59-8d575c85b7a4",
   "metadata": {},
   "source": [
    "Del resultado el modelo considerando los coeficientes se obtiene que el modelo es:\n",
    "$$\n",
    "\\text{TMI} = 34.1012 + 1.3292 \\cdot \\text{anfe} + 0.0505 \\cdot \\text{purb}\n",
    "$$"
   ]
  },
  {
   "cell_type": "markdown",
   "id": "aa8cfc73-4b2f-4c43-a1f9-51c247ac6db9",
   "metadata": {},
   "source": [
    "Se realiza una evaluación teórica.\n",
    "\n",
    "Se planteó que las condiciones de vida y el grado de urbanización implicaban un impacto sobre la mortalidad infantil:\n",
    "\n",
    "a) Mayor tasa de analfabetismo femenino (anfe) implica una mayor tasa de mortalidad infantil. El signo del coeficiente debe ser positivo. En el modelo estimado, el coeficiente de anfe anfe es  1.3292 1.3292, lo cual es consistente con la teoría. Este coeficiente es estadísticamente significativo ( 𝑝 < 0.001 p<0.001), lo que indica que existe evidencia empírica para concluir que el analfabetismo femenino tiene un impacto positivo y significativo sobre la mortalidad infantil.\n",
    "\n",
    "b) Mayor porcentaje de población urbana (purb) implica una mayor tasa de mortalidad infantil. El signo del coeficiente también debe ser positivo. En el modelo estimado, el coeficiente de purb purb es  0.0505 0.0505, pero este valor no es estadísticamente significativo ( 𝑝 = 0.588 > 0.05 p=0.588>0.05). Esto sugiere que no hay evidencia empírica suficiente para concluir que el grado de urbanización afecta significativamente la mortalidad infantil.\n",
    "\n",
    "El modelo estimado constituye una evidencia empírica parcial de la teoría planteada en el primer paso: mientras que el analfabetismo femenino demuestra ser un factor significativo, el grado de urbanización no tiene un impacto concluyente en este caso.\n",
    "\n"
   ]
  },
  {
   "cell_type": "markdown",
   "id": "19fc3a50-a93f-4306-b7b3-95fd964fa275",
   "metadata": {},
   "source": [
    "##### i) Evaluacion de la bondad de ajuste\n",
    "\n",
    "En este ejemplo, el indicador es 𝑅 2 = 0.726 R2=0.726, lo que significa que el 72.6% de la variabilidad de la mortalidad infantil está explicada por la asociación lineal con el analfabetismo femenino ( anfe anfe) y el grado de urbanización ( purb). El restante 27.4% se debe a otros factores no considerados en este modelo."
   ]
  },
  {
   "cell_type": "markdown",
   "id": "c60a6acb-cd90-4e35-b0da-f04bb1f114e4",
   "metadata": {},
   "source": [
    "### F-Statistic (Probabilidad):\n",
    "El modelo general es significativo"
   ]
  },
  {
   "cell_type": "markdown",
   "id": "eb03c535-afff-40b2-9d2d-2e6c90e32cad",
   "metadata": {},
   "source": [
    "### Durbin-Watson (1.266 1.266):\n",
    "Indica una ligera autocorrelación en los residuos, aunque no crítica.\n"
   ]
  },
  {
   "cell_type": "markdown",
   "id": "677d2e8f-2605-4e37-ad27-8450a47d225c",
   "metadata": {},
   "source": [
    "## Conclusiones\n",
    "Conclusiones:\n",
    "\n",
    "anfe\n",
    "Tiene un impacto significativo y positivo en la TMI. Esto respalda la hipótesis de que el analfabetismo femenino afecta la mortalidad infantil.\n",
    "\n",
    "purb (grado de urbanización):\n",
    "No tiene un impacto estadísticamente significativo en este modelo. Esto podría indicar que el grado de urbanización no es un factor relevante para explicar la TMI en este conjunto de datos."
   ]
  }
 ],
 "metadata": {
  "kernelspec": {
   "display_name": "Python 3 (ipykernel)",
   "language": "python",
   "name": "python3"
  },
  "language_info": {
   "codemirror_mode": {
    "name": "ipython",
    "version": 3
   },
   "file_extension": ".py",
   "mimetype": "text/x-python",
   "name": "python",
   "nbconvert_exporter": "python",
   "pygments_lexer": "ipython3",
   "version": "3.12.7"
  }
 },
 "nbformat": 4,
 "nbformat_minor": 5
}
